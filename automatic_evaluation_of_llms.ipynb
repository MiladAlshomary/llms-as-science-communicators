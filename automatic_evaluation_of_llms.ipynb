{
 "cells": [
  {
   "cell_type": "code",
   "execution_count": 1,
   "id": "a43c8d27-0b47-46ac-a3f7-e5a02134e727",
   "metadata": {},
   "outputs": [],
   "source": [
    "%load_ext autoreload\n",
    "import os\n",
    "import sys"
   ]
  },
  {
   "cell_type": "code",
   "execution_count": 82,
   "id": "7d78efec-68b0-47f6-8d88-af0cd01c16fa",
   "metadata": {},
   "outputs": [],
   "source": [
    "os.environ['TRANSFORMERS_CACHE'] = '/mnt/swordfish-pool2/milad/hf-cache-new'\n",
    "os.environ['HF_DATASETS_CACHE'] = '/mnt/swordfish-pool2/milad/hf-cache-new'\n",
    "os.environ[\"OPENAI_API_KEY\"]= 'xxx'\n",
    "os.environ['CUDA_VISIBLE_DEVICES'] = '6'\n",
    "os.environ['CUDA_LAUNCH_BLOCKING'] = '0'\n",
    "sys.path.append('./src-py')"
   ]
  },
  {
   "cell_type": "code",
   "execution_count": 83,
   "id": "d24b5e38-93dc-4098-97de-bb786a750a92",
   "metadata": {
    "scrolled": true
   },
   "outputs": [],
   "source": [
    "import json\n",
    "import os\n",
    "import numpy as np\n",
    "import pandas as pd\n",
    "import copy\n",
    "import matplotlib.pyplot as plt\n",
    "import re\n",
    "from collections import Counter\n",
    "\n",
    "pd.set_option('display.width', None)\n",
    "pd.set_option('display.max_colwidth', None)\n",
    "\n",
    "\n",
    "%autoreload\n",
    "import utils\n",
    "import prompts\n",
    "import random\n",
    "\n",
    "from tabulate import tabulate\n",
    "import tiktoken\n",
    "from llm_based_evaluation import *"
   ]
  },
  {
   "cell_type": "code",
   "execution_count": 84,
   "id": "d903fa8b-3c9e-4d0c-9a90-00c414488647",
   "metadata": {},
   "outputs": [],
   "source": [
    "from transformers import AutoTokenizer, pipeline"
   ]
  },
  {
   "cell_type": "code",
   "execution_count": 85,
   "id": "e08009fa",
   "metadata": {},
   "outputs": [],
   "source": [
    "import json\n",
    "keys = json.load(open('./keys.json'))\n",
    "for key, val in keys.items():\n",
    "    os.environ[key] = val"
   ]
  },
  {
   "cell_type": "code",
   "execution_count": 80,
   "id": "8de285da-4e35-4041-8aa8-956e164feb64",
   "metadata": {
    "scrolled": true
   },
   "outputs": [],
   "source": [
    "from huggingface_hub import login\n",
    "\n",
    "login(os.environ['hf_token'])"
   ]
  },
  {
   "cell_type": "code",
   "execution_count": 72,
   "id": "846f3f93-4394-4627-be70-6bd557823095",
   "metadata": {},
   "outputs": [],
   "source": [
    "output_dir = '/mnt/swordfish-pool2/milad/communicating-science-to-the-public/'\n",
    "models_folder = \"/mnt/swordfish-pool2/milad/communicating-science-to-the-public/models/\""
   ]
  },
  {
   "cell_type": "code",
   "execution_count": 73,
   "id": "e6a4d8a7-48f5-42a8-80f8-757e6a889e5c",
   "metadata": {},
   "outputs": [],
   "source": [
    "gpt_tokenizer = tiktoken.encoding_for_model(\"gpt-3.5-turbo\")\n",
    "llama_tokenizer = AutoTokenizer.from_pretrained(\"meta-llama/Meta-Llama-3-8B\")"
   ]
  },
  {
   "cell_type": "code",
   "execution_count": 90,
   "id": "438d82c1-3997-4138-ae62-03084067d8a6",
   "metadata": {},
   "outputs": [],
   "source": [
    "ds_path = '/mnt/swordfish-pool2/milad/communicating-science-to-the-public/eval_experiment_500/'"
   ]
  },
  {
   "cell_type": "markdown",
   "id": "0d647b70-c4cd-4831-a450-1a8d0b6ac1a6",
   "metadata": {
    "jp-MarkdownHeadingCollapsed": true
   },
   "source": [
    "### Evaluate Science Models"
   ]
  },
  {
   "cell_type": "markdown",
   "id": "38243aa0-986e-4b8f-acfd-40ab8416f2a8",
   "metadata": {},
   "source": [
    "- Now we will evalaute the following models on a sample from the test set using only the generic prompt\n",
    "    - LLAMA-3 baseline\n",
    "    - Qwen baseline\n",
    "    - LLAMA-3 fine-tuned on DeepSeek generated conversations\n",
    "    - Qwen  fine-tuned on DeepSeek generated conversations"
   ]
  },
  {
   "cell_type": "markdown",
   "id": "72c9f30f-f44a-4315-bf1d-2b75f97402b7",
   "metadata": {},
   "source": [
    "### Evaluation"
   ]
  },
  {
   "cell_type": "markdown",
   "id": "176e7a4a-b70e-44ea-b373-c6441e21a5dc",
   "metadata": {},
   "source": [
    "#### Basic Evaluation"
   ]
  },
  {
   "cell_type": "code",
   "execution_count": 42,
   "id": "32572be9-6d3b-4a0b-b1ef-794023c478d9",
   "metadata": {},
   "outputs": [],
   "source": [
    "generated_convs = {\n",
    "    #'llama3-baseline':datasets.load_from_disk(ds_path + '/baseline-advanced-prompt-llama3-test-conv-ds/'),\n",
    "    'qwen-baseline':datasets.load_from_disk(ds_path + '/baseline_qwen_gen_conv'),\n",
    "    'ft-qwen-on-deepseek' :datasets.load_from_disk(ds_path + '/ft_qwen_gen_conv'),\n",
    "    'llama-baseline':datasets.load_from_disk(ds_path + '/baseline_llama3_gen_conv'),\n",
    "    'ft-llama-on-deepseek' :datasets.load_from_disk(ds_path + '/ft_llama3_gen_conv'),\n",
    "}"
   ]
  },
  {
   "cell_type": "code",
   "execution_count": 33,
   "id": "a75face6-1b8a-407b-8aab-c199db984634",
   "metadata": {
    "scrolled": true
   },
   "outputs": [],
   "source": [
    "# generated_convs['qwen-baseline'] = generated_convs['qwen-baseline'].map(lambda row: {'pr-article': paper_id_to_article[row['paper_id']]})\n",
    "# generated_convs['ft-qwen-on-deepseek'] = generated_convs['ft-qwen-on-deepseek'].map(lambda row: {'pr-article': paper_id_to_article[row['paper_id']]})"
   ]
  },
  {
   "cell_type": "code",
   "execution_count": 35,
   "id": "a063db6e-25ff-4f93-8fb3-6d56404f1009",
   "metadata": {},
   "outputs": [
    {
     "name": "stdout",
     "output_type": "stream",
     "text": [
      "Results on 500 sample\n"
     ]
    },
    {
     "name": "stderr",
     "output_type": "stream",
     "text": [
      "Some weights of RobertaModel were not initialized from the model checkpoint at roberta-large and are newly initialized: ['roberta.pooler.dense.bias', 'roberta.pooler.dense.weight']\n",
      "You should probably TRAIN this model on a down-stream task to be able to use it for predictions and inference.\n"
     ]
    },
    {
     "name": "stdout",
     "output_type": "stream",
     "text": [
      "Prompt                  Rouge-1    Rouge-L    BERT-f1\n",
      "--------------------  ---------  ---------  ---------\n",
      "qwen-baseline             0.292      0.124      0.823\n",
      "ft-qwen-on-deepseek       0.301      0.126      0.811\n",
      "llama-baseline            0.325      0.142      0.817\n",
      "ft-llama-on-deepseek      0.377      0.154      0.824\n"
     ]
    }
   ],
   "source": [
    "print('Results on 500 sample')\n",
    "all_synth_conversations = utils.evalaute_convs(generated_convs)"
   ]
  },
  {
   "cell_type": "markdown",
   "id": "a99e7db3-243a-4e96-83d7-8dc0af440a35",
   "metadata": {},
   "source": [
    "#### LLM-based Evaluation"
   ]
  },
  {
   "cell_type": "markdown",
   "id": "6a517add-6c61-443c-9ea2-57f752bf355c",
   "metadata": {
    "jp-MarkdownHeadingCollapsed": true
   },
   "source": [
    "#### Using Mixtral:"
   ]
  },
  {
   "cell_type": "code",
   "execution_count": 14,
   "id": "dcc7f600-19ee-4ae2-86c3-cef63b490804",
   "metadata": {},
   "outputs": [],
   "source": [
    "generated_convs = {\n",
    "    'qwen-baseline':[datasets.load_from_disk(ds_path + '/baseline_qwen_gen_conv/'), ds_path + '/baseline_qwen_gen_conv'],\n",
    "    'ft-qwen-on-deepseek' :[datasets.load_from_disk(ds_path + '/ft_qwen_gen_conv/'),ds_path +  '/ft_qwen_gen_conv/'],\n",
    "    'llama-baseline':[datasets.load_from_disk(ds_path + '/baseline_llama3_gen_conv/'), ds_path + '/baseline_llama3_gen_conv'],\n",
    "    'ft-llama-on-deepseek' :[datasets.load_from_disk(ds_path + '/ft_llama3_gen_conv/'),ds_path +  '/ft_llama3_gen_conv/'],\n",
    "}"
   ]
  },
  {
   "cell_type": "code",
   "execution_count": 10,
   "id": "b4f2911f-312f-415a-8bda-096086bba2c3",
   "metadata": {
    "scrolled": true
   },
   "outputs": [],
   "source": [
    "prompts_to_eval = [prompts.clarity_eval_prompt, prompts.scientific_context_eval_prompt, prompts.societal_context_eval_prompt]\n",
    "\n",
    "llm_eval_results = llm_based_evaluation(prompts_to_eval, generated_convs, evaluator_name=\"mistralai/Mixtral-8x7B-v0.1\", force_generation=False)"
   ]
  },
  {
   "cell_type": "markdown",
   "id": "65bcf442-609c-4034-ab6d-e4db9c44e8bd",
   "metadata": {},
   "source": [
    "#### Using GPT-4"
   ]
  },
  {
   "cell_type": "code",
   "execution_count": 91,
   "id": "eb63053c-aede-4abf-a889-77219548666c",
   "metadata": {},
   "outputs": [],
   "source": [
    "generated_convs = {\n",
    "    'qwen-baseline':[datasets.load_from_disk(ds_path + '/baseline_qwen_gen_conv/'), ds_path + '/baseline_qwen_gen_conv'],\n",
    "    'ft-qwen-on-deepseek' :[datasets.load_from_disk(ds_path + '/ft_qwen_gen_conv/'),ds_path +  '/ft_qwen_gen_conv/'],\n",
    "    'llama-baseline':[datasets.load_from_disk(ds_path + '/baseline_llama3_gen_conv/'), ds_path + '/baseline_llama3_gen_conv'],\n",
    "    'ft-llama-on-deepseek' :[datasets.load_from_disk(ds_path + '/ft_llama3_gen_conv/'),ds_path +  '/ft_llama3_gen_conv/'],\n",
    "}"
   ]
  },
  {
   "cell_type": "code",
   "execution_count": 92,
   "id": "211d39bc-6c41-42c8-951d-c5dd925768f3",
   "metadata": {},
   "outputs": [
    {
     "name": "stdout",
     "output_type": "stream",
     "text": [
      "Loading /mnt/swordfish-pool2/milad/communicating-science-to-the-public/eval_experiment_500//baseline_qwen_gen_conv/ds_eval/gpt-4.1-2025-04-14 from already saved file\n",
      "Loading /mnt/swordfish-pool2/milad/communicating-science-to-the-public/eval_experiment_500//ft_qwen_gen_conv//ds_eval/gpt-4.1-2025-04-14 from already saved file\n",
      "Loading /mnt/swordfish-pool2/milad/communicating-science-to-the-public/eval_experiment_500//baseline_llama3_gen_conv/ds_eval/gpt-4.1-2025-04-14 from already saved file\n",
      "Loading /mnt/swordfish-pool2/milad/communicating-science-to-the-public/eval_experiment_500//ft_llama3_gen_conv//ds_eval/gpt-4.1-2025-04-14 from already saved file\n",
      "#                       clarity_eval_prompt    scientific_eval_prompt    societal_eval_prompt    Avg\n",
      "--------------------  ---------------------  ------------------------  ----------------------  -----\n",
      "qwen-baseline                          4.85                      2                       2.72   3.19\n",
      "ft-qwen-on-deepseek                    4.71                      2.25                    2.88   3.28\n",
      "llama-baseline                         4.89                      1.79                    2.36   3.01\n",
      "ft-llama-on-deepseek                   4.88                      2.01                    2.81   3.23\n"
     ]
    }
   ],
   "source": [
    "prompts_to_eval = [prompts.clarity_eval_prompt, prompts.scientific_context_eval_prompt, prompts.societal_context_eval_prompt]\n",
    "\n",
    "llm_eval_results = llm_based_evaluation(prompts_to_eval, generated_convs, evaluator_name=\"gpt-4.1-2025-04-14\", force_generation=False)"
   ]
  },
  {
   "cell_type": "markdown",
   "id": "5ca3fab6-0663-4627-ab3f-e00dbeb46618",
   "metadata": {},
   "source": [
    "#### Using DeepSeek"
   ]
  },
  {
   "cell_type": "code",
   "execution_count": 93,
   "id": "e1a66dbe-3631-431e-b1c0-2114b633b251",
   "metadata": {
    "scrolled": true
   },
   "outputs": [],
   "source": [
    "generated_convs = {\n",
    "    'qwen-baseline':[datasets.load_from_disk(ds_path + '/baseline_qwen_gen_conv/'), ds_path + '/baseline_qwen_gen_conv'],\n",
    "    'ft-qwen-on-deepseek' :[datasets.load_from_disk(ds_path + '/ft_qwen_gen_conv/'),ds_path +  '/ft_qwen_gen_conv/'],\n",
    "    'llama-baseline':[datasets.load_from_disk(ds_path + '/baseline_llama3_gen_conv/'), ds_path + '/baseline_llama3_gen_conv'],\n",
    "    'ft-llama-on-deepseek' :[datasets.load_from_disk(ds_path + '/ft_llama3_gen_conv/'),ds_path +  '/ft_llama3_gen_conv/'],\n",
    "}"
   ]
  },
  {
   "cell_type": "code",
   "execution_count": 37,
   "id": "dd8ed143-2c89-4f0d-8540-aa127b400524",
   "metadata": {
    "scrolled": true
   },
   "outputs": [
    {
     "name": "stdout",
     "output_type": "stream",
     "text": [
      "Journalist: Thank you for sharing this interesting article. I'd like to clarify a few points to better understand the implications of this study.\n",
      "\n",
      "1. Could you explain why traditional methods for assessing AAV transduction patterns have limitations, especially in terms of detecting transient or low-level expression?\n",
      "\n",
      "2. How exactly does the new method using editing-dependent reporter mice improve upon these traditional methods?\n",
      "\n",
      "Researcher: I'd be happy to help clarify the limitations of traditional methods and how the new method using editing-dependent reporter mice addresses these limitations.\n",
      "\n",
      "1. Traditional methods for assessing AAV transduction patterns, such as using reporter genes like eGFP or lacZ, have limitations because they rely on detecting high and stable expression of the reporter gene. This means that cells that only transiently express the reporter gene or express it at very low levels may not be detected. This is a problem because:\n",
      "\t* Transient expression may be sufficient for gene editing applications, where even low levels of CRISPR-Cas9 machinery can induce permanent genome modification.\n",
      "\t* Low-level expression may occur in cells that are not easily detectable using traditional methods, but could still be relevant for gene therapy applications.\n",
      "\t* These limitations can lead to an incomplete understanding of AAV tropisms and gene editing footprints, which can impact the design and interpretation of gene therapy studies.\n",
      "2. The new method using editing-dependent reporter mice improves upon traditional methods by:\n",
      "\t* Capturing both high and low levels of transgene expression: The Ai14 reporter mouse contains a loxP-STOP-loxP-tdTomato locus, which allows for the detection of both stable, high transgene expression (eGFP) and transient or low transgene expression (tdTomato). This enables the detection of cells that may not have high and stable expression of the reporter gene, but still express the transgene at some level.\n",
      "\t* Sensitively detecting low-level expression: The use of the tdTomato reporter in the Ai14 mouse allows for the detection of low-level expression that may not be detectable using traditional methods. This is because the tdTomato reporter is activated by Cre recombinase, which can be expressed at very low levels, even if the eGFP reporter is not.\n",
      "\t* Providing a more comprehensive understanding of AAV tropisms and gene editing footprints: By detecting both high and low levels of transgene expression, this method provides a more complete picture of AAV transduction patterns and gene editing footprints, which can inform the design and interpretation of gene therapy studies.\n",
      "\n",
      "In summary, the new method using editing-dependent reporter mice addresses the limitations of traditional methods by detecting both high and low levels of transgene expression, sensitively detecting low-level expression, and providing a more comprehensive understanding of AAV tropisms and gene editing footprints.\n",
      "\n",
      "Journalist: Thank you for explaining that in detail. It makes sense that the traditional methods have limitations, especially when it comes to detecting low-level expression.\n",
      "\n",
      "Researcher: You're welcome! Yes, traditional methods can be useful for detecting high-level expression, but they often miss out on the nuances of low-level expression, which can be important for gene editing applications. The new method using editing-dependent reporter mice provides a more comprehensive understanding of AAV transduction patterns and gene editing footprints, which can help researchers design more effective gene therapy strategies.\n",
      "\n",
      "It's also worth noting that this new method can be used to study not only AAV vectors but also other gene delivery vectors, such as lentiviral vectors or CRISPR-Cas9 systems. By using a similar approach, researchers can gain a better understanding of the tropisms and gene editing footprints of these vectors, which can inform the design of more targeted and effective gene therapy strategies.\n",
      "\n",
      "I'm glad I could help clarify the limitations of traditional methods and how the new method addresses them. If you have any more questions or need further clarification, feel free to ask!\n",
      "\n",
      "Journalist: Thank you for your insights. I have another question.\n",
      "\n",
      "3. How does the use of editing-dependent reporter mice specifically improve the detection of low-level expression, and what are the potential implications for gene editing applications?\n",
      "\n",
      "4. Could you elaborate on how this method can be applied to other gene delivery vectors, such as lentiviral vectors or CRISPR-Cas9 systems?\n",
      "\n",
      "Researcher: I'd be happy to answer your questions.\n",
      "\n",
      "3. The use of editing-dependent reporter mice improves the detection of low-level expression by exploiting the fact that Cre recombinase can be expressed at very low levels. In the Ai14 reporter mouse, the loxP-STOP-loxP-tdTomato locus is only activated when Cre recombinase is present, even if the eGFP reporter is not. This means that cells that may not have high and stable expression of the reporter gene can still be detected if they express Cre recombinase at low levels. This is particularly useful for detecting low-level expression in cells that may not be easily detectable using traditional methods.\n",
      "\n",
      "For gene editing applications, the ability to detect low-level expression is crucial because even low levels of CRISPR-Cas9 machinery can induce permanent genome modification. By detecting low-level expression, researchers can identify cells that may be potential targets for gene editing and design more targeted and effective gene therapy strategies.\n",
      "\n",
      "Journalist: Thank you for explaining that. It makes sense that the use of editing-dependent reporter mice can detect low-level expression by exploiting the activity of Cre recombinase, even if the reporter gene is not expressed at high levels. This is a clever approach to overcome the limitations of traditional methods.\n",
      "\n",
      "Regarding your second question, I'd be happy to elaborate on how this method can be applied to other gene delivery vectors.\n",
      "\n",
      "4. The method using editing-dependent reporter mice can be applied to other gene delivery vectors, such as lentiviral vectors or CRISPR-Cas9 systems, by using a similar approach. For example, researchers could use a lentiviral vector to deliver a reporter gene that is only active when a specific transcription factor is present. Similarly, CRISPR-Cas9 could be used to edit a reporter gene that is only active when a specific protein is present.\n",
      "\n",
      "Researcher: Exactly! The concept of using editing-dependent reporter mice can be adapted to other gene delivery vectors by modifying the reporter gene and the Cre recombinase system to suit the specific vector and application.\n",
      "\n",
      "For example, lentiviral vectors can be engineered to deliver a reporter gene that is only active when a specific transcription factor is present. This could be achieved by using a lentiviral vector to deliver a reporter gene that is under the control of a promoter that is only active in the presence of the transcription factor. When the transcription factor is present, the reporter gene would be expressed, allowing researchers to detect the presence of the transcription factor.\n",
      "\n",
      "Similarly, CRISPR-Cas9 systems can be used to edit a reporter gene that is only active when a specific protein is present. This could be achieved by using a CRISPR-Cas9 system to edit a reporter gene that is under the control of a promoter that is only active in the presence of the protein. When the protein is present, the reporter gene would be edited, allowing researchers to detect the presence of the protein.\n",
      "\n",
      "Journalist: Thank you for explaining that in detail. It seems like the method using editing-dependent reporter mice is highly versatile and can be adapted to various gene delivery vectors and applications. This could be a valuable tool for researchers studying gene editing and gene therapy.\n",
      "\n",
      "I have one more question.\n",
      "\n",
      "5. How do the researchers plan to use this method in the future, and what are the potential clinical applications of this approach?\n",
      "\n",
      "Researcher: According to the paper, the researchers plan to use this method to further study AAV-mediated gene editing and to develop more targeted and effective gene therapy strategies. They also plan to apply this method to other gene delivery vectors, such as lentiviral vectors and CRISPR-Cas9 systems, to gain a better understanding of their tropisms and gene editing footprints.\n",
      "\n",
      "As for potential clinical applications, the researchers envision that this method could be used to improve the design and delivery of gene therapies for various diseases, such as inherited disorders, cancer, and infectious diseases. By detecting low-level expression and identifying potential targets for gene editing, researchers could design more targeted and effective gene therapy strategies that minimize off-target effects and maximize therapeutic efficacy.\n"
     ]
    }
   ],
   "source": [
    "print(generated_convs['ft-llama-on-deepseek'][0]['conversation'][8])"
   ]
  },
  {
   "cell_type": "code",
   "execution_count": 38,
   "id": "24da0706-3223-4a50-a73a-f9d0f99d8f0f",
   "metadata": {
    "scrolled": true
   },
   "outputs": [
    {
     "name": "stdout",
     "output_type": "stream",
     "text": [
      "Journalist: Given the significant breakthrough in achieving high-speed flexible diodes, I'm curious about the specific challenges you faced when transitioning from glass substrates to flexible plastic substrates. How did the properties of IGZO change under these different substrates, and what modifications were necessary to maintain the diode's performance? Could you explain in simpler terms how the radio-frequency mesa structures helped improve the diode's speed and efficiency?\n",
      "\n",
      "Researcher: Transitioning from glass to flexible plastic substrates posed several challenges, primarily related to mechanical flexibility and thermal stability. Glass is rigid and can withstand high-temperature processes, whereas plastic is flexible and needs to remain stable at room temperature. When IGZO was deposited on glass, it had good uniformity and crystallinity, which contributed to its high electron mobility. However, when transferred to plastic, the IGZO layer often showed increased roughness and reduced crystallinity, affecting its electrical properties.\n",
      "\n",
      "To overcome these issues, we carefully optimized the deposition and patterning techniques to ensure that the IGZO remained smooth and highly crystalline on plastic. This involved using specific precursor solutions and adjusting the processing conditions to minimize degradation during transfer.\n",
      "\n",
      "The radio-frequency (RF) mesa structures played a crucial role in enhancing the diode's speed. These structures are essentially etched patterns that reduce the diode's parasitic capacitance and increase its series resistance, allowing it to respond faster to high-frequency signals. Think of it like narrowing a water channel; the narrower the channel, the faster the water flows. Similarly, by making the diode's active area smaller and more precisely defined, we reduced the time it takes for electrons to pass through, thereby increasing its speed.\n",
      "\n",
      "Journalist: Thank you for explaining the challenges and the optimizations you applied when transitioning from glass to plastic substrates. That makes sense!\n",
      "\n",
      "Could you elaborate on how the RF mesa structures specifically help reduce the parasitic capacitance and increase series resistance? And how do these changes contribute to the overall performance of the diode? Also, could you simplify the concept of \"narrowing the water channel\" to better understand how it relates to the diode's speed?\n",
      "Additionally, how did you ensure that the IGZO layer remained smooth and highly crystalline on plastic, and what were the specific adjustments you made to the processing conditions?\n",
      "\n",
      "Researcher: Certainly! Let's break down the details step by step.\n",
      "\n",
      "Journalist: Sure, let's dive deeper into the specifics of the RF mesa structures and how they contribute to the performance of the diode.\n",
      "\n",
      "Researcher: Sure! The radio-frequency (RF) mesa structures are essential for improving the performance of the diode by reducing parasitic capacitance and increasing series resistance. Here’s a simplified explanation:\n",
      "\n",
      "### RF Mesa Structures:\n",
      "1. **Reducing Parasitic Capacitance:**\n",
      "   - **Parasitic Capacitance:** This is the unwanted capacitance that exists in the diode structure due to the dielectric layers and the edges of the active region. In a traditional diode, this capacitance can slow down the response to high-frequency signals.\n",
      "   - **Mesa Structures:** By creating narrow, mesa-like structures, we effectively reduce the area of the diode that contributes to parasitic capacitance. Imagine the diode as a rectangular block; by etching away parts of the block to form a mesa shape, we decrease the effective area where charge can accumulate, thus reducing the capacitance.\n",
      "\n",
      "2. **Increasing Series Resistance:**\n",
      "   - **Series Resistance:** This is the resistance along the path of the current flow through the diode. High series resistance can limit the diode's speed because it increases the time it takes for the current to rise and fall.\n",
      "   - **Mesa Structures:** The narrow mesas act like a bottleneck for the current, increasing the series resistance. This is similar to how a narrower water channel slows down water flow. By increasing the series resistance, the diode responds more quickly to changes in voltage, thereby improving its speed.\n",
      "\n",
      "### Ensuring Smooth and Highly Crystalline IGZO Layer on Plastic:\n",
      "To ensure that the IGZO layer remains smooth and highly crystalline on plastic, we made several key adjustments to the processing conditions:\n",
      "\n",
      "1. **Precursor Solutions:**\n",
      "   - We used specific precursor solutions that are known to deposit IGZO with good crystallinity on plastic substrates. These solutions typically contain metal alkoxides or metal organic compounds that can be easily decomposed and deposited at lower temperatures.\n",
      "\n",
      "2. **Deposition Techniques:**\n",
      "   - We employed atomic layer deposition (ALD) or metal-organic chemical vapor deposition (MOCVD) techniques, which allow precise control over the deposition process and can minimize the thermal stress on the plastic substrate. These techniques are gentler and can maintain the integrity of the IGZO layer.\n",
      "\n",
      "3. **Patterning and Etching:**\n",
      "   - After deposition, we used reactive ion etching (RIE) to create the RF mesa structures. RIE is a highly controlled\n",
      "\n",
      "Journalist: Great! Let's continue by summarizing the key points and ensuring clarity.\n",
      "\n",
      "### RF Mesa Structures:\n",
      "1. **Reducing Parasitic Capacitance:**\n",
      "   - **Parasitic Capacitance:** This is the unwanted capacitance that exists in the diode structure due to the dielectric layers and the edges of the active region. In a traditional diode, this capacitance can slow down the response to high-frequency signals.\n",
      "   - **Mesa Structures:** By creating narrow, mesa-like structures, we effectively reduce the area of the diode that contributes to parasitic capacitance. Imagine the diode as a rectangular block; by etching away parts of the block to form a mesa shape, we decrease the effective area where charge can accumulate, thus reducing the capacitance.\n",
      "\n",
      "Researcher: ### Key Points on RF Mesa Structures:\n",
      "\n",
      "1. **Reducing Parasitic Capacitance:**\n",
      "   - **Parasitic Capacitance:** This is the unwanted capacitance that exists in the diode structure due to the dielectric layers and the edges of the active region. In a traditional diode, this capacitance can slow down the response to high-frequency signals.\n",
      "   - **Mesa Structures:** By creating narrow, mesa-like structures, we effectively reduce the area of the diode that contributes to parasitic capacitance. Imagine the diode as a rectangular block; by etching away parts of the block to form a mesa shape, we decrease the effective area where charge can accumulate, thus reducing the capacitance.\n",
      "\n",
      "2. **Increasing Series Resistance:**\n",
      "   - **Series Resistance:** This is the resistance along the path of the current flow through the diode. High series resistance can limit the diode's speed because it increases the time it takes for the current to rise and fall.\n",
      "   - **Mesa Structures:** The narrow mesas act like a bottleneck for the current, increasing the series resistance. This is similar to how a narrower water channel slows down water flow. By increasing the series resistance, the diode responds more quickly to changes in voltage, thereby improving its speed.\n",
      "\n",
      "### Ensuring Smooth and Highly Crystalline IGZO Layer on Plastic:\n",
      "\n",
      "To ensure that the IGZO layer remains smooth and highly crystalline on plastic, we made several key adjustments to the processing conditions:\n",
      "\n",
      "1. **Precursor Solutions:**\n",
      "   - We used specific precursor solutions that are known to deposit IGZO with good crystallinity on plastic substrates. These solutions typically contain metal alkoxides or metal organic compounds that can be easily decomposed and deposited at lower temperatures.\n",
      "\n",
      "2. **Deposition Techniques:**\n",
      "   - We employed atomic layer deposition (ALD) or metal-organic chemical vapor deposition (MOCVD) techniques, which allow precise control over the deposition process and can minimize the thermal stress on the plastic substrate. These techniques are gentle and can maintain the integrity of the IGZO layer.\n",
      "\n",
      "3. **Patterning and Etching:**\n",
      "   - After deposition, we used reactive ion etching (RIE) to create the RF mesa structures. RIE is a highly controlled etching technique that can create precise and narrow features, reducing the parasitic capacitance and increasing the series resistance.\n",
      "\n",
      "By implementing these strategies, we were able to fabricate flexible\n",
      "\n",
      "Journalist: ### Key Points on RF Mesa Structures:\n",
      "\n",
      "1. **Reducing Parasitic Capacitance:**\n",
      "   - **Parasitic Capacitance:** This is the unwanted capacitance that exists in the diode structure due to the dielectric layers and the edges of the active region. In a traditional diode, this capacitance can slow down the response to high-frequency signals.\n",
      "   - **Mesa Structures:** By creating narrow, mesa-like structures, we effectively reduce the area of the diode that contributes to parasitic capacitance. Imagine the diode as a rectangular block; by etching away parts of the block to form a mesa shape, we decrease the effective area where charge can accumulate, thus reducing the capacitance.\n",
      "\n",
      "2. **Increasing Series Resistance:**\n",
      "   - **Series Resistance:** This is the resistance along the path of the current flow through the diode. High series resistance can limit the diode's speed because it increases the time it takes for the current to rise and\n",
      "\n",
      "Researcher: ### Key Points on RF Mesa Structures:\n",
      "\n",
      "1. **Reducing Parasitic Capacitance:**\n",
      "   - **Parasitic Capacitance:** This is the unwanted capacitance that exists in the diode structure due to the dielectric layers and the edges of the active region. In a traditional diode, this capacitance can slow down the response to high-frequency signals.\n",
      "   - **Mesa Structures:** By creating narrow, mesa-like structures, we effectively reduce the area of the diode that contributes to parasitic capacitance. Imagine the diode as a rectangular block; by etching away parts of the block to form a mesa shape, we decrease the effective area where charge can accumulate, thus reducing the capacitance.\n",
      "\n",
      "2. **Increasing Series Resistance:**\n",
      "   - **Series Resistance:** This is the resistance along the path of the current flow through the diode. High series resistance can limit the diode's speed because it increases the time it takes for the current to rise and fall.\n",
      "   - **Mesa Structures:** The narrow mesas act like a bottleneck for the current, increasing the series resistance. This is similar to how a narrower water channel slows down water flow. By increasing the series resistance, the diode responds more quickly to changes in voltage, thereby improving its speed.\n",
      "\n",
      "### Ensuring Smooth and Highly Crystalline IGZO Layer on Plastic:\n",
      "\n",
      "To ensure that the IGZO layer remains smooth and highly crystalline on plastic, we made several key adjustments to the processing conditions:\n",
      "\n",
      "1. **Precursor Solutions:**\n",
      "   - We used specific precursor solutions that are known to deposit IGZO with good crystallinity on plastic substrates. These solutions typically contain metal alkoxides or metal organic compounds that can be easily decomposed and deposited at lower temperatures.\n",
      "\n",
      "2. **Deposition Techniques:**\n",
      "   - We employed atomic layer deposition (ALD) or metal-organic chemical vapor deposition (MOCVD) techniques, which allow precise control over the deposition process and can minimize the thermal stress on the plastic substrate. These techniques are gentle and can maintain the integrity of the IGZO layer.\n",
      "\n",
      "3. **Patterning and Etching:**\n",
      "   - After deposition, we used reactive ion etching (RIE) to create the RF mesa structures. RIE is a highly controlled etching technique that can create precise and narrow features, reducing the parasitic capacitance and increasing the series resistance.\n",
      "\n",
      "By implementing these strategies, we were able to fabricate flexible\n"
     ]
    }
   ],
   "source": [
    "print(generated_convs['qwen-baseline'][0]['conversation'][7])"
   ]
  },
  {
   "cell_type": "code",
   "execution_count": 39,
   "id": "fcdb1add-7be8-42a4-8eeb-e9116ebd30ba",
   "metadata": {
    "scrolled": true
   },
   "outputs": [
    {
     "name": "stdout",
     "output_type": "stream",
     "text": [
      "Journalist: Given the significant breakthrough in achieving high-speed flexible diodes, I'm curious about the specific challenges you faced when transitioning from glass substrates to flexible plastic substrates. How did the properties of IGZO change under these different substrates, and what modifications were necessary to maintain the diode's performance? Could you explain in simpler terms how the radio-frequency mesa structures helped improve the diode's speed and efficiency?\n",
      "\n",
      "Researcher: Transitioning from glass to flexible plastic substrates posed several challenges, primarily related to mechanical flexibility and thermal stability. Glass is rigid and can withstand high-temperature processes, whereas plastic is flexible and needs to remain stable at room temperature. When IGZO was deposited on glass, it had good uniformity and crystallinity, which contributed to its high electron mobility. However, when transferred to plastic, the IGZO layer often showed increased roughness and reduced crystallinity, affecting its electrical properties.\n",
      "\n",
      "To overcome these issues, we carefully optimized the deposition and patterning techniques to ensure that the IGZO remained smooth and highly crystalline on plastic. This involved using specific precursor solutions and adjusting the processing conditions to minimize degradation during transfer.\n",
      "\n",
      "The radio-frequency (RF) mesa structures played a crucial role in enhancing the diode's speed. These structures are essentially etched patterns that reduce the diode's parasitic capacitance and increase its series resistance, allowing it to respond faster to high-frequency signals. Think of it like narrowing a water channel; the narrower the channel, the faster the water flows. Similarly, by making the diode's active area smaller and more precisely defined, we reduced the time it takes for electrons to pass through, thereby increasing its speed.\n",
      "\n",
      "Journalist: Thank you for explaining the challenges and the optimizations you applied when transitioning from glass to plastic substrates. That makes sense!\n",
      "\n",
      "Could you elaborate on how the RF mesa structures specifically help reduce the parasitic capacitance and increase series resistance? And how do these changes contribute to the overall performance of the diode? Also, could you simplify the concept of \"narrowing the water channel\" to better understand how it relates to the diode's speed?\n",
      "Additionally, how did you ensure that the IGZO layer remained smooth and highly crystalline on plastic, and what were the specific adjustments you made to the processing conditions?\n",
      "\n",
      "Researcher: Certainly! Let's break down the details step by step.\n",
      "\n",
      "Journalist: Sure, let's dive deeper into the specifics of the RF mesa structures and how they contribute to the performance of the diode.\n",
      "\n",
      "Researcher: Sure! The radio-frequency (RF) mesa structures are essential for improving the performance of the diode by reducing parasitic capacitance and increasing series resistance. Here’s a simplified explanation:\n",
      "\n",
      "### RF Mesa Structures:\n",
      "1. **Reducing Parasitic Capacitance:**\n",
      "   - **Parasitic Capacitance:** This is the unwanted capacitance that exists in the diode structure due to the dielectric layers and the edges of the active region. In a traditional diode, this capacitance can slow down the response to high-frequency signals.\n",
      "   - **Mesa Structures:** By creating narrow, mesa-like structures, we effectively reduce the area of the diode that contributes to parasitic capacitance. Imagine the diode as a rectangular block; by etching away parts of the block to form a mesa shape, we decrease the effective area where charge can accumulate, thus reducing the capacitance.\n",
      "\n",
      "2. **Increasing Series Resistance:**\n",
      "   - **Series Resistance:** This is the resistance along the path of the current flow through the diode. High series resistance can limit the diode's speed because it increases the time it takes for the current to rise and fall.\n",
      "   - **Mesa Structures:** The narrow mesas act like a bottleneck for the current, increasing the series resistance. This is similar to how a narrower water channel slows down water flow. By increasing the series resistance, the diode responds more quickly to changes in voltage, thereby improving its speed.\n",
      "\n",
      "### Ensuring Smooth and Highly Crystalline IGZO Layer on Plastic:\n",
      "To ensure that the IGZO layer remains smooth and highly crystalline on plastic, we made several key adjustments to the processing conditions:\n",
      "\n",
      "1. **Precursor Solutions:**\n",
      "   - We used specific precursor solutions that are known to deposit IGZO with good crystallinity on plastic substrates. These solutions typically contain metal alkoxides or metal organic compounds that can be easily decomposed and deposited at lower temperatures.\n",
      "\n",
      "2. **Deposition Techniques:**\n",
      "   - We employed atomic layer deposition (ALD) or metal-organic chemical vapor deposition (MOCVD) techniques, which allow precise control over the deposition process and can minimize the thermal stress on the plastic substrate. These techniques are gentler and can maintain the integrity of the IGZO layer.\n",
      "\n",
      "3. **Patterning and Etching:**\n",
      "   - After deposition, we used reactive ion etching (RIE) to create the RF mesa structures. RIE is a highly controlled\n",
      "\n",
      "Journalist: Great! Let's continue by summarizing the key points and ensuring clarity.\n",
      "\n",
      "### RF Mesa Structures:\n",
      "1. **Reducing Parasitic Capacitance:**\n",
      "   - **Parasitic Capacitance:** This is the unwanted capacitance that exists in the diode structure due to the dielectric layers and the edges of the active region. In a traditional diode, this capacitance can slow down the response to high-frequency signals.\n",
      "   - **Mesa Structures:** By creating narrow, mesa-like structures, we effectively reduce the area of the diode that contributes to parasitic capacitance. Imagine the diode as a rectangular block; by etching away parts of the block to form a mesa shape, we decrease the effective area where charge can accumulate, thus reducing the capacitance.\n",
      "\n",
      "Researcher: ### Key Points on RF Mesa Structures:\n",
      "\n",
      "1. **Reducing Parasitic Capacitance:**\n",
      "   - **Parasitic Capacitance:** This is the unwanted capacitance that exists in the diode structure due to the dielectric layers and the edges of the active region. In a traditional diode, this capacitance can slow down the response to high-frequency signals.\n",
      "   - **Mesa Structures:** By creating narrow, mesa-like structures, we effectively reduce the area of the diode that contributes to parasitic capacitance. Imagine the diode as a rectangular block; by etching away parts of the block to form a mesa shape, we decrease the effective area where charge can accumulate, thus reducing the capacitance.\n",
      "\n",
      "2. **Increasing Series Resistance:**\n",
      "   - **Series Resistance:** This is the resistance along the path of the current flow through the diode. High series resistance can limit the diode's speed because it increases the time it takes for the current to rise and fall.\n",
      "   - **Mesa Structures:** The narrow mesas act like a bottleneck for the current, increasing the series resistance. This is similar to how a narrower water channel slows down water flow. By increasing the series resistance, the diode responds more quickly to changes in voltage, thereby improving its speed.\n",
      "\n",
      "### Ensuring Smooth and Highly Crystalline IGZO Layer on Plastic:\n",
      "\n",
      "To ensure that the IGZO layer remains smooth and highly crystalline on plastic, we made several key adjustments to the processing conditions:\n",
      "\n",
      "1. **Precursor Solutions:**\n",
      "   - We used specific precursor solutions that are known to deposit IGZO with good crystallinity on plastic substrates. These solutions typically contain metal alkoxides or metal organic compounds that can be easily decomposed and deposited at lower temperatures.\n",
      "\n",
      "2. **Deposition Techniques:**\n",
      "   - We employed atomic layer deposition (ALD) or metal-organic chemical vapor deposition (MOCVD) techniques, which allow precise control over the deposition process and can minimize the thermal stress on the plastic substrate. These techniques are gentle and can maintain the integrity of the IGZO layer.\n",
      "\n",
      "3. **Patterning and Etching:**\n",
      "   - After deposition, we used reactive ion etching (RIE) to create the RF mesa structures. RIE is a highly controlled etching technique that can create precise and narrow features, reducing the parasitic capacitance and increasing the series resistance.\n",
      "\n",
      "By implementing these strategies, we were able to fabricate flexible\n",
      "\n",
      "Journalist: ### Key Points on RF Mesa Structures:\n",
      "\n",
      "1. **Reducing Parasitic Capacitance:**\n",
      "   - **Parasitic Capacitance:** This is the unwanted capacitance that exists in the diode structure due to the dielectric layers and the edges of the active region. In a traditional diode, this capacitance can slow down the response to high-frequency signals.\n",
      "   - **Mesa Structures:** By creating narrow, mesa-like structures, we effectively reduce the area of the diode that contributes to parasitic capacitance. Imagine the diode as a rectangular block; by etching away parts of the block to form a mesa shape, we decrease the effective area where charge can accumulate, thus reducing the capacitance.\n",
      "\n",
      "2. **Increasing Series Resistance:**\n",
      "   - **Series Resistance:** This is the resistance along the path of the current flow through the diode. High series resistance can limit the diode's speed because it increases the time it takes for the current to rise and\n",
      "\n",
      "Researcher: ### Key Points on RF Mesa Structures:\n",
      "\n",
      "1. **Reducing Parasitic Capacitance:**\n",
      "   - **Parasitic Capacitance:** This is the unwanted capacitance that exists in the diode structure due to the dielectric layers and the edges of the active region. In a traditional diode, this capacitance can slow down the response to high-frequency signals.\n",
      "   - **Mesa Structures:** By creating narrow, mesa-like structures, we effectively reduce the area of the diode that contributes to parasitic capacitance. Imagine the diode as a rectangular block; by etching away parts of the block to form a mesa shape, we decrease the effective area where charge can accumulate, thus reducing the capacitance.\n",
      "\n",
      "2. **Increasing Series Resistance:**\n",
      "   - **Series Resistance:** This is the resistance along the path of the current flow through the diode. High series resistance can limit the diode's speed because it increases the time it takes for the current to rise and fall.\n",
      "   - **Mesa Structures:** The narrow mesas act like a bottleneck for the current, increasing the series resistance. This is similar to how a narrower water channel slows down water flow. By increasing the series resistance, the diode responds more quickly to changes in voltage, thereby improving its speed.\n",
      "\n",
      "### Ensuring Smooth and Highly Crystalline IGZO Layer on Plastic:\n",
      "\n",
      "To ensure that the IGZO layer remains smooth and highly crystalline on plastic, we made several key adjustments to the processing conditions:\n",
      "\n",
      "1. **Precursor Solutions:**\n",
      "   - We used specific precursor solutions that are known to deposit IGZO with good crystallinity on plastic substrates. These solutions typically contain metal alkoxides or metal organic compounds that can be easily decomposed and deposited at lower temperatures.\n",
      "\n",
      "2. **Deposition Techniques:**\n",
      "   - We employed atomic layer deposition (ALD) or metal-organic chemical vapor deposition (MOCVD) techniques, which allow precise control over the deposition process and can minimize the thermal stress on the plastic substrate. These techniques are gentle and can maintain the integrity of the IGZO layer.\n",
      "\n",
      "3. **Patterning and Etching:**\n",
      "   - After deposition, we used reactive ion etching (RIE) to create the RF mesa structures. RIE is a highly controlled etching technique that can create precise and narrow features, reducing the parasitic capacitance and increasing the series resistance.\n",
      "\n",
      "By implementing these strategies, we were able to fabricate flexible\n"
     ]
    }
   ],
   "source": [
    "print(generated_convs['qwen-baseline'][0]['conversation'][7])"
   ]
  },
  {
   "cell_type": "code",
   "execution_count": 16,
   "id": "947724f9-dbd0-422c-a18f-1411cf19c412",
   "metadata": {
    "scrolled": true
   },
   "outputs": [
    {
     "name": "stdout",
     "output_type": "stream",
     "text": [
      "Journalist: Based on the provided information, here are some questions to explore the key points of the scientific paper:\n",
      "\n",
      "1. **Materials and Techniques**:\n",
      "   - What specific materials and techniques were used to fabricate the flexible IGZO diodes?\n",
      "   - How does the use of IGZO contribute to achieving high-speed performance compared to other materials?\n",
      "\n",
      "2. **Performance Metrics**:\n",
      "   - What is the maximum frequency achieved by the flexible IGZO diodes, and how does it compare to the benchmark speed of 2.45 GHz?\n",
      "   - What are the intrinsic and extrinsic components that determine the diode's cut-off frequency?\n",
      "\n",
      "3. **Manufacturing Process**:\n",
      "   - What are the key advantages of using room-temperature processing over high-temperature annealing for flexibility?\n",
      "   - How does the fabrication process on flexible plastic substrates differ from traditional glass substrates?\n",
      "\n",
      "4. **Applications and Future Directions**:\n",
      "   - What are the implications of this technology for the development of flexible electronic\n",
      "\n",
      "Researcher: Certainly! Here are detailed answers addressing the key points you've outlined:\n",
      "\n",
      "### Materials and Techniques\n",
      "\n",
      "**1. Specific Materials and Techniques:**\n",
      "- **IGZO Layer**: The diodes are fabricated using amorphous indium–gallium–zinc–oxide (IGZO), which is known for its high electron mobility and ability to be deposited at low temperatures on plastic substrates.\n",
      "- **Fabrication Process**: The process involves depositing the IGZO layer on flexible plastic substrates, followed by creating suitable radio-frequency (RF) mesa structures. The diodes are then characterized using various techniques such as current-voltage (J-V) and capacitance-voltage (C-V) measurements.\n",
      "- **High-Speed Performance**: IGZO contributes to high-speed performance due to its high electron mobility, which allows for faster charge carrier transport. This is crucial for achieving the required operational frequencies for modern wireless communications.\n",
      "\n",
      "### Performance Metrics\n",
      "\n",
      "**2. Performance Metrics:**\n",
      "- **Maximum Frequency**: The flexible IGZO Schottky diodes achieved a maximum frequency of 6.3 GHz at zero bias, which is significantly above the benchmark speed of 2.45 GHz required for modern wireless communications.\n",
      "- **Intrinsic and Extrinsic Components**:\n",
      "  - **Intrinsic Component**: The intrinsic component refers to the fundamental physical limitations within the material itself, such as the bandgap and carrier lifetime.\n",
      "  - **Extrinsic Component**: The extrinsic component includes external factors like series resistance and parasitic capacitances that can limit the overall performance.\n",
      "\n",
      "### Manufacturing Process\n",
      "\n",
      "**3. Manufacturing Process:**\n",
      "- **Room-Temperature Processing**: Using room-temperature processing avoids the need for high-temperature annealing, which is necessary for forming good contacts and reducing defects in glass substrates. This method is crucial for maintaining the flexibility of the substrate.\n",
      "- **Key Differences from Glass Substrates**: On flexible plastic substrates, the process must account for mechanical flexibility, which can introduce additional challenges in terms of uniformity and stability. The RF mesa structures are designed to enhance performance while accommodating these flexibilities.\n",
      "\n",
      "### Applications and Future Directions\n",
      "\n",
      "**4. Applications and Future Directions:**\n",
      "- **Implications for Flexible Electronics**: Achieving a diode speed of 6.3 GHz opens up possibilities for integrating flexible electronics into consumer products like bendable smartphones, wearables, and other portable devices.\n",
      "- **Further Improvements**: The authors suggest two methods to further improve diode speed: optimizing\n",
      "\n",
      "Journalist: ### Applications and Future Directions\n",
      "\n",
      "**4. Applications and Future Directions:**\n",
      "- **Implications for Flexible Electronics**: Achieving a diode speed of 6.3 GHz opens up possibilities for integrating flexible electronics into consumer products like bendable smartphones, wearables, and other portable devices. This breakthrough paves the way for more advanced and versatile electronic gadgets.\n",
      "- **Future Improvements**: The authors suggest two methods to further improve diode speed: optimizing the IGZO thickness and mesa design. They also highlight the importance of minimizing series resistance and parasitic capacitance to achieve even higher frequencies.\n",
      "- **Commercial Viability**: The team aims to integrate their findings into commercial production processes, making flexible electronics more accessible and affordable for consumers.\n",
      "\n",
      "### Challenges and Solutions\n",
      "\n",
      "**5. Challenges and Solutions:**\n",
      "- **Series Resistance and Parasitic Capacitance**: These components are significant contributors to the diode's performance limits. The authors propose strategies to minimize them, such as optimizing the mesa geometry and IG\n",
      "\n",
      "Researcher: ### Applications and Future Directions\n",
      "\n",
      "**4. Applications and Future Directions:**\n",
      "- **Implications for Flexible Electronics**: Achieving a diode speed of 6.3 GHz opens up possibilities for integrating flexible electronics into consumer products like bendable smartphones, wearables, and other portable devices. This breakthrough paves the way for more advanced and versatile electronic gadgets. Specifically, it enables the development of flexible displays, sensors, and communication modules that can be integrated into clothing or accessories, enhancing the user experience and functionality of portable devices.\n",
      "- **Future Improvements**: The authors suggest two methods to further improve diode speed: optimizing the IGZO thickness and mesa design. They also highlight the importance of minimizing series resistance and parasitic capacitance to achieve even higher frequencies. Optimizing the IGZO thickness can reduce parasitic capacitance, while improving the mesa design can help manage series resistance more effectively.\n",
      "- **Commercial Viability**: The team aims to integrate their findings into commercial production processes, making flexible electronics more accessible and affordable for consumers. This could lead to mass-market adoption of flexible devices, driving down costs and increasing market penetration.\n",
      "\n",
      "### Challenges and Solutions\n",
      "\n",
      "**5. Challenges and Solutions:**\n",
      "- **Series Resistance and Parasitic Capacitance**: These components are significant contributors to the diode's performance limits. The authors propose strategies to minimize them, such as optimizing the mesa geometry and IGZO thickness. By carefully designing the mesa structure, the diodes can maintain lower series resistance, which improves the overall speed and efficiency. Additionally, reducing the IGZO thickness can decrease parasitic capacitance, leading to faster switching times.\n",
      "- **Material Stability and Durability**: One of the main challenges in flexible electronics is ensuring the stability and durability of materials under mechanical stress and environmental conditions. The authors recommend further studies to investigate the long-term stability of IGZO on flexible substrates, particularly under bending and folding scenarios. This could involve incorporating protective layers or developing new encapsulation techniques to ensure reliability.\n",
      "- **Integration with Other Components**: Integrating these high-speed diodes with other flexible electronic components (e.g., transistors, sensors) remains a challenge. The authors suggest that future research should focus on developing compatible fabrication processes and interconnects that can seamlessly integrate these components into larger systems. This will require interdisciplinary collaboration between material scientists, engineers, and manufacturers.\n",
      "- **Scalability and Manufacturing Costs**: Scaling up the production of these flexible diodes while maintaining high performance and affordability is another key\n",
      "\n",
      "Journalist: ### Challenges and Solutions\n",
      "\n",
      "**5. Challenges and Solutions:**\n",
      "- **Series Resistance and Parasitic Capacitance**: These components are significant contributors to the diode's performance limits. The authors propose strategies to minimize them, such as optimizing the mesa geometry and IGZO thickness. By carefully designing the mesa structure, the diodes can maintain lower series resistance, which improves the overall speed and efficiency. Additionally, reducing the IGZO thickness can decrease parasitic capacitance, leading to faster switching times.\n",
      "- **Material Stability and Durability**: One of the main challenges in flexible electronics is ensuring the stability and durability of materials under mechanical stress and environmental conditions. The authors recommend further studies to investigate the long-term stability of IGZO on flexible substrates, particularly under bending and folding scenarios. This could involve incorporating protective layers or developing new encapsulation techniques to ensure reliability.\n",
      "- **Integration with Other Components**: Integrating these high-speed diodes with other flexible electronic components (e.g., transistors,\n",
      "\n",
      "Researcher: ### Challenges and Solutions\n",
      "\n",
      "**5. Challenges and Solutions:**\n",
      "\n",
      "- **Series Resistance and Parasitic Capacitance**:\n",
      "  - **Strategies**: \n",
      "    - **Optimizing Mesa Geometry**: Carefully designing the mesa structure can help reduce series resistance. A more efficient mesa design can minimize the path length for carriers, thereby reducing resistive losses.\n",
      "    - **Reducing IGZO Thickness**: Decreasing the thickness of the IGZO layer can lower parasitic capacitance, leading to faster switching times. However, this needs to be balanced against the need for sufficient thickness to maintain adequate conductivity and mechanical integrity.\n",
      "  - **Impact**: Minimizing these components can significantly improve the overall performance and efficiency of the diodes, allowing them to operate at higher frequencies and under more demanding conditions.\n",
      "\n",
      "- **Material Stability and Durability**:\n",
      "  - **Recommendations**:\n",
      "    - **Long-Term Stability Studies**: Conduct comprehensive tests to assess the stability of IGZO on flexible substrates under various mechanical stresses and environmental conditions. This includes thermal cycling, humidity exposure, and repeated bending/folding.\n",
      "    - **Protective Layers and Encapsulation**: Incorporate protective layers or develop new encapsulation techniques to shield the IGZO layer from environmental factors and mechanical damage. This could include using flexible polymers or other protective materials that adhere well to the substrate.\n",
      "  - **Impact**: Ensuring long-term stability and durability is crucial for practical applications. Proper encapsulation and protective measures can extend the lifespan of the diodes and ensure reliable performance over time.\n",
      "\n",
      "- **Integration with Other Components**:\n",
      "  - **Strategies**:\n",
      "    - **Interconnect Development**: Develop robust interconnects and interfaces that can reliably connect the diodes to other components such as transistors, sensors, and antennas. This may involve optimizing the contact materials and surface treatments to ensure strong and stable connections.\n",
      "    - **Compatibility Studies**: Conduct compatibility studies to ensure that the IGZO diodes can be seamlessly integrated with other flexible electronic components. This includes matching electrical properties, thermal expansion coefficients, and mechanical flexibility.\n",
      "  - **Impact**: Effective integration is essential for building complex flexible electronic systems. Reliable interconnections and compatibility between components will enable the creation of multifunctional devices with improved performance and functionality.\n",
      "\n",
      "- **Scalability and Manufacturing Costs**:\n",
      "  - **Strategies**:\n",
      "    - **Low-Cost Manufacturing Processes**: Develop scalable manufacturing processes that can produce large quantities of flexible diodes at a lower cost\n",
      "\n",
      "Journalist: ### Challenges and Solutions\n",
      "\n",
      "**5. Challenges and Solutions:**\n",
      "\n",
      "- **Series Resistance and Parasitic Capacitance**:\n",
      "  - **Strategies**:\n",
      "    - **Optimizing Mesa Geometry**: Carefully designing the mesa structure can help reduce series resistance. A more efficient mesa design can minimize the path length for carriers, thereby reducing resistive losses.\n",
      "    - **Reducing IGZO Thickness**: Decreasing the thickness of the IGZO layer can lower parasitic capacitance, leading to faster switching times. However, this needs to be balanced against the need for sufficient thickness to maintain adequate conductivity and mechanical integrity.\n",
      "  - **Impact**: Minimizing these components can significantly improve the overall performance and efficiency of the diodes, allowing them to operate at higher frequencies and under more demanding conditions.\n",
      "\n",
      "- **Material Stability and Durability**:\n",
      "  - **Recommendations**:\n",
      "    - **Long-Term Stability Studies**: Conduct comprehensive tests to assess the stability of IGZO on flexible substrates under\n",
      "\n",
      "Researcher: ### Challenges and Solutions\n",
      "\n",
      "**5. Challenges and Solutions:**\n",
      "\n",
      "- **Series Resistance and Parasitic Capacitance**:\n",
      "  - **Strategies**:\n",
      "    - **Optimizing Mesa Geometry**: Carefully designing the mesa structure can help reduce series resistance. A more efficient mesa design can minimize the path length for carriers, thereby reducing resistive losses.\n",
      "    - **Reducing IGZO Thickness**: Decreasing the thickness of the IGZO layer can lower parasitic capacitance, leading to faster switching times. However, this needs to be balanced against the need for sufficient thickness to maintain adequate conductivity and mechanical integrity.\n",
      "  - **Impact**: Minimizing these components can significantly improve the overall performance and efficiency of the diodes, allowing them to operate at higher frequencies and under more demanding conditions.\n",
      "\n",
      "- **Material Stability and Durability**:\n",
      "  - **Recommendations**:\n",
      "    - **Long-Term Stability Studies**: Conduct comprehensive tests to assess the stability of IGZO on flexible substrates under various mechanical stresses and environmental conditions. This includes thermal cycling, humidity exposure, and repeated bending/folding.\n",
      "    - **Protective Layers and Encapsulation**: Incorporate protective layers or develop new encapsulation techniques to shield the IGZO layer from environmental factors and mechanical damage. This could include using flexible polymers or other protective materials that adhere well to the substrate.\n",
      "  - **Impact**: Ensuring long-term stability and durability is crucial for practical applications. Proper encapsulation and protective measures can extend the lifespan of the diodes and ensure reliable performance over time.\n",
      "\n",
      "- **Integration with Other Components**:\n",
      "  - **Strategies**:\n",
      "    - **Interconnect Development**: Develop robust interconnects and interfaces that can reliably connect the diodes to other components such as transistors, sensors, and antennas. This may involve optimizing the contact materials and surface treatments to ensure strong and stable connections.\n",
      "    - **Compatibility Studies**: Conduct compatibility studies to ensure that the IGZO diodes can be seamlessly integrated with other flexible electronic components. This includes matching electrical properties, thermal expansion coefficients, and mechanical flexibility.\n",
      "  - **Impact**: Effective integration is essential for building complex flexible electronic systems. Reliable interconnections and compatibility between components will enable the creation of multifunctional devices with improved performance and functionality.\n",
      "\n",
      "- **Scalability and Manufacturing Costs**:\n",
      "  - **Strategies**:\n",
      "    - **Low-Cost Manufacturing Processes**: Develop scalable manufacturing processes that can produce large quantities of flexible diodes at a lower cost\n",
      "\n",
      "Journalist: ### Challenges and Solutions\n",
      "\n",
      "**5. Challenges and Solutions:**\n",
      "\n",
      "- **Series Resistance and Parasitic Capacitance**:\n",
      "  - **Strategies**:\n",
      "    - **Optimizing Mesa Geometry**: Carefully designing the mesa structure can help reduce series resistance. A more efficient mesa design can minimize the path length for carriers, thereby reducing resistive losses.\n",
      "    - **Reducing IGZO Thickness**: Decreasing the thickness of the IGZO layer can lower parasitic capacitance, leading to faster switching times. However, this needs to be balanced against the need for sufficient thickness to maintain adequate conductivity and mechanical integrity.\n",
      "  - **Impact**: Minimizing these components can significantly improve the overall performance and efficiency of the diodes, allowing them to operate at higher frequencies and under more demanding conditions.\n",
      "\n",
      "- **Material Stability and Durability**:\n",
      "  - **Recommendations**:\n",
      "    - **Long-Term Stability Studies**: Conduct comprehensive tests to assess the stability of IGZO on flexible substrates under\n",
      "\n",
      "Researcher: ### Challenges and Solutions\n",
      "\n",
      "**5. Challenges and Solutions:**\n",
      "\n",
      "- **Series Resistance and Parasitic Capacitance**:\n",
      "  - **Strategies**:\n",
      "    - **Optimizing Mesa Geometry**: Carefully designing the mesa structure can help reduce series resistance. A more efficient mesa design can minimize the path length for carriers, thereby reducing resistive losses.\n",
      "    - **Reducing IGZO Thickness**: Decreasing the thickness of the IGZO layer can lower parasitic capacitance, leading to faster switching times. However, this needs to be balanced against the need for sufficient thickness to maintain adequate conductivity and mechanical integrity.\n",
      "  - **Impact**: Minimizing these components can significantly improve the overall performance and efficiency of the diodes, allowing them to operate at higher frequencies and under more demanding conditions.\n",
      "\n",
      "- **Material Stability and Durability**:\n",
      "  - **Recommendations**:\n",
      "    - **Long-Term Stability Studies**: Conduct comprehensive tests to assess the stability of IGZO on flexible substrates under various mechanical stresses and environmental conditions. This includes thermal cycling, humidity exposure, and repeated bending/folding.\n",
      "    - **Protective Layers and Encapsulation**: Incorporate protective layers or develop new encapsulation techniques to shield the IGZO layer from environmental factors and mechanical damage. This could include using flexible polymers or other protective materials that adhere well to the substrate.\n",
      "  - **Impact**: Ensuring long-term stability and durability is crucial for practical applications. Proper encapsulation and protective measures can extend the lifespan of the diodes and ensure reliable performance over time.\n",
      "\n",
      "- **Integration with Other Components**:\n",
      "  - **Strategies**:\n",
      "    - **Interconnect Development**: Develop robust interconnects and interfaces that can reliably connect the diodes to other components such as transistors, sensors, and antennas. This may involve optimizing the contact materials and surface treatments to ensure strong and stable connections.\n",
      "    - **Compatibility Studies**: Conduct compatibility studies to ensure that the IGZO diodes can be seamlessly integrated with other flexible electronic components. This includes matching electrical properties, thermal expansion coefficients, and mechanical flexibility.\n",
      "  - **Impact**: Effective integration is essential for building complex flexible electronic systems. Reliable interconnections and compatibility between components will enable the creation of multifunctional devices with improved performance and functionality.\n",
      "\n",
      "- **Scalability and Manufacturing Costs**:\n",
      "  - **Strategies**:\n",
      "    - **Low-Cost Manufacturing Processes**: Develop scalable manufacturing processes that can produce large quantities of flexible diodes at a lower cost\n"
     ]
    }
   ],
   "source": [
    "print(generated_convs['ft-qwen-on-deepseek'][0]['conversation'][7])"
   ]
  },
  {
   "cell_type": "code",
   "execution_count": 94,
   "id": "7377a258-0213-444c-860e-ddb661e15997",
   "metadata": {},
   "outputs": [
    {
     "name": "stdout",
     "output_type": "stream",
     "text": [
      "Loading /mnt/swordfish-pool2/milad/communicating-science-to-the-public/eval_experiment_500//baseline_qwen_gen_conv/ds_eval/deepseek-ai from already saved file\n",
      "Loading /mnt/swordfish-pool2/milad/communicating-science-to-the-public/eval_experiment_500//ft_qwen_gen_conv//ds_eval/deepseek-ai from already saved file\n",
      "Loading /mnt/swordfish-pool2/milad/communicating-science-to-the-public/eval_experiment_500//baseline_llama3_gen_conv/ds_eval/deepseek-ai from already saved file\n",
      "Loading /mnt/swordfish-pool2/milad/communicating-science-to-the-public/eval_experiment_500//ft_llama3_gen_conv//ds_eval/deepseek-ai from already saved file\n",
      "#                       clarity_eval_prompt    scientific_eval_prompt    societal_eval_prompt    Avg\n",
      "--------------------  ---------------------  ------------------------  ----------------------  -----\n",
      "qwen-baseline                          4.04                      2.32                    1.82   2.73\n",
      "ft-qwen-on-deepseek                    3.93                      2.39                    1.95   2.76\n",
      "llama-baseline                         3.97                      1.94                    1.51   2.47\n",
      "ft-llama-on-deepseek                   4.36                      2.11                    1.77   2.75\n"
     ]
    }
   ],
   "source": [
    "prompts_to_eval = [prompts.clarity_eval_prompt, prompts.scientific_context_eval_prompt, prompts.societal_context_eval_prompt]\n",
    "llm_eval_results = llm_based_evaluation(prompts_to_eval, generated_convs, force_generation=False, evaluator_name=\"deepseek-ai/DeepSeek-R1-Distill-Qwen-14B\")"
   ]
  },
  {
   "cell_type": "code",
   "execution_count": 45,
   "id": "bdc41071-1d0a-4d60-a724-929567da3f1b",
   "metadata": {},
   "outputs": [
    {
     "name": "stdout",
     "output_type": "stream",
     "text": [
      "Old dataset\n",
      "Loading /mnt/swordfish-pool2/milad/communicating-science-to-the-public/eval_experiment_500//baseline_qwen_gen_conv/ds_eval/deepseek-ai from already saved file\n",
      "Loading /mnt/swordfish-pool2/milad/communicating-science-to-the-public/eval_experiment_500//ft_qwen_gen_conv//ds_eval/deepseek-ai from already saved file\n",
      "Loading /mnt/swordfish-pool2/milad/communicating-science-to-the-public/eval_experiment_500//baseline_llama3_gen_conv/ds_eval/deepseek-ai from already saved file\n",
      "Loading /mnt/swordfish-pool2/milad/communicating-science-to-the-public/eval_experiment_500//ft_llama3_gen_conv//ds_eval/deepseek-ai from already saved file\n",
      "#                       clarity_eval_prompt    scientific_eval_prompt    societal_eval_prompt    Avg\n",
      "--------------------  ---------------------  ------------------------  ----------------------  -----\n",
      "qwen-baseline                          4.04                      2.32                    1.82   2.73\n",
      "ft-qwen-on-deepseek                    3.93                      2.39                    1.95   2.76\n",
      "llama-baseline                         3.97                      1.94                    1.51   2.47\n",
      "ft-llama-on-deepseek                   4.36                      2.11                    1.77   2.75\n"
     ]
    }
   ],
   "source": [
    "print('Old dataset')\n",
    "llm_eval_results = llm_based_evaluation(prompts_to_eval, generated_convs, force_generation=False, evaluator_name=\"deepseek-ai/DeepSeek-R1-Distill-Qwen-14B\")"
   ]
  },
  {
   "cell_type": "code",
   "execution_count": 20,
   "id": "afc2599f-f340-4833-8b54-2eb9527621a6",
   "metadata": {},
   "outputs": [],
   "source": [
    "# generated_convs['ft-llama3-on-deepseek'][0] = generated_convs['ft-llama3-on-deepseek'][0].map(lambda row: {'conversation': '\\n\\n'.join(['{}: {}'.format('Journalist', x['content']) if x['role'] == 'assistant' else '{}: {}'.format('Researcher', x['content']) for x in row['generated_conversation'][1:]])})\n",
    "# generated_convs['llama3-baseline'][0] = generated_convs['llama3-baseline'][0].map(lambda row: {'conversation': '\\n\\n'.join(['{}: {}'.format('Journalist', x['content']) if x['role'] == 'assistant' else '{}: {}'.format('Researcher', x['content']) for x in row['generated_conversation'][1:]])})\n",
    "# generated_convs['gpt3-baseline'][0] = generated_convs['gpt3-baseline'][0].remove_columns(['societal_eval_prompt_scoring_parsed', 'scientific_eval_prompt_scoring_parsed', 'clarity_eval_prompt_scoring_parsed'])\n",
    "# generated_convs['llama3-baseline'][0] = generated_convs['llama3-baseline'][0].remove_columns(['societal_eval_prompt_scoring_parsed', 'scientific_eval_prompt_scoring_parsed', 'clarity_eval_prompt_scoring_parsed'])\n",
    "# generated_convs['ft-llama3-on-deepseek'][0] = generated_convs['ft-llama3-on-deepseek'][0].remove_columns(['societal_eval_prompt_scoring_parsed', 'scientific_eval_prompt_scoring_parsed', 'clarity_eval_prompt_scoring_parsed'])"
   ]
  },
  {
   "cell_type": "markdown",
   "id": "68a95478-e067-4758-920f-a8ea72c3cbc7",
   "metadata": {},
   "source": [
    "-------"
   ]
  },
  {
   "cell_type": "markdown",
   "id": "0467ed59-b9df-40c2-816b-99c85f5232e7",
   "metadata": {},
   "source": [
    "#### Evaluating the ground-truth generated convs:"
   ]
  },
  {
   "cell_type": "code",
   "execution_count": 54,
   "id": "d04958c7-4af7-4b14-b1a5-06dfda39e76a",
   "metadata": {},
   "outputs": [],
   "source": [
    "gt_convs = {\n",
    "    'original_deepseek_conv_1': [datasets.load_from_disk('/mnt/swordfish-pool2/milad/communicating-science-to-the-public/deepseek-final-conv-ds/').select(range(500)), '/mnt/swordfish-pool2/milad/communicating-science-to-the-public/deepseek-final-conv-ds/'],\n",
    "    'original_deepseek_conv_2': [datasets.load_from_disk('/mnt/swordfish-pool2/milad/communicating-science-to-the-public/deepseek-final-conv-ds-updated/').select(range(500)), '/mnt/swordfish-pool2/milad/communicating-science-to-the-public/deepseek-final-conv-ds-updated/']}"
   ]
  },
  {
   "cell_type": "code",
   "execution_count": 55,
   "id": "b3e56f29-0be5-42a7-af57-94b3ae9981d6",
   "metadata": {},
   "outputs": [],
   "source": [
    "gt_convs['original_deepseek_conv_1'][0] = gt_convs['original_deepseek_conv_1'][0].remove_columns(['scientific_eval_prompt_scoring_parsed', 'clarity_eval_prompt_scoring_parsed', 'societal_eval_prompt_scoring_parsed'])\n",
    "gt_convs['original_deepseek_conv_2'][0] = gt_convs['original_deepseek_conv_2'][0].remove_columns(['scientific_eval_prompt_scoring_parsed', 'clarity_eval_prompt_scoring_parsed', 'societal_eval_prompt_scoring_parsed'])"
   ]
  },
  {
   "cell_type": "code",
   "execution_count": 57,
   "id": "909e4dc2-98a1-4cbb-87c3-3515b40acefa",
   "metadata": {},
   "outputs": [
    {
     "name": "stdout",
     "output_type": "stream",
     "text": [
      "Loading /mnt/swordfish-pool2/milad/communicating-science-to-the-public/deepseek-final-conv-ds//ds_eval/deepseek-ai from already saved file\n",
      "Loading /mnt/swordfish-pool2/milad/communicating-science-to-the-public/deepseek-final-conv-ds-updated//ds_eval/deepseek-ai from already saved file\n",
      "#                           clarity_eval_prompt    scientific_eval_prompt    societal_eval_prompt    Avg\n",
      "------------------------  ---------------------  ------------------------  ----------------------  -----\n",
      "original_deepseek_conv_1                   4.57                      2.76                    1.98   3.1\n",
      "original_deepseek_conv_2                   4.59                      2.83                    2.04   3.15\n"
     ]
    }
   ],
   "source": [
    "prompts_to_eval = [prompts.clarity_eval_prompt, prompts.scientific_context_eval_prompt, prompts.societal_context_eval_prompt]\n",
    "\n",
    "llm_eval_gt_results = llm_based_evaluation(prompts_to_eval, gt_convs, force_generation=False)"
   ]
  },
  {
   "cell_type": "markdown",
   "id": "c1b35126-3e00-4c63-a1e4-17628dcd18db",
   "metadata": {},
   "source": [
    "------"
   ]
  },
  {
   "cell_type": "markdown",
   "id": "398872ee-7b67-4f28-b8de-60280d9582af",
   "metadata": {},
   "source": [
    "### Analysis of the automatic evalaution"
   ]
  },
  {
   "cell_type": "code",
   "execution_count": 1,
   "id": "88a09ce7-5a36-4323-a1b1-2bdeb4d69183",
   "metadata": {},
   "outputs": [
    {
     "name": "stdout",
     "output_type": "stream",
     "text": [
      "The history saving thread hit an unexpected error (OperationalError('attempt to write a readonly database')).History will not be written to the database.\n"
     ]
    }
   ],
   "source": [
    "# To add the topic to the data\n",
    "# deepseek_conv_dataset = datasets.load_from_disk('/mnt/swordfish-pool2/milad/communicating-science-to-the-public/deepseek-final-conv-ds-cleaned/')\n",
    "# paper_id_to_article = {x['id']: x['pr-article'] for x in deepseek_conv_dataset}\n",
    "# paper_id_to_topic = {x['id']: x['Topic'] for x in deepseek_conv_dataset}"
   ]
  },
  {
   "cell_type": "code",
   "execution_count": 12,
   "id": "bd6b765c-2e9a-479a-8032-24247d419e80",
   "metadata": {},
   "outputs": [],
   "source": [
    "generated_convs = {\n",
    "    'qwen-baseline':[datasets.load_from_disk(ds_path + '/baseline_qwen_gen_conv/'), ds_path + '/baseline_qwen_gen_conv'],\n",
    "    'ft-qwen-on-deepseek' :[datasets.load_from_disk(ds_path + '/ft_qwen_gen_conv/'),  ds_path +  '/ft_qwen_gen_conv/'],\n",
    "    'llama-baseline':[datasets.load_from_disk(ds_path + '/baseline_llama3_gen_conv/'), ds_path + '/baseline_llama3_gen_conv'],\n",
    "    'ft-llama-on-deepseek' :[datasets.load_from_disk(ds_path + '/ft_llama3_gen_conv/'), ds_path +  '/ft_llama3_gen_conv/'],\n",
    "}"
   ]
  },
  {
   "cell_type": "code",
   "execution_count": 13,
   "id": "0806f146-d067-40ab-bab4-ea78e34e1afd",
   "metadata": {},
   "outputs": [],
   "source": [
    "# generated_convs['llama3-baseline-adv-prompt'][0] = generated_convs['llama3-baseline-adv-prompt'][0].map(lambda row: {'topic': paper_id_to_topic[row['paper_id']]})\n",
    "# generated_convs['qwen-baseline-adv-prompt'][0] = generated_convs['qwen-baseline-adv-prompt'][0].map(lambda row: {'topic': paper_id_to_topic[row['paper_id']]})\n",
    "# generated_convs['ft-llama3-on-deepseek'][0] = generated_convs['ft-llama3-on-deepseek'][0].map(lambda row: {'topic': paper_id_to_topic[row['paper_id']]})\n",
    "# generated_convs['ft-qwen-on-deepseek'][0] = generated_convs['ft-qwen-on-deepseek'][0].map(lambda row: {'topic': paper_id_to_topic[row['paper_id']]})"
   ]
  },
  {
   "cell_type": "code",
   "execution_count": 14,
   "id": "78c3fc78-47c7-42af-94d0-2dfb3f88877d",
   "metadata": {},
   "outputs": [
    {
     "name": "stdout",
     "output_type": "stream",
     "text": [
      "Loading /mnt/swordfish-pool2/milad/communicating-science-to-the-public/new-eval_experiment_500/baseline_qwen_gen_conv/ds_eval/deepseek-ai from already saved file\n",
      "Loading /mnt/swordfish-pool2/milad/communicating-science-to-the-public/new-eval_experiment_500/ft_qwen_gen_conv//ds_eval/deepseek-ai from already saved file\n",
      "Loading /mnt/swordfish-pool2/milad/communicating-science-to-the-public/new-eval_experiment_500/baseline_llama3_gen_conv/ds_eval/deepseek-ai from already saved file\n",
      "Loading /mnt/swordfish-pool2/milad/communicating-science-to-the-public/new-eval_experiment_500/ft_llama3_gen_conv//ds_eval/deepseek-ai from already saved file\n",
      "#                       clarity_eval_prompt    scientific_eval_prompt    societal_eval_prompt    Avg\n",
      "--------------------  ---------------------  ------------------------  ----------------------  -----\n",
      "qwen-baseline                          3.94                      2.28                    1.82   2.68\n",
      "ft-qwen-on-deepseek                    3.94                      2.1                     1.56   2.53\n",
      "llama-baseline                         4.09                      1.98                    1.52   2.53\n",
      "ft-llama-on-deepseek                   4.17                      2.02                    1.57   2.59\n"
     ]
    }
   ],
   "source": [
    "prompts_to_eval = [prompts.clarity_eval_prompt, prompts.scientific_context_eval_prompt, prompts.societal_context_eval_prompt]\n",
    "\n",
    "llm_eval_results = llm_based_evaluation(prompts_to_eval, generated_convs, force_generation=False, evaluator_name=\"deepseek-ai/DeepSeek-R1-Distill-Qwen-14B\")"
   ]
  },
  {
   "cell_type": "code",
   "execution_count": null,
   "id": "7bcecdfe-1bb0-4de7-a9d6-a4bfd3ee5270",
   "metadata": {},
   "outputs": [],
   "source": [
    "utils.histogram_of_scores(llm_eval_results, 'clarity_eval_prompt_scoring_parsed', 'Clarity Scores')"
   ]
  },
  {
   "cell_type": "code",
   "execution_count": 57,
   "id": "1eca5375-76db-4f22-86f5-d2cb3d4ca125",
   "metadata": {},
   "outputs": [
    {
     "data": {
      "image/png": "[encoded data removed]",
      "text/plain": [
       "<Figure size 640x480 with 1 Axes>"
      ]
     },
     "metadata": {},
     "output_type": "display_data"
    }
   ],
   "source": [
    "utils.histogram_of_scores(llm_eval_results, 'societal_eval_prompt_scoring_parsed', 'Societal Impact Scores')"
   ]
  },
  {
   "cell_type": "code",
   "execution_count": 58,
   "id": "f341c8df-7bfb-4148-ac31-cb9261c0861a",
   "metadata": {},
   "outputs": [
    {
     "data": {
      "image/png": "[encoded data removed]",
      "text/plain": [
       "<Figure size 640x480 with 1 Axes>"
      ]
     },
     "metadata": {},
     "output_type": "display_data"
    }
   ],
   "source": [
    "utils.histogram_of_scores(llm_eval_results, 'scientific_eval_prompt_scoring_parsed', 'Scientific Context Scores')"
   ]
  },
  {
   "cell_type": "markdown",
   "id": "42923b20-613f-4363-99a0-52c514d52424",
   "metadata": {
    "jp-MarkdownHeadingCollapsed": true
   },
   "source": [
    "### Per topic analysis"
   ]
  },
  {
   "cell_type": "code",
   "execution_count": 44,
   "id": "1fe88bd9-10e4-457d-9ee5-6096816e25fe",
   "metadata": {
    "scrolled": true
   },
   "outputs": [
    {
     "data": {
      "application/vnd.jupyter.widget-view+json": {
       "model_id": "18898a989acd424fa91ea9f668cb704a",
       "version_major": 2,
       "version_minor": 0
      },
      "text/plain": [
       "Filter:   0%|          | 0/500 [00:00<?, ? examples/s]"
      ]
     },
     "metadata": {},
     "output_type": "display_data"
    },
    {
     "name": "stdout",
     "output_type": "stream",
     "text": [
      "Nano #inst:  27\n"
     ]
    },
    {
     "data": {
      "application/vnd.jupyter.widget-view+json": {
       "model_id": "7bf25959f6644f25b08ca81901547a76",
       "version_major": 2,
       "version_minor": 0
      },
      "text/plain": [
       "Filter:   0%|          | 0/500 [00:00<?, ? examples/s]"
      ]
     },
     "metadata": {},
     "output_type": "display_data"
    },
    {
     "data": {
      "application/vnd.jupyter.widget-view+json": {
       "model_id": "5ff0e302661f48d28ade59f2cc40175c",
       "version_major": 2,
       "version_minor": 0
      },
      "text/plain": [
       "Filter:   0%|          | 0/500 [00:00<?, ? examples/s]"
      ]
     },
     "metadata": {},
     "output_type": "display_data"
    },
    {
     "data": {
      "application/vnd.jupyter.widget-view+json": {
       "model_id": "989b2051b40a424ab544751c78a7ae5c",
       "version_major": 2,
       "version_minor": 0
      },
      "text/plain": [
       "Filter:   0%|          | 0/500 [00:00<?, ? examples/s]"
      ]
     },
     "metadata": {},
     "output_type": "display_data"
    },
    {
     "data": {
      "application/vnd.jupyter.widget-view+json": {
       "model_id": "5e5eeb88472a4fbaad81d32548d41a9f",
       "version_major": 2,
       "version_minor": 0
      },
      "text/plain": [
       "Filter:   0%|          | 0/500 [00:00<?, ? examples/s]"
      ]
     },
     "metadata": {},
     "output_type": "display_data"
    },
    {
     "name": "stdout",
     "output_type": "stream",
     "text": [
      "#                       clarity_eval_prompt    scientific_eval_prompt    societal_eval_prompt    Avg\n",
      "--------------------  ---------------------  ------------------------  ----------------------  -----\n",
      "qwen-baseline                          4.74                      2.07                    2.7    3.17\n",
      "ft-qwen-on-deepseek                    4.63                      2.26                    2.89   3.26\n",
      "llama-baseline                         4.81                      1.48                    2.07   2.79\n",
      "ft-llama-on-deepseek                   4.81                      2.07                    2.78   3.22\n",
      "\n",
      "===============\n"
     ]
    },
    {
     "data": {
      "application/vnd.jupyter.widget-view+json": {
       "model_id": "32be71c33e424bd180114cedd59db2f5",
       "version_major": 2,
       "version_minor": 0
      },
      "text/plain": [
       "Filter:   0%|          | 0/500 [00:00<?, ? examples/s]"
      ]
     },
     "metadata": {},
     "output_type": "display_data"
    },
    {
     "name": "stdout",
     "output_type": "stream",
     "text": [
      "Physics #inst:  47\n"
     ]
    },
    {
     "data": {
      "application/vnd.jupyter.widget-view+json": {
       "model_id": "c9ee3d9199e8472aa9d20133eb5eb4a0",
       "version_major": 2,
       "version_minor": 0
      },
      "text/plain": [
       "Filter:   0%|          | 0/500 [00:00<?, ? examples/s]"
      ]
     },
     "metadata": {},
     "output_type": "display_data"
    },
    {
     "data": {
      "application/vnd.jupyter.widget-view+json": {
       "model_id": "caab0d46ebcd4588a709ce27e4d460fe",
       "version_major": 2,
       "version_minor": 0
      },
      "text/plain": [
       "Filter:   0%|          | 0/500 [00:00<?, ? examples/s]"
      ]
     },
     "metadata": {},
     "output_type": "display_data"
    },
    {
     "data": {
      "application/vnd.jupyter.widget-view+json": {
       "model_id": "3d8ead76b9a1435aabe6571e13c5b798",
       "version_major": 2,
       "version_minor": 0
      },
      "text/plain": [
       "Filter:   0%|          | 0/500 [00:00<?, ? examples/s]"
      ]
     },
     "metadata": {},
     "output_type": "display_data"
    },
    {
     "data": {
      "application/vnd.jupyter.widget-view+json": {
       "model_id": "ad558d813a4c4f38a7e43e86f1ab0f14",
       "version_major": 2,
       "version_minor": 0
      },
      "text/plain": [
       "Filter:   0%|          | 0/500 [00:00<?, ? examples/s]"
      ]
     },
     "metadata": {},
     "output_type": "display_data"
    },
    {
     "name": "stdout",
     "output_type": "stream",
     "text": [
      "#                       clarity_eval_prompt    scientific_eval_prompt    societal_eval_prompt    Avg\n",
      "--------------------  ---------------------  ------------------------  ----------------------  -----\n",
      "qwen-baseline                          4.79                      2.13                    2.26   3.06\n",
      "ft-qwen-on-deepseek                    4.77                      2.38                    2.77   3.31\n",
      "llama-baseline                         4.89                      2.02                    1.96   2.96\n",
      "ft-llama-on-deepseek                   4.72                      2.34                    2.77   3.28\n",
      "\n",
      "===============\n"
     ]
    },
    {
     "data": {
      "application/vnd.jupyter.widget-view+json": {
       "model_id": "6df1512fb3644c209e40ed1df08e4b52",
       "version_major": 2,
       "version_minor": 0
      },
      "text/plain": [
       "Filter:   0%|          | 0/500 [00:00<?, ? examples/s]"
      ]
     },
     "metadata": {},
     "output_type": "display_data"
    },
    {
     "name": "stdout",
     "output_type": "stream",
     "text": [
      "Computer #inst:  13\n"
     ]
    },
    {
     "data": {
      "application/vnd.jupyter.widget-view+json": {
       "model_id": "6c5a92410dc44448a54060ee847b4aab",
       "version_major": 2,
       "version_minor": 0
      },
      "text/plain": [
       "Filter:   0%|          | 0/500 [00:00<?, ? examples/s]"
      ]
     },
     "metadata": {},
     "output_type": "display_data"
    },
    {
     "data": {
      "application/vnd.jupyter.widget-view+json": {
       "model_id": "6d247c22741b4894b109d790cb4f84c1",
       "version_major": 2,
       "version_minor": 0
      },
      "text/plain": [
       "Filter:   0%|          | 0/500 [00:00<?, ? examples/s]"
      ]
     },
     "metadata": {},
     "output_type": "display_data"
    },
    {
     "data": {
      "application/vnd.jupyter.widget-view+json": {
       "model_id": "b3d61b8b317f453cb5fe4c7af73cc4d6",
       "version_major": 2,
       "version_minor": 0
      },
      "text/plain": [
       "Filter:   0%|          | 0/500 [00:00<?, ? examples/s]"
      ]
     },
     "metadata": {},
     "output_type": "display_data"
    },
    {
     "data": {
      "application/vnd.jupyter.widget-view+json": {
       "model_id": "df8e8509c0c24397bbef8119f8c28eae",
       "version_major": 2,
       "version_minor": 0
      },
      "text/plain": [
       "Filter:   0%|          | 0/500 [00:00<?, ? examples/s]"
      ]
     },
     "metadata": {},
     "output_type": "display_data"
    },
    {
     "name": "stdout",
     "output_type": "stream",
     "text": [
      "#                       clarity_eval_prompt    scientific_eval_prompt    societal_eval_prompt    Avg\n",
      "--------------------  ---------------------  ------------------------  ----------------------  -----\n",
      "qwen-baseline                             5                      1.85                    2.46   3.1\n",
      "ft-qwen-on-deepseek                       5                      2                       2.69   3.23\n",
      "llama-baseline                            5                      1.46                    2.08   2.85\n",
      "ft-llama-on-deepseek                      5                      2.31                    2.54   3.28\n",
      "\n",
      "===============\n"
     ]
    },
    {
     "data": {
      "application/vnd.jupyter.widget-view+json": {
       "model_id": "ffad53725aab4682be8affaa53a35ad4",
       "version_major": 2,
       "version_minor": 0
      },
      "text/plain": [
       "Filter:   0%|          | 0/500 [00:00<?, ? examples/s]"
      ]
     },
     "metadata": {},
     "output_type": "display_data"
    },
    {
     "name": "stdout",
     "output_type": "stream",
     "text": [
      "Other #inst:  18\n"
     ]
    },
    {
     "data": {
      "application/vnd.jupyter.widget-view+json": {
       "model_id": "0eef165aa5724b25bc7457d54764ba0a",
       "version_major": 2,
       "version_minor": 0
      },
      "text/plain": [
       "Filter:   0%|          | 0/500 [00:00<?, ? examples/s]"
      ]
     },
     "metadata": {},
     "output_type": "display_data"
    },
    {
     "data": {
      "application/vnd.jupyter.widget-view+json": {
       "model_id": "a678780110c44f82993d837faceae299",
       "version_major": 2,
       "version_minor": 0
      },
      "text/plain": [
       "Filter:   0%|          | 0/500 [00:00<?, ? examples/s]"
      ]
     },
     "metadata": {},
     "output_type": "display_data"
    },
    {
     "data": {
      "application/vnd.jupyter.widget-view+json": {
       "model_id": "dc6b74092c634daaac78f23c893c4c6a",
       "version_major": 2,
       "version_minor": 0
      },
      "text/plain": [
       "Filter:   0%|          | 0/500 [00:00<?, ? examples/s]"
      ]
     },
     "metadata": {},
     "output_type": "display_data"
    },
    {
     "data": {
      "application/vnd.jupyter.widget-view+json": {
       "model_id": "390413e877594d34a5be5cd04b5df2ab",
       "version_major": 2,
       "version_minor": 0
      },
      "text/plain": [
       "Filter:   0%|          | 0/500 [00:00<?, ? examples/s]"
      ]
     },
     "metadata": {},
     "output_type": "display_data"
    },
    {
     "name": "stdout",
     "output_type": "stream",
     "text": [
      "#                       clarity_eval_prompt    scientific_eval_prompt    societal_eval_prompt    Avg\n",
      "--------------------  ---------------------  ------------------------  ----------------------  -----\n",
      "qwen-baseline                          5                         2.11                    2.89   3.33\n",
      "ft-qwen-on-deepseek                    4.72                      2.56                    2.89   3.39\n",
      "llama-baseline                         4.94                      1.56                    2.56   3.02\n",
      "ft-llama-on-deepseek                   5                         2                       2.89   3.3\n",
      "\n",
      "===============\n"
     ]
    },
    {
     "data": {
      "application/vnd.jupyter.widget-view+json": {
       "model_id": "f3736188ba894ad0bae7f83a06f95e72",
       "version_major": 2,
       "version_minor": 0
      },
      "text/plain": [
       "Filter:   0%|          | 0/500 [00:00<?, ? examples/s]"
      ]
     },
     "metadata": {},
     "output_type": "display_data"
    },
    {
     "name": "stdout",
     "output_type": "stream",
     "text": [
      "Medicine #inst:  198\n"
     ]
    },
    {
     "data": {
      "application/vnd.jupyter.widget-view+json": {
       "model_id": "bef688585ee144eba5512d3b009dd418",
       "version_major": 2,
       "version_minor": 0
      },
      "text/plain": [
       "Filter:   0%|          | 0/500 [00:00<?, ? examples/s]"
      ]
     },
     "metadata": {},
     "output_type": "display_data"
    },
    {
     "data": {
      "application/vnd.jupyter.widget-view+json": {
       "model_id": "2d400d7977d849328172951f9fd1be3a",
       "version_major": 2,
       "version_minor": 0
      },
      "text/plain": [
       "Filter:   0%|          | 0/500 [00:00<?, ? examples/s]"
      ]
     },
     "metadata": {},
     "output_type": "display_data"
    },
    {
     "data": {
      "application/vnd.jupyter.widget-view+json": {
       "model_id": "fd94ff38964b4018833859e8262a40a6",
       "version_major": 2,
       "version_minor": 0
      },
      "text/plain": [
       "Filter:   0%|          | 0/500 [00:00<?, ? examples/s]"
      ]
     },
     "metadata": {},
     "output_type": "display_data"
    },
    {
     "data": {
      "application/vnd.jupyter.widget-view+json": {
       "model_id": "58e6ebe0398a4fb3ac4b1b7103a155ac",
       "version_major": 2,
       "version_minor": 0
      },
      "text/plain": [
       "Filter:   0%|          | 0/500 [00:00<?, ? examples/s]"
      ]
     },
     "metadata": {},
     "output_type": "display_data"
    },
    {
     "name": "stdout",
     "output_type": "stream",
     "text": [
      "#                       clarity_eval_prompt    scientific_eval_prompt    societal_eval_prompt    Avg\n",
      "--------------------  ---------------------  ------------------------  ----------------------  -----\n",
      "qwen-baseline                          4.82                      1.99                    2.88   3.23\n",
      "ft-qwen-on-deepseek                    4.69                      2.25                    2.89   3.28\n",
      "llama-baseline                         4.84                      1.8                     2.49   3.04\n",
      "ft-llama-on-deepseek                   4.86                      1.85                    2.85   3.19\n",
      "\n",
      "===============\n"
     ]
    },
    {
     "data": {
      "application/vnd.jupyter.widget-view+json": {
       "model_id": "cd557916194748748a1a34b6692f4bbf",
       "version_major": 2,
       "version_minor": 0
      },
      "text/plain": [
       "Filter:   0%|          | 0/500 [00:00<?, ? examples/s]"
      ]
     },
     "metadata": {},
     "output_type": "display_data"
    },
    {
     "name": "stdout",
     "output_type": "stream",
     "text": [
      "Biology #inst:  94\n"
     ]
    },
    {
     "data": {
      "application/vnd.jupyter.widget-view+json": {
       "model_id": "eb764f2c3c214f9b8f15409b87217fcf",
       "version_major": 2,
       "version_minor": 0
      },
      "text/plain": [
       "Filter:   0%|          | 0/500 [00:00<?, ? examples/s]"
      ]
     },
     "metadata": {},
     "output_type": "display_data"
    },
    {
     "data": {
      "application/vnd.jupyter.widget-view+json": {
       "model_id": "dbf0c85fb385427a8ff9ab50500ae088",
       "version_major": 2,
       "version_minor": 0
      },
      "text/plain": [
       "Filter:   0%|          | 0/500 [00:00<?, ? examples/s]"
      ]
     },
     "metadata": {},
     "output_type": "display_data"
    },
    {
     "data": {
      "application/vnd.jupyter.widget-view+json": {
       "model_id": "af70e16d845148fe9be381e628e8fce1",
       "version_major": 2,
       "version_minor": 0
      },
      "text/plain": [
       "Filter:   0%|          | 0/500 [00:00<?, ? examples/s]"
      ]
     },
     "metadata": {},
     "output_type": "display_data"
    },
    {
     "data": {
      "application/vnd.jupyter.widget-view+json": {
       "model_id": "0976b0c4fdd54cbabd73ca31abf0a7fb",
       "version_major": 2,
       "version_minor": 0
      },
      "text/plain": [
       "Filter:   0%|          | 0/500 [00:00<?, ? examples/s]"
      ]
     },
     "metadata": {},
     "output_type": "display_data"
    },
    {
     "name": "stdout",
     "output_type": "stream",
     "text": [
      "#                       clarity_eval_prompt    scientific_eval_prompt    societal_eval_prompt    Avg\n",
      "--------------------  ---------------------  ------------------------  ----------------------  -----\n",
      "qwen-baseline                          4.87                      1.89                    2.79   3.18\n",
      "ft-qwen-on-deepseek                    4.7                       2.19                    2.85   3.25\n",
      "llama-baseline                         4.94                      1.79                    2.41   3.05\n",
      "ft-llama-on-deepseek                   4.97                      1.97                    2.73   3.22\n",
      "\n",
      "===============\n"
     ]
    },
    {
     "data": {
      "application/vnd.jupyter.widget-view+json": {
       "model_id": "4d489bd51c454431be2f6934af251c2c",
       "version_major": 2,
       "version_minor": 0
      },
      "text/plain": [
       "Filter:   0%|          | 0/500 [00:00<?, ? examples/s]"
      ]
     },
     "metadata": {},
     "output_type": "display_data"
    },
    {
     "name": "stdout",
     "output_type": "stream",
     "text": [
      "Chemistry #inst:  44\n"
     ]
    },
    {
     "data": {
      "application/vnd.jupyter.widget-view+json": {
       "model_id": "4b125112634c46009e911f111c65b3ea",
       "version_major": 2,
       "version_minor": 0
      },
      "text/plain": [
       "Filter:   0%|          | 0/500 [00:00<?, ? examples/s]"
      ]
     },
     "metadata": {},
     "output_type": "display_data"
    },
    {
     "data": {
      "application/vnd.jupyter.widget-view+json": {
       "model_id": "0e34d683b737430cb869915bd88def1f",
       "version_major": 2,
       "version_minor": 0
      },
      "text/plain": [
       "Filter:   0%|          | 0/500 [00:00<?, ? examples/s]"
      ]
     },
     "metadata": {},
     "output_type": "display_data"
    },
    {
     "data": {
      "application/vnd.jupyter.widget-view+json": {
       "model_id": "01d14d1fb407475482c54e4f636f960f",
       "version_major": 2,
       "version_minor": 0
      },
      "text/plain": [
       "Filter:   0%|          | 0/500 [00:00<?, ? examples/s]"
      ]
     },
     "metadata": {},
     "output_type": "display_data"
    },
    {
     "data": {
      "application/vnd.jupyter.widget-view+json": {
       "model_id": "4fb60019ec1546b6be6be78214cd9ee2",
       "version_major": 2,
       "version_minor": 0
      },
      "text/plain": [
       "Filter:   0%|          | 0/500 [00:00<?, ? examples/s]"
      ]
     },
     "metadata": {},
     "output_type": "display_data"
    },
    {
     "name": "stdout",
     "output_type": "stream",
     "text": [
      "#                       clarity_eval_prompt    scientific_eval_prompt    societal_eval_prompt    Avg\n",
      "--------------------  ---------------------  ------------------------  ----------------------  -----\n",
      "qwen-baseline                          4.86                      1.84                    2.39   3.03\n",
      "ft-qwen-on-deepseek                    4.68                      2                       2.89   3.19\n",
      "llama-baseline                         4.98                      1.73                    2      2.9\n",
      "ft-llama-on-deepseek                   4.91                      1.98                    2.8    3.23\n",
      "\n",
      "===============\n"
     ]
    },
    {
     "data": {
      "application/vnd.jupyter.widget-view+json": {
       "model_id": "d39e572957ef4e79a535720c60f3c347",
       "version_major": 2,
       "version_minor": 0
      },
      "text/plain": [
       "Filter:   0%|          | 0/500 [00:00<?, ? examples/s]"
      ]
     },
     "metadata": {},
     "output_type": "display_data"
    },
    {
     "name": "stdout",
     "output_type": "stream",
     "text": [
      "Space #inst:  9\n"
     ]
    },
    {
     "data": {
      "application/vnd.jupyter.widget-view+json": {
       "model_id": "ec53cf283dd14262a0e45d601baf14da",
       "version_major": 2,
       "version_minor": 0
      },
      "text/plain": [
       "Filter:   0%|          | 0/500 [00:00<?, ? examples/s]"
      ]
     },
     "metadata": {},
     "output_type": "display_data"
    },
    {
     "data": {
      "application/vnd.jupyter.widget-view+json": {
       "model_id": "a109d18f64014016bd52a358d549e7a9",
       "version_major": 2,
       "version_minor": 0
      },
      "text/plain": [
       "Filter:   0%|          | 0/500 [00:00<?, ? examples/s]"
      ]
     },
     "metadata": {},
     "output_type": "display_data"
    },
    {
     "data": {
      "application/vnd.jupyter.widget-view+json": {
       "model_id": "93984bcfdce44b289dd958ec8cc014fa",
       "version_major": 2,
       "version_minor": 0
      },
      "text/plain": [
       "Filter:   0%|          | 0/500 [00:00<?, ? examples/s]"
      ]
     },
     "metadata": {},
     "output_type": "display_data"
    },
    {
     "data": {
      "application/vnd.jupyter.widget-view+json": {
       "model_id": "ea37179e14244bab91f79c4687e6dda3",
       "version_major": 2,
       "version_minor": 0
      },
      "text/plain": [
       "Filter:   0%|          | 0/500 [00:00<?, ? examples/s]"
      ]
     },
     "metadata": {},
     "output_type": "display_data"
    },
    {
     "name": "stdout",
     "output_type": "stream",
     "text": [
      "#                       clarity_eval_prompt    scientific_eval_prompt    societal_eval_prompt    Avg\n",
      "--------------------  ---------------------  ------------------------  ----------------------  -----\n",
      "qwen-baseline                          5                         2.22                    2.56   3.26\n",
      "ft-qwen-on-deepseek                    4.67                      2.44                    3      3.37\n",
      "llama-baseline                         4.78                      2.11                    2.56   3.15\n",
      "ft-llama-on-deepseek                   5                         2.33                    3      3.44\n",
      "\n",
      "===============\n"
     ]
    },
    {
     "data": {
      "application/vnd.jupyter.widget-view+json": {
       "model_id": "02652f30f45a40fe9023a94507555fb2",
       "version_major": 2,
       "version_minor": 0
      },
      "text/plain": [
       "Filter:   0%|          | 0/500 [00:00<?, ? examples/s]"
      ]
     },
     "metadata": {},
     "output_type": "display_data"
    },
    {
     "name": "stdout",
     "output_type": "stream",
     "text": [
      "Earth #inst:  50\n"
     ]
    },
    {
     "data": {
      "application/vnd.jupyter.widget-view+json": {
       "model_id": "83177888c0664b68a3f7e1861a68c582",
       "version_major": 2,
       "version_minor": 0
      },
      "text/plain": [
       "Filter:   0%|          | 0/500 [00:00<?, ? examples/s]"
      ]
     },
     "metadata": {},
     "output_type": "display_data"
    },
    {
     "data": {
      "application/vnd.jupyter.widget-view+json": {
       "model_id": "de690713c7734282b5e79e6086c801db",
       "version_major": 2,
       "version_minor": 0
      },
      "text/plain": [
       "Filter:   0%|          | 0/500 [00:00<?, ? examples/s]"
      ]
     },
     "metadata": {},
     "output_type": "display_data"
    },
    {
     "data": {
      "application/vnd.jupyter.widget-view+json": {
       "model_id": "642feaac267043faad3d844a2abd979b",
       "version_major": 2,
       "version_minor": 0
      },
      "text/plain": [
       "Filter:   0%|          | 0/500 [00:00<?, ? examples/s]"
      ]
     },
     "metadata": {},
     "output_type": "display_data"
    },
    {
     "data": {
      "application/vnd.jupyter.widget-view+json": {
       "model_id": "7e2dc57560304c03913817d538fa575f",
       "version_major": 2,
       "version_minor": 0
      },
      "text/plain": [
       "Filter:   0%|          | 0/500 [00:00<?, ? examples/s]"
      ]
     },
     "metadata": {},
     "output_type": "display_data"
    },
    {
     "name": "stdout",
     "output_type": "stream",
     "text": [
      "#                       clarity_eval_prompt    scientific_eval_prompt    societal_eval_prompt    Avg\n",
      "--------------------  ---------------------  ------------------------  ----------------------  -----\n",
      "qwen-baseline                          4.88                      2.14                    2.78   3.27\n",
      "ft-qwen-on-deepseek                    4.8                       2.34                    3      3.38\n",
      "llama-baseline                         4.9                       1.86                    2.6    3.12\n",
      "ft-llama-on-deepseek                   4.86                      2.26                    2.88   3.33\n",
      "\n",
      "===============\n"
     ]
    }
   ],
   "source": [
    "for topic in set(paper_id_to_topic.values()):\n",
    "    topic_ds = llm_eval_results['qwen-baseline'].filter(lambda row: row['topic'] ==topic)\n",
    "    print(topic, '#inst: ', len(topic_ds))\n",
    "    print(tabulate(\n",
    "        [[name] + get_llm_avg_scores(res.filter(lambda row: row['topic'] ==topic), prompts_to_eval) for name, res in llm_eval_results.items()],\n",
    "        headers=['#'] + [p['strategy_name'] for p in prompts_to_eval] + ['Avg']\n",
    "    ))\n",
    "    print()\n",
    "    print('===============')"
   ]
  },
  {
   "cell_type": "code",
   "execution_count": 59,
   "id": "455f9968-13ee-41da-8ba3-50ff2d43f070",
   "metadata": {},
   "outputs": [
    {
     "data": {
      "text/plain": [
       "[{'qwen-baseline': 1675.34,\n",
       "  'ft-qwen-on-deepseek': 1610.802,\n",
       "  'llama-baseline': 1387.936,\n",
       "  'ft-llama-on-deepseek': 923.026}]"
      ]
     },
     "execution_count": 59,
     "metadata": {},
     "output_type": "execute_result"
    }
   ],
   "source": [
    "import tiktoken\n",
    "\n",
    "[{key: np.mean([len(conv.split()) for conv in val['conversation']]) for key, val in llm_eval_results.items()}]"
   ]
  },
  {
   "cell_type": "markdown",
   "id": "88e2667d-cdc1-41ea-8f70-65f4ae487366",
   "metadata": {},
   "source": [
    "#### Correlation between GPT and Deepseek evaluators"
   ]
  },
  {
   "cell_type": "code",
   "execution_count": 66,
   "id": "3ea6c5c6-e080-491c-91fd-de5f5625ae74",
   "metadata": {},
   "outputs": [],
   "source": [
    "from scipy.stats import spearmanr"
   ]
  },
  {
   "cell_type": "code",
   "execution_count": 60,
   "id": "9ce5bbd2-520f-4ec1-a46d-feb3b48198a8",
   "metadata": {
    "scrolled": true
   },
   "outputs": [
    {
     "name": "stdout",
     "output_type": "stream",
     "text": [
      "Loading /mnt/swordfish-pool2/milad/communicating-science-to-the-public/eval_experiment_500//baseline_qwen_gen_conv/ds_eval/deepseek-ai from already saved file\n",
      "Loading /mnt/swordfish-pool2/milad/communicating-science-to-the-public/eval_experiment_500//ft_qwen_gen_conv//ds_eval/deepseek-ai from already saved file\n",
      "Loading /mnt/swordfish-pool2/milad/communicating-science-to-the-public/eval_experiment_500//baseline_llama3_gen_conv/ds_eval/deepseek-ai from already saved file\n",
      "Loading /mnt/swordfish-pool2/milad/communicating-science-to-the-public/eval_experiment_500//ft_llama3_gen_conv//ds_eval/deepseek-ai from already saved file\n",
      "#                       clarity_eval_prompt    scientific_eval_prompt    societal_eval_prompt    Avg\n",
      "--------------------  ---------------------  ------------------------  ----------------------  -----\n",
      "qwen-baseline                          4.04                      2.32                    1.82   2.73\n",
      "ft-qwen-on-deepseek                    3.93                      2.39                    1.95   2.76\n",
      "llama-baseline                         3.97                      1.94                    1.51   2.47\n",
      "ft-llama-on-deepseek                   4.36                      2.11                    1.77   2.75\n",
      "Loading /mnt/swordfish-pool2/milad/communicating-science-to-the-public/eval_experiment_500//baseline_qwen_gen_conv/ds_eval/gpt-4.1-2025-04-14 from already saved file\n",
      "Loading /mnt/swordfish-pool2/milad/communicating-science-to-the-public/eval_experiment_500//ft_qwen_gen_conv//ds_eval/gpt-4.1-2025-04-14 from already saved file\n",
      "Loading /mnt/swordfish-pool2/milad/communicating-science-to-the-public/eval_experiment_500//baseline_llama3_gen_conv/ds_eval/gpt-4.1-2025-04-14 from already saved file\n",
      "Loading /mnt/swordfish-pool2/milad/communicating-science-to-the-public/eval_experiment_500//ft_llama3_gen_conv//ds_eval/gpt-4.1-2025-04-14 from already saved file\n",
      "#                       clarity_eval_prompt    scientific_eval_prompt    societal_eval_prompt    Avg\n",
      "--------------------  ---------------------  ------------------------  ----------------------  -----\n",
      "qwen-baseline                          4.85                      2                       2.72   3.19\n",
      "ft-qwen-on-deepseek                    4.71                      2.25                    2.88   3.28\n",
      "llama-baseline                         4.89                      1.79                    2.36   3.01\n",
      "ft-llama-on-deepseek                   4.88                      2.01                    2.81   3.23\n"
     ]
    }
   ],
   "source": [
    "deepseek_eval_results = llm_based_evaluation(prompts_to_eval, generated_convs, force_generation=False, evaluator_name=\"deepseek-ai/DeepSeek-R1-Distill-Qwen-14B\")\n",
    "gpt_eval_results = llm_based_evaluation(prompts_to_eval, generated_convs, force_generation=False, evaluator_name=\"gpt-4.1-2025-04-14\")"
   ]
  },
  {
   "cell_type": "code",
   "execution_count": 80,
   "id": "a7f122fe-9141-4bb2-bf24-f61bac9244e5",
   "metadata": {},
   "outputs": [
    {
     "name": "stdout",
     "output_type": "stream",
     "text": [
      "Correlation on clarity_eval_prompt_scoring_parsed is SignificanceResult(statistic=0.22530488617129796, pvalue=1.960896430851374e-24)\n"
     ]
    }
   ],
   "source": [
    "eval_aspect = 'clarity_eval_prompt_scoring_parsed'\n",
    "deepseek_scores = {row['paper_id'] + '_' + model : row[eval_aspect]['score'] for model, ds in deepseek_eval_results.items() for row in ds}\n",
    "gpt_scores = {row['paper_id'] + '_' + model : row[eval_aspect]['score'] for model, ds in gpt_eval_results.items() for row in ds}\n",
    "print('Correlation on {} is {}'.format(eval_aspect, spearmanr(list(deepseek_scores.values()), list(gpt_scores.values()))))"
   ]
  },
  {
   "cell_type": "code",
   "execution_count": 81,
   "id": "209ffa7f-cb4d-4c03-a064-8fabe2cdb998",
   "metadata": {},
   "outputs": [
    {
     "name": "stdout",
     "output_type": "stream",
     "text": [
      "Correlation on scientific_eval_prompt_scoring_parsed is SignificanceResult(statistic=0.424956699021101, pvalue=1.6254632506459045e-88)\n"
     ]
    }
   ],
   "source": [
    "eval_aspect = 'scientific_eval_prompt_scoring_parsed'\n",
    "deepseek_scores = {row['paper_id'] + '_' + model : row[eval_aspect]['score'] for model, ds in deepseek_eval_results.items() for row in ds}\n",
    "gpt_scores = {row['paper_id'] + '_' + model : row[eval_aspect]['score'] for model, ds in gpt_eval_results.items() for row in ds}\n",
    "print('Correlation on {} is {}'.format(eval_aspect, spearmanr(list(deepseek_scores.values()), list(gpt_scores.values()))))"
   ]
  },
  {
   "cell_type": "code",
   "execution_count": 82,
   "id": "bf0ee57f-8f81-42eb-b985-c3e43f8826b7",
   "metadata": {},
   "outputs": [
    {
     "name": "stdout",
     "output_type": "stream",
     "text": [
      "Correlation on societal_eval_prompt_scoring_parsed is SignificanceResult(statistic=0.3768263847627926, pvalue=1.6939219987298108e-68)\n"
     ]
    }
   ],
   "source": [
    "eval_aspect = 'societal_eval_prompt_scoring_parsed'\n",
    "deepseek_scores = {row['paper_id'] + '_' + model : row[eval_aspect]['score'] for model, ds in deepseek_eval_results.items() for row in ds}\n",
    "gpt_scores = {row['paper_id'] + '_' + model : row[eval_aspect]['score'] for model, ds in gpt_eval_results.items() for row in ds}\n",
    "print('Correlation on {} is {}'.format(eval_aspect, spearmanr(list(deepseek_scores.values()), list(gpt_scores.values()))))"
   ]
  },
  {
   "cell_type": "markdown",
   "id": "23e58ae8-b307-49bb-952d-ae366cce62fb",
   "metadata": {},
   "source": [
    "#### Correlation of what model is better"
   ]
  },
  {
   "cell_type": "code",
   "execution_count": 84,
   "id": "303d1b89-07b2-49c7-a396-4da278f4861b",
   "metadata": {
    "scrolled": true
   },
   "outputs": [
    {
     "data": {
      "text/plain": [
       "{'qwen-baseline': Dataset({\n",
       "     features: ['paper_id', 'paper_title', 'paper_text', 'prompt', 'completion', 'pr-article', 'topic', '__index_level_0__', 'generated_conversation', 'conversation', 'clarity_eval_prompt_scoring_parsed', 'scientific_eval_prompt_scoring_parsed', 'societal_eval_prompt_scoring_parsed'],\n",
       "     num_rows: 500\n",
       " }),\n",
       " 'ft-qwen-on-deepseek': Dataset({\n",
       "     features: ['paper_id', 'paper_title', 'paper_text', 'prompt', 'completion', 'pr-article', 'topic', '__index_level_0__', 'generated_conversation', 'conversation', 'clarity_eval_prompt_scoring_parsed', 'scientific_eval_prompt_scoring_parsed', 'societal_eval_prompt_scoring_parsed'],\n",
       "     num_rows: 500\n",
       " }),\n",
       " 'llama-baseline': Dataset({\n",
       "     features: ['paper_id', 'paper_title', 'paper_text', 'prompt', 'completion', 'pr-article', 'topic', '__index_level_0__', 'generated_conversation', 'conversation', 'clarity_eval_prompt_scoring_parsed', 'scientific_eval_prompt_scoring_parsed', 'societal_eval_prompt_scoring_parsed'],\n",
       "     num_rows: 500\n",
       " }),\n",
       " 'ft-llama-on-deepseek': Dataset({\n",
       "     features: ['paper_id', 'paper_title', 'paper_text', 'prompt', 'completion', 'pr-article', 'topic', '__index_level_0__', 'generated_conversation', 'conversation', 'clarity_eval_prompt_scoring_parsed', 'scientific_eval_prompt_scoring_parsed', 'societal_eval_prompt_scoring_parsed'],\n",
       "     num_rows: 500\n",
       " })}"
      ]
     },
     "execution_count": 84,
     "metadata": {},
     "output_type": "execute_result"
    }
   ],
   "source": [
    "deepseek_eval_results"
   ]
  },
  {
   "cell_type": "code",
   "execution_count": 97,
   "id": "8338c120-2b1c-4a3b-8774-ad96773cde1e",
   "metadata": {
    "scrolled": true
   },
   "outputs": [],
   "source": [
    "eval_aspect    = 'clarity_eval_prompt_scoring_parsed'\n",
    "deepseek_paper_scorings = np.array([[row[eval_aspect]['score'] for row in ds] for model, ds in deepseek_eval_results.items()]).T\n",
    "gpt_paper_scorings = np.array([[row[eval_aspect]['score'] for row in ds] for model, ds in gpt_eval_results.items()]).T"
   ]
  },
  {
   "cell_type": "code",
   "execution_count": 115,
   "id": "7bc9dbdd-9768-45e2-b524-0f1b933bb0d3",
   "metadata": {},
   "outputs": [
    {
     "data": {
      "text/plain": [
       "array([[5, 5, 5, 5],\n",
       "       [5, 5, 5, 5],\n",
       "       [5, 5, 5, 5],\n",
       "       ...,\n",
       "       [5, 5, 5, 5],\n",
       "       [5, 5, 5, 5],\n",
       "       [5, 5, 5, 5]])"
      ]
     },
     "execution_count": 115,
     "metadata": {},
     "output_type": "execute_result"
    }
   ],
   "source": [
    "gpt_paper_scorings"
   ]
  },
  {
   "cell_type": "code",
   "execution_count": 116,
   "id": "9974f7b6-b0ef-4624-9afb-862c2b785796",
   "metadata": {},
   "outputs": [
    {
     "data": {
      "text/plain": [
       "array([[2, 5, 5, 4],\n",
       "       [5, 5, 4, 5],\n",
       "       [5, 3, 4, 4],\n",
       "       ...,\n",
       "       [4, 3, 2, 4],\n",
       "       [4, 4, 5, 4],\n",
       "       [4, 5, 5, 5]])"
      ]
     },
     "execution_count": 116,
     "metadata": {},
     "output_type": "execute_result"
    }
   ],
   "source": [
    "deepseek_paper_scorings"
   ]
  }
 ],
 "metadata": {
  "kernelspec": {
   "display_name": "Python 3 (ipykernel)",
   "language": "python",
   "name": "python3"
  },
  "language_info": {
   "codemirror_mode": {
    "name": "ipython",
    "version": 3
   },
   "file_extension": ".py",
   "mimetype": "text/x-python",
   "name": "python",
   "nbconvert_exporter": "python",
   "pygments_lexer": "ipython3",
   "version": "3.12.8"
  }
 },
 "nbformat": 4,
 "nbformat_minor": 5
}
