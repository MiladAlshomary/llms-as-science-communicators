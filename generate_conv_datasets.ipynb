{
 "cells": [
  {
   "cell_type": "code",
   "execution_count": 1,
   "id": "7d78efec-68b0-47f6-8d88-af0cd01c16fa",
   "metadata": {},
   "outputs": [],
   "source": [
    "%load_ext autoreload\n",
    "import os\n",
    "import sys\n",
    "\n",
    "os.environ['TRANSFORMERS_CACHE'] = '/mnt/swordfish-pool2/milad/hf-cache-new'\n",
    "os.environ['HF_DATASETS_CACHE'] = '/mnt/swordfish-pool2/milad/hf-cache-new'\n",
    "os.environ[\"OPENAI_API_KEY\"]= 'xxx'\n",
    "os.environ['CUDA_VISIBLE_DEVICES'] = '6'\n",
    "sys.path.append('./src-py')"
   ]
  },
  {
   "cell_type": "code",
   "execution_count": 4,
   "id": "53dd6624",
   "metadata": {},
   "outputs": [],
   "source": [
    "import json\n",
    "keys = json.load(open('/local/nlp/milad/code/llms-as-science-communicators/keys.json'))\n",
    "for key, val in keys.items():\n",
    "    os.environ[key] = val"
   ]
  },
  {
   "cell_type": "code",
   "execution_count": 5,
   "id": "d24b5e38-93dc-4098-97de-bb786a750a92",
   "metadata": {
    "scrolled": true
   },
   "outputs": [
    {
     "name": "stderr",
     "output_type": "stream",
     "text": [
      "/mnt/swordfish-pool2/milad/conda-envs/datadreamer/lib/python3.12/site-packages/transformers/utils/hub.py:128: FutureWarning: Using `TRANSFORMERS_CACHE` is deprecated and will be removed in v5 of Transformers. Use `HF_HOME` instead.\n",
      "  warnings.warn(\n"
     ]
    }
   ],
   "source": [
    "import datasets\n",
    "import json\n",
    "import os\n",
    "import numpy as np\n",
    "import pandas as pd\n",
    "import copy\n",
    "import matplotlib.pyplot as plt\n",
    "import re\n",
    "from collections import Counter\n",
    "\n",
    "pd.set_option('display.width', None)\n",
    "pd.set_option('display.max_colwidth', None)\n",
    "\n",
    "\n",
    "%autoreload\n",
    "import utils\n",
    "import datadreamer_generation\n",
    "\n",
    "import tiktoken\n",
    "from transformers import AutoTokenizer"
   ]
  },
  {
   "cell_type": "code",
   "execution_count": 6,
   "id": "8de285da-4e35-4041-8aa8-956e164feb64",
   "metadata": {
    "scrolled": true
   },
   "outputs": [],
   "source": [
    "from huggingface_hub import login\n",
    "\n",
    "login(keys['hf_token'])"
   ]
  },
  {
   "cell_type": "code",
   "execution_count": 7,
   "id": "846f3f93-4394-4627-be70-6bd557823095",
   "metadata": {},
   "outputs": [],
   "source": [
    "output_dir = '/mnt/swordfish-pool2/milad/communicating-science-to-the-public/'"
   ]
  },
  {
   "cell_type": "code",
   "execution_count": 8,
   "id": "e6a4d8a7-48f5-42a8-80f8-757e6a889e5c",
   "metadata": {},
   "outputs": [],
   "source": [
    "gpt_tokenizer = tiktoken.encoding_for_model(\"gpt-3.5-turbo\")\n",
    "llama_tokenizer = AutoTokenizer.from_pretrained(\"meta-llama/Meta-Llama-3-8B\")"
   ]
  },
  {
   "cell_type": "markdown",
   "id": "f0984d25-32ef-4c23-a83c-8c8e901c5282",
   "metadata": {},
   "source": [
    "### Generate the final conversation dataset"
   ]
  },
  {
   "cell_type": "code",
   "execution_count": 7,
   "id": "5e111c89-f846-4cfe-a3bd-4188c5e5516e",
   "metadata": {
    "scrolled": true
   },
   "outputs": [],
   "source": [
    "training_ds = datasets.load_from_disk(output_dir + \"/high_quality_news_dataset\")"
   ]
  },
  {
   "cell_type": "code",
   "execution_count": 8,
   "id": "06206a0d-a260-4af2-b044-8a22ebd8d308",
   "metadata": {},
   "outputs": [
    {
     "data": {
      "text/plain": [
       "19812"
      ]
     },
     "execution_count": 8,
     "metadata": {},
     "output_type": "execute_result"
    }
   ],
   "source": [
    "len(training_ds)"
   ]
  },
  {
   "cell_type": "code",
   "execution_count": 9,
   "id": "04c2c664-2aed-41c3-bc34-15a653ce31a2",
   "metadata": {},
   "outputs": [],
   "source": [
    "all_prompts = utils.get_prompt_compositions()\n",
    "used_prompt = all_prompts[1]"
   ]
  },
  {
   "cell_type": "code",
   "execution_count": null,
   "id": "e84d2372-9dd0-44ef-985c-bd0cdf870937",
   "metadata": {},
   "outputs": [],
   "source": [
    "# output_dir = '/mnt/swordfish-pool2/milad/communicating-science-to-the-public/llama3-final-conv-ds/'\n",
    "# resulted_ds = datadreamer_generation.generate_conversation(output_dir, 'llama3', training_ds, used_prompt, llama_tokenizer, max_input_tokens=5000)\n",
    "# resulted_ds.save_to_disk(output_dir)"
   ]
  },
  {
   "cell_type": "code",
   "execution_count": 104,
   "id": "01909c31-2bc2-446a-a692-bedf649afccb",
   "metadata": {
    "scrolled": true
   },
   "outputs": [],
   "source": [
    "# output_dir = '/mnt/swordfish-pool2/milad/communicating-science-to-the-public/gpt3-final-conv-ds/'\n",
    "# resulted_ds = datadreamer_generation.generate_conversation(output_dir, 'gpt-3', training_ds, used_prompt, gpt_tokenizer)\n",
    "# resulted_ds.save_to_disk(output_dir)"
   ]
  },
  {
   "cell_type": "code",
   "execution_count": null,
   "id": "6be3fad0-168f-46a0-84be-b43f11f35483",
   "metadata": {
    "scrolled": true
   },
   "outputs": [
    {
     "name": "stderr",
     "output_type": "stream",
     "text": [
      "[ \u001b[35m🤖 Data\u001b[33mDr\u001b[31mea\u001b[35mmer\u001b[0m 💤 ] Initialized. 🚀 Dreaming to folder: /mnt/swordfish-pool2/milad/communicating-science-to-the-public/deepseek-final-conv-ds/composite-na-pr-guided\n",
      "[ \u001b[35m🤖 Data\u001b[33mDr\u001b[31mea\u001b[35mmer\u001b[0m 💤 ] Step 'documents' was previously run and saved, but was outdated. 😞\n",
      "[ \u001b[35m🤖 Data\u001b[33mDr\u001b[31mea\u001b[35mmer\u001b[0m 💤 ] Step 'documents' is running. ⏳\n",
      "[ \u001b[35m🤖 Data\u001b[33mDr\u001b[31mea\u001b[35mmer\u001b[0m 💤 ] Step 'documents' finished and is saved to disk. 🎉\n",
      "[ \u001b[35m🤖 Data\u001b[33mDr\u001b[31mea\u001b[35mmer\u001b[0m 💤 ] Step 'documents (map)' is running. ⏳\n",
      "[ \u001b[35m🤖 Data\u001b[33mDr\u001b[31mea\u001b[35mmer\u001b[0m 💤 ] Step 'documents (map)' will run lazily. 🥱\n",
      "/local/nlp/milad/code/communicating-science-to-the-public/src/datadreamer_generation.py:159: UserWarning: You did not specify `total_num_rows`, so we cannot automatically update the progress % for this step. Either specify map(..., total_num_rows=#) or, to disable this warning, specify map(.., auto_progress = False)\n",
      "  datasource = datasource.map(lambda row: {'inputs_len': len(encoding.encode(row['inputs']))})\n",
      "[ \u001b[35m🤖 Data\u001b[33mDr\u001b[31mea\u001b[35mmer\u001b[0m 💤 ] Step 'documents (map) (map)' is running. ⏳\n",
      "[ \u001b[35m🤖 Data\u001b[33mDr\u001b[31mea\u001b[35mmer\u001b[0m 💤 ] Step 'documents (map) (map)' will run lazily. 🥱\n",
      "/local/nlp/milad/code/communicating-science-to-the-public/src/datadreamer_generation.py:160: UserWarning: You did not specify `total_num_rows`, so we cannot automatically update the progress % for this step. Either specify filter(..., total_num_rows=#) or, to disable this warning, specify filter(.., auto_progress = False)\n",
      "  datasource = datasource.filter(lambda row: row['inputs_len'] < max_input_tokens)\n",
      "[ \u001b[35m🤖 Data\u001b[33mDr\u001b[31mea\u001b[35mmer\u001b[0m 💤 ] Step 'documents (map) (map) (filter)' is running. ⏳\n",
      "[ \u001b[35m🤖 Data\u001b[33mDr\u001b[31mea\u001b[35mmer\u001b[0m 💤 ] Step 'documents (map) (map) (filter)' will run lazily. 🥱\n",
      "[ \u001b[35m🤖 Data\u001b[33mDr\u001b[31mea\u001b[35mmer\u001b[0m 💤 ] Step 'generate conversations' was previously run and saved, but was outdated. 😞\n",
      "[ \u001b[35m🤖 Data\u001b[33mDr\u001b[31mea\u001b[35mmer\u001b[0m 💤 ] Step 'generate conversations' is running. ⏳\n"
     ]
    }
   ],
   "source": [
    "output_dir = '/mnt/swordfish-pool2/milad/communicating-science-to-the-public/deepseek-final-conv-ds/'\n",
    "resulted_ds = datadreamer_generation.generate_conversation(output_dir, 'deepseek-r1', training_ds, used_prompt, gpt_tokenizer, max_input_tokens=5000)\n",
    "resulted_ds.save_to_disk(output_dir)"
   ]
  },
  {
   "cell_type": "markdown",
   "id": "cf5af8c6-7337-4985-9b2c-50ed8a8cabbc",
   "metadata": {},
   "source": [
    "### Cleaning up the corpus:"
   ]
  },
  {
   "cell_type": "code",
   "execution_count": 10,
   "id": "a17d996d-477a-4707-aee2-adc41ee4454a",
   "metadata": {},
   "outputs": [],
   "source": [
    "deepseek_conv_ds = datasets.load_from_disk('/mnt/swordfish-pool2/milad/communicating-science-to-the-public/deepseek-final-conv-ds')"
   ]
  },
  {
   "cell_type": "code",
   "execution_count": 11,
   "id": "20c34d74-d567-4442-85b5-5d1ee798f00b",
   "metadata": {},
   "outputs": [
    {
     "data": {
      "text/plain": [
       "Dataset({\n",
       "    features: ['id', 'pr-title', 'pr-article', 'pr-summary', 'sc-title', 'sc-article', 'sc-abstract', 'sc-section_names', 'sc-sections', 'sc-authors', 'source', 'Topic', 'Citation', 'Paper_URL', 'News_URL', 'pr-summary-and-article', 'parsed-pr-article', 'societal_eval_prompt_scoring_parsed', 'scientific_eval_prompt_scoring_parsed', 'clarity_eval_prompt_scoring_parsed', 'avg_quality_score', 'sc-intro', 'inputs', 'inputs_len', 'conversation', 'parsed_conv'],\n",
       "    num_rows: 19452\n",
       "})"
      ]
     },
     "execution_count": 11,
     "metadata": {},
     "output_type": "execute_result"
    }
   ],
   "source": [
    "deepseek_conv_ds"
   ]
  },
  {
   "cell_type": "code",
   "execution_count": 12,
   "id": "aec86b4f-67b8-4294-8f40-e2016331415a",
   "metadata": {},
   "outputs": [],
   "source": [
    "deepseek_conv_ds = deepseek_conv_ds.filter(lambda row: '</think>' in row['conversation'])"
   ]
  },
  {
   "cell_type": "code",
   "execution_count": 13,
   "id": "03139251-2cf6-4405-aa6d-49028001d6af",
   "metadata": {},
   "outputs": [
    {
     "data": {
      "text/plain": [
       "Dataset({\n",
       "    features: ['id', 'pr-title', 'pr-article', 'pr-summary', 'sc-title', 'sc-article', 'sc-abstract', 'sc-section_names', 'sc-sections', 'sc-authors', 'source', 'Topic', 'Citation', 'Paper_URL', 'News_URL', 'pr-summary-and-article', 'parsed-pr-article', 'societal_eval_prompt_scoring_parsed', 'scientific_eval_prompt_scoring_parsed', 'clarity_eval_prompt_scoring_parsed', 'avg_quality_score', 'sc-intro', 'inputs', 'inputs_len', 'conversation', 'parsed_conv'],\n",
       "    num_rows: 14772\n",
       "})"
      ]
     },
     "execution_count": 13,
     "metadata": {},
     "output_type": "execute_result"
    }
   ],
   "source": [
    "deepseek_conv_ds"
   ]
  },
  {
   "cell_type": "code",
   "execution_count": 14,
   "id": "401d15b1-26d0-4aad-9d37-21e0923c015f",
   "metadata": {},
   "outputs": [
    {
     "data": {
      "application/vnd.jupyter.widget-view+json": {
       "model_id": "857b573756e7429c9c1b7fb57d1c05ee",
       "version_major": 2,
       "version_minor": 0
      },
      "text/plain": [
       "Saving the dataset (0/4 shards):   0%|          | 0/14772 [00:00<?, ? examples/s]"
      ]
     },
     "metadata": {},
     "output_type": "display_data"
    }
   ],
   "source": [
    "deepseek_conv_ds.save_to_disk('/mnt/swordfish-pool2/milad/communicating-science-to-the-public/deepseek-final-conv-ds-cleaned')"
   ]
  },
  {
   "cell_type": "code",
   "execution_count": 14,
   "id": "bcc28f28",
   "metadata": {},
   "outputs": [
    {
     "data": {
      "application/vnd.jupyter.widget-view+json": {
       "model_id": "a8a1f2d85921470cbc00418b61fb486c",
       "version_major": 2,
       "version_minor": 0
      },
      "text/plain": [
       "Uploading the dataset shards:   0%|          | 0/4 [00:00<?, ?it/s]"
      ]
     },
     "metadata": {},
     "output_type": "display_data"
    },
    {
     "data": {
      "application/vnd.jupyter.widget-view+json": {
       "model_id": "076b257746ab41fa935bb1d60e2a646b",
       "version_major": 2,
       "version_minor": 0
      },
      "text/plain": [
       "Creating parquet from Arrow format:   0%|          | 0/4 [00:00<?, ?ba/s]"
      ]
     },
     "metadata": {},
     "output_type": "display_data"
    },
    {
     "data": {
      "application/vnd.jupyter.widget-view+json": {
       "model_id": "e748ea8f598a4b218bce880e3cb83e9f",
       "version_major": 2,
       "version_minor": 0
      },
      "text/plain": [
       "Creating parquet from Arrow format:   0%|          | 0/4 [00:00<?, ?ba/s]"
      ]
     },
     "metadata": {},
     "output_type": "display_data"
    },
    {
     "data": {
      "application/vnd.jupyter.widget-view+json": {
       "model_id": "c276d2b3245444e5a98e7adcd70a7667",
       "version_major": 2,
       "version_minor": 0
      },
      "text/plain": [
       "Creating parquet from Arrow format:   0%|          | 0/4 [00:00<?, ?ba/s]"
      ]
     },
     "metadata": {},
     "output_type": "display_data"
    },
    {
     "data": {
      "application/vnd.jupyter.widget-view+json": {
       "model_id": "f2105b3e8c17462db29d4189974703f0",
       "version_major": 2,
       "version_minor": 0
      },
      "text/plain": [
       "Creating parquet from Arrow format:   0%|          | 0/4 [00:00<?, ?ba/s]"
      ]
     },
     "metadata": {},
     "output_type": "display_data"
    },
    {
     "data": {
      "text/plain": [
       "CommitInfo(commit_url='https://huggingface.co/datasets/miladalsh/deepseek-final-conv-ds-cleaned/commit/a3ba7e41095bd963a5f782bb05da7fa2f4068ee4', commit_message='Upload dataset', commit_description='', oid='a3ba7e41095bd963a5f782bb05da7fa2f4068ee4', pr_url=None, repo_url=RepoUrl('https://huggingface.co/datasets/miladalsh/deepseek-final-conv-ds-cleaned', endpoint='https://huggingface.co', repo_type='dataset', repo_id='miladalsh/deepseek-final-conv-ds-cleaned'), pr_revision=None, pr_num=None)"
      ]
     },
     "execution_count": 14,
     "metadata": {},
     "output_type": "execute_result"
    }
   ],
   "source": [
    "deepseek_conv_ds.push_to_hub(\"miladalsh/deepseek-final-conv-ds-cleaned\")"
   ]
  },
  {
   "cell_type": "code",
   "execution_count": 15,
   "id": "1726feba",
   "metadata": {},
   "outputs": [
    {
     "data": {
      "text/plain": [
       "Dataset({\n",
       "    features: ['id', 'pr-title', 'pr-article', 'pr-summary', 'sc-title', 'sc-article', 'sc-abstract', 'sc-section_names', 'sc-sections', 'sc-authors', 'source', 'Topic', 'Citation', 'Paper_URL', 'News_URL', 'pr-summary-and-article', 'parsed-pr-article', 'societal_eval_prompt_scoring_parsed', 'scientific_eval_prompt_scoring_parsed', 'clarity_eval_prompt_scoring_parsed', 'avg_quality_score', 'sc-intro', 'inputs', 'inputs_len', 'conversation', 'parsed_conv'],\n",
       "    num_rows: 14772\n",
       "})"
      ]
     },
     "execution_count": 15,
     "metadata": {},
     "output_type": "execute_result"
    }
   ],
   "source": [
    "deepseek_conv_ds"
   ]
  },
  {
   "cell_type": "code",
   "execution_count": 17,
   "id": "f5d2addc",
   "metadata": {},
   "outputs": [
    {
     "data": {
      "text/plain": [
       "['Medicine',\n",
       " 'Medicine',\n",
       " 'Medicine',\n",
       " 'Nano',\n",
       " 'Medicine',\n",
       " 'Earth',\n",
       " 'Biology',\n",
       " 'Medicine',\n",
       " 'Chemistry',\n",
       " 'Biology']"
      ]
     },
     "execution_count": 17,
     "metadata": {},
     "output_type": "execute_result"
    }
   ],
   "source": [
    "deepseek_conv_ds['Topic'][:10]"
   ]
  },
  {
   "cell_type": "code",
   "execution_count": null,
   "id": "d4eed16b",
   "metadata": {},
   "outputs": [],
   "source": []
  }
 ],
 "metadata": {
  "kernelspec": {
   "display_name": "Python 3 (ipykernel)",
   "language": "python",
   "name": "python3"
  },
  "language_info": {
   "codemirror_mode": {
    "name": "ipython",
    "version": 3
   },
   "file_extension": ".py",
   "mimetype": "text/x-python",
   "name": "python",
   "nbconvert_exporter": "python",
   "pygments_lexer": "ipython3",
   "version": "3.12.8"
  }
 },
 "nbformat": 4,
 "nbformat_minor": 5
}
