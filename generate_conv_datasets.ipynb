{
 "cells": [
  {
   "cell_type": "code",
   "execution_count": 1,
   "id": "7d78efec-68b0-47f6-8d88-af0cd01c16fa",
   "metadata": {},
   "outputs": [],
   "source": [
    "%load_ext autoreload\n",
    "import os\n",
    "import sys\n",
    "\n",
    "os.environ['TRANSFORMERS_CACHE'] = '/mnt/swordfish-pool2/milad/hf-cache-new'\n",
    "os.environ['HF_DATASETS_CACHE'] = '/mnt/swordfish-pool2/milad/hf-cache-new'\n",
    "os.environ[\"OPENAI_API_KEY\"]= 'xxx'\n",
    "os.environ['CUDA_VISIBLE_DEVICES'] = '6'\n",
    "sys.path.append('./src-py')"
   ]
  },
  {
   "cell_type": "code",
   "execution_count": null,
   "id": "53dd6624",
   "metadata": {},
   "outputs": [],
   "source": [
    "import json\n",
    "keys = json.load(open('../keys.json'))\n",
    "for key, val in keys.items():\n",
    "    os.environ[key] = val"
   ]
  },
  {
   "cell_type": "code",
   "execution_count": 2,
   "id": "d24b5e38-93dc-4098-97de-bb786a750a92",
   "metadata": {
    "scrolled": true
   },
   "outputs": [
    {
     "name": "stderr",
     "output_type": "stream",
     "text": [
      "/mnt/swordfish-pool2/milad/conda-envs/datadreamer/lib/python3.12/site-packages/transformers/utils/hub.py:128: FutureWarning: Using `TRANSFORMERS_CACHE` is deprecated and will be removed in v5 of Transformers. Use `HF_HOME` instead.\n",
      "  warnings.warn(\n"
     ]
    },
    {
     "ename": "AttributeError",
     "evalue": "module 'os' has no attribute 'env'",
     "output_type": "error",
     "traceback": [
      "\u001b[0;31m---------------------------------------------------------------------------\u001b[0m",
      "\u001b[0;31mAttributeError\u001b[0m                            Traceback (most recent call last)",
      "Cell \u001b[0;32mIn[2], line 17\u001b[0m\n\u001b[1;32m     15\u001b[0m get_ipython()\u001b[38;5;241m.\u001b[39mrun_line_magic(\u001b[38;5;124m'\u001b[39m\u001b[38;5;124mautoreload\u001b[39m\u001b[38;5;124m'\u001b[39m, \u001b[38;5;124m'\u001b[39m\u001b[38;5;124m'\u001b[39m)\n\u001b[1;32m     16\u001b[0m \u001b[38;5;28;01mimport\u001b[39;00m\u001b[38;5;250m \u001b[39m\u001b[38;5;21;01mutils\u001b[39;00m\n\u001b[0;32m---> 17\u001b[0m \u001b[38;5;28;01mimport\u001b[39;00m\u001b[38;5;250m \u001b[39m\u001b[38;5;21;01mdatadreamer_generation\u001b[39;00m\n\u001b[1;32m     19\u001b[0m \u001b[38;5;28;01mimport\u001b[39;00m\u001b[38;5;250m \u001b[39m\u001b[38;5;21;01mtiktoken\u001b[39;00m\n\u001b[1;32m     20\u001b[0m \u001b[38;5;28;01mfrom\u001b[39;00m\u001b[38;5;250m \u001b[39m\u001b[38;5;21;01mtransformers\u001b[39;00m\u001b[38;5;250m \u001b[39m\u001b[38;5;28;01mimport\u001b[39;00m AutoTokenizer\n",
      "File \u001b[0;32m/local/nlp/milad/code/llms-as-science-communicators/src-py/datadreamer_generation.py:39\u001b[0m\n\u001b[1;32m     33\u001b[0m deepseek_r1 \u001b[38;5;241m=\u001b[39m OpenAI(model_name\u001b[38;5;241m=\u001b[39m\u001b[38;5;124m\"\u001b[39m\u001b[38;5;124mdeepseek-ai/DeepSeek-R1-Distill-Qwen-14B\u001b[39m\u001b[38;5;124m\"\u001b[39m, api_key\u001b[38;5;241m=\u001b[39m\u001b[38;5;124m'\u001b[39m\u001b[38;5;124m'\u001b[39m, base_url\u001b[38;5;241m=\u001b[39m\u001b[38;5;124m\"\u001b[39m\u001b[38;5;124mhttp://localhost:9988/v1\u001b[39m\u001b[38;5;124m\"\u001b[39m)\n\u001b[1;32m     35\u001b[0m llama3 \u001b[38;5;241m=\u001b[39m OpenAI(model_name\u001b[38;5;241m=\u001b[39m\u001b[38;5;124m\"\u001b[39m\u001b[38;5;124mmeta-llama/Meta-Llama-3-8B-Instruct\u001b[39m\u001b[38;5;124m\"\u001b[39m, api_key\u001b[38;5;241m=\u001b[39m\u001b[38;5;124m'\u001b[39m\u001b[38;5;124m'\u001b[39m, base_url\u001b[38;5;241m=\u001b[39m\u001b[38;5;124m\"\u001b[39m\u001b[38;5;124mhttp://localhost:9977/v1\u001b[39m\u001b[38;5;124m\"\u001b[39m)\n\u001b[0;32m---> 39\u001b[0m gpt3 \u001b[38;5;241m=\u001b[39m OpenAI(model_name\u001b[38;5;241m=\u001b[39m\u001b[38;5;124m\"\u001b[39m\u001b[38;5;124mgpt-3.5-turbo\u001b[39m\u001b[38;5;124m\"\u001b[39m, api_key\u001b[38;5;241m=\u001b[39m\u001b[43mos\u001b[49m\u001b[38;5;241;43m.\u001b[39;49m\u001b[43menv\u001b[49m[\u001b[38;5;124m'\u001b[39m\u001b[38;5;124mOPENAI_API_KEY\u001b[39m\u001b[38;5;124m'\u001b[39m])\n\u001b[1;32m     40\u001b[0m gpt4 \u001b[38;5;241m=\u001b[39m OpenAI(model_name\u001b[38;5;241m=\u001b[39m\u001b[38;5;124m\"\u001b[39m\u001b[38;5;124mgpt-4\u001b[39m\u001b[38;5;124m\"\u001b[39m, api_key\u001b[38;5;241m=\u001b[39mos\u001b[38;5;241m.\u001b[39menv[\u001b[38;5;124m'\u001b[39m\u001b[38;5;124mOPENAI_API_KEY\u001b[39m\u001b[38;5;124m'\u001b[39m])\n\u001b[1;32m     43\u001b[0m gpt_tokenizer \u001b[38;5;241m=\u001b[39m tiktoken\u001b[38;5;241m.\u001b[39mencoding_for_model(\u001b[38;5;124m\"\u001b[39m\u001b[38;5;124mgpt-3.5-turbo\u001b[39m\u001b[38;5;124m\"\u001b[39m)\n",
      "\u001b[0;31mAttributeError\u001b[0m: module 'os' has no attribute 'env'"
     ]
    }
   ],
   "source": [
    "import datasets\n",
    "import json\n",
    "import os\n",
    "import numpy as np\n",
    "import pandas as pd\n",
    "import copy\n",
    "import matplotlib.pyplot as plt\n",
    "import re\n",
    "from collections import Counter\n",
    "\n",
    "pd.set_option('display.width', None)\n",
    "pd.set_option('display.max_colwidth', None)\n",
    "\n",
    "\n",
    "%autoreload\n",
    "import utils\n",
    "import datadreamer_generation\n",
    "\n",
    "import tiktoken\n",
    "from transformers import AutoTokenizer"
   ]
  },
  {
   "cell_type": "code",
   "execution_count": 3,
   "id": "8de285da-4e35-4041-8aa8-956e164feb64",
   "metadata": {
    "scrolled": true
   },
   "outputs": [],
   "source": [
    "from huggingface_hub import login\n",
    "\n",
    "login(keys['hf_token'])"
   ]
  },
  {
   "cell_type": "code",
   "execution_count": 4,
   "id": "846f3f93-4394-4627-be70-6bd557823095",
   "metadata": {},
   "outputs": [],
   "source": [
    "utils.llm_to_use='llama3'\n",
    "output_dir = '/mnt/swordfish-pool2/milad/communicating-science-to-the-public/'"
   ]
  },
  {
   "cell_type": "code",
   "execution_count": 5,
   "id": "e6a4d8a7-48f5-42a8-80f8-757e6a889e5c",
   "metadata": {},
   "outputs": [],
   "source": [
    "gpt_tokenizer = tiktoken.encoding_for_model(\"gpt-3.5-turbo\")\n",
    "llama_tokenizer = AutoTokenizer.from_pretrained(\"meta-llama/Meta-Llama-3-8B\")"
   ]
  },
  {
   "cell_type": "code",
   "execution_count": 6,
   "id": "45caed8f-1e2c-4255-8f2a-74b31f1cb22c",
   "metadata": {},
   "outputs": [],
   "source": [
    "output_dir = '/mnt/swordfish-pool2/milad/communicating-science-to-the-public/'"
   ]
  },
  {
   "cell_type": "markdown",
   "id": "f0984d25-32ef-4c23-a83c-8c8e901c5282",
   "metadata": {},
   "source": [
    "## Generate the final conversation dataset"
   ]
  },
  {
   "cell_type": "code",
   "execution_count": 7,
   "id": "5e111c89-f846-4cfe-a3bd-4188c5e5516e",
   "metadata": {
    "scrolled": true
   },
   "outputs": [],
   "source": [
    "training_ds = datasets.load_from_disk(output_dir + \"/high_quality_news_dataset\")"
   ]
  },
  {
   "cell_type": "code",
   "execution_count": 8,
   "id": "06206a0d-a260-4af2-b044-8a22ebd8d308",
   "metadata": {},
   "outputs": [
    {
     "data": {
      "text/plain": [
       "19812"
      ]
     },
     "execution_count": 8,
     "metadata": {},
     "output_type": "execute_result"
    }
   ],
   "source": [
    "len(training_ds)"
   ]
  },
  {
   "cell_type": "code",
   "execution_count": 9,
   "id": "04c2c664-2aed-41c3-bc34-15a653ce31a2",
   "metadata": {},
   "outputs": [],
   "source": [
    "all_prompts = utils.get_prompt_compositions()"
   ]
  },
  {
   "cell_type": "code",
   "execution_count": 10,
   "id": "fbf796bc-c124-48de-a0e3-671085c3c1fe",
   "metadata": {},
   "outputs": [],
   "source": [
    "used_prompt = all_prompts[1]"
   ]
  },
  {
   "cell_type": "code",
   "execution_count": null,
   "id": "e84d2372-9dd0-44ef-985c-bd0cdf870937",
   "metadata": {},
   "outputs": [],
   "source": [
    "# output_dir = '/mnt/swordfish-pool2/milad/communicating-science-to-the-public/llama3-final-conv-ds/'\n",
    "# resulted_ds = datadreamer_generation.generate_conversation(output_dir, 'llama3', training_ds, used_prompt, llama_tokenizer, max_input_tokens=5000)\n",
    "# resulted_ds.save_to_disk(output_dir)"
   ]
  },
  {
   "cell_type": "code",
   "execution_count": 104,
   "id": "01909c31-2bc2-446a-a692-bedf649afccb",
   "metadata": {
    "scrolled": true
   },
   "outputs": [],
   "source": [
    "# output_dir = '/mnt/swordfish-pool2/milad/communicating-science-to-the-public/gpt3-final-conv-ds/'\n",
    "# resulted_ds = datadreamer_generation.generate_conversation(output_dir, 'gpt-3', training_ds, used_prompt, gpt_tokenizer)\n",
    "# resulted_ds.save_to_disk(output_dir)"
   ]
  },
  {
   "cell_type": "code",
   "execution_count": 48,
   "id": "8c931df0-07be-4131-ba37-e80c726a0005",
   "metadata": {},
   "outputs": [],
   "source": [
    "#sample_training_ds = training_ds.select(range(10,20))"
   ]
  },
  {
   "cell_type": "code",
   "execution_count": null,
   "id": "6be3fad0-168f-46a0-84be-b43f11f35483",
   "metadata": {
    "scrolled": true
   },
   "outputs": [
    {
     "name": "stderr",
     "output_type": "stream",
     "text": [
      "[ \u001b[35m🤖 Data\u001b[33mDr\u001b[31mea\u001b[35mmer\u001b[0m 💤 ] Initialized. 🚀 Dreaming to folder: /mnt/swordfish-pool2/milad/communicating-science-to-the-public/deepseek-final-conv-ds/composite-na-pr-guided\n",
      "[ \u001b[35m🤖 Data\u001b[33mDr\u001b[31mea\u001b[35mmer\u001b[0m 💤 ] Step 'documents' was previously run and saved, but was outdated. 😞\n",
      "[ \u001b[35m🤖 Data\u001b[33mDr\u001b[31mea\u001b[35mmer\u001b[0m 💤 ] Step 'documents' is running. ⏳\n",
      "[ \u001b[35m🤖 Data\u001b[33mDr\u001b[31mea\u001b[35mmer\u001b[0m 💤 ] Step 'documents' finished and is saved to disk. 🎉\n",
      "[ \u001b[35m🤖 Data\u001b[33mDr\u001b[31mea\u001b[35mmer\u001b[0m 💤 ] Step 'documents (map)' is running. ⏳\n",
      "[ \u001b[35m🤖 Data\u001b[33mDr\u001b[31mea\u001b[35mmer\u001b[0m 💤 ] Step 'documents (map)' will run lazily. 🥱\n",
      "/local/nlp/milad/code/communicating-science-to-the-public/src/datadreamer_generation.py:159: UserWarning: You did not specify `total_num_rows`, so we cannot automatically update the progress % for this step. Either specify map(..., total_num_rows=#) or, to disable this warning, specify map(.., auto_progress = False)\n",
      "  datasource = datasource.map(lambda row: {'inputs_len': len(encoding.encode(row['inputs']))})\n",
      "[ \u001b[35m🤖 Data\u001b[33mDr\u001b[31mea\u001b[35mmer\u001b[0m 💤 ] Step 'documents (map) (map)' is running. ⏳\n",
      "[ \u001b[35m🤖 Data\u001b[33mDr\u001b[31mea\u001b[35mmer\u001b[0m 💤 ] Step 'documents (map) (map)' will run lazily. 🥱\n",
      "/local/nlp/milad/code/communicating-science-to-the-public/src/datadreamer_generation.py:160: UserWarning: You did not specify `total_num_rows`, so we cannot automatically update the progress % for this step. Either specify filter(..., total_num_rows=#) or, to disable this warning, specify filter(.., auto_progress = False)\n",
      "  datasource = datasource.filter(lambda row: row['inputs_len'] < max_input_tokens)\n",
      "[ \u001b[35m🤖 Data\u001b[33mDr\u001b[31mea\u001b[35mmer\u001b[0m 💤 ] Step 'documents (map) (map) (filter)' is running. ⏳\n",
      "[ \u001b[35m🤖 Data\u001b[33mDr\u001b[31mea\u001b[35mmer\u001b[0m 💤 ] Step 'documents (map) (map) (filter)' will run lazily. 🥱\n",
      "[ \u001b[35m🤖 Data\u001b[33mDr\u001b[31mea\u001b[35mmer\u001b[0m 💤 ] Step 'generate conversations' was previously run and saved, but was outdated. 😞\n",
      "[ \u001b[35m🤖 Data\u001b[33mDr\u001b[31mea\u001b[35mmer\u001b[0m 💤 ] Step 'generate conversations' is running. ⏳\n"
     ]
    }
   ],
   "source": [
    "output_dir = '/mnt/swordfish-pool2/milad/communicating-science-to-the-public/deepseek-final-conv-ds/'\n",
    "resulted_ds = datadreamer_generation.generate_conversation(output_dir, 'deepseek-r1', training_ds, used_prompt, gpt_tokenizer, max_input_tokens=5000)\n",
    "resulted_ds.save_to_disk(output_dir)"
   ]
  },
  {
   "cell_type": "code",
   "execution_count": null,
   "id": "41e64a5c-51b4-45a3-9109-dd9e10c95536",
   "metadata": {
    "scrolled": true
   },
   "outputs": [],
   "source": [
    "# output_dir = '/mnt/swordfish-pool2/milad/communicating-science-to-the-public/gpt3-final-conv-ds/'\n",
    "# resulted_ds = datadreamer_generation.generate_conversation(output_dir, 'gpt-3', training_ds, used_prompt, gpt_tokenizer, max_input_tokens=5000)\n",
    "# resulted_ds.save_to_disk(output_dir)"
   ]
  },
  {
   "cell_type": "code",
   "execution_count": null,
   "id": "a124019d-53e0-4680-a6e2-1e7a0a08be63",
   "metadata": {
    "scrolled": true
   },
   "outputs": [
    {
     "name": "stderr",
     "output_type": "stream",
     "text": [
      "[ \u001b[35m🤖 Data\u001b[33mDr\u001b[31mea\u001b[35mmer\u001b[0m 💤 ] Initialized. 🚀 Dreaming to folder: /mnt/swordfish-pool2/milad/communicating-science-to-the-public/llama3-final-conv-ds/composite-na-pr-guided\n",
      "[ \u001b[35m🤖 Data\u001b[33mDr\u001b[31mea\u001b[35mmer\u001b[0m 💤 ] Step 'documents' was previously run and saved, but was outdated. 😞\n",
      "[ \u001b[35m🤖 Data\u001b[33mDr\u001b[31mea\u001b[35mmer\u001b[0m 💤 ] Step 'documents' is running. ⏳\n",
      "[ \u001b[35m🤖 Data\u001b[33mDr\u001b[31mea\u001b[35mmer\u001b[0m 💤 ] Step 'documents' finished and is saved to disk. 🎉\n",
      "[ \u001b[35m🤖 Data\u001b[33mDr\u001b[31mea\u001b[35mmer\u001b[0m 💤 ] Step 'documents (map)' is running. ⏳\n",
      "[ \u001b[35m🤖 Data\u001b[33mDr\u001b[31mea\u001b[35mmer\u001b[0m 💤 ] Step 'documents (map)' will run lazily. 🥱\n",
      "/home/ma4608/communicating-science-to-the-public/./src/datadreamer_generation.py:130: UserWarning: You did not specify `total_num_rows`, so we cannot automatically update the progress % for this step. Either specify map(..., total_num_rows=#) or, to disable this warning, specify map(.., auto_progress = False)\n",
      "  datasource = datasource.map(lambda row: {'inputs_len': len(encoding.encode(row['inputs']))})\n",
      "[ \u001b[35m🤖 Data\u001b[33mDr\u001b[31mea\u001b[35mmer\u001b[0m 💤 ] Step 'documents (map) (map)' is running. ⏳\n",
      "[ \u001b[35m🤖 Data\u001b[33mDr\u001b[31mea\u001b[35mmer\u001b[0m 💤 ] Step 'documents (map) (map)' will run lazily. 🥱\n",
      "/home/ma4608/communicating-science-to-the-public/./src/datadreamer_generation.py:131: UserWarning: You did not specify `total_num_rows`, so we cannot automatically update the progress % for this step. Either specify filter(..., total_num_rows=#) or, to disable this warning, specify filter(.., auto_progress = False)\n",
      "  datasource = datasource.filter(lambda row: row['inputs_len'] < max_input_tokens)\n",
      "[ \u001b[35m🤖 Data\u001b[33mDr\u001b[31mea\u001b[35mmer\u001b[0m 💤 ] Step 'documents (map) (map) (filter)' is running. ⏳\n",
      "[ \u001b[35m🤖 Data\u001b[33mDr\u001b[31mea\u001b[35mmer\u001b[0m 💤 ] Step 'documents (map) (map) (filter)' will run lazily. 🥱\n",
      "[ \u001b[35m🤖 Data\u001b[33mDr\u001b[31mea\u001b[35mmer\u001b[0m 💤 ] Step 'generate conversations' was previously run and saved, but was outdated. 😞\n",
      "[ \u001b[35m🤖 Data\u001b[33mDr\u001b[31mea\u001b[35mmer\u001b[0m 💤 ] Step 'generate conversations' is running. ⏳\n",
      "/mnt/swordfish-pool2/milad/conda-envs/gpu-env/lib/python3.11/site-packages/bitsandbytes/autograd/_functions.py:316: UserWarning: MatMul8bitLt: inputs will be cast from torch.bfloat16 to float16 during quantization\n",
      "  warnings.warn(f\"MatMul8bitLt: inputs will be cast from {A.dtype} to float16 during quantization\")\n",
      "[ \u001b[35m🤖 Data\u001b[33mDr\u001b[31mea\u001b[35mmer\u001b[0m 💤 ] Step 'generate conversations' progress: 57 row(s) 🔄\n",
      "[ \u001b[35m🤖 Data\u001b[33mDr\u001b[31mea\u001b[35mmer\u001b[0m 💤 ] Step 'generate conversations' progress: 84 row(s) 🔄\n",
      "[ \u001b[35m🤖 Data\u001b[33mDr\u001b[31mea\u001b[35mmer\u001b[0m 💤 ] Step 'generate conversations' progress: 108 row(s) 🔄\n",
      "[ \u001b[35m🤖 Data\u001b[33mDr\u001b[31mea\u001b[35mmer\u001b[0m 💤 ] Step 'generate conversations' progress: 130 row(s) 🔄\n",
      "[ \u001b[35m🤖 Data\u001b[33mDr\u001b[31mea\u001b[35mmer\u001b[0m 💤 ] Step 'generate conversations' progress: 154 row(s) 🔄\n"
     ]
    }
   ],
   "source": [
    "output_dir = '/mnt/swordfish-pool2/milad/communicating-science-to-the-public/llama3-final-conv-ds/'\n",
    "resulted_ds = datadreamer_generation.generate_conversation(output_dir, 'llama3', training_ds, used_prompt, llama_tokenizer, max_input_tokens=5000, max_new_tokens=2000)\n",
    "resulted_ds.save_to_disk(output_dir)"
   ]
  },
  {
   "cell_type": "code",
   "execution_count": 23,
   "id": "0cdf5ea3-ce5e-470a-841e-fa40a5d409fd",
   "metadata": {},
   "outputs": [
    {
     "data": {
      "text/plain": [
       "19452"
      ]
     },
     "execution_count": 23,
     "metadata": {},
     "output_type": "execute_result"
    }
   ],
   "source": [
    "len(resulted_ds)"
   ]
  },
  {
   "cell_type": "code",
   "execution_count": 25,
   "id": "89728602-fff9-43f6-9bf3-fb160023fe36",
   "metadata": {
    "scrolled": true
   },
   "outputs": [
    {
     "name": "stdout",
     "output_type": "stream",
     "text": [
      "The conversation should be in English.\n",
      "\n",
      "</think>\n",
      "\n",
      "**Journalist:** Dr. Beatty, your study published in *Nature* reveals that hepatocytes play a central role in creating a pro-metastatic niche in the liver. Can you explain how this discovery changes our understanding of how cancer spreads to the liver?\n",
      "\n",
      "**Researcher (Gregory L. Beatty):** Thank you for the question. Our study indeed shows that hepatocytes, which are the primary functional cells of the liver, are key players in creating an environment that facilitates cancer metastasis. Previously, it was thought that the liver's susceptibility to metastasis was mainly due to mechanical trapping of circulating tumor cells. However, our research demonstrates that hepatocytes actively contribute to this process by activating STAT3 signaling, which leads to the production of SAA proteins. These proteins remodel the liver microenvironment, making it more receptive to metastatic cancer cells. This finding shifts the paradigm from a passive trapping mechanism to an active, hepatocyte-driven process.\n",
      "\n",
      "**Journalist:** The study mentions that blocking IL-6 can limit liver metastasis. How significant is this finding, and what potential therapies could this lead to?\n",
      "\n",
      "**Researcher:** The role of IL-6 in driving the STAT3-SAA pathway is crucial. By blocking IL-6, we can disrupt the formation of the pro-metastatic niche in the liver. This suggests that therapies targeting IL-6 or its downstream effects could be effective in preventing or reducing liver metastasis. For example, using antibodies that block the IL-6 receptor or inhibiting STAT3 signaling could potentially be developed into treatments. These approaches could be particularly beneficial for patients with pancreatic, colorectal, or lung cancers, which commonly metastasize to the liver.\n",
      "\n",
      "**Journalist:** The study also highlights the importance of the liver as a sensor of inflammation. How does this insight help us understand the broader implications of chronic inflammation in cancer progression?\n",
      "\n",
      "**Researcher:** The liver's role as a sensor of inflammation is vital because it constantly monitors and responds to systemic changes in the body. Our findings show that hepatocytes detect inflammatory signals, such as IL-6, and initiate a cascade that not only aids in tissue repair but also inadvertently supports cancer metastasis. This implies that conditions associated with chronic inflammation, such as obesity or cardiovascular disease, which increase IL-6 levels, could make the liver more susceptible to cancer spread. Understanding this connection opens new avenues for preventive strategies and therapies that target the liver's inflammatory response.\n",
      "\n",
      "**Journalist:** In the study, you used mouse models of pancreatic ductal adenocarcinoma. How confident are you that these findings translate to human patients, and what steps are being taken to validate this in clinical settings?\n",
      "\n",
      "**Researcher:** We have taken several steps to ensure the translatability of our findings. First, we observed similar molecular changes in human patients with pancreatic, colorectal, and lung cancers that had metastasized to the liver. Additionally, we found that elevated levels of circulating SAA correlated with worse outcomes in these patients. We are currently collaborating with clinical researchers to further validate these findings and explore potential biomarkers for early detection of liver metastasis. Our goal is to translate these discoveries into clinical trials that test the efficacy of IL-6-targeted therapies in preventing liver metastasis.\n",
      "\n",
      "**Journalist:** The study identifies hepatocytes as the orchestrators of the pro-metastatic niche. What implications does this have for future cancer treatments, and how can we target hepatocytes specifically without harming their normal functions?\n",
      "\n",
      "**Researcher:** Targeting hepatocytes specifically is challenging because they are essential for liver function. However, our study shows that the STAT3-SAA pathway is activated only in the context of inflammation and cancer, suggesting that therapies could be designed to inhibit this pathway without affecting the liver's normal functions. For example, using drugs that selectively block STAT3 in hepatocytes or inhibit the production of SAA could be effective. We are exploring these possibilities in preclinical models and hope to move towards clinical testing in the near future.\n",
      "\n",
      "**Journalist:** Finally, how does this research contribute to the broader understanding of the \"seed-and-soil\" hypothesis in cancer metastasis, and what future research directions does it open up?\n",
      "\n",
      "**Researcher:** Our research provides new insights into the \"seed-and-soil\" hypothesis by identifying hepatocytes as the primary \"soil\" preparers. This understanding could lead to the development of therapies that prevent the liver from becoming a fertile ground for cancer metastasis. Future research directions include investigating the role of other organs in metastasis, exploring the interactions between different cell types in the tumor microenvironment, and developing targeted therapies that disrupt these interactions. We are also interested in understanding how other inflammatory signals and metabolic changes in the liver contribute to metastasis, which could open up new avenues for treatment.\n"
     ]
    }
   ],
   "source": [
    "print(resulted_ds['conversation'][0])"
   ]
  },
  {
   "cell_type": "markdown",
   "id": "cf5af8c6-7337-4985-9b2c-50ed8a8cabbc",
   "metadata": {},
   "source": [
    "### Cleaning up the corpus:"
   ]
  },
  {
   "cell_type": "code",
   "execution_count": null,
   "id": "a17d996d-477a-4707-aee2-adc41ee4454a",
   "metadata": {},
   "outputs": [],
   "source": [
    "deepseek_conv_ds = datasets.load_from_disk('/mnt/swordfish-pool2/milad/communicating-science-to-the-public/deepseek-final-conv-ds')"
   ]
  },
  {
   "cell_type": "code",
   "execution_count": 8,
   "id": "20c34d74-d567-4442-85b5-5d1ee798f00b",
   "metadata": {},
   "outputs": [
    {
     "data": {
      "text/plain": [
       "Dataset({\n",
       "    features: ['id', 'pr-title', 'pr-article', 'pr-summary', 'sc-title', 'sc-article', 'sc-abstract', 'sc-section_names', 'sc-sections', 'sc-authors', 'source', 'Topic', 'Citation', 'Paper_URL', 'News_URL', 'pr-summary-and-article', 'parsed-pr-article', 'societal_eval_prompt_scoring_parsed', 'scientific_eval_prompt_scoring_parsed', 'clarity_eval_prompt_scoring_parsed', 'avg_quality_score', 'sc-intro', 'inputs', 'inputs_len', 'conversation', 'parsed_conv'],\n",
       "    num_rows: 19452\n",
       "})"
      ]
     },
     "execution_count": 8,
     "metadata": {},
     "output_type": "execute_result"
    }
   ],
   "source": [
    "deepseek_conv_ds"
   ]
  },
  {
   "cell_type": "code",
   "execution_count": 9,
   "id": "aec86b4f-67b8-4294-8f40-e2016331415a",
   "metadata": {},
   "outputs": [
    {
     "data": {
      "application/vnd.jupyter.widget-view+json": {
       "model_id": "d8e07ded41f84a8ebfabe5affa8a3fe7",
       "version_major": 2,
       "version_minor": 0
      },
      "text/plain": [
       "Filter:   0%|          | 0/19452 [00:00<?, ? examples/s]"
      ]
     },
     "metadata": {},
     "output_type": "display_data"
    }
   ],
   "source": [
    "deepseek_conv_ds = deepseek_conv_ds.filter(lambda row: '</think>' in row['conversation'])"
   ]
  },
  {
   "cell_type": "code",
   "execution_count": 10,
   "id": "03139251-2cf6-4405-aa6d-49028001d6af",
   "metadata": {},
   "outputs": [
    {
     "data": {
      "text/plain": [
       "Dataset({\n",
       "    features: ['id', 'pr-title', 'pr-article', 'pr-summary', 'sc-title', 'sc-article', 'sc-abstract', 'sc-section_names', 'sc-sections', 'sc-authors', 'source', 'Topic', 'Citation', 'Paper_URL', 'News_URL', 'pr-summary-and-article', 'parsed-pr-article', 'societal_eval_prompt_scoring_parsed', 'scientific_eval_prompt_scoring_parsed', 'clarity_eval_prompt_scoring_parsed', 'avg_quality_score', 'sc-intro', 'inputs', 'inputs_len', 'conversation', 'parsed_conv'],\n",
       "    num_rows: 14772\n",
       "})"
      ]
     },
     "execution_count": 10,
     "metadata": {},
     "output_type": "execute_result"
    }
   ],
   "source": [
    "deepseek_conv_ds"
   ]
  },
  {
   "cell_type": "code",
   "execution_count": 12,
   "id": "6b64ad39-002a-4693-90c7-6500783385be",
   "metadata": {},
   "outputs": [
    {
     "data": {
      "text/plain": [
       "794.5989033306255"
      ]
     },
     "execution_count": 12,
     "metadata": {},
     "output_type": "execute_result"
    }
   ],
   "source": [
    "np.mean([len(gpt_tokenizer.encode(conv['conversation'].split('</think>')[1])) for conv in deepseek_conv_ds])"
   ]
  },
  {
   "cell_type": "code",
   "execution_count": 14,
   "id": "401d15b1-26d0-4aad-9d37-21e0923c015f",
   "metadata": {},
   "outputs": [
    {
     "data": {
      "application/vnd.jupyter.widget-view+json": {
       "model_id": "857b573756e7429c9c1b7fb57d1c05ee",
       "version_major": 2,
       "version_minor": 0
      },
      "text/plain": [
       "Saving the dataset (0/4 shards):   0%|          | 0/14772 [00:00<?, ? examples/s]"
      ]
     },
     "metadata": {},
     "output_type": "display_data"
    }
   ],
   "source": [
    "deepseek_conv_ds.save_to_disk('/mnt/swordfish-pool2/milad/communicating-science-to-the-public/deepseek-final-conv-ds-cleaned')"
   ]
  },
  {
   "cell_type": "code",
   "execution_count": 43,
   "id": "6a7bffa4-4d63-4acf-aed1-7fcc522ec475",
   "metadata": {},
   "outputs": [],
   "source": [
    "deepseek_conv_ds_processed = datasets.load_from_disk('/mnt/swordfish-pool2/milad/communicating-science-to-the-public/deepseek-final-conv-ds-method3-preprocessed/')"
   ]
  },
  {
   "cell_type": "code",
   "execution_count": 44,
   "id": "88e4d536-b754-4ad6-8582-fcb3d99a8bbc",
   "metadata": {
    "scrolled": true
   },
   "outputs": [
    {
     "name": "stdout",
     "output_type": "stream",
     "text": [
      "<|begin_of_text|><|start_header_id|>system<|end_header_id|>\n",
      "\n",
      "You are an AI assistant helping a journalist writing an interview about a scientific paper.<|eot_id|><|start_header_id|>user<|end_header_id|>\n",
      "\n",
      "Here is a scientific paper:\n",
      "\n",
      "Title: Scientists design protein that prods cancer-fighting T-cells\n",
      "Paper: Abstract We describe a de novo computational approach for designing proteins that recapitulate the binding sites of natural cytokines, but are otherwise unrelated in topology or amino acid sequence. We use this strategy to design mimics of the central immune cytokine interleukin-2 (IL-2) that bind to the IL-2 receptor βγ c heterodimer (IL-2Rβγ c ) but have no binding site for IL-2Rα (also called CD25) or IL-15Rα (also known as CD215). The designs are hyper-stable, bind human and mouse IL-2Rβγ c with higher affinity than the natural cytokines, and elicit downstream cell signalling independently of IL-2Rα and IL-15Rα. Crystal structures of the optimized design neoleukin-2/15 (Neo-2/15), both alone and in complex with IL-2Rβγ c , are very similar to the designed model. Neo-2/15 has superior therapeutic activity to IL-2 in mouse models of melanoma and colon cancer, with reduced toxicity and undetectable immunogenicity. Our strategy for building hyper-stable de novo mimetics could be applied generally to signalling proteins, enabling the creation of superior therapeutic candidates. Main The considerable potential of the central immune cytokine interleukin-2 (IL-2) for cancer treatment 1 , 2 , 3 has sparked numerous efforts to improve its therapeutic properties by mutation and/or chemical modification 4 , 5 , 6 , 7 , 8 , 9 , 10 , 11 . Such efforts have sought to simplify manufacturing, extend half-life, and modulate interactions with receptors 12 , 13 , 14 . However, there are inherent challenges to the development of a new therapeutic agent when starting with a naturally occurring bioactive protein. First, most natural proteins are only marginally stable 15 , 16 , 17 ; hence, amino acid substitutions aimed at increasing efficacy can decrease expression or cause aggregation, making manufacture and storage difficult. More substantial changes, such as deletion or fusion of functional or targeting domains, are often unworkable and can markedly alter pharmacokinetic properties and tissue penetration 13 . Second, any immune response against the engineered variant may cross-react with the endogenous molecule 18 , 19 , 20 , 21 , 22 , 23 , 24 with potentially dangerous consequences. Third, the target receptor-subunit interaction profile can be difficult to reprogram. The clinical use of IL-2 has been mainly limited by toxicity 25 , 26 , 27 which, although incompletely understood in humans, is considerably reduced in animals deficient in the IL-2Rα chain (CD25 − ). Previous efforts to ablate the interaction between CD25 and IL-2 by either mutation 5 , 8 , 28 , 29 (as in super-2) or PEGylation (for example, NKTR-214 11 ), have resulted in markedly reduced stability, binding, and/or potency of these reengineered cytokines, while failing to completely eliminate the interaction with CD25. Here we describe a computational design approach to generate mimetics of natural proteins with improved therapeutic properties that circumvent these challenges, allowing the engineering of hyper-stable de novo cytokine mimics that display specific receptor-binding interfaces that are optimal for treating disease. IL-2/IL-15 mimics that bind and activate IL-2Rβγ c Cytokines interact with multiple receptor subunits 30 , 31 , 32 , 33 , and like most naturally occurring proteins, contain non-ideal structural features that compromise their stability but are important for function. We developed a computational protein design method in which the structural elements that interact with the desired receptor subunit(s) are fixed in space (Fig. 1a ), and an idealized de novo globular protein structure is built to support these elements. De novo design has been used previously to support short linear epitopes 34 , 35 , 36 , 37 ; here we support more complex binding interfaces by using a parametric construction of disembodied helices coupled with knowledge-based loop closure 38 (Fig. 1b, c ). We tested our approach by attempting de novo design of stable idealized proteins with interaction surfaces mimicking those of IL-2 and IL-15 for IL-2Rβγ c 32 , 39 , but entirely lacking the CD25-interaction surface. Fig. 1: Computational design of de novo cytokine mimics. a , Structure of human IL-2 ( Hs IL-2) (cartoon representation) in complex with its receptor IL-2Rαβγ c (surface representation) (Protein Data Bank (PDB) ID: 2B5I). b , The designed mimics have four helices; three (blue, yellow and red) mimic IL-2 interactions with IL-2Rβγ c , whereas the fourth (green) holds the first three in place. Top, first generation (gen 1): each of the core elements of IL-2 (helices H1–H4) were independently idealized by assembly of four residue clustered protein fragments. Bottom, second generation (gen 2): the core elements were built using parametric equations that recapitulate the shape of each disembodied helix, allowing changes in the length of each helix by up to ±8 amino acids. c , Pairs of helices were reconnected using ideal loop fragments; representative examples are shown with the newly built elements connecting each pair of helices in magenta. d , Combination of helix hairpins in c to generate fully connected protein backbones. e , Rosetta flexible backbone sequence design.\n",
      "\n",
      "Now, let's start the conversation.<|eot_id|><|start_header_id|>assistant<|end_header_id|>\n",
      "\n",
      "Journalist:  Hello, Dr. Silva. Thank you for taking the time to discuss your groundbreaking research. Let's start by understanding the problem with existing IL-2 treatments. Why are they limited in clinical use?\n",
      "\n",
      "Researcher:  Thank you for having me. IL-2 is a powerful tool in oncology and autoimmune diseases, but its toxic side effects pose significant challenges. Traditional IL-2 treatments can cause severe toxicity and immunosuppression, limiting their use to the healthiest patients in intensive care settings. This is because IL-2 binds to both target and non-target cells, leading to harmful off-target effects.\n",
      "\n",
      "Journalist:  So, the issue is that IL-2 interacts with receptors it shouldn't. How did your team approach this problem?\n",
      "\n",
      "Researcher:  We decided to design a protein from scratch using computational methods. Our approach involved creating a de novo protein that mimics IL-2's beneficial effects but avoids the harmful interactions. We focused on the receptor binding sites, ensuring our new protein, Neo-2/15, only interacts with the beta and gamma subunits of the IL-2 receptor, not the alpha subunit responsible for toxicity.\n",
      "\n",
      "Journalist:  That's fascinating. What were the key findings of your study?\n",
      "\n",
      "Researcher:  We successfully created Neo-2/15, a compact and stable protein. It binds with higher affinity to the IL-2 receptor beta and gamma subunits than natural IL-2, activating the desired immune cells without triggering toxic responses. Its stability is remarkable, retaining activity even after extreme conditions like boiling, which is unprecedented for cytokines.\n",
      "\n",
      "Journalist:  How does this breakthrough impact future cancer treatments?\n",
      "\n",
      "Researcher:  Neo-2/15 offers a safer and more effective treatment option. It can be used in patients who were previously ineligible due to side effects, potentially improving cure rates for cancers like melanoma. This approach could also be extended to other cytokines, revolutionizing immunotherapy.\n",
      "\n",
      "Journalist:  What's the broader impact of your work on protein design?\n",
      "\n",
      "Researcher:  Our success demonstrates the potential of de novo protein design. By understanding every part of the protein, we can create bio-superior molecules with tailored properties. This opens new avenues for therapeutic development, addressing unmet medical needs across various diseases.\n",
      "\n",
      "Journalist:  To conclude, what are your final thoughts on the study's impact?\n",
      "\n",
      "Researcher:  This study marks a significant step in protein engineering. Neo-2/15 not only addresses the limitations of IL-2 but also paves the way for a new era of therapeutic design. The ability to create proteins from scratch with enhanced properties is a game-changer, offering hope for countless patients.\n",
      "\n",
      "Journalist:  Thank you, Dr. Silva, for sharing your insights. Your work is truly groundbreaking.\n",
      "\n",
      "Researcher:  Thank you for your interest. I'm excited about the possibilities this research opens up for the future.<|eot_id|>\n"
     ]
    }
   ],
   "source": [
    "print(deepseek_conv_ds_processed['train'][0]['chat_text'])"
   ]
  },
  {
   "cell_type": "code",
   "execution_count": 35,
   "id": "a40b62b4-e6b1-484b-8465-f330511f7495",
   "metadata": {},
   "outputs": [],
   "source": [
    "#print(deepseek_conv_ds_processed['train'][1]['chat_text'])"
   ]
  },
  {
   "cell_type": "code",
   "execution_count": null,
   "id": "cca8f158-1bcf-4f29-9e54-ae706ab55595",
   "metadata": {},
   "outputs": [],
   "source": []
  }
 ],
 "metadata": {
  "kernelspec": {
   "display_name": "Python 3 (ipykernel)",
   "language": "python",
   "name": "python3"
  },
  "language_info": {
   "codemirror_mode": {
    "name": "ipython",
    "version": 3
   },
   "file_extension": ".py",
   "mimetype": "text/x-python",
   "name": "python",
   "nbconvert_exporter": "python",
   "pygments_lexer": "ipython3",
   "version": "3.12.8"
  }
 },
 "nbformat": 4,
 "nbformat_minor": 5
}
