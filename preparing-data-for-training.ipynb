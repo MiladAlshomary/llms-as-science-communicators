{
 "cells": [
  {
   "cell_type": "code",
   "execution_count": 1,
   "id": "47c6d049-6e7f-4bc4-aa68-e5d7789c1ab8",
   "metadata": {},
   "outputs": [],
   "source": [
    "%load_ext autoreload"
   ]
  },
  {
   "cell_type": "code",
   "execution_count": 4,
   "id": "6ce096ae-12ff-467c-8dc0-bec4bbcaf346",
   "metadata": {},
   "outputs": [],
   "source": [
    "%autoreload\n",
    "\n",
    "import os\n",
    "import sys\n",
    "import numpy as np\n",
    "sys.path.append('./src-py')\n",
    "os.environ['CUDA_VISIBLE_DEVICES'] = '1'\n",
    "\n",
    "from prepare_dataset import *\n",
    "import datasets"
   ]
  },
  {
   "cell_type": "markdown",
   "id": "a7b96b07-23bd-432e-abd1-3678b97c6288",
   "metadata": {},
   "source": [
    "### Preparing the Data:"
   ]
  },
  {
   "cell_type": "code",
   "execution_count": 34,
   "id": "af770283-46f4-4f02-8b9e-d8aad376d35e",
   "metadata": {},
   "outputs": [],
   "source": [
    "def process_dataset_for_training(tokenizer, dataset_path, output_path, max_num_turns=40):\n",
    "    conv_dataset = datasets.load_from_disk(dataset_path)\n",
    "    conv_dataset = datasets.Dataset.train_test_split(conv_dataset, test_size=0.1, seed=123)\n",
    "\n",
    "    train_journalist_dataset = prepare_dataset(tokenizer, conv_dataset['train'], role=\"Journalist\", max_num_turns=max_num_turns)\n",
    "    train_researcher_dataset = prepare_dataset(tokenizer, conv_dataset['train'], role=\"Researcher\", max_num_turns=max_num_turns)\n",
    "    \n",
    "    test_journalist_dataset = prepare_dataset(tokenizer, conv_dataset['test'], role=\"Journalist\", max_num_turns=max_num_turns)\n",
    "    test_researcher_dataset = prepare_dataset(tokenizer, conv_dataset['test'], role=\"Researcher\", max_num_turns=max_num_turns)\n",
    "\n",
    "    train_journalist_dataset = split_dataset_by_clm(train_journalist_dataset, 'paper_id')\n",
    "    train_researcher_dataset = split_dataset_by_clm(train_researcher_dataset, 'paper_id')\n",
    "\n",
    "    train_journalist_dataset.save_to_disk(output_path + '/train_journalist_ds')\n",
    "    train_researcher_dataset.save_to_disk(output_path + '/train_researcher_ds')\n",
    "    \n",
    "    test_journalist_dataset.save_to_disk(output_path + '/test_journalist_ds')\n",
    "    test_researcher_dataset.save_to_disk(output_path + '/test_researcher_ds')"
   ]
  },
  {
   "cell_type": "code",
   "execution_count": null,
   "id": "a38460f5-20b9-4e8f-9599-30e3bf56581d",
   "metadata": {},
   "outputs": [],
   "source": [
    "# Prepare data from  LLAMA-3\n",
    "tokenizer = AutoTokenizer.from_pretrained(\"meta-llama/Meta-Llama-3-8B-Instruct\")\n",
    "tokenizer.pad_token = tokenizer.eos_token  # for older tokenizers\n",
    "process_dataset_for_training(tokenizer, \n",
    "                             '/mnt/swordfish-pool2/milad/communicating-science-to-the-public/deepseek-final-conv-ds-cleaned/', \n",
    "                             '/mnt/swordfish-pool2/milad/communicating-science-to-the-public/deepseek-final-conv-ds-preprocessed-for-llama3/')"
   ]
  },
  {
   "cell_type": "code",
   "execution_count": null,
   "id": "1338d41b-c355-4ce6-94ff-f90bd2eb2806",
   "metadata": {
    "scrolled": true
   },
   "outputs": [
    {
     "name": "stderr",
     "output_type": "stream",
     "text": [
      "100%|█████████████████████████████████████████████████████████████████████████| 13294/13294 [01:32<00:00, 143.68it/s]\n",
      "Map: 100%|█████████████████████████████████████████████████████████████| 81475/81475 [06:01<00:00, 225.28 examples/s]\n",
      " 12%|████████▌                                                                 | 1540/13294 [00:11<01:28, 133.44it/s]"
     ]
    }
   ],
   "source": [
    "# Prepare data from  Qwen\n",
    "# Load tokenizer\n",
    "tokenizer = AutoTokenizer.from_pretrained(\"Qwen/Qwen2.5-7B-Instruct\")\n",
    "tokenizer.pad_token = tokenizer.eos_token  # for older tokenizers\n",
    "process_dataset_for_training(tokenizer, \n",
    "                             '/mnt/swordfish-pool2/milad/communicating-science-to-the-public/deepseek-final-conv-ds-cleaned/', \n",
    "                             '/mnt/swordfish-pool2/milad/communicating-science-to-the-public/deepseek-final-conv-ds-preprocessed-for-qwen/',\n",
    "                            max_num_turns=20)"
   ]
  },
  {
   "cell_type": "markdown",
   "id": "9e006fb9-bb04-4c2e-99c9-2858f673d369",
   "metadata": {},
   "source": [
    "-----------"
   ]
  },
  {
   "cell_type": "code",
   "execution_count": 38,
   "id": "3660bef7-a4da-421f-85a6-28ad6a9c8dde",
   "metadata": {},
   "outputs": [],
   "source": [
    "train_researcher_dataset = datasets.load_from_disk('/mnt/swordfish-pool2/milad/communicating-science-to-the-public/deepseek-final-conv-ds-preprocessed-for-qwen/train_researcher_ds')"
   ]
  },
  {
   "cell_type": "code",
   "execution_count": 39,
   "id": "b93ec38b-d283-4cb0-92d3-65dd4488cc00",
   "metadata": {},
   "outputs": [
    {
     "data": {
      "text/plain": [
       "DatasetDict({\n",
       "    train: Dataset({\n",
       "        features: ['paper_id', 'paper_title', 'paper_text', 'prompt', 'completion'],\n",
       "        num_rows: 76278\n",
       "    })\n",
       "    test: Dataset({\n",
       "        features: ['paper_id', 'paper_title', 'paper_text', 'prompt', 'completion'],\n",
       "        num_rows: 8492\n",
       "    })\n",
       "})"
      ]
     },
     "execution_count": 39,
     "metadata": {},
     "output_type": "execute_result"
    }
   ],
   "source": [
    "train_researcher_dataset"
   ]
  },
  {
   "cell_type": "code",
   "execution_count": 10,
   "id": "f2fdaabb-1bd4-4f89-9a6c-9023e31b8ef1",
   "metadata": {
    "scrolled": true
   },
   "outputs": [
    {
     "name": "stdout",
     "output_type": "stream",
     "text": [
      "[{'content': 'You are a helpful and expert researcher answering questions about your scientific paper.', 'role': 'system'}, {'content': '[PAPERT-TITLE]\\nBlood flow–sensing protein protects against atherosclerosis in mice\\n[PAPER]\\nAbstract Endothelial cells transduce mechanical forces from blood flow into intracellular signals required for vascular homeostasis. Here we show that endothelial NOTCH1 is responsive to shear stress, and is necessary for the maintenance of junctional integrity, cell elongation, and suppression of proliferation, phenotypes induced by laminar shear stress. NOTCH1 receptor localizes downstream of flow and canonical NOTCH signaling scales with the magnitude of fluid shear stress. Reduction of NOTCH1 destabilizes cellular junctions and triggers endothelial proliferation. NOTCH1 suppression results in changes in expression of genes involved in the regulation of intracellular calcium and proliferation, and preventing the increase of calcium signaling rescues the cell–cell junctional defects. Furthermore, loss of Notch1 in adult endothelium increases hypercholesterolemia-induced atherosclerosis in the descending aorta. We propose that NOTCH1 is atheroprotective and acts as a mechanosensor in adult arteries, where it integrates responses to laminar shear stress and regulates junctional integrity through modulation of calcium signaling. Introduction The vascular wall is subjected to physical forces resulting from the rhythmic activities of the heart. As the innermost lining of all blood vessels, the endothelium is uniquely responsive to these forces, particularly shear stress, which is transduced by endothelial cells into molecular signals that coordinate homeostatic responses 1 , 2 , 3 , 4 . Laminar shear stress induces elongation of endothelial cells 5 , 6 , suppression of endothelial cell proliferation, redistribution of focal adhesions, reassembly of junctional complexes, and cytoskeletal organization 7 , 8 . These cellular responses are complex and require both shear stress sensors and a robust cohort of effector molecules that coordinate rapid changes and physiological adaptations. Importantly, variations in blood flow result in altered hemodynamic forces throughout the vasculature 9 . These hemodynamic forces play an important role in regulating the phenotype and gene expression of endothelial cells in different regions of the arterial wall 10 , 11 , 12 , 13 . The descending thoracic aorta is defined by high laminar shear stress and its resulting endothelial gene profile is “atheroprotective” 14 . In contrast, the inner curvature of the aortic arch is characterized by disturbed blood flow with oscillatory shear stress that promotes an “atheroprone” expression profile 15 , 16 , 17 . In this manner, atherosclerosis is known to occur largely in arterial regions exposed to oscillatory shear stress 17 . Because of the clinical impact of these responses, the mechanisms of endothelial mechanotransduction are of great interest. Mechanosensors act as the initial responders to changes in the mechanical environment 18 , 19 . Several of these have been identified including integrins, ion channels, G-protein-coupled receptors, and endothelial cell–cell junctional proteins 20 . However, the picture of the key contributors involved in flow mechanosensing remains incomplete. Recently, NOTCH1 has been shown to be flow-responsive and involved in modulating the expression of endothelial inflammatory genes 21 , 22 , 23 . Considering that NOTCH1 expression is retained in adult arteries 21 and activation of this receptor is dependent on physical forces 24 , we investigated the flow-responsive nature of NOTCH1 signaling to determine its biological significance in adult arteries. Our findings indicate that NOTCH1 signaling responds to laminar flow and that this response scales with the magnitude of shear stress. Furthermore, we show that NOTCH1 protein is able to sense laminar flow by rapidly locating to the downstream pole relative to the flow direction. Our results further reveal that NOTCH1 is required to maintain junctional integrity, promote cell elongation in response to flow, and prevent atherosclerosis in the context of hypercholesterolemia. Overall, these findings indicate that NOTCH1 signaling is required in adult arteries to interpret hemodynamic forces and initiate appropriate biological responses required for vascular homeostasis and atheroprotection. Results NOTCH1 signaling is increased by shear stress Notch signaling is necessary for arterial specification during development 25 , 26 , 27 , 28 . Importantly, immunohistochemistry of mouse aorta revealed that Notch1 protein was abundant in endothelial cells (Fig. 1a ) indicating its continuous expression in adult arteries. Additionally, Notch1 activity was robust, as assessed by reporter mice (RBP-Jk:H2B-Venus strain 29 ). Venus reporter protein was observed in the endothelium of the descending aorta (Fig. 1b ) and the carotid artery (Supplementary Fig. 1a ), indicating that Notch1 signaling was active in quiescent, non-angiogenic, aortic endothelium. Fig. 1 Notch1 is activated by shear stress in vitro.', 'role': 'user'}, {'content': 'Journalist:  [name]-Arispe, your research has uncovered a crucial role for the NOTCH1 protein in preventing atherosclerosis. Can you explain how NOTCH1 functions as a mechanosensor in blood vessels?', 'role': 'user'}, {'content': 'Researcher:  Thank you for the question. NOTCH1 acts as a mechanosensor by responding to the mechanical forces of blood flow, particularly laminar shear stress. When blood flows smoothly and quickly, it exerts a specific type of force on the endothelial cells lining the blood vessels. NOTCH1 detects these forces and triggers a signaling pathway that helps maintain the integrity of the endothelial layer, preventing inflammation and the buildup of fatty plaques that lead to atherosclerosis.', 'role': 'assistant'}, {'content': 'Journalist:  In your study, you mentioned that NOTCH1 levels are higher in areas of smooth, fast blood flow. Why is this significant?', 'role': 'user'}]\n",
      "[{'content': 'Researcher:  Areas with smooth, fast blood flow are less prone to atherosclerosis because the high levels of NOTCH1 in these regions help maintain the health of the endothelial cells. NOTCH1 signaling promotes cell elongation, strengthens cell-cell junctions, and suppresses proliferation, all of which are protective against the inflammatory processes that contribute to atherosclerosis.', 'role': 'assistant'}]\n"
     ]
    }
   ],
   "source": [
    "print(train_researcher_dataset['train']['prompt'][1])\n",
    "print(train_researcher_dataset['train']['completion'][1])"
   ]
  }
 ],
 "metadata": {
  "kernelspec": {
   "display_name": "Python 3 (ipykernel)",
   "language": "python",
   "name": "python3"
  },
  "language_info": {
   "codemirror_mode": {
    "name": "ipython",
    "version": 3
   },
   "file_extension": ".py",
   "mimetype": "text/x-python",
   "name": "python",
   "nbconvert_exporter": "python",
   "pygments_lexer": "ipython3",
   "version": "3.8.20"
  }
 },
 "nbformat": 4,
 "nbformat_minor": 5
}
