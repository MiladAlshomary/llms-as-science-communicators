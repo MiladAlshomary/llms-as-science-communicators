{
 "cells": [
  {
   "cell_type": "code",
   "execution_count": 5,
   "id": "47c6d049-6e7f-4bc4-aa68-e5d7789c1ab8",
   "metadata": {},
   "outputs": [
    {
     "name": "stdout",
     "output_type": "stream",
     "text": [
      "The autoreload extension is already loaded. To reload it, use:\n",
      "  %reload_ext autoreload\n"
     ]
    }
   ],
   "source": [
    "%load_ext autoreload"
   ]
  },
  {
   "cell_type": "code",
   "execution_count": 7,
   "id": "6ce096ae-12ff-467c-8dc0-bec4bbcaf346",
   "metadata": {},
   "outputs": [],
   "source": [
    "%autoreload\n",
    "\n",
    "import os\n",
    "import sys\n",
    "import numpy as np\n",
    "sys.path.append('./src-py')\n",
    "os.environ['CUDA_VISIBLE_DEVICES'] = '1'\n",
    "\n",
    "import datasets"
   ]
  },
  {
   "cell_type": "markdown",
   "id": "a7b96b07-23bd-432e-abd1-3678b97c6288",
   "metadata": {},
   "source": [
    "### Preparing the Data:"
   ]
  },
  {
   "cell_type": "markdown",
   "id": "4b7c36bf-c209-450b-aeab-8305a6a1a241",
   "metadata": {},
   "source": [
    "Commands to prepare the datasets for llama3 and Qwen"
   ]
  },
  {
   "cell_type": "code",
   "execution_count": null,
   "id": "7517aed8-3f1d-488c-a373-edefd9cb5788",
   "metadata": {},
   "outputs": [],
   "source": [
    "python prepare_dataset.py /mnt/swordfish-pool2/milad/communicating-science-to-the-public/deepseek-final-conv-ds-cleaned/ /mnt/swordfish-pool2/milad/communicating-science-to-the-public/deepseek-final-conv-ds-preprocessed-for-llama3/ meta-llama/Meta-Llama-3-8B-Instruct --max_num_turns=40"
   ]
  },
  {
   "cell_type": "code",
   "execution_count": null,
   "id": "d193c396-e6c7-45d4-bf52-b7dae641b403",
   "metadata": {},
   "outputs": [],
   "source": [
    "python prepare_dataset.py /mnt/swordfish-pool2/milad/communicating-science-to-the-public/new-deepseek-final-conv-ds-cleaned/ /mnt/swordfish-pool2/milad/communicating-science-to-the-public/new-deepseek-final-conv-ds-preprocessed-for-llama3/ meta-llama/Meta-Llama-3-8B-Instruct --max_num_turns=40"
   ]
  },
  {
   "cell_type": "code",
   "execution_count": null,
   "id": "1338d41b-c355-4ce6-94ff-f90bd2eb2806",
   "metadata": {
    "scrolled": true
   },
   "outputs": [],
   "source": [
    "prepare_dataset.py /mnt/swordfish-pool2/milad/communicating-science-to-the-public/deepseek-final-conv-ds-cleaned/ /mnt/swordfish-pool2/milad/communicating-science-to-the-public/deepseek-final-conv-ds-preprocessed-for-qwen/ Qwen/Qwen2.5-7B-Instruct --max_num_turns=30"
   ]
  },
  {
   "cell_type": "markdown",
   "id": "9e006fb9-bb04-4c2e-99c9-2858f673d369",
   "metadata": {},
   "source": [
    "-----------"
   ]
  },
  {
   "cell_type": "code",
   "execution_count": 11,
   "id": "3660bef7-a4da-421f-85a6-28ad6a9c8dde",
   "metadata": {},
   "outputs": [],
   "source": [
    "train_researcher_dataset = datasets.load_from_disk('/mnt/swordfish-pool2/milad/communicating-science-to-the-public/new-deepseek-final-conv-ds-preprocessed-for-llama3/train_researcher_ds/')"
   ]
  },
  {
   "cell_type": "code",
   "execution_count": 12,
   "id": "b93ec38b-d283-4cb0-92d3-65dd4488cc00",
   "metadata": {},
   "outputs": [
    {
     "data": {
      "text/plain": [
       "DatasetDict({\n",
       "    train: Dataset({\n",
       "        features: ['paper_id', 'paper_title', 'paper_text', 'prompt', 'completion'],\n",
       "        num_rows: 97849\n",
       "    })\n",
       "    test: Dataset({\n",
       "        features: ['paper_id', 'paper_title', 'paper_text', 'prompt', 'completion'],\n",
       "        num_rows: 10720\n",
       "    })\n",
       "})"
      ]
     },
     "execution_count": 12,
     "metadata": {},
     "output_type": "execute_result"
    }
   ],
   "source": [
    "train_researcher_dataset"
   ]
  },
  {
   "cell_type": "code",
   "execution_count": 13,
   "id": "f2fdaabb-1bd4-4f89-9a6c-9023e31b8ef1",
   "metadata": {
    "scrolled": true
   },
   "outputs": [
    {
     "name": "stdout",
     "output_type": "stream",
     "text": [
      "[{'content': 'You are a helpful and expert researcher answering questions about your scientific paper.', 'role': 'system'}, {'content': '[PAPERT-TITLE]\\nGauging the environmental impact of urban farms and gardens\\n[PAPER]\\nAbstract There is a lack of data on resources used and food produced at urban farms. This hampers attempts to quantify the environmental impacts of urban agriculture or craft policies for sustainable food production in cities. To address this gap, we used a citizen science approach to collect data from 72 urban agriculture sites, representing three types of spaces (urban farms, collective gardens, individual gardens), in five countries (France, Germany, Poland, United Kingdom, and United States). We answered three key questions about urban agriculture with this unprecedented dataset: (1) What are its land, water, nutrient, and energy demands? (2) How productive is it relative to conventional agriculture and across types of farms? and (3) What are its contributions to local biodiversity? We found that participant farms used dozens of inputs, most of which were organic (e.g., manure for fertilizers). Farms required on average 71.6 L of irrigation water, 5.5 L of compost, and 0.53 m 2 of land per kilogram of harvested food. Irrigation was lower in individual gardens and higher in sites using drip irrigation. While extremely variable, yields at well-managed urban farms can exceed those of conventional counterparts. Although farm type did not predict yield, our cluster analysis demonstrated that individually managed leisure gardens had lower yields than other farms and gardens. Farms in our sample contributed significantly to local biodiversity, with an average of 20 different crops per farm not including ornamental plants. Aside from clarifying important trends in resource use at urban farms using a robust and open dataset, this study also raises numerous questions about how crop selection and growing practices influence the environmental impacts of growing food in cities. We conclude with a research agenda to tackle these and other pressing questions on resource use at urban farms. Working on a manuscript? Avoid the common mistakes 1 Introduction The environmental impacts of supplying food to cities are immense (Goldstein et al. 2017 ). Urban agriculture (UA) is often promoted as a means to reduce these impacts and simultaneously provide multi-functional health and well-being benefits (Gomez Villarino et al. 2021 ; Newell et al. 2022 ). UA is broadly defined as growing food in and around cities that interacts with urban areas through the exchange of materials, people, and values (Mougeot 2000 ). While there are many types of UA, ranging from gardens to advanced, hydroponic “plant factories,” we focus here on soil-based gardens and farms that cultivate vegetables and fruit, as these are most common (Cameron et al. 2012 ). An expected benefit of such systems is producing hyper-local, nutritious food for city residents. Nevertheless, growing food in cities requires water, energy, land, fertilizers, and pesticides (FAO 2011 ; Campbell et al. 2017 ; Mohareb et al. 2017 ) and can have negative environmental impacts. Understanding these inputs and impacts is key to ensuring that UA contributes to sustainable urban food systems. Little is known about the quantity of food produced by and the inputs used in UA, partly due to its diversity and sometimes informal nature. UA can have both very large or small yields and can be resource efficient or inefficient, yet the key factors that drive differences are unknown (CoDyre et al. 2015 ; McDougall et al. 2019 ). An accurate understanding of UA yields and inputs, such as water, fertilizer, and compost, is essential for evaluating its potential impacts on urban resource use and local food systems as the practice expands (Cohen and Wijsman 2014 ). Such evaluations support more accurate projections of the amounts and types of foods consumed in cities that can be provided by UA (Weidner et al. 2019 ; Grafius et al. 2020 ), and what resources are required to support food urban production. A proper material accounting of UA would also help clarify the effect of large-scale UA on the stocks and flows of material and energy that comprise a city’s “metabolism” (Barles 2009 ; Van Broekhoven and Vernay 2018 ) and help answer critical policy questions, such as the tractability of UA as a food supply in arid, water-stressed cities. In addition, increasing knowledge of UA yields and inputs for its different forms is necessary to conduct environmental footprinting of urban food production (Dorr et al. 2021 ). Data on resources used by urban farms are rarely collected because it is time consuming and often not standard farming practice (Whittinghill and Sarr 2021 ). Only a handful of studies provide detailed accounts of farm inputs, yields, and environmental impacts. This data gap forces researchers evaluating UA to use unrepresentative statistics from rural agriculture (McClintock et al. 2013 ; Aragon et al. 2019 ) or to estimate values for yield and input use based on secondary data (Dalla Marta et al.', 'role': 'user'}, {'content': 'Journalist:  [name], the study highlights the rapid growth of urban agriculture in cities across the global north. Why is it crucial to have data on its environmental impact, and what challenges does the lack of such data pose for sustainable urban food production?', 'role': 'user'}, {'content': \"Researcher:  Thank you for asking. Urban agriculture is often seen as a sustainable solution to reduce the environmental footprint of food systems in cities. However, without data on its environmental impact, it's challenging to assess whether it truly contributes to sustainability or if it introduces new environmental challenges. For instance, urban farms may use significant amounts of water, energy, or fertilizers, which could offset their benefits. Policymakers need this data to craft effective regulations and incentives, ensuring that urban agriculture aligns with broader sustainability goals.\", 'role': 'assistant'}, {'content': 'Journalist:  You mentioned that the study used a citizen science approach to collect data from 72 sites across five countries. Can you elaborate on how this approach was implemented and what key findings emerged regarding resource use and yields?', 'role': 'user'}]\n",
      "[{'content': 'Researcher:  Absolutely. Citizen science involved engaging urban farmers and gardeners themselves to collect data on their practices, such as water and fertilizer use, crop yields, and biodiversity. This approach ensured that the data were collected from real-world, diverse settings, which is often challenging with traditional research methods. We found that resource use and yields varied significantly among sites. For example, some urban farms used very little water, while others used substantial amounts, depending on management practices and local conditions. Interestingly, well-managed urban farms often exceeded the yields of conventional rural farms, highlighting the potential of urban agriculture to produce food efficiently.', 'role': 'assistant'}]\n"
     ]
    }
   ],
   "source": [
    "print(train_researcher_dataset['train']['prompt'][1])\n",
    "print(train_researcher_dataset['train']['completion'][1])"
   ]
  },
  {
   "cell_type": "code",
   "execution_count": 14,
   "id": "804d3ea9-0983-468a-aee1-6df70ba4c853",
   "metadata": {},
   "outputs": [],
   "source": [
    "train_journalist_dataset = datasets.load_from_disk('/mnt/swordfish-pool2/milad/communicating-science-to-the-public/new-deepseek-final-conv-ds-preprocessed-for-llama3/train_journalist_ds/')"
   ]
  },
  {
   "cell_type": "code",
   "execution_count": 25,
   "id": "e2aa321d-05b6-43ef-beb4-e824071b2876",
   "metadata": {
    "scrolled": true
   },
   "outputs": [
    {
     "data": {
      "text/plain": [
       "['Journalist:  You mentioned that the study used a citizen science approach to collect data from 72 sites across five countries. Can you elaborate on how this approach was implemented and what key findings emerged regarding resource use and yields?',\n",
       " 'Journalist:  The study also noted that farm type and management style were significant factors in resource use and yields. Could you explain how collective versus individual management influenced these outcomes?',\n",
       " 'Journalist:  The study found that urban farms contributed significantly to local biodiversity, with an average of 20 different crops per farm. How does this diversity compare to conventional agriculture, and what are the implications for urban food systems?',\n",
       " 'Journalist:  Finally, the study emphasizes the need for policymakers to support sustainable urban agriculture. What specific recommendations does the research offer for policymakers, and how can they work with urban farmers to implement these changes?',\n",
       " 'Journalist:   \\nInteresting. Your study applied this method to nine populations from the 1000 Genomes Project. What were the key findings regarding population bottlenecks?',\n",
       " 'Journalist:   \\nThis is fascinating. How does the stairway plot handle computational efficiency, and what makes it suitable for large datasets?',\n",
       " \"Journalist:   \\nYou mentioned that the stairway plot revealed a bottleneck in the Finnish population that wasn't present in other European populations. What are the implications of these findings for understanding human evolutionary history?\",\n",
       " 'Journalist:   \\nFinally, how does the stairway plot address limitations in inferring ancient demographic events compared to previous methods like PSMC?',\n",
       " 'Journalist:  That makes sense. So, what challenges do CAR T cells face when targeting solid tumors like neuroblastoma?',\n",
       " 'Journalist:  I see. How does the synthetic Notch (synNotch) CAR T technology work to overcome these challenges?',\n",
       " 'Journalist:  That sounds promising. What makes synNotch CAR T-cells more metabolically stable and effective in the long term?',\n",
       " 'Journalist:  How precise is the targeting of synNotch CAR T-cells in distinguishing between cancer cells and healthy tissue?',\n",
       " 'Journalist:  What are the implications of this study for future treatments of solid tumors, including neuroblastoma?',\n",
       " 'Journalist:  Thank you for explaining that. Your study focuses on targeting RNA rather than DNA. Why is this approach advantageous, especially for HD?',\n",
       " \"Journalist:  That makes sense. In the study, you used Cas13d to target the mutant RNA. Could you elaborate on how this technology works and why it's effective for HD?\",\n",
       " 'Journalist:  The study showed that the therapy improved motor coordination and reduced striatal atrophy in mice. How long-lasting were these effects, and were there any adverse effects observed?',\n",
       " 'Journalist:  Finally, what are the potential implications of this study for HD patients and for the treatment of other genetic disorders?',\n",
       " 'Journalist:  Phenotypic plasticity is mentioned as a critical factor in cancer progression. How exactly does this plasticity contribute to resistance, and why is it particularly dangerous?',\n",
       " 'Journalist:  The study focuses on breast cancer, but you mentioned that the mechanism could apply to other cancers. Can you elaborate on how this research is relevant to cancers like lung or prostate cancer?',\n",
       " 'Journalist:  The next step in your research is to screen for new drugs that disrupt these genetic signals. Can you provide more details about how you plan to approach this drug development process?',\n",
       " 'Journalist:  The study involved international collaboration with researchers in Paris and Shanghai. How did these collaborations contribute to the research, and what was their specific role?',\n",
       " 'Journalist:  That makes sense. But you also mentioned that spot welding can negatively impact the material properties of boron steel. Can you explain what happens during spot welding that causes these issues?',\n",
       " 'Journalist:  Interesting. You mentioned that neutron diffraction was the chosen method for measuring residual stress. Why was this technique preferred over others like X-ray or electron diffraction?',\n",
       " 'Journalist:  The study found a strong correlation between reduced hardness in the HAZ and increased residual stress. What are the implications of these findings for the automotive industry?',\n",
       " 'Journalist:  Finally, you mentioned future work on magnetic pulse welding and post-weld heat treatment. Can you explain how these methods could address the problems caused by traditional spot welding?',\n",
       " 'Journalist:  So, POLR1C mutations affect RNA polymerase III but not RNA polymerase I? How does this selective impairment occur?',\n",
       " 'Journalist:  How does this impairment in RNA polymerase III lead to the symptoms of 4H leukodystrophy?',\n",
       " \"Journalist:  For families like Xavier's, how does having a diagnosis based on POLR1C mutations help them?\",\n",
       " 'Journalist:  What are the next steps in your research? How can this discovery lead to new treatments?',\n",
       " 'Journalist:  [name], you mentioned that this discovery sheds light on the molecular mechanism of the disease. How does this understanding help in developing new therapies?',\n",
       " 'Journalist:  How does this discovery fit into the broader context of genetic research and rare diseases?',\n",
       " 'Journalist:  Thank you for explaining the evolution. Your study highlights the impact on athletes like María José Martínez-Patiño, who faced public humiliation after genetic testing revealed XY chromosomes. Can you elaborate on how these policies have affected athletes with DSDs and why such experiences are common?',\n",
       " 'Journalist:  The study also discusses the ethical and privacy concerns with the current hyperandrogenism policy. Could you outline these issues and how they manifest in practice?',\n",
       " \"Journalist:  Your study proposes several recommendations to improve justice under the current policy. Could you summarize these and explain how they aim to address the issues you've outlined?\",\n",
       " 'Journalist:  Thank you for detailing the recommendations. How do you envision the IOC and IAAF implementing these changes, and what role do you see for athletes in this process?',\n",
       " 'Journalist:  Finally, what message do you hope to convey to the international sports community with this study?',\n",
       " 'Journalist:  You mentioned that hypoxia leads to increased mitochondrial biogenesis. Can you clarify why this happens and what implications it has?',\n",
       " 'Journalist:  The study also found that hypoxia affects calcium levels in astrocytes. How does this relate to mitochondrial function and overall brain health?',\n",
       " 'Journalist:  What are the potential applications of this research in developing therapies for schizophrenia or preventing it?',\n",
       " 'Journalist:  Finally, what advice would you give to expectant mothers to avoid fetal hypoxia?',\n",
       " \"Journalist:  That's impressive. However, the study also mentions challenges like climate change and antibiotic use. Could you explain how these issues are being addressed?\",\n",
       " 'Journalist:  Freshwater aquaculture seems to play a crucial role in food security. How does it contribute to rural livelihoods, and why is there limited oversight?',\n",
       " 'Journalist:  The study also mentions the rise in high-value marine fish production. How has this affected the use of wild fish in feeds, and what are the implications for marine ecosystems?',\n",
       " 'Journalist:  Finally, the study provides several recommendations for improving governance. Could you outline the key recommendations and their potential impact?',\n",
       " 'Journalist:  Thank you for sharing your insights. It’s clear that aquaculture has the potential to be a sustainable solution for global food security, but it requires continued innovation and collaboration across sectors.',\n",
       " 'Journalist:  That’s fascinating. You mentioned that creating the device was painstaking. What were the main challenges your team faced?',\n",
       " 'Journalist:  I can imagine the difficulty. How did you confirm that the electrons remained entangled after being separated?',\n",
       " 'Journalist:  This seems like a major breakthrough. What are the potential applications of this discovery?',\n",
       " 'Journalist:  Why was your team focused on electron spin rather than other properties?',\n",
       " 'Journalist:  This is incredibly exciting. What are the next steps for your research?']"
      ]
     },
     "execution_count": 25,
     "metadata": {},
     "output_type": "execute_result"
    }
   ],
   "source": [
    "#print(train_journalist_dataset['train']['prompt'][20])\n",
    "[x[0]['content'] for x in train_journalist_dataset['train']['completion'][:50]]"
   ]
  },
  {
   "cell_type": "code",
   "execution_count": null,
   "id": "e8413fe4-8eb5-45f6-ba00-f3e74f76f2c9",
   "metadata": {},
   "outputs": [],
   "source": []
  }
 ],
 "metadata": {
  "kernelspec": {
   "display_name": "Python 3 (ipykernel)",
   "language": "python",
   "name": "python3"
  },
  "language_info": {
   "codemirror_mode": {
    "name": "ipython",
    "version": 3
   },
   "file_extension": ".py",
   "mimetype": "text/x-python",
   "name": "python",
   "nbconvert_exporter": "python",
   "pygments_lexer": "ipython3",
   "version": "3.12.8"
  }
 },
 "nbformat": 4,
 "nbformat_minor": 5
}
