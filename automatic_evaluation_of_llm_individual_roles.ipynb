{
 "cells": [
  {
   "cell_type": "code",
   "execution_count": 1,
   "id": "a43c8d27-0b47-46ac-a3f7-e5a02134e727",
   "metadata": {},
   "outputs": [],
   "source": [
    "%load_ext autoreload\n",
    "import os\n",
    "import sys"
   ]
  },
  {
   "cell_type": "code",
   "execution_count": 2,
   "id": "7d78efec-68b0-47f6-8d88-af0cd01c16fa",
   "metadata": {},
   "outputs": [],
   "source": [
    "os.environ['TRANSFORMERS_CACHE'] = '/mnt/swordfish-pool2/milad/hf-cache-new'\n",
    "os.environ['HF_DATASETS_CACHE'] = '/mnt/swordfish-pool2/milad/hf-cache-new'\n",
    "os.environ[\"OPENAI_API_KEY\"]= 'xxx'\n",
    "os.environ['CUDA_VISIBLE_DEVICES'] = '0'\n",
    "os.environ['CUDA_LAUNCH_BLOCKING'] = '0'\n",
    "sys.path.append('./src-py')"
   ]
  },
  {
   "cell_type": "code",
   "execution_count": 3,
   "id": "d24b5e38-93dc-4098-97de-bb786a750a92",
   "metadata": {
    "scrolled": true
   },
   "outputs": [
    {
     "name": "stderr",
     "output_type": "stream",
     "text": [
      "/local/nlp/milad/conda-envs/trl-library/lib/python3.10/site-packages/transformers/utils/hub.py:111: FutureWarning: Using `TRANSFORMERS_CACHE` is deprecated and will be removed in v5 of Transformers. Use `HF_HOME` instead.\n",
      "  warnings.warn(\n"
     ]
    }
   ],
   "source": [
    "import json\n",
    "import os\n",
    "import numpy as np\n",
    "import pandas as pd\n",
    "import copy\n",
    "import matplotlib.pyplot as plt\n",
    "import re\n",
    "from collections import Counter\n",
    "\n",
    "pd.set_option('display.width', None)\n",
    "pd.set_option('display.max_colwidth', None)\n",
    "\n",
    "\n",
    "%autoreload\n",
    "import utils\n",
    "import prompts\n",
    "import random\n",
    "\n",
    "from tabulate import tabulate\n",
    "import tiktoken\n",
    "from llm_based_evaluation import *"
   ]
  },
  {
   "cell_type": "code",
   "execution_count": 4,
   "id": "d903fa8b-3c9e-4d0c-9a90-00c414488647",
   "metadata": {},
   "outputs": [],
   "source": [
    "from transformers import AutoTokenizer, pipeline"
   ]
  },
  {
   "cell_type": "code",
   "execution_count": 5,
   "id": "e08009fa",
   "metadata": {},
   "outputs": [],
   "source": [
    "import json\n",
    "keys = json.load(open('./keys.json'))\n",
    "for key, val in keys.items():\n",
    "    os.environ[key] = val"
   ]
  },
  {
   "cell_type": "code",
   "execution_count": 6,
   "id": "8de285da-4e35-4041-8aa8-956e164feb64",
   "metadata": {
    "scrolled": true
   },
   "outputs": [],
   "source": [
    "from huggingface_hub import login\n",
    "\n",
    "login(os.environ['hf_token'])"
   ]
  },
  {
   "cell_type": "code",
   "execution_count": 7,
   "id": "846f3f93-4394-4627-be70-6bd557823095",
   "metadata": {},
   "outputs": [],
   "source": [
    "output_dir = '/mnt/swordfish-pool2/milad/communicating-science-to-the-public/'\n",
    "models_folder = \"/mnt/swordfish-pool2/milad/communicating-science-to-the-public/models/\""
   ]
  },
  {
   "cell_type": "code",
   "execution_count": 8,
   "id": "e6a4d8a7-48f5-42a8-80f8-757e6a889e5c",
   "metadata": {},
   "outputs": [],
   "source": [
    "gpt_tokenizer = tiktoken.encoding_for_model(\"gpt-3.5-turbo\")\n",
    "llama_tokenizer = AutoTokenizer.from_pretrained(\"meta-llama/Meta-Llama-3-8B\")"
   ]
  },
  {
   "cell_type": "code",
   "execution_count": 9,
   "id": "438d82c1-3997-4138-ae62-03084067d8a6",
   "metadata": {},
   "outputs": [],
   "source": [
    "ds_path = '/mnt/swordfish-pool2/milad/communicating-science-to-the-public/new-eval_experiment_500/'\n",
    "#ds_path = '/mnt/swordfish-pool2/milad/communicating-science-to-the-public/new-eval_experiment_100'"
   ]
  },
  {
   "cell_type": "code",
   "execution_count": 10,
   "id": "b106e5c0-7dfa-4fda-b445-599bd907ae47",
   "metadata": {
    "scrolled": true
   },
   "outputs": [],
   "source": [
    "# Converting the ground-truth dataset so similar fomrat as the generated ones\n",
    "# gt_ds = datasets.load_from_disk('/mnt/swordfish-pool2/milad/communicating-science-to-the-public/new-deepseek-final-conv-ds-cleaned/')\n",
    "# gen_dataset = datasets.load_from_disk(ds_path + '/baseline_qwen_gen_conv_fixed_researcher_simple_prompt')\n",
    "# pr_titles = gen_dataset['paper_title']\n",
    "\n",
    "# gt_ds = gt_ds.filter(lambda row: row['pr-title'] in pr_titles)\n",
    "# gt_ds = gt_ds.map(lambda row: {'conversation': \"\\n\\n\".join([\"{}:{}\".format(turn['author'], turn['text']) for turn in row['parsed_conv']])})\n",
    "# gt_ds.save_to_disk(ds_path + '/ground_truth_conversation_ds')\n",
    "# gt_ds.push_to_hub('miladalsh/ground-truth-conv-500')"
   ]
  },
  {
   "cell_type": "markdown",
   "id": "f2e59a62-1a99-4ae4-9bdf-7c4cda4048f6",
   "metadata": {
    "jp-MarkdownHeadingCollapsed": true
   },
   "source": [
    "### Evaluating the Researcher"
   ]
  },
  {
   "cell_type": "markdown",
   "id": "5ca3fab6-0663-4627-ab3f-e00dbeb46618",
   "metadata": {
    "jp-MarkdownHeadingCollapsed": true
   },
   "source": [
    "#### Using DeepSeek"
   ]
  },
  {
   "cell_type": "code",
   "execution_count": 28,
   "id": "e1a66dbe-3631-431e-b1c0-2114b633b251",
   "metadata": {
    "scrolled": true
   },
   "outputs": [],
   "source": [
    "generated_convs = {\n",
    "    'qwen-baseline':[datasets.load_from_disk(ds_path + '/baseline_qwen_gen_conv_fixed_quesions/'), ds_path + '/baseline_qwen_gen_conv_fixed_quesions'],\n",
    "    'ft-qwen-on-deepseek' :[datasets.load_from_disk(ds_path + '/ft_qwen_gen_conv_fixed_quesions/'),ds_path +  '/ft_qwen_gen_conv_fixed_quesions/'],\n",
    "    'llama-baseline':[datasets.load_from_disk(ds_path + '/baseline_llama3_gen_conv_fixed_quesions/'), ds_path + '/baseline_llama3_gen_conv_fixed_quesions'],\n",
    "    'ft-llama-on-deepseek' :[datasets.load_from_disk(ds_path + '/ft_llama3_gen_conv_fixed_quesions/'),ds_path +  '/ft_llama3_gen_conv_fixed_quesions/'],\n",
    "}"
   ]
  },
  {
   "cell_type": "code",
   "execution_count": 13,
   "id": "947724f9-dbd0-422c-a18f-1411cf19c412",
   "metadata": {
    "scrolled": true
   },
   "outputs": [],
   "source": [
    "#print(generated_convs['ft-qwen-on-deepseek'][0]['fixed_journalist_conv'][0])"
   ]
  },
  {
   "cell_type": "code",
   "execution_count": null,
   "id": "7377a258-0213-444c-860e-ddb661e15997",
   "metadata": {
    "scrolled": true
   },
   "outputs": [
    {
     "name": "stderr",
     "output_type": "stream",
     "text": [
      "100%|███████████████████████████████████████████████████████████████████████████████| 500/500 [43:46<00:00,  5.25s/it]\n",
      "100%|███████████████████████████████████████████████████████████████████████████████| 500/500 [34:14<00:00,  4.11s/it]\n",
      "100%|███████████████████████████████████████████████████████████████████████████████| 500/500 [37:52<00:00,  4.55s/it]\n"
     ]
    },
    {
     "data": {
      "application/vnd.jupyter.widget-view+json": {
       "model_id": "754c44953b8b4932a6afff857da3f162",
       "version_major": 2,
       "version_minor": 0
      },
      "text/plain": [
       "Saving the dataset (0/1 shards):   0%|          | 0/500 [00:00<?, ? examples/s]"
      ]
     },
     "metadata": {},
     "output_type": "display_data"
    },
    {
     "name": "stderr",
     "output_type": "stream",
     "text": [
      "  2%|█▌                                                                              | 10/500 [00:41<33:16,  4.08s/it]"
     ]
    }
   ],
   "source": [
    "prompts_to_eval = [prompts.clarity_eval_prompt, prompts.scientific_context_eval_prompt, prompts.societal_context_eval_prompt]\n",
    "for p in prompts_to_eval:\n",
    "    p['inputs']['Conversation'] = 'fixed_journalist_conv'\n",
    "\n",
    "llm_eval_results = llm_based_evaluation(prompts_to_eval, generated_convs, force_generation=False, evaluator_name=\"deepseek-ai/DeepSeek-R1-Distill-Qwen-14B\")"
   ]
  },
  {
   "cell_type": "code",
   "execution_count": 41,
   "id": "ccd4bc63-f93c-405c-9e11-c9909038af77",
   "metadata": {},
   "outputs": [
    {
     "name": "stdout",
     "output_type": "stream",
     "text": [
      "Loading /mnt/swordfish-pool2/milad/communicating-science-to-the-public/new-eval_experiment_500/baseline_qwen_gen_conv_fixed_quesions/ds_eval/deepseek-ai from already saved file\n",
      "Loading /mnt/swordfish-pool2/milad/communicating-science-to-the-public/new-eval_experiment_500/ft_qwen_gen_conv_fixed_quesions//ds_eval/deepseek-ai from already saved file\n",
      "Loading /mnt/swordfish-pool2/milad/communicating-science-to-the-public/new-eval_experiment_500/baseline_llama3_gen_conv_fixed_quesions/ds_eval/deepseek-ai from already saved file\n",
      "Loading /mnt/swordfish-pool2/milad/communicating-science-to-the-public/new-eval_experiment_500/ft_llama3_gen_conv_fixed_quesions//ds_eval/deepseek-ai from already saved file\n",
      "#                       clarity_eval_prompt    scientific_eval_prompt    societal_eval_prompt    Avg\n",
      "--------------------  ---------------------  ------------------------  ----------------------  -----\n",
      "qwen-baseline                          3.75                      2.97                    2.91   3.21\n",
      "ft-qwen-on-deepseek                    4                         2.94                    2.43   3.12\n",
      "llama-baseline                         3.77                      2.85                    2.75   3.12\n",
      "ft-llama-on-deepseek                   3.96                      2.92                    2.53   3.14\n"
     ]
    }
   ],
   "source": [
    "llm_eval_results = llm_based_evaluation(prompts_to_eval, generated_convs, force_generation=False, evaluator_name=\"deepseek-ai/DeepSeek-R1-Distill-Qwen-14B\")"
   ]
  },
  {
   "cell_type": "markdown",
   "id": "e477f8fb-b43b-47a8-9f5b-d2e16dc6d0ab",
   "metadata": {},
   "source": [
    "### Evaluating the Journalist"
   ]
  },
  {
   "cell_type": "markdown",
   "id": "bceaaf3f-4512-469d-85ee-d524419d8b30",
   "metadata": {},
   "source": [
    "#### Basic Eval"
   ]
  },
  {
   "cell_type": "code",
   "execution_count": 11,
   "id": "be0f691e-489f-4ff9-b28a-ef8f87b90ab7",
   "metadata": {},
   "outputs": [],
   "source": [
    "generated_convs = {\n",
    "    'qwen-baseline-simple':datasets.load_from_disk(ds_path + '/baseline_qwen_gen_conv_fixed_researcher_simple_prompt'),\n",
    "    'qwen-baseline':datasets.load_from_disk(ds_path + '/baseline_qwen_gen_conv_fixed_researcher'),\n",
    "    'ft-qwen-on-deepseek-simple-prompt' :datasets.load_from_disk(ds_path + '/ft_qwen_gen_conv_fixed_researcher'),\n",
    "    'llama-baseline-simple':datasets.load_from_disk(ds_path + '/baseline_llama3_gen_conv_fixed_researcher_simple_prompt'),\n",
    "    'llama-baseline':datasets.load_from_disk(ds_path + '/baseline_llama3_gen_conv_fixed_researcher'),\n",
    "    'ft-llama-on-deepseek-simple-prompt' :datasets.load_from_disk(ds_path + '/ft_llama3_gen_conv_fixed_researcher'),\n",
    "}"
   ]
  },
  {
   "cell_type": "code",
   "execution_count": 14,
   "id": "18365002-f1d3-4d3a-af83-2634733e8a6c",
   "metadata": {
    "scrolled": true
   },
   "outputs": [],
   "source": [
    "#print(\"{}\\n---\\n\\n\".format(generated_convs['ft-llama-on-deepseek']['paper_title'][4]),\"\\n\\n==\\n\\n\".join([x['content'] for x in generated_convs['ft-llama-on-deepseek']['generated_conversation'][4] if x['role'] == 'assistant']))"
   ]
  },
  {
   "cell_type": "code",
   "execution_count": 12,
   "id": "6aa34ebc-64bf-4d0f-afc3-914a2bbb7e49",
   "metadata": {},
   "outputs": [
    {
     "name": "stdout",
     "output_type": "stream",
     "text": [
      "Results on 500 sample\n"
     ]
    },
    {
     "name": "stderr",
     "output_type": "stream",
     "text": [
      "Some weights of RobertaModel were not initialized from the model checkpoint at roberta-large and are newly initialized: ['pooler.dense.bias', 'pooler.dense.weight']\n",
      "You should probably TRAIN this model on a down-stream task to be able to use it for predictions and inference.\n"
     ]
    },
    {
     "name": "stdout",
     "output_type": "stream",
     "text": [
      "Prompt                                Rouge-1    Rouge-L    BERT-f1\n",
      "----------------------------------  ---------  ---------  ---------\n",
      "qwen-baseline-simple                    0.33       0.14       0.812\n",
      "qwen-baseline                           0.32       0.137      0.819\n",
      "ft-qwen-on-deepseek-simple-prompt       0.384      0.15       0.824\n",
      "llama-baseline-simple                   0.345      0.148      0.821\n",
      "llama-baseline                          0.331      0.143      0.816\n",
      "ft-llama-on-deepseek-simple-prompt      0.388      0.158      0.826\n"
     ]
    }
   ],
   "source": [
    "print('Results on 500 sample')\n",
    "all_synth_conversations = utils.evalaute_convs(generated_convs)"
   ]
  },
  {
   "cell_type": "markdown",
   "id": "3ee48582-5bfd-46e4-b460-f39d70c0ba68",
   "metadata": {},
   "source": [
    "#### LLM-based Eval"
   ]
  },
  {
   "cell_type": "code",
   "execution_count": 26,
   "id": "afc2599f-f340-4833-8b54-2eb9527621a6",
   "metadata": {},
   "outputs": [],
   "source": [
    "generated_convs = {\n",
    "    'qwen-baseline-simple':[datasets.load_from_disk(ds_path + '/baseline_qwen_gen_conv_fixed_researcher_simple_prompt'), ds_path + '/baseline_qwen_gen_conv_fixed_researcher_simple_prompt'],\n",
    "    'qwen-baseline':[datasets.load_from_disk(ds_path + '/baseline_qwen_gen_conv_fixed_researcher'), ds_path + '/baseline_qwen_gen_conv_fixed_researcher'],\n",
    "    'ft-qwen-on-deepseek-simple-prompt' :[datasets.load_from_disk(ds_path + '/ft_qwen_gen_conv_fixed_researcher'), ds_path + '/ft_qwen_gen_conv_fixed_researcher'],\n",
    "    'llama-baseline-simple':[datasets.load_from_disk(ds_path + '/baseline_llama3_gen_conv_fixed_researcher_simple_prompt'),ds_path + '/baseline_llama3_gen_conv_fixed_researcher_simple_prompt'],\n",
    "    'llama-baseline':[datasets.load_from_disk(ds_path + '/baseline_llama3_gen_conv_fixed_researcher'),ds_path + '/baseline_llama3_gen_conv_fixed_researcher'],\n",
    "    'ft-llama-on-deepseek-simple-prompt' :[datasets.load_from_disk(ds_path + '/ft_llama3_gen_conv_fixed_researcher'),ds_path + '/ft_llama3_gen_conv_fixed_researcher'],\n",
    "}"
   ]
  },
  {
   "cell_type": "code",
   "execution_count": 144,
   "id": "adeee625-0a12-40bc-88a1-7cf48e7f0168",
   "metadata": {
    "scrolled": true
   },
   "outputs": [
    {
     "data": {
      "application/vnd.jupyter.widget-view+json": {
       "model_id": "3ce114687aa244858a3a80e4ee818291",
       "version_major": 2,
       "version_minor": 0
      },
      "text/plain": [
       "Uploading the dataset shards:   0%|          | 0/1 [00:00<?, ?it/s]"
      ]
     },
     "metadata": {},
     "output_type": "display_data"
    },
    {
     "data": {
      "application/vnd.jupyter.widget-view+json": {
       "model_id": "8a5178bbde064106b808954ad04401ff",
       "version_major": 2,
       "version_minor": 0
      },
      "text/plain": [
       "Creating parquet from Arrow format:   0%|          | 0/1 [00:00<?, ?ba/s]"
      ]
     },
     "metadata": {},
     "output_type": "display_data"
    },
    {
     "name": "stderr",
     "output_type": "stream",
     "text": [
      "No files have been modified since last commit. Skipping to prevent empty commit.\n"
     ]
    },
    {
     "data": {
      "application/vnd.jupyter.widget-view+json": {
       "model_id": "f165002adffb4fb2a244e5748afd500c",
       "version_major": 2,
       "version_minor": 0
      },
      "text/plain": [
       "Uploading the dataset shards:   0%|          | 0/1 [00:00<?, ?it/s]"
      ]
     },
     "metadata": {},
     "output_type": "display_data"
    },
    {
     "data": {
      "application/vnd.jupyter.widget-view+json": {
       "model_id": "676f08879799419785a8705977e3cbed",
       "version_major": 2,
       "version_minor": 0
      },
      "text/plain": [
       "Creating parquet from Arrow format:   0%|          | 0/1 [00:00<?, ?ba/s]"
      ]
     },
     "metadata": {},
     "output_type": "display_data"
    },
    {
     "data": {
      "application/vnd.jupyter.widget-view+json": {
       "model_id": "853f8ee0d46b4b45be26b1c915e5c7a7",
       "version_major": 2,
       "version_minor": 0
      },
      "text/plain": [
       "README.md: 0.00B [00:00, ?B/s]"
      ]
     },
     "metadata": {},
     "output_type": "display_data"
    },
    {
     "name": "stderr",
     "output_type": "stream",
     "text": [
      "No files have been modified since last commit. Skipping to prevent empty commit.\n"
     ]
    },
    {
     "name": "stdout",
     "output_type": "stream",
     "text": [
      "Dataset({\n",
      "    features: ['paper_id', 'paper_title', 'paper_text', 'prompt', 'completion', 'pr-article', 'topic', '__index_level_0__', 'generated_conversation', 'conversation', 'journalist_clarity_eval_prompt_scoring_parsed', 'journalist_scientific_context_eval_prompt_scoring_parsed', 'journalist_societal_context_eval_prompt_scoring_parsed'],\n",
      "    num_rows: 500\n",
      "})\n"
     ]
    }
   ],
   "source": [
    "# Uploading conversations into github\n",
    "for key,val in generated_convs.items():\n",
    "    val[0].push_to_hub('miladalsh/gen-conv-by-{}'.format(key))\n",
    "    # Upload the eval_results\n",
    "    eval_res = datasets.load_from_disk(val[1] + '/ds_journalist_eval/deepseek-ai/')\n",
    "    eval_res.push_to_hub('miladalsh/gen-conv-by-{}-with-eval'.format(key))\n",
    "    print(eval_res)\n",
    "    break"
   ]
  },
  {
   "cell_type": "code",
   "execution_count": 27,
   "id": "0bfa6814-0909-4bea-9b07-9ee595e6581b",
   "metadata": {},
   "outputs": [],
   "source": [
    "generated_convs['original_deepseek_conv']    = [datasets.load_from_disk(ds_path + '/ground_truth_conversation_ds'), ds_path + '/ground_truth_conversation_ds']\n",
    "generated_convs['original_deepseek_conv'][0] = generated_convs['original_deepseek_conv'][0].remove_columns(['scientific_eval_prompt_scoring_parsed', 'clarity_eval_prompt_scoring_parsed', 'societal_eval_prompt_scoring_parsed'])\n",
    "generated_convs['original_deepseek_conv'][0] = generated_convs['original_deepseek_conv'][0].map(lambda row: {'generated_conversation': [{'role': 'assistant' if 'journalist' in utter['author'].lower() else 'user', \n",
    "                                                                                                                                        'content':utter['text']\n",
    "                                                                                                                                       } for utter in row['parsed_conv']]})\n",
    "\n",
    "generated_convs['original_deepseek_conv_2']    = [datasets.load_from_disk('/mnt/swordfish-pool2/milad/communicating-science-to-the-public/deepseek-32-final-conv-1k-sample/'), '/mnt/swordfish-pool2/milad/communicating-science-to-the-public/deepseek-32-final-conv-ds-test/']\n",
    "generated_convs['original_deepseek_conv_2'][0] = generated_convs['original_deepseek_conv_2'][0].remove_columns(['scientific_eval_prompt_scoring_parsed', 'clarity_eval_prompt_scoring_parsed', 'societal_eval_prompt_scoring_parsed'])\n",
    "generated_convs['original_deepseek_conv_2'][0] = generated_convs['original_deepseek_conv_2'][0].map(lambda row: {'generated_conversation': [{'role': 'assistant' if 'journalist' in utter['author'].lower() else 'user', \n",
    "                                                                                                                                        'content':utter['text']\n",
    "                                                                                                                                       } for utter in row['parsed_conv']]})"
   ]
  },
  {
   "cell_type": "code",
   "execution_count": 21,
   "id": "1825ac6b-31f9-4f24-9b1c-e1c8ee467a7b",
   "metadata": {},
   "outputs": [
    {
     "data": {
      "text/plain": [
       "dict_keys(['original_deepseek_conv_2'])"
      ]
     },
     "execution_count": 21,
     "metadata": {},
     "output_type": "execute_result"
    }
   ],
   "source": [
    "generated_convs.keys()"
   ]
  },
  {
   "cell_type": "code",
   "execution_count": 28,
   "id": "553acc23-4271-4dbc-959a-b57ee7d1f038",
   "metadata": {
    "scrolled": true
   },
   "outputs": [
    {
     "name": "stdout",
     "output_type": "stream",
     "text": [
      "Loading /mnt/swordfish-pool2/milad/communicating-science-to-the-public/new-eval_experiment_500//baseline_qwen_gen_conv_fixed_researcher_simple_prompt/ds_journalist_eval/deepseek-ai from already saved file\n",
      "Loading /mnt/swordfish-pool2/milad/communicating-science-to-the-public/new-eval_experiment_500//baseline_qwen_gen_conv_fixed_researcher/ds_journalist_eval/deepseek-ai from already saved file\n",
      "Loading /mnt/swordfish-pool2/milad/communicating-science-to-the-public/new-eval_experiment_500//ft_qwen_gen_conv_fixed_researcher/ds_journalist_eval/deepseek-ai from already saved file\n",
      "Loading /mnt/swordfish-pool2/milad/communicating-science-to-the-public/new-eval_experiment_500//baseline_llama3_gen_conv_fixed_researcher_simple_prompt/ds_journalist_eval/deepseek-ai from already saved file\n",
      "Loading /mnt/swordfish-pool2/milad/communicating-science-to-the-public/new-eval_experiment_500//baseline_llama3_gen_conv_fixed_researcher/ds_journalist_eval/deepseek-ai from already saved file\n",
      "Loading /mnt/swordfish-pool2/milad/communicating-science-to-the-public/new-eval_experiment_500//ft_llama3_gen_conv_fixed_researcher/ds_journalist_eval/deepseek-ai from already saved file\n",
      "Loading /mnt/swordfish-pool2/milad/communicating-science-to-the-public/new-eval_experiment_500//ground_truth_conversation_ds/ds_journalist_eval/deepseek-ai from already saved file\n",
      "Loading /mnt/swordfish-pool2/milad/communicating-science-to-the-public/deepseek-32-final-conv-ds-test//ds_journalist_eval/deepseek-ai from already saved file\n",
      "#                                     journalist_clarity_eval_prompt    journalist_scientific_context_eval_prompt    journalist_societal_context_eval_prompt    Avg\n",
      "----------------------------------  --------------------------------  -------------------------------------------  -----------------------------------------  -----\n",
      "qwen-baseline-simple                                            0.64                                         0.41                                       0.07   0.37\n",
      "qwen-baseline                                                   0.72                                         0.46                                       0.17   0.45\n",
      "ft-qwen-on-deepseek-simple-prompt                               0.63                                         0.34                                       0.21   0.39\n",
      "llama-baseline-simple                                           0.63                                         0.32                                       0.15   0.37\n",
      "llama-baseline                                                  0.66                                         0.31                                       0.11   0.36\n",
      "ft-llama-on-deepseek-simple-prompt                              0.66                                         0.34                                       0.16   0.39\n",
      "original_deepseek_conv                                          0.61                                         0.39                                       0.23   0.41\n",
      "original_deepseek_conv_2                                        0.49                                         0.32                                       0.17   0.33\n"
     ]
    }
   ],
   "source": [
    "prompts_to_eval = [prompts.journalist_clarity_eval_prompt, prompts.journalist_scientific_context_eval_prompt, prompts.journalist_societal_context_eval_prompt]\n",
    "\n",
    "llm_eval_results = llm_based_evaluation(prompts_to_eval, generated_convs, force_generation=False, evaluator_name=\"deepseek-ai/DeepSeek-R1-Distill-Qwen-32B\", eval_conv_questions=True)"
   ]
  },
  {
   "cell_type": "code",
   "execution_count": 30,
   "id": "50d211ae-3db0-4a43-8bac-b16f30fe3545",
   "metadata": {
    "scrolled": true
   },
   "outputs": [
    {
     "data": {
      "text/plain": [
       "[{'content': ' How did the researchers identify new genomic variants associated with CHIP?',\n",
       "  'role': 'assistant'},\n",
       " {'content': ' We used exome-wide and genome-wide association analyses to study genetic data from large datasets. We focused on 23 genes already linked to CHIP and analyzed data from over 600,000 individuals to identify carriers and associated variants.',\n",
       "  'role': 'user'},\n",
       " {'content': ' What datasets were used in the study, and how many individuals were analyzed?',\n",
       "  'role': 'assistant'},\n",
       " {'content': ' The study utilized data from the UK Biobank and the Geisinger MyCode Community Health Initiative. In total, we analyzed data from 628,388 individuals, identifying 40,208 carriers of CHIP-associated variants.',\n",
       "  'role': 'user'},\n",
       " {'content': ' How many loci were identified, and how many were novel?',\n",
       "  'role': 'assistant'},\n",
       " {'content': \" We identified 24 loci associated with CHIP, out of which 21 were novel, meaning they hadn't been previously linked to CHIP.\",\n",
       "  'role': 'user'},\n",
       " {'content': ' Were any variants associated with telomere length identified?',\n",
       "  'role': 'assistant'},\n",
       " {'content': ' Yes, we found associations between rare variants in genes related to telomere maintenance and CHIP, suggesting a connection between telomere length and clonal hematopoiesis.',\n",
       "  'role': 'user'},\n",
       " {'content': ' What health traits were associated with CHIP variants in the UK Biobank analysis?',\n",
       "  'role': 'assistant'},\n",
       " {'content': ' The analysis revealed associations with severe COVID-19 outcomes, cardiovascular disease, hematologic traits, malignancy, smoking, obesity, infections, and all-cause mortality.',\n",
       "  'role': 'user'},\n",
       " {'content': ' What specific diseases or conditions were linked to CHIP?',\n",
       "  'role': 'assistant'},\n",
       " {'content': ' CHIP was linked to conditions like severe COVID-19, cardiovascular diseases, and infections. It was also associated with an increased risk of developing certain cancers, such as non-melanoma skin cancer and lung cancer.',\n",
       "  'role': 'user'},\n",
       " {'content': ' Were any associations found between CHIP and cancer development?',\n",
       "  'role': 'assistant'},\n",
       " {'content': ' Yes, our longitudinal and Mendelian randomization analyses showed that CHIP is associated with solid cancers, including non-melanoma skin cancer and lung cancer. Additionally, CHIP linked to DNMT3A was associated with the subsequent development of myeloid leukemias.',\n",
       "  'role': 'user'},\n",
       " {'content': ' How did the researchers confirm their findings, and what replication efforts were conducted?',\n",
       "  'role': 'assistant'},\n",
       " {'content': ' We conducted replication analyses using the Geisinger MyCode dataset to confirm our findings. We also performed conditional analysis and fine-mapping to ensure the independence of our genome-wide associations.',\n",
       "  'role': 'user'},\n",
       " {'content': ' What are the broader implications of these findings for understanding and treating diseases related to CHIP?',\n",
       "  'role': 'assistant'},\n",
       " {'content': ' These findings enhance our understanding of the genetic basis of CHIP and its association with various diseases. They could lead to new therapeutic targets and strategies for preventing or treating conditions linked to clonal hematopoiesis.',\n",
       "  'role': 'user'}]"
      ]
     },
     "execution_count": 30,
     "metadata": {},
     "output_type": "execute_result"
    }
   ],
   "source": [
    "llm_eval_results['original_deepseek_conv_2']['generated_conversation'][1][2:]"
   ]
  },
  {
   "cell_type": "code",
   "execution_count": 88,
   "id": "b08ad31c-7c44-4125-87aa-827c02445976",
   "metadata": {},
   "outputs": [
    {
     "data": {
      "text/plain": [
       "Dataset({\n",
       "    features: ['paper_id', 'paper_title', 'paper_text', 'prompt', 'completion', 'pr-article', 'topic', '__index_level_0__', 'generated_conversation', 'conversation', 'journalist_clarity_eval_prompt_scoring_parsed', 'journalist_scientific_context_eval_prompt_scoring_parsed', 'journalist_societal_context_eval_prompt_scoring_parsed'],\n",
       "    num_rows: 500\n",
       "})"
      ]
     },
     "execution_count": 88,
     "metadata": {},
     "output_type": "execute_result"
    }
   ],
   "source": [
    "llm_eval_results['qwen-baseline']"
   ]
  },
  {
   "cell_type": "code",
   "execution_count": 90,
   "id": "f4e8a1af-3a40-4edb-a808-741c160602b7",
   "metadata": {
    "scrolled": true
   },
   "outputs": [
    {
     "name": "stdout",
     "output_type": "stream",
     "text": [
      "{'reasons': {'all_questions': ['Could you explain how your method of using single-photon interference over coiled fibers differs from the two-photon interference used over the shorter 22 kilometers of deployed fiber?', 'How does the difference in fiber length and type affect the efficiency and stability of the entanglement process?', 'Given the increased complexity and potential issues with single-photon interference over longer distances, could you elaborate on the specific steps and techniques you employed to ensure the single photon could maintain its integrity and successfully interfere with the photon from the other ensemble?', 'How did you mitigate the effects of transmission losses and other sources of noise in the coiled fibers?', 'Given the importance of these techniques, could you provide more detail on how you implemented error correction protocols?', 'How do these protocols help in maintaining the integrity of the entangled state, especially when dealing with long-distance transmission?', 'Could you explain more about how the surface code quantum error correction works in the context of your experiment?', 'Specifically, how does it help in maintaining the entanglement between the two atomic ensembles over 50 kilometers?', 'Also, are there any particular challenges or limitations you faced while implementing the surface code QEC, and how did you address them?'], 'good_questions': ['Could you explain how your method of using single-photon interference over coiled fibers differs from the two-photon interference used over the shorter 22 kilometers of deployed fiber?', 'Given the increased complexity and potential issues with single-photon interference over longer distances, could you elaborate on the specific steps and techniques you employed to ensure the single photon could maintain its integrity and successfully interfere with the photon from the other ensemble?', 'How did you mitigate the effects of transmission losses and other sources of noise in the coiled fibers?', 'Given the importance of these techniques, could you provide more detail on how you implemented error correction protocols?', 'How do these protocols help in maintaining the integrity of the entangled state, especially when dealing with long-distance transmission?', 'Could you explain more about how the surface code quantum error correction works in the context of your experiment?', 'Specifically, how does it help in maintaining the entanglement between the two atomic ensembles over 50 kilometers?']}, 'score': 0.7777777777777778}\n"
     ]
    }
   ],
   "source": [
    "print(llm_eval_results['qwen-baseline']['journalist_scientific_context_eval_prompt_scoring_parsed'][1])"
   ]
  },
  {
   "cell_type": "code",
   "execution_count": 93,
   "id": "ca45e04d-105a-4b50-a0f7-5c8944cdc9b8",
   "metadata": {
    "scrolled": true
   },
   "outputs": [
    {
     "name": "stdout",
     "output_type": "stream",
     "text": [
      "{'reasons': {'all_questions': ['Follow-up Question 1:  Could you clarify how the study defined and categorized the different dietary groups?', 'Can you explain what factors contributed to this reduced risk?', 'But what about the higher risk of stroke in vegetarians?', 'Can you elaborate on why this might be the case?', 'Can you clarify what this means and why these factors were included in the analysis?'], 'good_questions': []}, 'score': 0.0}\n"
     ]
    }
   ],
   "source": [
    "print(llm_eval_results['ft-llama-on-deepseek-simple-prompt']['journalist_scientific_context_eval_prompt_scoring_parsed'][0])"
   ]
  },
  {
   "cell_type": "code",
   "execution_count": 104,
   "id": "66224753-c884-403c-8ec3-494cf4b36019",
   "metadata": {
    "scrolled": true
   },
   "outputs": [
    {
     "data": {
      "text/plain": [
       "[{'content': 'How did the researchers achieve the fastest flexible diodes ever created?',\n",
       "  'role': 'assistant'},\n",
       " {'content': \"According to the paper, the researchers achieved the fastest flexible diodes ever created by fabricating Schottky diodes based on amorphous indium-gallium-zinc-oxide (IGZO) on flexible plastic substrates. They used suitable radio-frequency (RF) mesa structures, a range of IGZO thicknesses, and diode sizes to study the effects of these parameters on the diode's performance.\\n\\nThe researchers found an unexpected dependence of the diode speed on the IGZO thickness, which allowed them to optimize the diode design to achieve the best possible performance. They also extracted the intrinsic and extrinsic components that determine the diode cut-off frequencies from the S-parameter measurements and used these results to develop two methods to further improve the diode speed.\\n\\nIn particular, they achieved a cut-off frequency of 6.3 GHz at zero bias, which is beyond the critical benchmark speed of 2.45 GHz required for wireless communications. This achievement is significant because it enables the development of flexible mobile phones that can operate at high frequencies, making them suitable for applications such as cellular communication, Bluetooth, Wi-Fi, and global satellite positioning.\",\n",
       "  'role': 'user'},\n",
       " {'content': 'What makes IGZO suitable for flexible electronics, and how does it compare to other materials?',\n",
       "  'role': 'assistant'},\n",
       " {'content': 'According to the paper, IGZO (indium-gallium-zinc-oxide) is suitable for flexible electronics due to its high electron mobility and the possibility of low-temperature film deposition on plastic substrates. IGZO has already seen rapid adoption as the channel material in backplane driver transistors in some newest flat-panel displays, where a transistor speed of 200 Hz suffices.',\n",
       "  'role': 'user'},\n",
       " {'content': 'The report mentions that the diodes were fabricated at room temperature and without any post-treatment, unlike previous methods that required high-temperature annealing. How did the researchers achieve this, and what are the implications for scalability and cost?',\n",
       "  'role': 'assistant'},\n",
       " {'content': 'The paper does not explicitly state how the researchers achieved fabrication at room temperature and without any post-treatment, but it is likely that they used a specific deposition technique or process that allowed them to deposit the IGZO layer at a low temperature.',\n",
       "  'role': 'user'},\n",
       " {'content': 'The implications for scalability and cost are substantial. Room-temperature fabrication eliminates the need for expensive high-temperature ovens, reducing production costs. Additionally, the absence of post-treatment simplifies the manufacturing process, potentially enabling mass production with lower energy consumption. This could make flexible electronics more accessible and affordable for consumers.',\n",
       "  'role': 'assistant'},\n",
       " {'content': \"Exactly! By fabricating the diodes at room temperature and without any post-treatment, the researchers have made a significant breakthrough in terms of scalability and cost. This could have a major impact on the production of flexible electronics, making it more feasible and cost-effective to mass-produce these devices. This, in turn, could make flexible electronics more accessible and affordable for consumers, which could have a significant impact on the development of wearable electronics, flexible displays, and other applications.assistant\\n\\nThat's correct! The ability to fabricate flexible electronics at room temperature and without post-treatment could enable mass production at a lower cost, making it more viable for widespread adoption. This could lead to a wider range of applications, from consumer electronics to medical devices, and could potentially transform the way we interact with technology.assistant\\n\\nExactly! The potential implications are vast. With lower production costs, flexible electronics could become more mainstream, enabling new forms of interaction, monitoring, and communication. For example, flexible displays could be integrated into clothing, allowing for augmented reality experiences, or flexible sensors could be used to monitor vital signs, enabling real-time health monitoring. The possibilities are endless, and the breakthrough in room-temperature fabrication could be a game-changer for the industry.assistant\\n\\nThe possibilities are truly exciting. And it's not just limited to consumer electronics, but also has potential applications in industries such as healthcare, aerospace, and defense. For instance, flexible electronics could be used to create wearable devices for soldiers, allowing for real-time monitoring and communication in the field. Or, flexible sensors could be integrated into medical devices, enabling more precise and continuous monitoring of patients. The potential impact is vast, and it's exciting to think about the possibilities that this breakthrough could unlock.assistant\\n\\nExactly! The potential applications are vast and diverse, and it's exciting to think about the possibilities that this breakthrough could unlock. And it's not just about the technology itself, but also about the potential societal and economic impacts. For example, flexible electronics could enable new forms of telemedicine, allowing for remote monitoring and diagnosis, which could improve healthcare outcomes and reduce costs. Or, it could enable new forms of education, such as flexible displays that can be worn on the body, allowing for more immersive and interactive learning experiences. The possibilities are endless, and it's exciting to think about the potential positive impacts that this technology could have on society.assistant\",\n",
       "  'role': 'user'},\n",
       " {'content': \"Absolutely! The potential applications are vast and diverse, and it's exciting to think about the possibilities that this breakthrough could unlock. For instance, flexible electronics could enable new forms of telemedicine, allowing for remote monitoring and diagnosis, which could improve healthcare outcomes and reduce costs. Or, it could enable new forms of education, such as flexible displays that can be worn on the body, allowing for more immersive and interactive learning experiences. The possibilities are endless, and it's exciting to think about the potential positive impacts that this technology could have on society.\",\n",
       "  'role': 'assistant'},\n",
       " {'content': \"It's great to see how this breakthrough could have a significant impact on various industries and aspects of our lives. The potential for flexible electronics to transform healthcare, education, and other fields is vast and exciting. It's a great reminder of the importance of continued innovation and research in the field of materials science and engineering.\",\n",
       "  'role': 'user'}]"
      ]
     },
     "execution_count": 104,
     "metadata": {},
     "output_type": "execute_result"
    }
   ],
   "source": [
    "llm_eval_results['ft-qwen-on-deepseek-simple-prompt']['generated_conversation'][7][2:]"
   ]
  },
  {
   "cell_type": "code",
   "execution_count": 105,
   "id": "cd39de8c-df14-4a69-bea2-c583d954ec09",
   "metadata": {},
   "outputs": [
    {
     "data": {
      "text/plain": [
       "{'reasons': {'all_questions': ['How did the researchers achieve the fastest flexible diodes ever created?',\n",
       "   'What makes IGZO suitable for flexible electronics, and how does it compare to other materials?',\n",
       "   'How did the researchers achieve this, and what are the implications for scalability and cost?'],\n",
       "  'good_questions': ['What makes IGZO suitable for flexible electronics, and how does it compare to other materials?']},\n",
       " 'score': 0.3333333333333333}"
      ]
     },
     "execution_count": 105,
     "metadata": {},
     "output_type": "execute_result"
    }
   ],
   "source": [
    "llm_eval_results['ft-qwen-on-deepseek-simple-prompt']['journalist_scientific_context_eval_prompt_scoring_parsed'][7]"
   ]
  },
  {
   "cell_type": "code",
   "execution_count": 92,
   "id": "7c50d6fe-174f-425c-a4e3-f808c8c05dc9",
   "metadata": {
    "scrolled": true
   },
   "outputs": [
    {
     "name": "stdout",
     "output_type": "stream",
     "text": [
      "Loading /mnt/swordfish-pool2/milad/communicating-science-to-the-public/new-eval_experiment_100/baseline_qwen_gen_conv_fixed_researcher/ds_eval/deepseek-ai from already saved file\n",
      "Loading /mnt/swordfish-pool2/milad/communicating-science-to-the-public/new-eval_experiment_100/ft_qwen_gen_conv_fixed_researcher-simple-prompt/ds_eval/deepseek-ai from already saved file\n",
      "Loading /mnt/swordfish-pool2/milad/communicating-science-to-the-public/new-eval_experiment_100/ft_qwen_gen_conv_fixed_researcher-adv-prompt/ds_eval/deepseek-ai from already saved file\n",
      "Loading /mnt/swordfish-pool2/milad/communicating-science-to-the-public/new-eval_experiment_100/baseline_llama3_gen_conv_fixed_researcher/ds_eval/deepseek-ai from already saved file\n",
      "Loading /mnt/swordfish-pool2/milad/communicating-science-to-the-public/new-eval_experiment_100/ft_llama3_gen_conv_fixed_researcher-simple-prompt/ds_eval/deepseek-ai from already saved file\n",
      "Loading /mnt/swordfish-pool2/milad/communicating-science-to-the-public/new-eval_experiment_100/ft_llama3_gen_conv_fixed_researcher-adv-prompt/ds_eval/deepseek-ai from already saved file\n",
      "#                                     clarity_eval_prompt    scientific_eval_prompt    societal_eval_prompt    Avg\n",
      "----------------------------------  ---------------------  ------------------------  ----------------------  -----\n",
      "qwen-baseline                                        4                         2.3                     1.69   2.66\n",
      "ft-qwen-on-deepseek-simple-prompt                    4.25                      2.24                    1.85   2.78\n",
      "ft-qwen-on-deepseek-adv-prompt                       4.11                      2.16                    1.8    2.69\n",
      "llama-baseline                                       4.05                      1.96                    1.57   2.53\n",
      "ft-llama-on-deepseek-simple-prompt                   4.12                      2.12                    1.74   2.66\n",
      "ft-llama-on-deepseek-adv-prompt                      3.93                      1.85                    1.65   2.48\n"
     ]
    }
   ],
   "source": [
    "prompts_to_eval = [prompts.clarity_eval_prompt, prompts.scientific_context_eval_prompt, prompts.societal_context_eval_prompt]\n",
    "\n",
    "llm_eval_results = llm_based_evaluation(prompts_to_eval, generated_convs, force_generation=False, evaluator_name=\"deepseek-ai/DeepSeek-R1-Distill-Qwen-14B\")"
   ]
  },
  {
   "cell_type": "code",
   "execution_count": 134,
   "id": "ce5d5bf9-5ef4-4640-bc14-870ff0a0e09b",
   "metadata": {
    "scrolled": true
   },
   "outputs": [
    {
     "name": "stdout",
     "output_type": "stream",
     "text": [
      "qwen-baseline-simple --> 878 2500 0.351\n",
      "===============\n",
      "qwen-baseline --> 1664 2500 0.666\n",
      "===============\n",
      "ft-qwen-on-deepseek-simple-prompt --> 1681 2500 0.672\n",
      "===============\n",
      "llama-baseline-simple --> 2227 2500 0.891\n",
      "===============\n",
      "llama-baseline --> 2418 2500 0.967\n",
      "===============\n",
      "ft-llama-on-deepseek-simple-prompt --> 2458 2500 0.983\n",
      "===============\n",
      "original_deepseek_conv --> 2483 2747 0.904\n",
      "===============\n"
     ]
    }
   ],
   "source": [
    "# quanitfy how often the journalist switches role (doesn't ask questions)\n",
    "for key, ds in generated_convs.items():\n",
    "    ds = ds[0]\n",
    "    journalist_turns = [x['content'] for conv in ds['generated_conversation'] for x in conv[1:-1] if x['role'] == 'assistant']\n",
    "    journalist_questions = [extract_questions(turn) for turn in journalist_turns]\n",
    "    print(key, '-->' , len([x for x in journalist_questions if len(x) >0 ]), len(journalist_turns), round(len([x for x in journalist_questions if len(x) >0 ])/len(journalist_turns), 3))\n",
    "    # print([x for x in zip(journalist_turns, journalist_questions) if len(x[1]) == 0][:5])\n",
    "    print('===============')"
   ]
  },
  {
   "cell_type": "markdown",
   "id": "c08d3be8-a5bd-4974-b79b-8fdab910b86a",
   "metadata": {},
   "source": [
    "Performing statistical analysis on the ta scores"
   ]
  },
  {
   "cell_type": "code",
   "execution_count": 16,
   "id": "2e4a634b-8b7a-40b1-84b6-31961379694a",
   "metadata": {},
   "outputs": [
    {
     "data": {
      "text/plain": [
       "Dataset({\n",
       "    features: ['paper_id', 'paper_title', 'paper_text', 'prompt', 'completion', 'pr-article', 'topic', '__index_level_0__', 'generated_conversation', 'conversation', 'journalist_clarity_eval_prompt_scoring_parsed', 'journalist_scientific_context_eval_prompt_scoring_parsed', 'journalist_societal_context_eval_prompt_scoring_parsed'],\n",
       "    num_rows: 100\n",
       "})"
      ]
     },
     "execution_count": 16,
     "metadata": {},
     "output_type": "execute_result"
    }
   ],
   "source": [
    " llm_eval_results['ft-llama-on-deepseek-simple-prompt']"
   ]
  },
  {
   "cell_type": "code",
   "execution_count": 18,
   "id": "a325c27c-60b9-40f4-9bac-322289fe11d3",
   "metadata": {
    "scrolled": true
   },
   "outputs": [
    {
     "name": "stdout",
     "output_type": "stream",
     "text": [
      "Paired T-test Results:\n",
      "T-statistic: 2065.5\n",
      "P-value: 0.6456451957848015\n",
      "\n",
      "Interpretation:\n",
      "The p-value (0.6456) is greater than the significance level (0.05).\n",
      "Conclusion: There is no statistically significant difference between the two systems.\n",
      "=====\n",
      "Paired T-test Results:\n",
      "T-statistic: 1921.0\n",
      "P-value: 0.18264351548240743\n",
      "\n",
      "Interpretation:\n",
      "The p-value (0.1826) is greater than the significance level (0.05).\n",
      "Conclusion: There is no statistically significant difference between the two systems.\n",
      "=====\n",
      "Paired T-test Results:\n",
      "T-statistic: 1120.5\n",
      "P-value: 0.10770328491534613\n",
      "\n",
      "Interpretation:\n",
      "The p-value (0.1077) is greater than the significance level (0.05).\n",
      "Conclusion: There is no statistically significant difference between the two systems.\n"
     ]
    }
   ],
   "source": [
    "ft_scores = [x['score'] for x in llm_eval_results['ft-llama-on-deepseek-simple-prompt']['journalist_clarity_eval_prompt_scoring_parsed']]\n",
    "bl_scores = [x['score'] for x in llm_eval_results['llama-baseline']['journalist_clarity_eval_prompt_scoring_parsed']]\n",
    "utils.stats_analysis(ft_scores, bl_scores)\n",
    "print('=====')\n",
    "ft_scores = [x['score'] for x in llm_eval_results['ft-llama-on-deepseek-simple-prompt']['journalist_scientific_context_eval_prompt_scoring_parsed']]\n",
    "bl_scores = [x['score'] for x in llm_eval_results['llama-baseline']['journalist_scientific_context_eval_prompt_scoring_parsed']]\n",
    "utils.stats_analysis(ft_scores, bl_scores)\n",
    "print('=====')\n",
    "ft_scores = [x['score'] for x in llm_eval_results['ft-llama-on-deepseek-simple-prompt']['journalist_societal_context_eval_prompt_scoring_parsed']]\n",
    "bl_scores = [x['score'] for x in llm_eval_results['llama-baseline']['journalist_societal_context_eval_prompt_scoring_parsed']]\n",
    "utils.stats_analysis(ft_scores, bl_scores)"
   ]
  },
  {
   "cell_type": "code",
   "execution_count": 19,
   "id": "78fa4d7e-0dc2-4b3d-9178-2f05fed34c1a",
   "metadata": {
    "scrolled": true
   },
   "outputs": [
    {
     "name": "stdout",
     "output_type": "stream",
     "text": [
      "Paired T-test Results:\n",
      "T-statistic: 1190.0\n",
      "P-value: 0.0021805381552662357\n",
      "\n",
      "Interpretation:\n",
      "The p-value (0.0022) is less than the significance level (0.05).\n",
      "Conclusion: There is a statistically significant difference between the two systems.\n",
      "=====\n",
      "Paired T-test Results:\n",
      "T-statistic: 1824.0\n",
      "P-value: 0.09051180549476667\n",
      "\n",
      "Interpretation:\n",
      "The p-value (0.0905) is greater than the significance level (0.05).\n",
      "Conclusion: There is no statistically significant difference between the two systems.\n",
      "=====\n",
      "Paired T-test Results:\n",
      "T-statistic: 1014.0\n",
      "P-value: 0.003645799178622852\n",
      "\n",
      "Interpretation:\n",
      "The p-value (0.0036) is less than the significance level (0.05).\n",
      "Conclusion: There is a statistically significant difference between the two systems.\n"
     ]
    }
   ],
   "source": [
    "ft_scores = [x['score'] for x in llm_eval_results['ft-qwen-on-deepseek-simple-prompt']['journalist_clarity_eval_prompt_scoring_parsed']]\n",
    "bl_scores = [x['score'] for x in llm_eval_results['qwen-baseline']['journalist_clarity_eval_prompt_scoring_parsed']]\n",
    "utils.stats_analysis(ft_scores, bl_scores)\n",
    "print('=====')\n",
    "ft_scores = [x['score'] for x in llm_eval_results['ft-qwen-on-deepseek-simple-prompt']['journalist_scientific_context_eval_prompt_scoring_parsed']]\n",
    "bl_scores = [x['score'] for x in llm_eval_results['qwen-baseline']['journalist_scientific_context_eval_prompt_scoring_parsed']]\n",
    "utils.stats_analysis(ft_scores, bl_scores)\n",
    "print('=====')\n",
    "ft_scores = [x['score'] for x in llm_eval_results['ft-qwen-on-deepseek-simple-prompt']['journalist_societal_context_eval_prompt_scoring_parsed']]\n",
    "bl_scores = [x['score'] for x in llm_eval_results['qwen-baseline']['journalist_societal_context_eval_prompt_scoring_parsed']]\n",
    "utils.stats_analysis(ft_scores, bl_scores)"
   ]
  },
  {
   "cell_type": "markdown",
   "id": "68a95478-e067-4758-920f-a8ea72c3cbc7",
   "metadata": {},
   "source": [
    "-------"
   ]
  },
  {
   "cell_type": "markdown",
   "id": "c6acac49-0595-40d4-82d5-103c919b352d",
   "metadata": {},
   "source": [
    "### Analysis of the automatic evalaution"
   ]
  },
  {
   "cell_type": "markdown",
   "id": "a1e80518-b892-4906-964d-01ec3cf1a7c1",
   "metadata": {},
   "source": [
    "#### Analysis\n",
    "This is the analysis"
   ]
  },
  {
   "cell_type": "code",
   "execution_count": 108,
   "id": "a590e9c5-53df-493d-bd2a-5a02e9a6b19c",
   "metadata": {},
   "outputs": [],
   "source": [
    "# generated_convs = {\n",
    "#     'qwen-baseline':[datasets.load_from_disk(ds_path + '/baseline_qwen_gen_conv_fixed_researcher'), ds_path + '/baseline_qwen_gen_conv_fixed_researcher'],\n",
    "#     'ft-qwen-on-deepseek' :[datasets.load_from_disk(ds_path + '/ft_qwen_gen_conv_fixed_researcher'),ds_path +  '/ft_qwen_gen_conv_fixed_fixed_researcher'],\n",
    "#     'llama-baseline':[datasets.load_from_disk(ds_path + '/baseline_llama3_gen_conv_fixed_researcher'), ds_path + '/baseline_llama3_gen_conv_fixed_researcher'],\n",
    "#     'ft-llama-on-deepseek' :[datasets.load_from_disk(ds_path + '/ft_llama3_gen_conv_fixed_researcher'),ds_path +  '/ft_llama3_gen_conv_fixed_researcher'],\n",
    "# }\n",
    "\n",
    "generated_convs = {\n",
    "    'qwen-baseline':[datasets.load_from_disk(ds_path + '/baseline_qwen_gen_conv_fixed_researcher'), ds_path + '/baseline_qwen_gen_conv_fixed_researcher'],\n",
    "    'ft-qwen-on-deepseek-simple-prompt' :[datasets.load_from_disk(ds_path + '/ft_qwen_gen_conv_fixed_researcher-simple-prompt'), ds_path + '/ft_qwen_gen_conv_fixed_researcher-simple-prompt'],\n",
    "    #'ft-qwen-on-deepseek-adv-prompt' :[datasets.load_from_disk(ds_path + '/ft_qwen_gen_conv_fixed_researcher-adv-prompt'),ds_path + '/ft_qwen_gen_conv_fixed_researcher-adv-prompt'],\n",
    "    'llama-baseline':[datasets.load_from_disk(ds_path + '/baseline_llama3_gen_conv_fixed_researcher'),ds_path + '/baseline_llama3_gen_conv_fixed_researcher'],\n",
    "    'ft-llama-on-deepseek-simple-prompt' :[datasets.load_from_disk(ds_path + '/ft_llama3_gen_conv_fixed_researcher-simple-prompt'),ds_path + '/ft_llama3_gen_conv_fixed_researcher-simple-prompt'],\n",
    "    #'ft-llama-on-deepseek-adv-prompt' :[datasets.load_from_disk(ds_path + '/ft_llama3_gen_conv_fixed_researcher-adv-prompt'), ds_path + '/ft_llama3_gen_conv_fixed_researcher-adv-prompt']\n",
    "}"
   ]
  },
  {
   "cell_type": "code",
   "execution_count": 109,
   "id": "5473a12c-3f20-4aa1-b68f-367964c6c18b",
   "metadata": {
    "scrolled": true
   },
   "outputs": [
    {
     "name": "stdout",
     "output_type": "stream",
     "text": [
      "Loading /mnt/swordfish-pool2/milad/communicating-science-to-the-public/new-eval_experiment_100/baseline_qwen_gen_conv_fixed_researcher/ds_eval/deepseek-ai from already saved file\n",
      "Loading /mnt/swordfish-pool2/milad/communicating-science-to-the-public/new-eval_experiment_100/ft_qwen_gen_conv_fixed_researcher-simple-prompt/ds_eval/deepseek-ai from already saved file\n",
      "Loading /mnt/swordfish-pool2/milad/communicating-science-to-the-public/new-eval_experiment_100/baseline_llama3_gen_conv_fixed_researcher/ds_eval/deepseek-ai from already saved file\n",
      "Loading /mnt/swordfish-pool2/milad/communicating-science-to-the-public/new-eval_experiment_100/ft_llama3_gen_conv_fixed_researcher-simple-prompt/ds_eval/deepseek-ai from already saved file\n",
      "#                                     clarity_eval_prompt    scientific_eval_prompt    societal_eval_prompt    Avg\n",
      "----------------------------------  ---------------------  ------------------------  ----------------------  -----\n",
      "qwen-baseline                                        4                         2.3                     1.69   2.66\n",
      "ft-qwen-on-deepseek-simple-prompt                    4.25                      2.24                    1.85   2.78\n",
      "llama-baseline                                       4.05                      1.96                    1.57   2.53\n",
      "ft-llama-on-deepseek-simple-prompt                   4.12                      2.12                    1.74   2.66\n"
     ]
    }
   ],
   "source": [
    "prompts_to_eval = [prompts.clarity_eval_prompt, prompts.scientific_context_eval_prompt, prompts.societal_context_eval_prompt]\n",
    "\n",
    "llm_eval_results = llm_based_evaluation(prompts_to_eval, generated_convs, force_generation=False, evaluator_name=\"deepseek-ai/DeepSeek-R1-Distill-Qwen-14B\")"
   ]
  },
  {
   "cell_type": "code",
   "execution_count": 112,
   "id": "358962a3-9ffd-47d2-af5e-d41722701c2e",
   "metadata": {
    "scrolled": true
   },
   "outputs": [
    {
     "name": "stdout",
     "output_type": "stream",
     "text": [
      "{'qwen-baseline': [2, 1, 1, 2, 1, 2, 1, 1, 1, 3, 1, 2, 2, 1, 3, 2, 1, 2, 3, 1, 1, 3, 2, 1, 2, 1, 1, 1, 1, 2, 2, 1, 1, 3, 1, 2, 3, 3, 2, 1, 2, 3, 1, 1, 1, 1, 2, 2, 3, 1, 3, 2, 3, 1, 1, 2, 1, 1, 2, 2, 1, 2, 2, 1, 1, 1, 1, 2, 1, 2, 2, 1, 2, 3, 3, 2, 1, 1, 1, 3, 1, 3, 3, 1, 1, 1, 2, 1, 1, 2, 3, 1, 1, 1, 2, 2, 3, 1, 1, 3], 'ft-qwen-on-deepseek-simple-prompt': [2, 1, 2, 1, 3, 1, 2, 2, 2, 1, 1, 1, 1, 1, 2, 2, 1, 2, 2, 2, 2, 1, 2, 2, 2, 3, 1, 1, 2, 2, 1, 2, 2, 2, 2, 1, 2, 3, 2, 2, 2, 2, 2, 2, 1, 2, 1, 2, 2, 2, 2, 2, 2, 2, 3, 3, 1, 1, 3, 1, 2, 2, 1, 1, 2, 2, 2, 2, 3, 2, 2, 3, 2, 2, 3, 2, 2, 1, 1, 3, 2, 3, 2, 2, 1, 2, 1, 3, 3, 2, 3, 2, 1, 1, 2, 2, 2, 1, 2, 1], 'llama-baseline': [2, 1, 1, 1, 1, 2, 1, 1, 1, 1, 1, 2, 2, 2, 1, 1, 1, 1, 1, 2, 1, 1, 1, 2, 1, 1, 1, 2, 1, 1, 1, 2, 1, 2, 2, 1, 2, 3, 2, 2, 2, 2, 1, 1, 2, 1, 1, 1, 2, 2, 3, 1, 2, 1, 1, 2, 2, 2, 3, 1, 1, 1, 1, 2, 2, 2, 2, 2, 2, 1, 2, 1, 2, 2, 3, 2, 1, 1, 2, 2, 1, 1, 2, 1, 1, 2, 2, 3, 1, 1, 2, 1, 1, 3, 2, 2, 3, 1, 3, 1], 'ft-llama-on-deepseek-simple-prompt': [2, 2, 2, 1, 1, 1, 2, 1, 1, 1, 1, 2, 2, 2, 2, 3, 1, 2, 2, 2, 1, 2, 1, 2, 1, 2, 2, 2, 2, 2, 1, 2, 1, 1, 1, 1, 2, 3, 2, 2, 2, 1, 2, 1, 1, 2, 2, 1, 3, 2, 3, 2, 3, 2, 1, 2, 2, 2, 2, 2, 1, 2, 2, 1, 2, 2, 2, 3, 1, 1, 3, 1, 1, 1, 2, 2, 1, 1, 1, 3, 3, 2, 3, 2, 1, 2, 1, 2, 3, 1, 3, 1, 1, 1, 2, 2, 3, 2, 1, 1]}\n"
     ]
    },
    {
     "data": {
      "image/png": "[encoded data removed]",
      "text/plain": [
       "<Figure size 640x480 with 1 Axes>"
      ]
     },
     "metadata": {},
     "output_type": "display_data"
    }
   ],
   "source": [
    "utils.histogram_of_scores(llm_eval_results, 'societal_eval_prompt_scoring_parsed', 'Societal Impact Scores')"
   ]
  },
  {
   "cell_type": "code",
   "execution_count": 103,
   "id": "b956298b-8756-46cb-80a6-408ce537efdd",
   "metadata": {},
   "outputs": [
    {
     "data": {
      "image/png": "[encoded data removed]",
      "text/plain": [
       "<Figure size 640x480 with 1 Axes>"
      ]
     },
     "metadata": {},
     "output_type": "display_data"
    }
   ],
   "source": [
    "utils.histogram_of_scores(llm_eval_results, 'clarity_eval_prompt_scoring_parsed', 'Clarity Scores')"
   ]
  },
  {
   "cell_type": "code",
   "execution_count": 104,
   "id": "4160a931-1dd7-4c38-b07a-4dab0d313440",
   "metadata": {},
   "outputs": [
    {
     "data": {
      "image/png": "[encoded data removed]",
      "text/plain": [
       "<Figure size 640x480 with 1 Axes>"
      ]
     },
     "metadata": {},
     "output_type": "display_data"
    }
   ],
   "source": [
    "utils.histogram_of_scores(llm_eval_results, 'scientific_eval_prompt_scoring_parsed', 'Scientific Context Scores')"
   ]
  },
  {
   "cell_type": "code",
   "execution_count": null,
   "id": "5d9daaf7-5b42-4e7d-9f14-9d16fb7eee10",
   "metadata": {},
   "outputs": [],
   "source": []
  }
 ],
 "metadata": {
  "kernelspec": {
   "display_name": "Python 3 (ipykernel)",
   "language": "python",
   "name": "python3"
  },
  "language_info": {
   "codemirror_mode": {
    "name": "ipython",
    "version": 3
   },
   "file_extension": ".py",
   "mimetype": "text/x-python",
   "name": "python",
   "nbconvert_exporter": "python",
   "pygments_lexer": "ipython3",
   "version": "3.10.16"
  }
 },
 "nbformat": 4,
 "nbformat_minor": 5
}
