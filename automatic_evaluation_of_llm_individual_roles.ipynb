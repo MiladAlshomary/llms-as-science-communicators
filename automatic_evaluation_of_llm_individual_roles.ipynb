{
 "cells": [
  {
   "cell_type": "code",
   "execution_count": 1,
   "id": "a43c8d27-0b47-46ac-a3f7-e5a02134e727",
   "metadata": {},
   "outputs": [],
   "source": [
    "%load_ext autoreload\n",
    "import os\n",
    "import sys"
   ]
  },
  {
   "cell_type": "code",
   "execution_count": 2,
   "id": "7d78efec-68b0-47f6-8d88-af0cd01c16fa",
   "metadata": {},
   "outputs": [],
   "source": [
    "os.environ['TRANSFORMERS_CACHE'] = '/mnt/swordfish-pool2/milad/hf-cache-new'\n",
    "os.environ['HF_DATASETS_CACHE'] = '/mnt/swordfish-pool2/milad/hf-cache-new'\n",
    "os.environ[\"OPENAI_API_KEY\"]= 'xxx'\n",
    "os.environ['CUDA_VISIBLE_DEVICES'] = '6'\n",
    "os.environ['CUDA_LAUNCH_BLOCKING'] = '0'\n",
    "sys.path.append('./src-py')"
   ]
  },
  {
   "cell_type": "code",
   "execution_count": 3,
   "id": "d24b5e38-93dc-4098-97de-bb786a750a92",
   "metadata": {
    "scrolled": true
   },
   "outputs": [
    {
     "name": "stderr",
     "output_type": "stream",
     "text": [
      "/local/nlp/milad/conda-envs/trl-library/lib/python3.10/site-packages/transformers/utils/hub.py:111: FutureWarning: Using `TRANSFORMERS_CACHE` is deprecated and will be removed in v5 of Transformers. Use `HF_HOME` instead.\n",
      "  warnings.warn(\n"
     ]
    }
   ],
   "source": [
    "import json\n",
    "import os\n",
    "import numpy as np\n",
    "import pandas as pd\n",
    "import copy\n",
    "import matplotlib.pyplot as plt\n",
    "import re\n",
    "from collections import Counter\n",
    "\n",
    "pd.set_option('display.width', None)\n",
    "pd.set_option('display.max_colwidth', None)\n",
    "\n",
    "\n",
    "%autoreload\n",
    "import utils\n",
    "import prompts\n",
    "import random\n",
    "\n",
    "from tabulate import tabulate\n",
    "import tiktoken\n",
    "from llm_based_evaluation import *"
   ]
  },
  {
   "cell_type": "code",
   "execution_count": 4,
   "id": "d903fa8b-3c9e-4d0c-9a90-00c414488647",
   "metadata": {},
   "outputs": [],
   "source": [
    "from transformers import AutoTokenizer, pipeline"
   ]
  },
  {
   "cell_type": "code",
   "execution_count": 5,
   "id": "e08009fa",
   "metadata": {},
   "outputs": [],
   "source": [
    "import json\n",
    "keys = json.load(open('./keys.json'))\n",
    "for key, val in keys.items():\n",
    "    os.environ[key] = val"
   ]
  },
  {
   "cell_type": "code",
   "execution_count": 6,
   "id": "8de285da-4e35-4041-8aa8-956e164feb64",
   "metadata": {
    "scrolled": true
   },
   "outputs": [],
   "source": [
    "from huggingface_hub import login\n",
    "\n",
    "login(os.environ['hf_token'])"
   ]
  },
  {
   "cell_type": "code",
   "execution_count": 7,
   "id": "846f3f93-4394-4627-be70-6bd557823095",
   "metadata": {},
   "outputs": [],
   "source": [
    "output_dir = '/mnt/swordfish-pool2/milad/communicating-science-to-the-public/'\n",
    "models_folder = \"/mnt/swordfish-pool2/milad/communicating-science-to-the-public/models/\""
   ]
  },
  {
   "cell_type": "code",
   "execution_count": 8,
   "id": "e6a4d8a7-48f5-42a8-80f8-757e6a889e5c",
   "metadata": {},
   "outputs": [],
   "source": [
    "gpt_tokenizer = tiktoken.encoding_for_model(\"gpt-3.5-turbo\")\n",
    "llama_tokenizer = AutoTokenizer.from_pretrained(\"meta-llama/Meta-Llama-3-8B\")"
   ]
  },
  {
   "cell_type": "code",
   "execution_count": 9,
   "id": "438d82c1-3997-4138-ae62-03084067d8a6",
   "metadata": {},
   "outputs": [],
   "source": [
    "ds_path = '/mnt/swordfish-pool2/milad/communicating-science-to-the-public/new-eval_experiment_500'"
   ]
  },
  {
   "cell_type": "markdown",
   "id": "f2e59a62-1a99-4ae4-9bdf-7c4cda4048f6",
   "metadata": {
    "jp-MarkdownHeadingCollapsed": true
   },
   "source": [
    "### Evaluating the Researcher"
   ]
  },
  {
   "cell_type": "markdown",
   "id": "5ca3fab6-0663-4627-ab3f-e00dbeb46618",
   "metadata": {},
   "source": [
    "#### Using DeepSeek"
   ]
  },
  {
   "cell_type": "code",
   "execution_count": 28,
   "id": "e1a66dbe-3631-431e-b1c0-2114b633b251",
   "metadata": {
    "scrolled": true
   },
   "outputs": [],
   "source": [
    "generated_convs = {\n",
    "    'qwen-baseline':[datasets.load_from_disk(ds_path + '/baseline_qwen_gen_conv_fixed_quesions/'), ds_path + '/baseline_qwen_gen_conv_fixed_quesions'],\n",
    "    'ft-qwen-on-deepseek' :[datasets.load_from_disk(ds_path + '/ft_qwen_gen_conv_fixed_quesions/'),ds_path +  '/ft_qwen_gen_conv_fixed_quesions/'],\n",
    "    'llama-baseline':[datasets.load_from_disk(ds_path + '/baseline_llama3_gen_conv_fixed_quesions/'), ds_path + '/baseline_llama3_gen_conv_fixed_quesions'],\n",
    "    'ft-llama-on-deepseek' :[datasets.load_from_disk(ds_path + '/ft_llama3_gen_conv_fixed_quesions/'),ds_path +  '/ft_llama3_gen_conv_fixed_quesions/'],\n",
    "}"
   ]
  },
  {
   "cell_type": "code",
   "execution_count": 13,
   "id": "947724f9-dbd0-422c-a18f-1411cf19c412",
   "metadata": {
    "scrolled": true
   },
   "outputs": [],
   "source": [
    "#print(generated_convs['ft-qwen-on-deepseek'][0]['fixed_journalist_conv'][0])"
   ]
  },
  {
   "cell_type": "code",
   "execution_count": null,
   "id": "7377a258-0213-444c-860e-ddb661e15997",
   "metadata": {
    "scrolled": true
   },
   "outputs": [
    {
     "name": "stderr",
     "output_type": "stream",
     "text": [
      "100%|███████████████████████████████████████████████████████████████████████████████| 500/500 [43:46<00:00,  5.25s/it]\n",
      "100%|███████████████████████████████████████████████████████████████████████████████| 500/500 [34:14<00:00,  4.11s/it]\n",
      "100%|███████████████████████████████████████████████████████████████████████████████| 500/500 [37:52<00:00,  4.55s/it]\n"
     ]
    },
    {
     "data": {
      "application/vnd.jupyter.widget-view+json": {
       "model_id": "754c44953b8b4932a6afff857da3f162",
       "version_major": 2,
       "version_minor": 0
      },
      "text/plain": [
       "Saving the dataset (0/1 shards):   0%|          | 0/500 [00:00<?, ? examples/s]"
      ]
     },
     "metadata": {},
     "output_type": "display_data"
    },
    {
     "name": "stderr",
     "output_type": "stream",
     "text": [
      "  2%|█▌                                                                              | 10/500 [00:41<33:16,  4.08s/it]"
     ]
    }
   ],
   "source": [
    "prompts_to_eval = [prompts.clarity_eval_prompt, prompts.scientific_context_eval_prompt, prompts.societal_context_eval_prompt]\n",
    "for p in prompts_to_eval:\n",
    "    p['inputs']['Conversation'] = 'fixed_journalist_conv'\n",
    "\n",
    "llm_eval_results = llm_based_evaluation(prompts_to_eval, generated_convs, force_generation=False, evaluator_name=\"deepseek-ai/DeepSeek-R1-Distill-Qwen-14B\")"
   ]
  },
  {
   "cell_type": "code",
   "execution_count": 41,
   "id": "ccd4bc63-f93c-405c-9e11-c9909038af77",
   "metadata": {},
   "outputs": [
    {
     "name": "stdout",
     "output_type": "stream",
     "text": [
      "Loading /mnt/swordfish-pool2/milad/communicating-science-to-the-public/new-eval_experiment_500/baseline_qwen_gen_conv_fixed_quesions/ds_eval/deepseek-ai from already saved file\n",
      "Loading /mnt/swordfish-pool2/milad/communicating-science-to-the-public/new-eval_experiment_500/ft_qwen_gen_conv_fixed_quesions//ds_eval/deepseek-ai from already saved file\n",
      "Loading /mnt/swordfish-pool2/milad/communicating-science-to-the-public/new-eval_experiment_500/baseline_llama3_gen_conv_fixed_quesions/ds_eval/deepseek-ai from already saved file\n",
      "Loading /mnt/swordfish-pool2/milad/communicating-science-to-the-public/new-eval_experiment_500/ft_llama3_gen_conv_fixed_quesions//ds_eval/deepseek-ai from already saved file\n",
      "#                       clarity_eval_prompt    scientific_eval_prompt    societal_eval_prompt    Avg\n",
      "--------------------  ---------------------  ------------------------  ----------------------  -----\n",
      "qwen-baseline                          3.75                      2.97                    2.91   3.21\n",
      "ft-qwen-on-deepseek                    4                         2.94                    2.43   3.12\n",
      "llama-baseline                         3.77                      2.85                    2.75   3.12\n",
      "ft-llama-on-deepseek                   3.96                      2.92                    2.53   3.14\n"
     ]
    }
   ],
   "source": [
    "llm_eval_results = llm_based_evaluation(prompts_to_eval, generated_convs, force_generation=False, evaluator_name=\"deepseek-ai/DeepSeek-R1-Distill-Qwen-14B\")"
   ]
  },
  {
   "cell_type": "markdown",
   "id": "e477f8fb-b43b-47a8-9f5b-d2e16dc6d0ab",
   "metadata": {},
   "source": [
    "### Evaluating the Journalist"
   ]
  },
  {
   "cell_type": "markdown",
   "id": "bceaaf3f-4512-469d-85ee-d524419d8b30",
   "metadata": {},
   "source": [
    "#### Basic Eval"
   ]
  },
  {
   "cell_type": "code",
   "execution_count": 24,
   "id": "be0f691e-489f-4ff9-b28a-ef8f87b90ab7",
   "metadata": {},
   "outputs": [],
   "source": [
    "generated_convs = {\n",
    "    'qwen-baseline':datasets.load_from_disk(ds_path + '/baseline_qwen_gen_conv_fixed_researcher'),\n",
    "    'ft-qwen-on-deepseek' :datasets.load_from_disk(ds_path + '/ft_qwen_gen_conv_fixed_researcher'),\n",
    "    'llama-baseline':datasets.load_from_disk(ds_path + '/baseline_llama3_gen_conv_fixed_researcher'),\n",
    "    'ft-llama-on-deepseek' :datasets.load_from_disk(ds_path + '/ft_llama3_gen_conv_fixed_researcher')\n",
    "}"
   ]
  },
  {
   "cell_type": "code",
   "execution_count": 25,
   "id": "db1a5599-63c8-43b7-b9a1-805171cba64c",
   "metadata": {
    "scrolled": true
   },
   "outputs": [
    {
     "name": "stdout",
     "output_type": "stream",
     "text": [
      "Two-way traffic for cell migration\n",
      "---\n",
      "\n",
      " Thank you for providing the abstract of the scientific paper. It seems that the study explores the behavior of cells in confined environments and their interactions with their microenvironment. The researchers observed that cells in a stripe-shaped pattern exhibited a shear flow, which was absent in a larger stripe. They also found that the tilt angle of the cells varied with the stripe width.\n",
      "\n",
      "==\n",
      "\n",
      "That’s fascinating! So, the study not only describes the behavior of cells in confined environments but also provides a theoretical framework to understand these behaviors. The hydrodynamic active gel theory seems to be a key tool in explaining the observed phenomena. Could you explain how this theory helps in understanding the behavior of the cells in the stripe-shaped pattern?\n",
      "\n",
      "Also, you mentioned that the tilt angle of the cells varies with the width of the stripe. How does this variation affect the overall dynamics of the cell migration? Does this mean that the cells are more active in certain regions of the stripe than others?\n",
      "\n",
      "==\n",
      "\n",
      "That makes sense. So, the tilt angle is a measure of how much the cells deviate from aligning perfectly with the direction of the stripe. This deviation is influenced by the width of the stripe and the interactions between the cells.\n",
      "\n",
      "Now, you mentioned that the shear flow is absent in wider stripes but present in narrower ones. How does the absence of shear flow in wider stripes affect the overall migration of the cells? Does this mean that the cells are more likely to migrate in a random or chaotic manner when they are not confined to a narrow stripe?\n",
      "\n",
      "Also, you mentioned that the cells have a \"handedness\" or chirality in their orientation. What does this mean, and how does it relate to the tilt angle?\n",
      "\n",
      "==\n",
      "\n",
      "That’s interesting. So, in wider stripes, the cells align perfectly and move in a coordinated manner, but in narrower stripes, they develop a shear flow and tilt away from the direction of the stripe. This suggests that the width of the stripe plays a critical role in determining the behavior of the cells.\n",
      "\n",
      "Now, regarding the handedness or chirality of the cells, you mentioned that it is a property of the cells and influences their orientation. Can you explain what you mean by handedness, and how it affects the tilt angle?\n",
      "\n",
      "Also, how does the hydrodynamic active gel theory take into account the handedness of the cells? Does it predict that the cells will align in a particular way based on their handedness, or does it treat the handedness as a random variable?\n",
      "\n",
      "==\n",
      "\n",
      "That’s fascinating! So, the handedness of the cells is a property that emerges from their interactions with each other and the environment. This suggests that the behavior of the cells is not entirely random, but rather it is influenced by a combination of intrinsic and extrinsic factors.\n",
      "\n",
      "Now, how does the hydrodynamic active gel theory incorporate this handedness into its predictions? Does it predict that the cells will align in a particular way based on their handedness, or does it treat the handedness as a random variable?\n",
      "\n",
      "Also, how does the theory account for the transition from a non-flowing phase to a flowing phase as the width of the stripe is decreased? Is this transition a continuous process, or is there a threshold width below which the cells suddenly start flowing?\n"
     ]
    }
   ],
   "source": [
    "print(\"{}\\n---\\n\\n\".format(generated_convs['ft-llama-on-deepseek']['paper_title'][4]),\"\\n\\n==\\n\\n\".join([x['content'] for x in generated_convs['ft-llama-on-deepseek']['generated_conversation'][4] if x['role'] == 'assistant']))"
   ]
  },
  {
   "cell_type": "code",
   "execution_count": 26,
   "id": "412d2732-fbea-4833-b161-1ea623d16409",
   "metadata": {},
   "outputs": [
    {
     "name": "stdout",
     "output_type": "stream",
     "text": [
      "Results on 500 sample\n",
      "Prompt                  Rouge-1    Rouge-L    BERT-f1\n",
      "--------------------  ---------  ---------  ---------\n",
      "qwen-baseline             0.262      0.126      0.768\n",
      "ft-qwen-on-deepseek       0.368      0.146      0.825\n",
      "llama-baseline            0.331      0.143      0.816\n",
      "ft-llama-on-deepseek      0.377      0.155      0.824\n"
     ]
    }
   ],
   "source": [
    "print('Results on 500 sample')\n",
    "all_synth_conversations = utils.evalaute_convs(generated_convs)"
   ]
  },
  {
   "cell_type": "code",
   "execution_count": 71,
   "id": "bd9eccbe-08f1-4532-9fea-14452242e2aa",
   "metadata": {},
   "outputs": [
    {
     "name": "stdout",
     "output_type": "stream",
     "text": [
      "Results on 500 sample\n"
     ]
    },
    {
     "name": "stderr",
     "output_type": "stream",
     "text": [
      "Some weights of RobertaModel were not initialized from the model checkpoint at roberta-large and are newly initialized: ['roberta.pooler.dense.bias', 'roberta.pooler.dense.weight']\n",
      "You should probably TRAIN this model on a down-stream task to be able to use it for predictions and inference.\n"
     ]
    },
    {
     "name": "stdout",
     "output_type": "stream",
     "text": [
      "Prompt                  Rouge-1    Rouge-L    BERT-f1\n",
      "--------------------  ---------  ---------  ---------\n",
      "qwen-baseline             0.262      0.126      0.768\n",
      "ft-qwen-on-deepseek       0.252      0.123      0.768\n",
      "llama-baseline            0.331      0.143      0.816\n",
      "ft-llama-on-deepseek      0.377      0.155      0.824\n"
     ]
    }
   ],
   "source": [
    "print('Results on 500 sample')\n",
    "all_synth_conversations = utils.evalaute_convs(generated_convs)"
   ]
  },
  {
   "cell_type": "markdown",
   "id": "3ee48582-5bfd-46e4-b460-f39d70c0ba68",
   "metadata": {},
   "source": [
    "#### LLM-based Eval"
   ]
  },
  {
   "cell_type": "code",
   "execution_count": 27,
   "id": "afc2599f-f340-4833-8b54-2eb9527621a6",
   "metadata": {},
   "outputs": [],
   "source": [
    "generated_convs = {\n",
    "    'qwen-baseline':[datasets.load_from_disk(ds_path + '/baseline_qwen_gen_conv_fixed_researcher'), ds_path + '/baseline_qwen_gen_conv_fixed_researcher'],\n",
    "    'ft-qwen-on-deepseek' :[datasets.load_from_disk(ds_path + '/ft_qwen_gen_conv_fixed_researcher'),ds_path +  '/ft_qwen_gen_conv_fixed_researcher'],\n",
    "    #'qwen-baseline-b':[datasets.load_from_disk(ds_path + '/baseline_qwen_gen_conv_fixed_researcher'), ds_path + '/baseline_qwen_gen_conv_w_qwen_base_researcher'],\n",
    "    #'ft-qwen-on-deepseek-b' :[datasets.load_from_disk(ds_path + '/ft_qwen_gen_conv_fixed_researcher'),ds_path +  '/ft_qwen_gen_conv_w_qwen_base_researcher'],\n",
    "    'llama-baseline':[datasets.load_from_disk(ds_path + '/baseline_llama3_gen_conv_fixed_researcher'), ds_path + '/baseline_llama3_gen_conv_fixed_researcher'],\n",
    "    'ft-llama-on-deepseek' :[datasets.load_from_disk(ds_path + '/ft_llama3_gen_conv_fixed_researcher'),ds_path +  '/ft_llama3_gen_conv_fixed_researcher'],\n",
    "}"
   ]
  },
  {
   "cell_type": "code",
   "execution_count": 28,
   "id": "20783ef1-3791-4864-a75b-21eda5116b9f",
   "metadata": {
    "scrolled": true
   },
   "outputs": [
    {
     "name": "stdout",
     "output_type": "stream",
     "text": [
      "Loading /mnt/swordfish-pool2/milad/communicating-science-to-the-public/new-eval_experiment_500/baseline_qwen_gen_conv_fixed_researcher/ds_eval/deepseek-ai from already saved file\n"
     ]
    },
    {
     "name": "stderr",
     "output_type": "stream",
     "text": [
      "100%|██████████████████████████████████████████████████████████████████████████████| 500/500 [42:09<00:00,  5.06s/it]\n",
      "100%|██████████████████████████████████████████████████████████████████████████████| 500/500 [36:30<00:00,  4.38s/it]\n",
      "100%|██████████████████████████████████████████████████████████████████████████████| 500/500 [39:52<00:00,  4.78s/it]\n"
     ]
    },
    {
     "data": {
      "application/vnd.jupyter.widget-view+json": {
       "model_id": "db1803fe392c44d287c63daa2158eb23",
       "version_major": 2,
       "version_minor": 0
      },
      "text/plain": [
       "Saving the dataset (0/1 shards):   0%|          | 0/500 [00:00<?, ? examples/s]"
      ]
     },
     "metadata": {},
     "output_type": "display_data"
    },
    {
     "name": "stdout",
     "output_type": "stream",
     "text": [
      "Loading /mnt/swordfish-pool2/milad/communicating-science-to-the-public/new-eval_experiment_500/baseline_llama3_gen_conv_fixed_researcher/ds_eval/deepseek-ai from already saved file\n",
      "Loading /mnt/swordfish-pool2/milad/communicating-science-to-the-public/new-eval_experiment_500/ft_llama3_gen_conv_fixed_researcher/ds_eval/deepseek-ai from already saved file\n",
      "#                       clarity_eval_prompt    scientific_eval_prompt    societal_eval_prompt    Avg\n",
      "--------------------  ---------------------  ------------------------  ----------------------  -----\n",
      "qwen-baseline                          2.26                      1.25                    1.13   1.55\n",
      "ft-qwen-on-deepseek                    4.09                      2.05                    1.82   2.65\n",
      "llama-baseline                         4.02                      1.99                    1.45   2.49\n",
      "ft-llama-on-deepseek                   4.08                      2.02                    1.63   2.58\n"
     ]
    }
   ],
   "source": [
    "prompts_to_eval = [prompts.clarity_eval_prompt, prompts.scientific_context_eval_prompt, prompts.societal_context_eval_prompt]\n",
    "\n",
    "llm_eval_results = llm_based_evaluation(prompts_to_eval, generated_convs, force_generation=False, evaluator_name=\"deepseek-ai/DeepSeek-R1-Distill-Qwen-14B\")"
   ]
  },
  {
   "cell_type": "markdown",
   "id": "c08d3be8-a5bd-4974-b79b-8fdab910b86a",
   "metadata": {},
   "source": [
    "Performing statistical analysis on the ta scores"
   ]
  },
  {
   "cell_type": "code",
   "execution_count": 32,
   "id": "a325c27c-60b9-40f4-9bac-322289fe11d3",
   "metadata": {
    "scrolled": true
   },
   "outputs": [
    {
     "name": "stdout",
     "output_type": "stream",
     "text": [
      "Paired T-test Results:\n",
      "T-statistic: 21807.0\n",
      "P-value: 0.2183658922348688\n",
      "\n",
      "Interpretation:\n",
      "The p-value (0.2184) is greater than the significance level (0.05).\n",
      "Conclusion: There is no statistically significant difference between the two systems.\n",
      "=====\n",
      "Paired T-test Results:\n",
      "T-statistic: 24224.0\n",
      "P-value: 0.595994397526662\n",
      "\n",
      "Interpretation:\n",
      "The p-value (0.5960) is greater than the significance level (0.05).\n",
      "Conclusion: There is no statistically significant difference between the two systems.\n",
      "=====\n",
      "Paired T-test Results:\n",
      "T-statistic: 10558.0\n",
      "P-value: 2.636493206744125e-06\n",
      "\n",
      "Interpretation:\n",
      "The p-value (0.0000) is less than the significance level (0.05).\n",
      "Conclusion: There is a statistically significant difference between the two systems.\n"
     ]
    }
   ],
   "source": [
    "ft_scores = [x['score'] for x in llm_eval_results['ft-llama-on-deepseek']['clarity_eval_prompt_scoring_parsed']]\n",
    "bl_scores = [x['score'] for x in llm_eval_results['llama-baseline']['clarity_eval_prompt_scoring_parsed']]\n",
    "utils.stats_analysis(ft_scores, bl_scores)\n",
    "print('=====')\n",
    "ft_scores = [x['score'] for x in llm_eval_results['ft-llama-on-deepseek']['scientific_eval_prompt_scoring_parsed']]\n",
    "bl_scores = [x['score'] for x in llm_eval_results['llama-baseline']['scientific_eval_prompt_scoring_parsed']]\n",
    "utils.stats_analysis(ft_scores, bl_scores)\n",
    "print('=====')\n",
    "ft_scores = [x['score'] for x in llm_eval_results['ft-llama-on-deepseek']['societal_eval_prompt_scoring_parsed']]\n",
    "bl_scores = [x['score'] for x in llm_eval_results['llama-baseline']['societal_eval_prompt_scoring_parsed']]\n",
    "utils.stats_analysis(ft_scores, bl_scores)"
   ]
  },
  {
   "cell_type": "code",
   "execution_count": 33,
   "id": "78fa4d7e-0dc2-4b3d-9178-2f05fed34c1a",
   "metadata": {
    "scrolled": true
   },
   "outputs": [
    {
     "name": "stdout",
     "output_type": "stream",
     "text": [
      "Paired T-test Results:\n",
      "T-statistic: 4228.5\n",
      "P-value: 1.0357037257464e-62\n",
      "\n",
      "Interpretation:\n",
      "The p-value (0.0000) is less than the significance level (0.05).\n",
      "Conclusion: There is a statistically significant difference between the two systems.\n",
      "=====\n",
      "Paired T-test Results:\n",
      "T-statistic: 5775.0\n",
      "P-value: 2.559163849141833e-40\n",
      "\n",
      "Interpretation:\n",
      "The p-value (0.0000) is less than the significance level (0.05).\n",
      "Conclusion: There is a statistically significant difference between the two systems.\n",
      "=====\n",
      "Paired T-test Results:\n",
      "T-statistic: 3356.0\n",
      "P-value: 2.6400341736914437e-49\n",
      "\n",
      "Interpretation:\n",
      "The p-value (0.0000) is less than the significance level (0.05).\n",
      "Conclusion: There is a statistically significant difference between the two systems.\n"
     ]
    }
   ],
   "source": [
    "ft_scores = [x['score'] for x in llm_eval_results['ft-qwen-on-deepseek']['clarity_eval_prompt_scoring_parsed']]\n",
    "bl_scores = [x['score'] for x in llm_eval_results['qwen-baseline']['clarity_eval_prompt_scoring_parsed']]\n",
    "utils.stats_analysis(ft_scores, bl_scores)\n",
    "print('=====')\n",
    "ft_scores = [x['score'] for x in llm_eval_results['ft-qwen-on-deepseek']['scientific_eval_prompt_scoring_parsed']]\n",
    "bl_scores = [x['score'] for x in llm_eval_results['qwen-baseline']['scientific_eval_prompt_scoring_parsed']]\n",
    "utils.stats_analysis(ft_scores, bl_scores)\n",
    "print('=====')\n",
    "ft_scores = [x['score'] for x in llm_eval_results['ft-qwen-on-deepseek']['societal_eval_prompt_scoring_parsed']]\n",
    "bl_scores = [x['score'] for x in llm_eval_results['qwen-baseline']['societal_eval_prompt_scoring_parsed']]\n",
    "utils.stats_analysis(ft_scores, bl_scores)"
   ]
  },
  {
   "cell_type": "markdown",
   "id": "68a95478-e067-4758-920f-a8ea72c3cbc7",
   "metadata": {},
   "source": [
    "-------"
   ]
  },
  {
   "cell_type": "markdown",
   "id": "c6acac49-0595-40d4-82d5-103c919b352d",
   "metadata": {},
   "source": [
    "### Analysis of the automatic evalaution"
   ]
  },
  {
   "cell_type": "code",
   "execution_count": 34,
   "id": "a590e9c5-53df-493d-bd2a-5a02e9a6b19c",
   "metadata": {},
   "outputs": [],
   "source": [
    "generated_convs = {\n",
    "    'qwen-baseline':[datasets.load_from_disk(ds_path + '/baseline_qwen_gen_conv_fixed_researcher'), ds_path + '/baseline_qwen_gen_conv_fixed_researcher'],\n",
    "    'ft-qwen-on-deepseek' :[datasets.load_from_disk(ds_path + '/ft_qwen_gen_conv_fixed_researcher'),ds_path +  '/ft_qwen_gen_conv_fixed_fixed_researcher'],\n",
    "    'llama-baseline':[datasets.load_from_disk(ds_path + '/baseline_llama3_gen_conv_fixed_researcher'), ds_path + '/baseline_llama3_gen_conv_fixed_researcher'],\n",
    "    'ft-llama-on-deepseek' :[datasets.load_from_disk(ds_path + '/ft_llama3_gen_conv_fixed_researcher'),ds_path +  '/ft_llama3_gen_conv_fixed_researcher'],\n",
    "}"
   ]
  },
  {
   "cell_type": "code",
   "execution_count": 97,
   "id": "4b262aa6-586a-4fe5-982f-197fb3045374",
   "metadata": {
    "scrolled": true
   },
   "outputs": [
    {
     "name": "stdout",
     "output_type": "stream",
     "text": [
      "Loading /mnt/swordfish-pool2/milad/communicating-science-to-the-public/new-eval_experiment_500/baseline_qwen_gen_conv_fixed_researcher/ds_eval/deepseek-ai from already saved file\n",
      "Loading /mnt/swordfish-pool2/milad/communicating-science-to-the-public/new-eval_experiment_500/ft_qwen_gen_conv_fixed_fixed_researcher/ds_eval/deepseek-ai from already saved file\n",
      "Loading /mnt/swordfish-pool2/milad/communicating-science-to-the-public/new-eval_experiment_500/baseline_llama3_gen_conv_fixed_researcher/ds_eval/deepseek-ai from already saved file\n",
      "Loading /mnt/swordfish-pool2/milad/communicating-science-to-the-public/new-eval_experiment_500/ft_llama3_gen_conv_fixed_researcher/ds_eval/deepseek-ai from already saved file\n",
      "#                       clarity_eval_prompt    scientific_eval_prompt    societal_eval_prompt    Avg\n",
      "--------------------  ---------------------  ------------------------  ----------------------  -----\n",
      "qwen-baseline                          2.26                      1.25                    1.13   1.55\n",
      "ft-qwen-on-deepseek                    2.12                      1.15                    1.08   1.45\n",
      "llama-baseline                         4.02                      1.99                    1.45   2.49\n",
      "ft-llama-on-deepseek                   4.08                      2.02                    1.63   2.58\n"
     ]
    }
   ],
   "source": [
    "prompts_to_eval = [prompts.clarity_eval_prompt, prompts.scientific_context_eval_prompt, prompts.societal_context_eval_prompt]\n",
    "\n",
    "llm_eval_results = llm_based_evaluation(prompts_to_eval, generated_convs, force_generation=False, evaluator_name=\"deepseek-ai/DeepSeek-R1-Distill-Qwen-14B\")"
   ]
  },
  {
   "cell_type": "code",
   "execution_count": 102,
   "id": "358962a3-9ffd-47d2-af5e-d41722701c2e",
   "metadata": {},
   "outputs": [
    {
     "data": {
      "image/png": "[encoded data removed]",
      "text/plain": [
       "<Figure size 640x480 with 1 Axes>"
      ]
     },
     "metadata": {},
     "output_type": "display_data"
    }
   ],
   "source": [
    "utils.histogram_of_scores(llm_eval_results, 'societal_eval_prompt_scoring_parsed', 'Societal Impact Scores')"
   ]
  },
  {
   "cell_type": "code",
   "execution_count": 103,
   "id": "b956298b-8756-46cb-80a6-408ce537efdd",
   "metadata": {},
   "outputs": [
    {
     "data": {
      "image/png": "[encoded data removed]",
      "text/plain": [
       "<Figure size 640x480 with 1 Axes>"
      ]
     },
     "metadata": {},
     "output_type": "display_data"
    }
   ],
   "source": [
    "utils.histogram_of_scores(llm_eval_results, 'clarity_eval_prompt_scoring_parsed', 'Clarity Scores')"
   ]
  },
  {
   "cell_type": "code",
   "execution_count": 104,
   "id": "4160a931-1dd7-4c38-b07a-4dab0d313440",
   "metadata": {},
   "outputs": [
    {
     "data": {
      "image/png": "[encoded data removed]",
      "text/plain": [
       "<Figure size 640x480 with 1 Axes>"
      ]
     },
     "metadata": {},
     "output_type": "display_data"
    }
   ],
   "source": [
    "utils.histogram_of_scores(llm_eval_results, 'scientific_eval_prompt_scoring_parsed', 'Scientific Context Scores')"
   ]
  },
  {
   "cell_type": "code",
   "execution_count": null,
   "id": "5d9daaf7-5b42-4e7d-9f14-9d16fb7eee10",
   "metadata": {},
   "outputs": [],
   "source": []
  }
 ],
 "metadata": {
  "kernelspec": {
   "display_name": "Python 3 (ipykernel)",
   "language": "python",
   "name": "python3"
  },
  "language_info": {
   "codemirror_mode": {
    "name": "ipython",
    "version": 3
   },
   "file_extension": ".py",
   "mimetype": "text/x-python",
   "name": "python",
   "nbconvert_exporter": "python",
   "pygments_lexer": "ipython3",
   "version": "3.10.16"
  }
 },
 "nbformat": 4,
 "nbformat_minor": 5
}
