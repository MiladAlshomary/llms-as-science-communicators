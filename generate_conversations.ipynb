{
 "cells": [
  {
   "cell_type": "code",
   "execution_count": 6,
   "id": "a43c8d27-0b47-46ac-a3f7-e5a02134e727",
   "metadata": {},
   "outputs": [],
   "source": [
    "%load_ext autoreload\n",
    "import os\n",
    "import sys"
   ]
  },
  {
   "cell_type": "code",
   "execution_count": 7,
   "id": "7d78efec-68b0-47f6-8d88-af0cd01c16fa",
   "metadata": {},
   "outputs": [],
   "source": [
    "os.environ['TRANSFORMERS_CACHE'] = '/mnt/swordfish-pool2/milad/hf-cache-new'\n",
    "os.environ['HF_DATASETS_CACHE'] = '/mnt/swordfish-pool2/milad/hf-cache-new'\n",
    "os.environ[\"OPENAI_API_KEY\"]= 'xxx'\n",
    "os.environ['CUDA_VISIBLE_DEVICES'] = '4'\n",
    "os.environ['CUDA_LAUNCH_BLOCKING'] = '0'\n",
    "sys.path.append('./src-py')"
   ]
  },
  {
   "cell_type": "code",
   "execution_count": 8,
   "id": "d24b5e38-93dc-4098-97de-bb786a750a92",
   "metadata": {
    "scrolled": true
   },
   "outputs": [
    {
     "name": "stderr",
     "output_type": "stream",
     "text": [
      "/mnt/swordfish-pool2/milad/conda-envs/datadreamer/lib/python3.12/site-packages/transformers/utils/hub.py:128: FutureWarning: Using `TRANSFORMERS_CACHE` is deprecated and will be removed in v5 of Transformers. Use `HF_HOME` instead.\n",
      "  warnings.warn(\n"
     ]
    }
   ],
   "source": [
    "import json\n",
    "import os\n",
    "import numpy as np\n",
    "import pandas as pd\n",
    "import copy\n",
    "import matplotlib.pyplot as plt\n",
    "import re\n",
    "from collections import Counter\n",
    "\n",
    "pd.set_option('display.width', None)\n",
    "pd.set_option('display.max_colwidth', None)\n",
    "\n",
    "\n",
    "%autoreload\n",
    "import utils\n",
    "import prompts\n",
    "import random\n",
    "import datadreamer_generation\n",
    "\n",
    "from tabulate import tabulate\n",
    "import tiktoken\n",
    "from llm_based_evaluation import *"
   ]
  },
  {
   "cell_type": "code",
   "execution_count": 9,
   "id": "d903fa8b-3c9e-4d0c-9a90-00c414488647",
   "metadata": {},
   "outputs": [],
   "source": [
    "from transformers import AutoTokenizer, pipeline"
   ]
  },
  {
   "cell_type": "code",
   "execution_count": 10,
   "id": "e08009fa",
   "metadata": {},
   "outputs": [],
   "source": [
    "import json\n",
    "keys = json.load(open('./keys.json'))\n",
    "for key, val in keys.items():\n",
    "    os.environ[key] = val"
   ]
  },
  {
   "cell_type": "code",
   "execution_count": 11,
   "id": "8de285da-4e35-4041-8aa8-956e164feb64",
   "metadata": {
    "scrolled": true
   },
   "outputs": [],
   "source": [
    "from huggingface_hub import login\n",
    "\n",
    "login(os.environ['hf_token'])"
   ]
  },
  {
   "cell_type": "code",
   "execution_count": 12,
   "id": "846f3f93-4394-4627-be70-6bd557823095",
   "metadata": {},
   "outputs": [],
   "source": [
    "output_dir = '/mnt/swordfish-pool2/milad/communicating-science-to-the-public/'\n",
    "models_folder = \"/mnt/swordfish-pool2/milad/communicating-science-to-the-public/models/\""
   ]
  },
  {
   "cell_type": "code",
   "execution_count": 13,
   "id": "e6a4d8a7-48f5-42a8-80f8-757e6a889e5c",
   "metadata": {},
   "outputs": [],
   "source": [
    "gpt_tokenizer = tiktoken.encoding_for_model(\"gpt-3.5-turbo\")\n",
    "llama_tokenizer = AutoTokenizer.from_pretrained(\"meta-llama/Meta-Llama-3-8B\")"
   ]
  },
  {
   "cell_type": "markdown",
   "id": "38243aa0-986e-4b8f-acfd-40ab8416f2a8",
   "metadata": {},
   "source": [
    "- Now we will use the following models to generate conversations on a sample from the test set using only the generic prompt\n",
    "    - LLAMA-3 baseline\n",
    "    - Qwen baseline\n",
    "    - LLAMA-3 fine-tuned on DeepSeek generated conversations\n",
    "    - Qwen  fine-tuned on DeepSeek generated conversations"
   ]
  },
  {
   "cell_type": "code",
   "execution_count": 9,
   "id": "d475c262-a8ee-4156-8544-93436e5da529",
   "metadata": {},
   "outputs": [],
   "source": [
    "eval_experiment_path = '/mnt/swordfish-pool2/milad/communicating-science-to-the-public/eval_experiment_100/'"
   ]
  },
  {
   "cell_type": "markdown",
   "id": "feb1dff5-f182-452f-bbd9-ec3d969a4908",
   "metadata": {},
   "source": [
    "### Prepare a sample test dataset:"
   ]
  },
  {
   "cell_type": "code",
   "execution_count": 19,
   "id": "90868910-a80f-42d5-a41c-4b1a6f0107e5",
   "metadata": {},
   "outputs": [],
   "source": [
    "num_instances = 500\n",
    "eval_experiment_path = '/mnt/swordfish-pool2/milad/communicating-science-to-the-public/eval_experiment_500/'"
   ]
  },
  {
   "cell_type": "code",
   "execution_count": 20,
   "id": "1c6a6c9c-5662-4b27-a5da-0ef97605644b",
   "metadata": {
    "scrolled": true
   },
   "outputs": [],
   "source": [
    "def create_sample(num_instances, output_path=eval_experiment_path + '/processed_test_ds_sample'):\n",
    "    # Generate test sample\n",
    "    deepseek_conv_dataset = datasets.load_from_disk('/mnt/swordfish-pool2/milad/communicating-science-to-the-public/deepseek-final-conv-ds-cleaned/')\n",
    "    paper_id_to_article = {x['id']: x['pr-article'] for x in deepseek_conv_dataset}\n",
    "    paper_id_to_topic = {x['id']: x['Topic'] for x in deepseek_conv_dataset}\n",
    "    \n",
    "    test_ds = datasets.load_from_disk('/mnt/swordfish-pool2/milad/communicating-science-to-the-public/deepseek-final-conv-ds-preprocessed-for-llama3/test_journalist_ds')\n",
    "    test_ds = test_ds.map(lambda row: {'pr-article': paper_id_to_article[row['paper_id']]})\n",
    "    test_ds = test_ds.map(lambda row: {'topic': paper_id_to_topic[row['paper_id']]})\n",
    "    \n",
    "    test_df = pd.DataFrame(test_ds)\n",
    "    test_df = test_df.drop_duplicates('paper_id')\n",
    "    test_ds = datasets.Dataset.from_pandas(test_df)\n",
    "    sample_dataset = test_ds.shuffle().select(range(num_instances))\n",
    "    sample_dataset.save_to_disk(output_path + \"/processed_test_ds_sample\")"
   ]
  },
  {
   "cell_type": "code",
   "execution_count": 21,
   "id": "9dcd0b67-8fb7-4ebb-a62a-48ee7f091172",
   "metadata": {},
   "outputs": [
    {
     "data": {
      "application/vnd.jupyter.widget-view+json": {
       "model_id": "09ad4576922043e1bf331eef0581c4b7",
       "version_major": 2,
       "version_minor": 0
      },
      "text/plain": [
       "Saving the dataset (0/1 shards):   0%|          | 0/500 [00:00<?, ? examples/s]"
      ]
     },
     "metadata": {},
     "output_type": "display_data"
    }
   ],
   "source": [
    "create_sample(num_instances, '/mnt/swordfish-pool2/milad/communicating-science-to-the-public/eval_experiment_500/')"
   ]
  },
  {
   "cell_type": "code",
   "execution_count": 17,
   "id": "9d7a45d0-6c54-47f4-9dae-eb4fa046e816",
   "metadata": {
    "scrolled": true
   },
   "outputs": [],
   "source": [
    "# Load the created test sample\n",
    "sample_dataset = datasets.load_from_disk(eval_experiment_path + '/processed_test_ds_sample')"
   ]
  },
  {
   "cell_type": "code",
   "execution_count": 18,
   "id": "4cc9815d-741d-4b2e-81b8-92a79c356d54",
   "metadata": {},
   "outputs": [
    {
     "data": {
      "text/plain": [
       "Dataset({\n",
       "    features: ['paper_id', 'paper_title', 'paper_text', 'prompt', 'completion', 'pr-article', 'topic', '__index_level_0__'],\n",
       "    num_rows: 100\n",
       "})"
      ]
     },
     "execution_count": 18,
     "metadata": {},
     "output_type": "execute_result"
    }
   ],
   "source": [
    "sample_dataset"
   ]
  },
  {
   "cell_type": "code",
   "execution_count": 19,
   "id": "6547719c-065a-4441-8387-94367b64c2b8",
   "metadata": {},
   "outputs": [
    {
     "data": {
      "image/png": "[encoded data removed]",
      "text/plain": [
       "<Figure size 640x480 with 1 Axes>"
      ]
     },
     "metadata": {},
     "output_type": "display_data"
    }
   ],
   "source": [
    "plt.hist(sample_dataset['topic'])\n",
    "plt.xticks(rotation=45, ha='right')\n",
    "plt.show()"
   ]
  },
  {
   "cell_type": "markdown",
   "id": "e5773263-e456-41f3-9f8e-570ef6cfb874",
   "metadata": {},
   "source": [
    "### Generate conversations:"
   ]
  },
  {
   "cell_type": "markdown",
   "id": "9eea7bb1",
   "metadata": {
    "jp-MarkdownHeadingCollapsed": true
   },
   "source": [
    "#### Generate full blown conversations:"
   ]
  },
  {
   "cell_type": "code",
   "execution_count": 13,
   "id": "d2725520-b9a5-4e7d-b748-a6a0a169c744",
   "metadata": {},
   "outputs": [],
   "source": [
    "all_prompts = utils.get_prompt_compositions()\n",
    "used_prompt = all_prompts[4]\n",
    "used_prompt['inputs']['Scientific paper'] = 'paper_text'"
   ]
  },
  {
   "cell_type": "code",
   "execution_count": 14,
   "id": "803211e9-60f0-4bd0-9e5f-e8e5ae178434",
   "metadata": {},
   "outputs": [
    {
     "name": "stdout",
     "output_type": "stream",
     "text": [
      "Please simulate a conversation between a researcher and a journalist regarding the researcher's scientific paper. The goal of the conversation is to gain a deeper understanding of the researcher's scientific paper and communicate its impact to the public through a journalistic report.\n",
      "\n",
      "    Guidelines for Researcher's answers:\n",
      "        \n",
      "        1. The researcher are excellent at communicating your research in a simple and everyday life language\n",
      "        2. The researcher knows how to communicate the socieal impact of your research.\n",
      "        3. The researcher knows how to put your research in the proper scientific context\n",
      "    \n",
      "    Guidelines for the Journalist's questions:\n",
      "        \n",
      "        1. The journalist questions encouraging the researcher to place their paper in a proper societal and scientific context to the greatest possible degree.\n",
      "        2. The journalist focus on topics in the paper that are novelty and have unexpected results.\n",
      "        3. The journalist follow up on the researcher's answers trying to clarify unexplained technical terms in everyday language.\n",
      "\n",
      "\n",
      "    \n"
     ]
    }
   ],
   "source": [
    "print(used_prompt['instruction'])"
   ]
  },
  {
   "cell_type": "code",
   "execution_count": 15,
   "id": "ce6a92c1-0d6d-41c6-81e6-a0669a6a73d7",
   "metadata": {
    "scrolled": true
   },
   "outputs": [],
   "source": [
    "# output_dir = '/mnt/swordfish-pool2/milad/communicating-science-to-the-public/gpt3-test-conv-ds/'\n",
    "# resulted_ds = datadreamer_generation.generate_conversation(output_dir, 'gpt-3', sample_dataset, used_prompt, gpt_tokenizer, max_input_tokens=1200)\n",
    "# resulted_ds.save_to_disk(output_dir)"
   ]
  },
  {
   "cell_type": "code",
   "execution_count": null,
   "id": "da09ce55-6ae0-4d20-841d-672149fc1d02",
   "metadata": {
    "scrolled": true
   },
   "outputs": [
    {
     "name": "stderr",
     "output_type": "stream",
     "text": [
      "[ \u001b[35m🤖 Data\u001b[33mDr\u001b[31mea\u001b[35mmer\u001b[0m 💤 ] Initialized. 🚀 Dreaming to folder: /mnt/swordfish-pool2/milad/communicating-science-to-the-public/llama3-full-conv-test-conv-ds/composite-experienced-researcher-generic-guidelines\n",
      "[ \u001b[35m🤖 Data\u001b[33mDr\u001b[31mea\u001b[35mmer\u001b[0m 💤 ] Step 'documents' is running. ⏳\n",
      "[ \u001b[35m🤖 Data\u001b[33mDr\u001b[31mea\u001b[35mmer\u001b[0m 💤 ] Step 'documents' finished and is saved to disk. 🎉\n",
      "[ \u001b[35m🤖 Data\u001b[33mDr\u001b[31mea\u001b[35mmer\u001b[0m 💤 ] Step 'documents (map)' is running. ⏳\n",
      "[ \u001b[35m🤖 Data\u001b[33mDr\u001b[31mea\u001b[35mmer\u001b[0m 💤 ] Step 'documents (map)' will run lazily. 🥱\n",
      "/local/nlp/milad/code/llms-as-science-communicators/src-py/datadreamer_generation.py:139: UserWarning: You did not specify `total_num_rows`, so we cannot automatically update the progress % for this step. Either specify map(..., total_num_rows=#) or, to disable this warning, specify map(.., auto_progress = False)\n",
      "  datasource = datasource.map(lambda row: {'inputs_truncated': truncate_text(encoding, row['inputs'], max_input_tokens)})\n",
      "[ \u001b[35m🤖 Data\u001b[33mDr\u001b[31mea\u001b[35mmer\u001b[0m 💤 ] Step 'documents (map) (map)' is running. ⏳\n",
      "[ \u001b[35m🤖 Data\u001b[33mDr\u001b[31mea\u001b[35mmer\u001b[0m 💤 ] Step 'documents (map) (map)' will run lazily. 🥱\n",
      "[ \u001b[35m🤖 Data\u001b[33mDr\u001b[31mea\u001b[35mmer\u001b[0m 💤 ] Step 'generate conversations' is running. ⏳\n",
      "[ \u001b[35m🤖 Data\u001b[33mDr\u001b[31mea\u001b[35mmer\u001b[0m 💤 ] Step 'documents (map)' finished running lazily. 🎉\n",
      "[ \u001b[35m🤖 Data\u001b[33mDr\u001b[31mea\u001b[35mmer\u001b[0m 💤 ] Step 'documents (map) (map)' finished running lazily. 🎉\n"
     ]
    }
   ],
   "source": [
    "output_dir = '/mnt/swordfish-pool2/milad/communicating-science-to-the-public/llama3-full-conv-test-conv-ds/'\n",
    "resulted_ds = datadreamer_generation.generate_conversation(output_dir, 'llama3', sample_dataset, used_prompt, llama_tokenizer, max_input_tokens=1200, max_new_tokens=1000)\n",
    "resulted_ds.save_to_disk(output_dir)"
   ]
  },
  {
   "cell_type": "markdown",
   "id": "b634c818-504d-44b1-9c1f-26a1e9a1aaa8",
   "metadata": {},
   "source": [
    "#### Generate conversations, turn by turn:"
   ]
  },
  {
   "cell_type": "markdown",
   "id": "722eb5d9-8692-4a21-8fc5-b62ddad8ab44",
   "metadata": {
    "jp-MarkdownHeadingCollapsed": true
   },
   "source": [
    "**Using the ft-LLAMAs**"
   ]
  },
  {
   "cell_type": "code",
   "execution_count": 12,
   "id": "4a22f2ef-587b-42ac-b95a-7861fa91d18a",
   "metadata": {},
   "outputs": [],
   "source": [
    "output_path = '/mnt/swordfish-pool2/milad/communicating-science-to-the-public/ft-llama3-test-conv-ds/'"
   ]
  },
  {
   "cell_type": "code",
   "execution_count": null,
   "id": "4dbf6a9e-0f94-4868-8529-cb628a460ce0",
   "metadata": {
    "scrolled": true
   },
   "outputs": [
    {
     "data": {
      "application/vnd.jupyter.widget-view+json": {
       "model_id": "91546013c734465d91d1557966536157",
       "version_major": 2,
       "version_minor": 0
      },
      "text/plain": [
       "Loading checkpoint shards:   0%|          | 0/4 [00:00<?, ?it/s]"
      ]
     },
     "metadata": {},
     "output_type": "display_data"
    },
    {
     "name": "stderr",
     "output_type": "stream",
     "text": [
      "Device set to use cuda:1\n"
     ]
    },
    {
     "data": {
      "application/vnd.jupyter.widget-view+json": {
       "model_id": "f764233fe17e4677ad4ffbd4c050fcc6",
       "version_major": 2,
       "version_minor": 0
      },
      "text/plain": [
       "Loading checkpoint shards:   0%|          | 0/4 [00:00<?, ?it/s]"
      ]
     },
     "metadata": {},
     "output_type": "display_data"
    },
    {
     "name": "stderr",
     "output_type": "stream",
     "text": [
      "Device set to use cuda:3\n",
      " 40%|█████████████████████████████▌                                            | 2/5 [9:43:25<14:31:09, 17423.15s/it]"
     ]
    }
   ],
   "source": [
    "journalist_model, tokenizer = utils.load_model_with_adapter(\"meta-llama/Meta-Llama-3-8B-Instruct\",\n",
    "                                                            \"/mnt/swordfish-pool2/milad/communicating-science-to-the-public/models/llama3-trained-journalist-on-deepseek/\", \n",
    "                                                            device_map=\"cuda:1\")\n",
    "journalist_pipeline = pipeline(\"text-generation\", model=journalist_model, tokenizer=tokenizer, batch_size=12)\n",
    "researcher_model, tokenizer = utils.load_model_with_adapter(\"meta-llama/Meta-Llama-3-8B-Instruct\", \n",
    "                                                           \"/mnt/swordfish-pool2/milad/communicating-science-to-the-public/models/llama3-trained-researcher-on-deepseek/\", \n",
    "                                                            device_map=\"cuda:3\")\n",
    "researcher_pipeline = pipeline(\"text-generation\", model=researcher_model, tokenizer=tokenizer, batch_size=12)\n",
    "\n",
    "resulted_ds = utils.construct_full_dialogue(sample_dataset, journalist_pipeline, researcher_pipeline, max_rounds=5, max_journalist_turn_tokens=200, max_researcher_turn_tokens=500)\n",
    "resulted_ds.save_to_disk(output_path)"
   ]
  },
  {
   "cell_type": "markdown",
   "id": "645f58bb-e131-452b-b256-26d81c702362",
   "metadata": {},
   "source": [
    "**Using the ft-Qwen**"
   ]
  },
  {
   "cell_type": "code",
   "execution_count": null,
   "id": "de5148e6-afcb-45c1-baad-1c8c32297bdf",
   "metadata": {},
   "outputs": [],
   "source": [
    "output_path = '/mnt/swordfish-pool2/milad/communicating-science-to-the-public/ft-qwen-full-ds-training-test-conv-ds'"
   ]
  },
  {
   "cell_type": "code",
   "execution_count": null,
   "id": "451f8ad2-6189-436d-85cc-776f35c3f631",
   "metadata": {
    "scrolled": true
   },
   "outputs": [
    {
     "data": {
      "application/vnd.jupyter.widget-view+json": {
       "model_id": "e36c8c9162e84f78a22820901efffc5a",
       "version_major": 2,
       "version_minor": 0
      },
      "text/plain": [
       "Downloading shards:   0%|          | 0/4 [00:00<?, ?it/s]"
      ]
     },
     "metadata": {},
     "output_type": "display_data"
    },
    {
     "data": {
      "application/vnd.jupyter.widget-view+json": {
       "model_id": "d5a69fe3417544e48ebcc1ead585fc3a",
       "version_major": 2,
       "version_minor": 0
      },
      "text/plain": [
       "Loading checkpoint shards:   0%|          | 0/4 [00:00<?, ?it/s]"
      ]
     },
     "metadata": {},
     "output_type": "display_data"
    },
    {
     "data": {
      "application/vnd.jupyter.widget-view+json": {
       "model_id": "c0d4dfb29a3242178270cf70c549117d",
       "version_major": 2,
       "version_minor": 0
      },
      "text/plain": [
       "Downloading shards:   0%|          | 0/4 [00:00<?, ?it/s]"
      ]
     },
     "metadata": {},
     "output_type": "display_data"
    },
    {
     "data": {
      "application/vnd.jupyter.widget-view+json": {
       "model_id": "a03bebf1f62e4f4c8a00e31d78ac199b",
       "version_major": 2,
       "version_minor": 0
      },
      "text/plain": [
       "Loading checkpoint shards:   0%|          | 0/4 [00:00<?, ?it/s]"
      ]
     },
     "metadata": {},
     "output_type": "display_data"
    },
    {
     "name": "stderr",
     "output_type": "stream",
     "text": [
      "  0%|                                                                                          | 0/5 [00:00<?, ?it/s]"
     ]
    }
   ],
   "source": [
    "journalist_model, tokenizer = utils.load_model_with_adapter(\"Qwen/Qwen2.5-7B-Instruct\",\n",
    "                                                            \"/mnt/swordfish-pool2/milad/communicating-science-to-the-public/models/qwen-trained-journalist-on-deepseek/\", \n",
    "                                                            device_map=\"cuda:6\")\n",
    "journalist_pipeline = pipeline(\"text-generation\", model=journalist_model, tokenizer=tokenizer, batch_size=6)\n",
    "researcher_model, tokenizer = utils.load_model_with_adapter(\"Qwen/Qwen2.5-7B-Instruct\", \n",
    "                                                           \"/mnt/swordfish-pool2/milad/communicating-science-to-the-public/models/qwen-trained-researcher-on-deepseek/\", \n",
    "                                                            device_map=\"cuda:7\")\n",
    "researcher_pipeline = pipeline(\"text-generation\", model=researcher_model, tokenizer=tokenizer, batch_size=6)\n",
    "\n",
    "resulted_ds = utils.construct_full_dialogue(sample_dataset, journalist_pipeline, researcher_pipeline, max_rounds=5, max_journalist_turn_tokens=200, max_researcher_turn_tokens=500)\n",
    "resulted_ds.save_to_disk(output_path)"
   ]
  },
  {
   "cell_type": "markdown",
   "id": "f6988ef6-7ed1-4d2a-a742-6db61d948c6b",
   "metadata": {},
   "source": [
    "**Using the baseline Qwen**"
   ]
  },
  {
   "cell_type": "code",
   "execution_count": null,
   "id": "08f2f2ad-0593-483c-bce5-270a54de422e",
   "metadata": {
    "scrolled": true
   },
   "outputs": [
    {
     "data": {
      "application/vnd.jupyter.widget-view+json": {
       "model_id": "ece31754e5b04eda8ed04f8a7bbcd858",
       "version_major": 2,
       "version_minor": 0
      },
      "text/plain": [
       "Downloading shards:   0%|          | 0/4 [00:00<?, ?it/s]"
      ]
     },
     "metadata": {},
     "output_type": "display_data"
    },
    {
     "data": {
      "application/vnd.jupyter.widget-view+json": {
       "model_id": "f673dddc7cb34801b8a0fe613d4b398d",
       "version_major": 2,
       "version_minor": 0
      },
      "text/plain": [
       "Loading checkpoint shards:   0%|          | 0/4 [00:00<?, ?it/s]"
      ]
     },
     "metadata": {},
     "output_type": "display_data"
    },
    {
     "name": "stderr",
     "output_type": "stream",
     "text": [
      "Device set to use cuda:6\n"
     ]
    },
    {
     "data": {
      "application/vnd.jupyter.widget-view+json": {
       "model_id": "14eb4da54f624ffdba2bfbffa8b70b8c",
       "version_major": 2,
       "version_minor": 0
      },
      "text/plain": [
       "Downloading shards:   0%|          | 0/4 [00:00<?, ?it/s]"
      ]
     },
     "metadata": {},
     "output_type": "display_data"
    },
    {
     "data": {
      "application/vnd.jupyter.widget-view+json": {
       "model_id": "50e99610da8848d2a29fdcf299f49d17",
       "version_major": 2,
       "version_minor": 0
      },
      "text/plain": [
       "Loading checkpoint shards:   0%|          | 0/4 [00:00<?, ?it/s]"
      ]
     },
     "metadata": {},
     "output_type": "display_data"
    },
    {
     "name": "stderr",
     "output_type": "stream",
     "text": [
      "Device set to use cuda:5\n",
      " 60%|█████████████████████████████████████████████▌                              | 3/5 [7:45:31<5:20:13, 9606.94s/it]"
     ]
    }
   ],
   "source": [
    "output_dir = '/mnt/swordfish-pool2/milad/communicating-science-to-the-public/baseline-qwen-test-conv-ds/'\n",
    "\n",
    "researcher_prompt = \"\"\"\n",
    "You are a helpful and expert researcher answering questions about your scientific paper. \n",
    "1. You are excellent at communicating your research in a simple and everyday life language\n",
    "2. You know how to communicate the socieal impact of your research.\n",
    "3. You know how to put your research in the proper scientific context\n",
    "\n",
    "Answer the question in maximum two to three paragraphs\n",
    "\"\"\"\n",
    "journalist_prompt = \"\"\"\n",
    "You are a helpful and knowledgeable journalist asking questions about a scientific paper. \n",
    "1. Your questions encouraging the researcher to place their paper in a proper societal and scientific context to the greatest possible degree.\n",
    "2. Your questions focus on topics in the paper that are novelty and have unexpected results.\n",
    "3. Your questions follow up on the researcher's answers trying to clarify unexplained technical terms in everyday language.\n",
    "\n",
    "Ask a new question or a follow-up question on the conversation\n",
    "\"\"\"\n",
    "\n",
    "# researcher_prompt = \"\"\"\n",
    "# You are a helpful and expert researcher answering questions about your scientific paper. Answer the question in maximum one paragraph\n",
    "# \"\"\"\n",
    "# journalist_prompt = \"\"\"\n",
    "# You are a helpful and knowledgeable journalist asking questions on a scientific paper. Please ask a new question or follow-up question on the following\n",
    "# \"\"\"\n",
    "\n",
    "journalist_model, tokenizer = utils.load_model_with_adapter(\"Qwen/Qwen2.5-7B-Instruct\", device_map=\"cuda:6\")\n",
    "journalist_pipeline = pipeline(\"text-generation\", model=journalist_model, tokenizer=tokenizer, batch_size=8)\n",
    "researcher_model, tokenizer = utils.load_model_with_adapter(\"Qwen/Qwen2.5-7B-Instruct\", device_map=\"cuda:5\")\n",
    "researcher_pipeline = pipeline(\"text-generation\", model=researcher_model, tokenizer=tokenizer, batch_size=8)\n",
    "\n",
    "resulted_ds = utils.construct_full_dialogue(sample_dataset, journalist_pipeline, researcher_pipeline, max_rounds=5, \n",
    "                                                     max_journalist_turn_tokens=200, max_researcher_turn_tokens=500, researcher_prompt=researcher_prompt, journalist_prompt=journalist_prompt)\n",
    "resulted_ds.save_to_disk(output_dir)"
   ]
  },
  {
   "cell_type": "markdown",
   "id": "fe8918e8-0d6d-423b-88f3-36b47fbb681f",
   "metadata": {},
   "source": [
    "**Using the baseline LLAMA-3**"
   ]
  },
  {
   "cell_type": "code",
   "execution_count": null,
   "id": "3daafdcf-5d88-4270-856c-1242d271ec87",
   "metadata": {
    "scrolled": true
   },
   "outputs": [
    {
     "data": {
      "application/vnd.jupyter.widget-view+json": {
       "model_id": "1f74983b5a854be88d626364d70e0cfe",
       "version_major": 2,
       "version_minor": 0
      },
      "text/plain": [
       "Downloading shards:   0%|          | 0/4 [00:00<?, ?it/s]"
      ]
     },
     "metadata": {},
     "output_type": "display_data"
    },
    {
     "data": {
      "application/vnd.jupyter.widget-view+json": {
       "model_id": "7c106f41ac5f42248c18bcc0c6775286",
       "version_major": 2,
       "version_minor": 0
      },
      "text/plain": [
       "Loading checkpoint shards:   0%|          | 0/4 [00:00<?, ?it/s]"
      ]
     },
     "metadata": {},
     "output_type": "display_data"
    },
    {
     "name": "stderr",
     "output_type": "stream",
     "text": [
      "Device set to use cuda:6\n"
     ]
    },
    {
     "data": {
      "application/vnd.jupyter.widget-view+json": {
       "model_id": "e17a2590e90c4db4a95935328b6ab8ad",
       "version_major": 2,
       "version_minor": 0
      },
      "text/plain": [
       "Downloading shards:   0%|          | 0/4 [00:00<?, ?it/s]"
      ]
     },
     "metadata": {},
     "output_type": "display_data"
    },
    {
     "data": {
      "application/vnd.jupyter.widget-view+json": {
       "model_id": "83fddd5b58e34c3f9f740f8fa4984ea7",
       "version_major": 2,
       "version_minor": 0
      },
      "text/plain": [
       "Loading checkpoint shards:   0%|          | 0/4 [00:00<?, ?it/s]"
      ]
     },
     "metadata": {},
     "output_type": "display_data"
    },
    {
     "name": "stderr",
     "output_type": "stream",
     "text": [
      "Device set to use cuda:5\n",
      " 60%|█████████████████████████████████████████████▌                              | 3/5 [7:35:45<5:05:23, 9161.70s/it]"
     ]
    }
   ],
   "source": [
    "output_dir = '/mnt/swordfish-pool2/milad/communicating-science-to-the-public/baseline-advanced-prompt-llama3-test-conv-ds/'\n",
    "\n",
    "researcher_prompt = \"\"\"\n",
    "You are a helpful and expert researcher answering questions about your scientific paper. \n",
    "1. You are excellent at communicating your research in a simple and everyday life language\n",
    "2. You know how to communicate the socieal impact of your research.\n",
    "3. You know how to put your research in the proper scientific context\n",
    "\n",
    "Answer the question in maximum two to three paragraphs\n",
    "\"\"\"\n",
    "journalist_prompt = \"\"\"\n",
    "You are a helpful and knowledgeable journalist asking questions about a scientific paper. \n",
    "1. Your questions encouraging the researcher to place their paper in a proper societal and scientific context to the greatest possible degree.\n",
    "2. Your questions focus on topics in the paper that are novelty and have unexpected results.\n",
    "3. Your questions follow up on the researcher's answers trying to clarify unexplained technical terms in everyday language.\n",
    "\n",
    "Ask a new question or a follow-up question on the conversation\n",
    "\"\"\"\n",
    "\n",
    "journalist_model, tokenizer = utils.load_model_with_adapter(\"meta-llama/Meta-Llama-3-8B-Instruct\", device_map=\"cuda:6\")\n",
    "journalist_pipeline = pipeline(\"text-generation\", model=journalist_model, tokenizer=tokenizer, batch_size=8)\n",
    "researcher_model, tokenizer = utils.load_model_with_adapter(\"meta-llama/Meta-Llama-3-8B-Instruct\", device_map=\"cuda:5\")\n",
    "researcher_pipeline = pipeline(\"text-generation\", model=researcher_model, tokenizer=tokenizer, batch_size=8)\n",
    "\n",
    "resulted_ds = utils.construct_full_dialogue(sample_dataset, journalist_pipeline, researcher_pipeline, max_rounds=5, \n",
    "                                                     max_journalist_turn_tokens=200, max_researcher_turn_tokens=500, \n",
    "                                                     researcher_prompt=researcher_prompt, journalist_prompt=journalist_prompt)\n",
    "resulted_ds.save_to_disk(output_dir)"
   ]
  }
 ],
 "metadata": {
  "kernelspec": {
   "display_name": "Python 3 (ipykernel)",
   "language": "python",
   "name": "python3"
  },
  "language_info": {
   "codemirror_mode": {
    "name": "ipython",
    "version": 3
   },
   "file_extension": ".py",
   "mimetype": "text/x-python",
   "name": "python",
   "nbconvert_exporter": "python",
   "pygments_lexer": "ipython3",
   "version": "3.12.8"
  }
 },
 "nbformat": 4,
 "nbformat_minor": 5
}
