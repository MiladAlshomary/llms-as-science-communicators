{
 "cells": [
  {
   "cell_type": "code",
   "execution_count": 1,
   "id": "a43c8d27-0b47-46ac-a3f7-e5a02134e727",
   "metadata": {},
   "outputs": [],
   "source": [
    "%load_ext autoreload\n",
    "import os\n",
    "import sys"
   ]
  },
  {
   "cell_type": "code",
   "execution_count": 3,
   "id": "7d78efec-68b0-47f6-8d88-af0cd01c16fa",
   "metadata": {},
   "outputs": [],
   "source": [
    "os.environ['TRANSFORMERS_CACHE'] = '/mnt/swordfish-pool2/milad/hf-cache-new'\n",
    "os.environ['HF_DATASETS_CACHE'] = '/mnt/swordfish-pool2/milad/hf-cache-new'\n",
    "os.environ[\"OPENAI_API_KEY\"]= 'xxx'\n",
    "os.environ['CUDA_VISIBLE_DEVICES'] = '6'\n",
    "os.environ['CUDA_LAUNCH_BLOCKING'] = '0'\n",
    "sys.path.append('./src-py')"
   ]
  },
  {
   "cell_type": "code",
   "execution_count": 4,
   "id": "d24b5e38-93dc-4098-97de-bb786a750a92",
   "metadata": {
    "scrolled": true
   },
   "outputs": [
    {
     "name": "stderr",
     "output_type": "stream",
     "text": [
      "/mnt/swordfish-pool2/milad/conda-envs/datadreamer/lib/python3.12/site-packages/transformers/utils/hub.py:128: FutureWarning: Using `TRANSFORMERS_CACHE` is deprecated and will be removed in v5 of Transformers. Use `HF_HOME` instead.\n",
      "  warnings.warn(\n"
     ]
    }
   ],
   "source": [
    "import json\n",
    "import os\n",
    "import numpy as np\n",
    "import pandas as pd\n",
    "import copy\n",
    "import matplotlib.pyplot as plt\n",
    "import re\n",
    "from collections import Counter\n",
    "\n",
    "pd.set_option('display.width', None)\n",
    "pd.set_option('display.max_colwidth', None)\n",
    "\n",
    "\n",
    "%autoreload\n",
    "import utils\n",
    "import prompts\n",
    "import random\n",
    "\n",
    "from tabulate import tabulate\n",
    "import tiktoken\n",
    "from llm_based_evaluation import *"
   ]
  },
  {
   "cell_type": "code",
   "execution_count": 5,
   "id": "d903fa8b-3c9e-4d0c-9a90-00c414488647",
   "metadata": {},
   "outputs": [],
   "source": [
    "from transformers import AutoTokenizer, pipeline"
   ]
  },
  {
   "cell_type": "code",
   "execution_count": 6,
   "id": "e08009fa",
   "metadata": {},
   "outputs": [],
   "source": [
    "import json\n",
    "keys = json.load(open('./keys.json'))\n",
    "for key, val in keys.items():\n",
    "    os.environ[key] = val"
   ]
  },
  {
   "cell_type": "code",
   "execution_count": 7,
   "id": "8de285da-4e35-4041-8aa8-956e164feb64",
   "metadata": {
    "scrolled": true
   },
   "outputs": [],
   "source": [
    "from huggingface_hub import login\n",
    "\n",
    "login(os.environ['hf_token'])"
   ]
  },
  {
   "cell_type": "code",
   "execution_count": 8,
   "id": "846f3f93-4394-4627-be70-6bd557823095",
   "metadata": {},
   "outputs": [],
   "source": [
    "output_dir = '/mnt/swordfish-pool2/milad/communicating-science-to-the-public/'\n",
    "models_folder = \"/mnt/swordfish-pool2/milad/communicating-science-to-the-public/models/\""
   ]
  },
  {
   "cell_type": "code",
   "execution_count": 9,
   "id": "e6a4d8a7-48f5-42a8-80f8-757e6a889e5c",
   "metadata": {},
   "outputs": [],
   "source": [
    "gpt_tokenizer = tiktoken.encoding_for_model(\"gpt-3.5-turbo\")\n",
    "llama_tokenizer = AutoTokenizer.from_pretrained(\"meta-llama/Meta-Llama-3-8B\")"
   ]
  },
  {
   "cell_type": "code",
   "execution_count": 87,
   "id": "438d82c1-3997-4138-ae62-03084067d8a6",
   "metadata": {},
   "outputs": [],
   "source": [
    "ds_path = '/mnt/swordfish-pool2/milad/communicating-science-to-the-public/eval_experiment_500'"
   ]
  },
  {
   "cell_type": "markdown",
   "id": "0d647b70-c4cd-4831-a450-1a8d0b6ac1a6",
   "metadata": {},
   "source": [
    "### Evaluate Science Models"
   ]
  },
  {
   "cell_type": "markdown",
   "id": "38243aa0-986e-4b8f-acfd-40ab8416f2a8",
   "metadata": {},
   "source": [
    "- Now we will evalaute the following models on a sample from the test set using only the generic prompt\n",
    "    - LLAMA-3 baseline\n",
    "    - Qwen baseline\n",
    "    - LLAMA-3 fine-tuned on DeepSeek generated conversations\n",
    "    - Qwen  fine-tuned on DeepSeek generated conversations"
   ]
  },
  {
   "cell_type": "markdown",
   "id": "72c9f30f-f44a-4315-bf1d-2b75f97402b7",
   "metadata": {},
   "source": [
    "### Evaluation"
   ]
  },
  {
   "cell_type": "markdown",
   "id": "176e7a4a-b70e-44ea-b373-c6441e21a5dc",
   "metadata": {},
   "source": [
    "#### Basic Evaluation"
   ]
  },
  {
   "cell_type": "code",
   "execution_count": 88,
   "id": "32572be9-6d3b-4a0b-b1ef-794023c478d9",
   "metadata": {},
   "outputs": [],
   "source": [
    "# generated_convs = {\n",
    "#     #'gpt3-baseline' : datasets.load_from_disk(ds_path + '/gpt3-test-conv-ds'),\n",
    "#     #'llama3-baseline' : datasets.load_from_disk(ds_path + '/baseline-llama3-test-conv-ds'),\n",
    "#     'llama3-baseline-adv-prompt':datasets.load_from_disk(ds_path + '/baseline-advanced-prompt-llama3-test-conv-ds/'),\n",
    "#     #'ft-40k-llama3-on-deepseek' :datasets.load_from_disk(ds_path + '/ft-40k-llama3-test-conv-ds'),\n",
    "#     'ft-llama3-on-deepseek' :datasets.load_from_disk(ds_path + '/ft-llama3-test-conv-ds'),\n",
    "#     'qwen-baseline-adv-prompt':datasets.load_from_disk(ds_path + '/baseline-qwen-test-conv-ds'),\n",
    "#     #'ft-qwen-on-deepseek' :datasets.load_from_disk(ds_path + '/ft-40k-qwen-test-conv-ds/'),\n",
    "#     'ft-qwen-on-deepseek' :datasets.load_from_disk(ds_path + '/ft-qwen-full-ds-training-test-conv-ds'),\n",
    "# }\n",
    "\n",
    "generated_convs = {\n",
    "    #'llama3-baseline':datasets.load_from_disk(ds_path + '/baseline-advanced-prompt-llama3-test-conv-ds/'),\n",
    "    'qwen-baseline':datasets.load_from_disk(ds_path + '/baseline_qwen_gen_conv'),\n",
    "    'ft-qwen-on-deepseek' :datasets.load_from_disk(ds_path + '/ft_qwen_gen_conv'),\n",
    "    'llama-baseline':datasets.load_from_disk(ds_path + '/baseline_llama3_gen_conv'),\n",
    "    'ft-llama-on-deepseek' :datasets.load_from_disk(ds_path + '/ft_llama3_gen_conv'),\n",
    "}"
   ]
  },
  {
   "cell_type": "code",
   "execution_count": 37,
   "id": "a75face6-1b8a-407b-8aab-c199db984634",
   "metadata": {
    "scrolled": true
   },
   "outputs": [],
   "source": [
    "# generated_convs['qwen-baseline'] = generated_convs['qwen-baseline'].map(lambda row: {'pr-article': paper_id_to_article[row['paper_id']]})\n",
    "# generated_convs['ft-qwen-on-deepseek'] = generated_convs['ft-qwen-on-deepseek'].map(lambda row: {'pr-article': paper_id_to_article[row['paper_id']]})"
   ]
  },
  {
   "cell_type": "code",
   "execution_count": 89,
   "id": "d988904a-1828-48d3-a116-647e7e6fa43c",
   "metadata": {},
   "outputs": [],
   "source": [
    "def evalaute_convs(datasets):\n",
    "    eval_results = {}\n",
    "    for name, ds in datasets.items():\n",
    "        eval_results[name] = utils.evaluate_conv(ds['conversation'], None, ds['pr-article'])\n",
    "\n",
    "    print(tabulate(\n",
    "        [[name] + list(eval_res.values())[:3] for name, eval_res in eval_results.items()],\n",
    "        headers=['Prompt', 'Rouge-1', 'Rouge-L', 'BERT-f1']\n",
    "    ))"
   ]
  },
  {
   "cell_type": "code",
   "execution_count": 91,
   "id": "1c8641da-281d-469d-9667-0290b22dbd90",
   "metadata": {},
   "outputs": [
    {
     "name": "stdout",
     "output_type": "stream",
     "text": [
      "Results on 500 sample\n",
      "Prompt                  Rouge-1    Rouge-L    BERT-f1\n",
      "--------------------  ---------  ---------  ---------\n",
      "qwen-baseline             0.3        0.127      0.825\n",
      "ft-qwen-on-deepseek       0.345      0.135      0.827\n",
      "llama-baseline            0.333      0.144      0.821\n",
      "ft-llama-on-deepseek      0.43       0.168      0.834\n"
     ]
    }
   ],
   "source": [
    "print('Results on 500 sample')\n",
    "all_synth_conversations = evalaute_convs(generated_convs)"
   ]
  },
  {
   "cell_type": "code",
   "execution_count": 53,
   "id": "1a69983e-f4b7-494b-8c40-164b56472308",
   "metadata": {},
   "outputs": [
    {
     "name": "stdout",
     "output_type": "stream",
     "text": [
      "Prompt                  Rouge-1    Rouge-L    BERT-f1\n",
      "--------------------  ---------  ---------  ---------\n",
      "qwen-baseline             0.304      0.128      0.822\n",
      "ft-qwen-on-deepseek       0.353      0.136      0.824\n",
      "llama-baseline            0.346      0.147      0.819\n",
      "ft-llama-on-deepseek      0.435      0.167      0.832\n"
     ]
    }
   ],
   "source": [
    "all_synth_conversations = evalaute_convs(generated_convs)"
   ]
  },
  {
   "cell_type": "markdown",
   "id": "a99e7db3-243a-4e96-83d7-8dc0af440a35",
   "metadata": {},
   "source": [
    "#### LLM-based Evaluation"
   ]
  },
  {
   "cell_type": "code",
   "execution_count": 92,
   "id": "e1a66dbe-3631-431e-b1c0-2114b633b251",
   "metadata": {},
   "outputs": [],
   "source": [
    "generated_convs = {\n",
    "    'qwen-baseline':[datasets.load_from_disk(ds_path + '/baseline_qwen_gen_conv/'), ds_path + '/baseline_qwen_gen_conv'],\n",
    "    'ft-qwen-on-deepseek' :[datasets.load_from_disk(ds_path + '/ft_qwen_gen_conv/'),ds_path +  '/ft_qwen_gen_conv/'],\n",
    "    'llama-baseline':[datasets.load_from_disk(ds_path + '/baseline_llama3_gen_conv/'), ds_path + '/baseline_llama3_gen_conv'],\n",
    "    'ft-llama-on-deepseek' :[datasets.load_from_disk(ds_path + '/ft_llama3_gen_conv/'),ds_path +  '/ft_llama3_gen_conv/'],\n",
    "}"
   ]
  },
  {
   "cell_type": "code",
   "execution_count": 94,
   "id": "2c4dddaf-ba69-43e7-8653-6c325babcd68",
   "metadata": {},
   "outputs": [
    {
     "name": "stdout",
     "output_type": "stream",
     "text": [
      "Loading /mnt/swordfish-pool2/milad/communicating-science-to-the-public/eval_experiment_500/baseline_qwen_gen_conv from already saved file\n",
      "Loading /mnt/swordfish-pool2/milad/communicating-science-to-the-public/eval_experiment_500/ft_qwen_gen_conv/ from already saved file\n",
      "Loading /mnt/swordfish-pool2/milad/communicating-science-to-the-public/eval_experiment_500/baseline_llama3_gen_conv from already saved file\n",
      "Loading /mnt/swordfish-pool2/milad/communicating-science-to-the-public/eval_experiment_500/ft_llama3_gen_conv/ from already saved file\n",
      "#                       clarity_eval_prompt    scientific_eval_prompt    societal_eval_prompt    Avg\n",
      "--------------------  ---------------------  ------------------------  ----------------------  -----\n",
      "qwen-baseline                          4.16                      2.37                    1.83   2.79\n",
      "ft-qwen-on-deepseek                    3.99                      2.35                    1.89   2.74\n",
      "llama-baseline                         4.17                      2.17                    1.55   2.63\n",
      "ft-llama-on-deepseek                   4.35                      2.11                    1.81   2.76\n"
     ]
    }
   ],
   "source": [
    "prompts_to_eval = [prompts.clarity_eval_prompt, prompts.scientific_context_eval_prompt, prompts.societal_context_eval_prompt]\n",
    "\n",
    "llm_eval_results = llm_based_evaluation(prompts_to_eval, generated_convs, force_generation=False)"
   ]
  },
  {
   "cell_type": "code",
   "execution_count": 20,
   "id": "afc2599f-f340-4833-8b54-2eb9527621a6",
   "metadata": {},
   "outputs": [],
   "source": [
    "# generated_convs['ft-llama3-on-deepseek'][0] = generated_convs['ft-llama3-on-deepseek'][0].map(lambda row: {'conversation': '\\n\\n'.join(['{}: {}'.format('Journalist', x['content']) if x['role'] == 'assistant' else '{}: {}'.format('Researcher', x['content']) for x in row['generated_conversation'][1:]])})\n",
    "# generated_convs['llama3-baseline'][0] = generated_convs['llama3-baseline'][0].map(lambda row: {'conversation': '\\n\\n'.join(['{}: {}'.format('Journalist', x['content']) if x['role'] == 'assistant' else '{}: {}'.format('Researcher', x['content']) for x in row['generated_conversation'][1:]])})\n",
    "# generated_convs['gpt3-baseline'][0] = generated_convs['gpt3-baseline'][0].remove_columns(['societal_eval_prompt_scoring_parsed', 'scientific_eval_prompt_scoring_parsed', 'clarity_eval_prompt_scoring_parsed'])\n",
    "# generated_convs['llama3-baseline'][0] = generated_convs['llama3-baseline'][0].remove_columns(['societal_eval_prompt_scoring_parsed', 'scientific_eval_prompt_scoring_parsed', 'clarity_eval_prompt_scoring_parsed'])\n",
    "# generated_convs['ft-llama3-on-deepseek'][0] = generated_convs['ft-llama3-on-deepseek'][0].remove_columns(['societal_eval_prompt_scoring_parsed', 'scientific_eval_prompt_scoring_parsed', 'clarity_eval_prompt_scoring_parsed'])"
   ]
  },
  {
   "cell_type": "code",
   "execution_count": 55,
   "id": "b4486649-2c76-474c-8807-c13a4c3ee2e2",
   "metadata": {
    "scrolled": true
   },
   "outputs": [
    {
     "name": "stdout",
     "output_type": "stream",
     "text": [
      "Loading /mnt/swordfish-pool2/milad/communicating-science-to-the-public/eval_experiment_100/baseline_qwen_gen_conv from already saved file\n",
      "Loading /mnt/swordfish-pool2/milad/communicating-science-to-the-public/eval_experiment_100/ft_qwen_gen_conv/ from already saved file\n"
     ]
    },
    {
     "name": "stderr",
     "output_type": "stream",
     "text": [
      "100%|██████████████████████████████████████████████████████████████████████████████| 100/100 [08:40<00:00,  5.20s/it]\n",
      "100%|██████████████████████████████████████████████████████████████████████████████| 100/100 [08:17<00:00,  4.97s/it]\n",
      "100%|██████████████████████████████████████████████████████████████████████████████| 100/100 [08:29<00:00,  5.10s/it]\n"
     ]
    },
    {
     "data": {
      "application/vnd.jupyter.widget-view+json": {
       "model_id": "45058233dbef4de98667e0d80f6b326b",
       "version_major": 2,
       "version_minor": 0
      },
      "text/plain": [
       "Saving the dataset (0/1 shards):   0%|          | 0/100 [00:00<?, ? examples/s]"
      ]
     },
     "metadata": {},
     "output_type": "display_data"
    },
    {
     "name": "stderr",
     "output_type": "stream",
     "text": [
      "100%|██████████████████████████████████████████████████████████████████████████████| 100/100 [07:56<00:00,  4.76s/it]\n",
      "100%|██████████████████████████████████████████████████████████████████████████████| 100/100 [07:34<00:00,  4.54s/it]\n",
      "100%|██████████████████████████████████████████████████████████████████████████████| 100/100 [07:57<00:00,  4.78s/it]\n"
     ]
    },
    {
     "data": {
      "application/vnd.jupyter.widget-view+json": {
       "model_id": "1f56f0beaaf044c5a7ce8d8b8544150f",
       "version_major": 2,
       "version_minor": 0
      },
      "text/plain": [
       "Saving the dataset (0/1 shards):   0%|          | 0/100 [00:00<?, ? examples/s]"
      ]
     },
     "metadata": {},
     "output_type": "display_data"
    },
    {
     "name": "stdout",
     "output_type": "stream",
     "text": [
      "#                       clarity_eval_prompt    scientific_eval_prompt    societal_eval_prompt    Avg\n",
      "--------------------  ---------------------  ------------------------  ----------------------  -----\n",
      "qwen-baseline                          4.06                      2.42                    1.82   2.77\n",
      "ft-qwen-on-deepseek                    3.98                      2.29                    1.85   2.71\n",
      "llama-baseline                         4.13                      2.18                    1.63   2.65\n",
      "ft-llama-on-deepseek                   4.33                      2.19                    1.88   2.8\n"
     ]
    }
   ],
   "source": [
    "prompts_to_eval = [prompts.clarity_eval_prompt, prompts.scientific_context_eval_prompt, prompts.societal_context_eval_prompt]\n",
    "\n",
    "llm_eval_results = llm_based_evaluation(prompts_to_eval, generated_convs, force_generation=False)"
   ]
  },
  {
   "cell_type": "markdown",
   "id": "68a95478-e067-4758-920f-a8ea72c3cbc7",
   "metadata": {},
   "source": [
    "-------"
   ]
  },
  {
   "cell_type": "markdown",
   "id": "0467ed59-b9df-40c2-816b-99c85f5232e7",
   "metadata": {},
   "source": [
    "#### Evaluating the ground-truth generated convs:"
   ]
  },
  {
   "cell_type": "code",
   "execution_count": 13,
   "id": "d04958c7-4af7-4b14-b1a5-06dfda39e76a",
   "metadata": {},
   "outputs": [],
   "source": [
    "gt_convs = {'original_deepseek_conv': [datasets.load_from_disk('/mnt/swordfish-pool2/milad/communicating-science-to-the-public/processed_test_ds_sample'), '/mnt/swordfish-pool2/milad/communicating-science-to-the-public/processed_test_ds_sample']}"
   ]
  },
  {
   "cell_type": "code",
   "execution_count": 14,
   "id": "909e4dc2-98a1-4cbb-87c3-3515b40acefa",
   "metadata": {},
   "outputs": [
    {
     "name": "stdout",
     "output_type": "stream",
     "text": [
      "Loading /mnt/swordfish-pool2/milad/communicating-science-to-the-public/processed_test_ds_sample from already saved file\n",
      "#                         clarity_eval_prompt    scientific_eval_prompt    societal_eval_prompt    Avg\n",
      "----------------------  ---------------------  ------------------------  ----------------------  -----\n",
      "original_deepseek_conv                   4.52                       2.2                    2.06   2.93\n"
     ]
    }
   ],
   "source": [
    "prompts_to_eval = [prompts.clarity_eval_prompt, prompts.scientific_context_eval_prompt, prompts.societal_context_eval_prompt]\n",
    "\n",
    "llm_eval_gt_results = llm_based_evaluation(prompts_to_eval, gt_convs, force_generation=False)"
   ]
  },
  {
   "cell_type": "markdown",
   "id": "c1b35126-3e00-4c63-a1e4-17628dcd18db",
   "metadata": {},
   "source": [
    "------"
   ]
  },
  {
   "cell_type": "markdown",
   "id": "398872ee-7b67-4f28-b8de-60280d9582af",
   "metadata": {},
   "source": [
    "### Analysis of the automatic evalaution"
   ]
  },
  {
   "cell_type": "code",
   "execution_count": 61,
   "id": "88a09ce7-5a36-4323-a1b1-2bdeb4d69183",
   "metadata": {},
   "outputs": [],
   "source": [
    "# To add the topic to the data\n",
    "deepseek_conv_dataset = datasets.load_from_disk('/mnt/swordfish-pool2/milad/communicating-science-to-the-public/deepseek-final-conv-ds-cleaned/')\n",
    "paper_id_to_article = {x['id']: x['pr-article'] for x in deepseek_conv_dataset}\n",
    "paper_id_to_topic = {x['id']: x['Topic'] for x in deepseek_conv_dataset}"
   ]
  },
  {
   "cell_type": "code",
   "execution_count": 95,
   "id": "bd6b765c-2e9a-479a-8032-24247d419e80",
   "metadata": {},
   "outputs": [],
   "source": [
    "ds_path = '/mnt/swordfish-pool2/milad/communicating-science-to-the-public/eval_experiment_500/'\n",
    "generated_convs = {\n",
    "    'qwen-baseline':[datasets.load_from_disk(ds_path + '/baseline_qwen_gen_conv/'), ds_path + '/baseline_qwen_gen_conv'],\n",
    "    'ft-qwen-on-deepseek' :[datasets.load_from_disk(ds_path + '/ft_qwen_gen_conv/'),ds_path +  '/ft_qwen_gen_conv/'],\n",
    "    'llama-baseline':[datasets.load_from_disk(ds_path + '/baseline_llama3_gen_conv/'), ds_path + '/baseline_llama3_gen_conv'],\n",
    "    'ft-llama-on-deepseek' :[datasets.load_from_disk(ds_path + '/ft_llama3_gen_conv/'),ds_path +  '/ft_llama3_gen_conv/'],\n",
    "}"
   ]
  },
  {
   "cell_type": "code",
   "execution_count": 57,
   "id": "0806f146-d067-40ab-bab4-ea78e34e1afd",
   "metadata": {},
   "outputs": [],
   "source": [
    "# generated_convs['llama3-baseline-adv-prompt'][0] = generated_convs['llama3-baseline-adv-prompt'][0].map(lambda row: {'topic': paper_id_to_topic[row['paper_id']]})\n",
    "# generated_convs['qwen-baseline-adv-prompt'][0] = generated_convs['qwen-baseline-adv-prompt'][0].map(lambda row: {'topic': paper_id_to_topic[row['paper_id']]})\n",
    "# generated_convs['ft-llama3-on-deepseek'][0] = generated_convs['ft-llama3-on-deepseek'][0].map(lambda row: {'topic': paper_id_to_topic[row['paper_id']]})\n",
    "# generated_convs['ft-qwen-on-deepseek'][0] = generated_convs['ft-qwen-on-deepseek'][0].map(lambda row: {'topic': paper_id_to_topic[row['paper_id']]})"
   ]
  },
  {
   "cell_type": "code",
   "execution_count": 96,
   "id": "78c3fc78-47c7-42af-94d0-2dfb3f88877d",
   "metadata": {},
   "outputs": [
    {
     "name": "stdout",
     "output_type": "stream",
     "text": [
      "Loading /mnt/swordfish-pool2/milad/communicating-science-to-the-public/eval_experiment_500//baseline_qwen_gen_conv from already saved file\n",
      "Loading /mnt/swordfish-pool2/milad/communicating-science-to-the-public/eval_experiment_500//ft_qwen_gen_conv/ from already saved file\n",
      "Loading /mnt/swordfish-pool2/milad/communicating-science-to-the-public/eval_experiment_500//baseline_llama3_gen_conv from already saved file\n",
      "Loading /mnt/swordfish-pool2/milad/communicating-science-to-the-public/eval_experiment_500//ft_llama3_gen_conv/ from already saved file\n",
      "#                       clarity_eval_prompt    scientific_eval_prompt    societal_eval_prompt    Avg\n",
      "--------------------  ---------------------  ------------------------  ----------------------  -----\n",
      "qwen-baseline                          4.16                      2.37                    1.83   2.79\n",
      "ft-qwen-on-deepseek                    3.99                      2.35                    1.89   2.74\n",
      "llama-baseline                         4.17                      2.17                    1.55   2.63\n",
      "ft-llama-on-deepseek                   4.35                      2.11                    1.81   2.76\n"
     ]
    }
   ],
   "source": [
    "prompts_to_eval = [prompts.clarity_eval_prompt, prompts.scientific_context_eval_prompt, prompts.societal_context_eval_prompt]\n",
    "\n",
    "llm_eval_results = llm_based_evaluation(prompts_to_eval, generated_convs, force_generation=False)"
   ]
  },
  {
   "cell_type": "code",
   "execution_count": 97,
   "id": "3948a55c-5bb2-432b-9019-39a280b7e6cb",
   "metadata": {},
   "outputs": [],
   "source": [
    "import matplotlib.pyplot as plt\n",
    "import numpy as np\n",
    "\n",
    "def histogram_of_scores(llm_eval_scores, scoring_scheme, chart_title):\n",
    "    llm_eval_scores = {x[0]: [s['score'] for s in x[1][scoring_scheme]] for x in llm_eval_results.items()}\n",
    "    # Assuming llm_eval_scores is a dict {model_name: list of scores}\n",
    "    bin_edges = np.histogram_bin_edges(np.concatenate(list(llm_eval_scores.values())), bins='auto')\n",
    "    bin_centers = (bin_edges[:-1] + bin_edges[1:]) / 2\n",
    "    bin_width = (bin_edges[1] - bin_edges[0])\n",
    "    num_models = len(llm_eval_scores)\n",
    "    bar_width = bin_width / num_models\n",
    "    \n",
    "    for i, (key, val) in enumerate(llm_eval_scores.items()):\n",
    "        counts, _ = np.histogram(val, bins=bin_edges)\n",
    "        offset = (i - num_models / 2) * bar_width + bar_width / 2\n",
    "        plt.bar(bin_centers + offset, counts, width=bar_width, alpha=0.8, label=key)\n",
    "    \n",
    "    plt.xlabel(\"Score\")\n",
    "    plt.ylabel(\"Count\")\n",
    "    plt.title(chart_title)\n",
    "    plt.legend()\n",
    "    plt.tight_layout()\n",
    "    plt.show()"
   ]
  },
  {
   "cell_type": "code",
   "execution_count": 98,
   "id": "7bcecdfe-1bb0-4de7-a9d6-a4bfd3ee5270",
   "metadata": {},
   "outputs": [
    {
     "data": {
      "image/png": "[encoded data removed]",
      "text/plain": [
       "<Figure size 640x480 with 1 Axes>"
      ]
     },
     "metadata": {},
     "output_type": "display_data"
    }
   ],
   "source": [
    "histogram_of_scores(llm_eval_results, 'clarity_eval_prompt_scoring_parsed', 'Clarity Scores')"
   ]
  },
  {
   "cell_type": "code",
   "execution_count": 99,
   "id": "1eca5375-76db-4f22-86f5-d2cb3d4ca125",
   "metadata": {},
   "outputs": [
    {
     "data": {
      "image/png": "[encoded data removed]",
      "text/plain": [
       "<Figure size 640x480 with 1 Axes>"
      ]
     },
     "metadata": {},
     "output_type": "display_data"
    }
   ],
   "source": [
    "histogram_of_scores(llm_eval_results, 'societal_eval_prompt_scoring_parsed', 'Societal Impact Scores')"
   ]
  },
  {
   "cell_type": "code",
   "execution_count": 100,
   "id": "f341c8df-7bfb-4148-ac31-cb9261c0861a",
   "metadata": {},
   "outputs": [
    {
     "data": {
      "image/png": "[encoded data removed]",
      "text/plain": [
       "<Figure size 640x480 with 1 Axes>"
      ]
     },
     "metadata": {},
     "output_type": "display_data"
    }
   ],
   "source": [
    "histogram_of_scores(llm_eval_results, 'scientific_eval_prompt_scoring_parsed', 'Scientific Context Scores')"
   ]
  },
  {
   "cell_type": "markdown",
   "id": "42923b20-613f-4363-99a0-52c514d52424",
   "metadata": {},
   "source": [
    "### Per topic analysis"
   ]
  },
  {
   "cell_type": "code",
   "execution_count": 107,
   "id": "1fe88bd9-10e4-457d-9ee5-6096816e25fe",
   "metadata": {
    "scrolled": true
   },
   "outputs": [
    {
     "name": "stdout",
     "output_type": "stream",
     "text": [
      "Medicine #inst:  198\n",
      "#                       clarity_eval_prompt    scientific_eval_prompt    societal_eval_prompt    Avg\n",
      "--------------------  ---------------------  ------------------------  ----------------------  -----\n",
      "qwen-baseline                          4.23                      2.34                    1.92   2.83\n",
      "ft-qwen-on-deepseek                    3.88                      2.35                    1.82   2.68\n",
      "llama-baseline                         4.26                      2.19                    1.6    2.68\n",
      "ft-llama-on-deepseek                   4.37                      2.08                    1.75   2.73\n",
      "\n",
      "===============\n",
      "Chemistry #inst:  44\n",
      "#                       clarity_eval_prompt    scientific_eval_prompt    societal_eval_prompt    Avg\n",
      "--------------------  ---------------------  ------------------------  ----------------------  -----\n",
      "qwen-baseline                          3.98                      2.43                    1.55   2.65\n",
      "ft-qwen-on-deepseek                    4.16                      2.16                    1.86   2.73\n",
      "llama-baseline                         3.82                      2.05                    1.52   2.46\n",
      "ft-llama-on-deepseek                   4.27                      2                       1.8    2.69\n",
      "\n",
      "===============\n",
      "Space #inst:  9\n",
      "#                       clarity_eval_prompt    scientific_eval_prompt    societal_eval_prompt    Avg\n",
      "--------------------  ---------------------  ------------------------  ----------------------  -----\n",
      "qwen-baseline                          4                         2.56                    2      2.85\n",
      "ft-qwen-on-deepseek                    3.78                      2.44                    1.56   2.59\n",
      "llama-baseline                         4.33                      2                       1.56   2.63\n",
      "ft-llama-on-deepseek                   4.56                      2.22                    1.67   2.82\n",
      "\n",
      "===============\n",
      "Biology #inst:  94\n",
      "#                       clarity_eval_prompt    scientific_eval_prompt    societal_eval_prompt    Avg\n",
      "--------------------  ---------------------  ------------------------  ----------------------  -----\n",
      "qwen-baseline                          4.14                      2.4                     1.76   2.77\n",
      "ft-qwen-on-deepseek                    4.19                      2.22                    1.95   2.79\n",
      "llama-baseline                         4.22                      2.1                     1.48   2.6\n",
      "ft-llama-on-deepseek                   4.36                      2.19                    1.83   2.79\n",
      "\n",
      "===============\n",
      "Computer #inst:  13\n",
      "#                       clarity_eval_prompt    scientific_eval_prompt    societal_eval_prompt    Avg\n",
      "--------------------  ---------------------  ------------------------  ----------------------  -----\n",
      "qwen-baseline                          4.15                      2.62                    1.92   2.9\n",
      "ft-qwen-on-deepseek                    4.23                      2.77                    2.08   3.03\n",
      "llama-baseline                         4                         1.92                    1.54   2.49\n",
      "ft-llama-on-deepseek                   4.85                      2.08                    1.85   2.93\n",
      "\n",
      "===============\n",
      "Nano #inst:  27\n",
      "#                       clarity_eval_prompt    scientific_eval_prompt    societal_eval_prompt    Avg\n",
      "--------------------  ---------------------  ------------------------  ----------------------  -----\n",
      "qwen-baseline                          4.11                      2.22                    1.63   2.65\n",
      "ft-qwen-on-deepseek                    4.19                      2.37                    1.85   2.8\n",
      "llama-baseline                         3.74                      2.19                    1.41   2.45\n",
      "ft-llama-on-deepseek                   4.3                       1.93                    1.67   2.63\n",
      "\n",
      "===============\n",
      "Earth #inst:  50\n",
      "#                       clarity_eval_prompt    scientific_eval_prompt    societal_eval_prompt    Avg\n",
      "--------------------  ---------------------  ------------------------  ----------------------  -----\n",
      "qwen-baseline                          4.18                      2.5                     2.04   2.91\n",
      "ft-qwen-on-deepseek                    4.02                      2.52                    2.18   2.91\n",
      "llama-baseline                         4.36                      2.44                    1.72   2.84\n",
      "ft-llama-on-deepseek                   4.32                      2.12                    2.14   2.86\n",
      "\n",
      "===============\n",
      "Physics #inst:  47\n",
      "#                       clarity_eval_prompt    scientific_eval_prompt    societal_eval_prompt    Avg\n",
      "--------------------  ---------------------  ------------------------  ----------------------  -----\n",
      "qwen-baseline                          3.94                      2.19                    1.53   2.55\n",
      "ft-qwen-on-deepseek                    3.77                      2.3                     1.7    2.59\n",
      "llama-baseline                         4                         2.02                    1.28   2.43\n",
      "ft-llama-on-deepseek                   4.17                      2.11                    1.7    2.66\n",
      "\n",
      "===============\n",
      "Other #inst:  18\n",
      "#                       clarity_eval_prompt    scientific_eval_prompt    societal_eval_prompt    Avg\n",
      "--------------------  ---------------------  ------------------------  ----------------------  -----\n",
      "qwen-baseline                          4.72                      2.5                     2.17   3.13\n",
      "ft-qwen-on-deepseek                    3.94                      2.67                    2.06   2.89\n",
      "llama-baseline                         4.28                      2.61                    1.94   2.94\n",
      "ft-llama-on-deepseek                   4.33                      2.44                    2.11   2.96\n",
      "\n",
      "===============\n"
     ]
    }
   ],
   "source": [
    "for topic in set(paper_id_to_topic.values()):\n",
    "    topic_ds = llm_eval_results['qwen-baseline'].filter(lambda row: row['topic'] ==topic)\n",
    "    print(topic, '#inst: ', len(topic_ds))\n",
    "    print(tabulate(\n",
    "        [[name] + get_llm_avg_scores(res.filter(lambda row: row['topic'] ==topic), prompts_to_eval) for name, res in llm_eval_results.items()],\n",
    "        headers=['#'] + [p['strategy_name'] for p in prompts_to_eval] + ['Avg']\n",
    "    ))\n",
    "    print()\n",
    "    print('===============')"
   ]
  },
  {
   "cell_type": "code",
   "execution_count": null,
   "id": "455f9968-13ee-41da-8ba3-50ff2d43f070",
   "metadata": {},
   "outputs": [],
   "source": []
  }
 ],
 "metadata": {
  "kernelspec": {
   "display_name": "Python 3 (ipykernel)",
   "language": "python",
   "name": "python3"
  },
  "language_info": {
   "codemirror_mode": {
    "name": "ipython",
    "version": 3
   },
   "file_extension": ".py",
   "mimetype": "text/x-python",
   "name": "python",
   "nbconvert_exporter": "python",
   "pygments_lexer": "ipython3",
   "version": "3.12.8"
  }
 },
 "nbformat": 4,
 "nbformat_minor": 5
}
