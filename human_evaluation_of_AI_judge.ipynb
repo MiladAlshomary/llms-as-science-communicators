{
 "cells": [
  {
   "cell_type": "code",
   "execution_count": 1,
   "id": "7d78efec-68b0-47f6-8d88-af0cd01c16fa",
   "metadata": {},
   "outputs": [],
   "source": [
    "%load_ext autoreload\n",
    "import os\n",
    "import sys\n",
    "\n",
    "sys.path.append('./src-py')"
   ]
  },
  {
   "cell_type": "code",
   "execution_count": 2,
   "id": "d24b5e38-93dc-4098-97de-bb786a750a92",
   "metadata": {
    "scrolled": true
   },
   "outputs": [],
   "source": [
    "import datasets\n",
    "import json\n",
    "import os\n",
    "import numpy as np\n",
    "import pandas as pd\n",
    "import torch\n",
    "import re\n",
    "from collections import Counter\n",
    "\n",
    "pd.set_option('display.width', None)\n",
    "pd.set_option('display.max_colwidth', None)"
   ]
  },
  {
   "cell_type": "markdown",
   "id": "e8267ab4-7483-4e08-aae9-2c199005edd1",
   "metadata": {
    "jp-MarkdownHeadingCollapsed": true
   },
   "source": [
    "#### Write Coversations to Label-studio"
   ]
  },
  {
   "cell_type": "markdown",
   "id": "7839465b-7633-4ec2-922f-99ffd6ccdaef",
   "metadata": {},
   "source": [
    "This shows the scores of ChatGPT and the reasoning in the label-studio interface"
   ]
  },
  {
   "cell_type": "code",
   "execution_count": 125,
   "id": "d86b3529-2a1f-4bef-a360-d26a65127ba3",
   "metadata": {
    "scrolled": true
   },
   "outputs": [],
   "source": [
    "import markdown\n",
    "from torch.utils.data import DataLoader\n",
    "\n",
    "\n",
    "def render_conversation_html(conversation):\n",
    "  \"\"\"\n",
    "  Renders a conversation (list of role-message pairs) as HTML.\n",
    "\n",
    "  Args:\n",
    "    conversation: A list of tuples, where each tuple is (role, message).\n",
    "                  Messages can contain Markdown.\n",
    "\n",
    "  Returns:\n",
    "    A string containing the HTML representation of the conversation.\n",
    "  \"\"\"\n",
    "  html_output = \"<div>\\n\"  # Start with a container div\n",
    "  for item in conversation:\n",
    "    role, message = item['author'], item['text']\n",
    "    # Convert Markdown message to HTML\n",
    "    rendered_message = markdown.markdown(message)\n",
    "    # Define inline styles based on the role and index for alternating colors\n",
    "    inline_styles = \"border: 1px solid #ccc; padding: 10px; margin-bottom: 10px; border-radius: 5px;\"\n",
    "    if role.lower() == \"journalist\":\n",
    "      inline_styles += \" background-color: #f0f0f0;\"  # Light grey background for user messages\n",
    "    elif role.lower() == \"researcher\":\n",
    "      inline_styles += \" background-color: #e0e0e0;\"  # Slightly darker grey for assistant messages\n",
    "\n",
    "    # Add role and rendered message to the HTML output, with inline styles\n",
    "    html_output += f\"  <div style='{inline_styles}'>\\n\"  # Use style attribute for inline styling\n",
    "    html_output += f\"    <strong>{role}:</strong>\\n\"\n",
    "    html_output += f\"    {rendered_message}\\n\"\n",
    "    html_output += \"  </div>\\n\"\n",
    "  html_output += \"</div>\"\n",
    "  return html_output\n",
    "\n",
    "def write_dialogues_to_label_studio_format(eval_results1, eval_results2, model_name, output_path):\n",
    "    \n",
    "    output = []\n",
    "    for item1 in eval_results1:\n",
    "        \n",
    "        item2 = eval_results2.filter(lambda row: row['paper_id'] == item1['paper_id'])[0]\n",
    "\n",
    "        print(item1['paper_id'], item2['paper_id'])\n",
    "        dlg = [{'text': turn['content'], 'author': 'Journalist' if turn['role']=='assistant' else 'Researcher'} \n",
    "               for turn in item1['generated_conversation'][2:]]\n",
    "        \n",
    "        obj = {\n",
    "            'prompt_name': '',\n",
    "            'sc_title' : item1['paper_id'],\n",
    "            'topic': item1['topic'],\n",
    "            'sc_abstract':item1['generated_conversation'][1]['content'],\n",
    "            'html_conv': render_conversation_html(dlg),\n",
    "            'dialogue' : dlg,\n",
    "\n",
    "            'llm1_societal_impact_eval': 'Score: {}\\nReason: {}'.format(item1['societal_eval_prompt_scoring_parsed']['score'], \n",
    "                                                                       item1['societal_eval_prompt_scoring_parsed']['reasons']\n",
    "                                                                ),\n",
    "            'llm1_scientific_context_eval': 'Score: {}\\nReason: {}'.format(item1['scientific_eval_prompt_scoring_parsed']['score'], \n",
    "                                                                       item1['scientific_eval_prompt_scoring_parsed']['reasons']\n",
    "                                                                ),\n",
    "            'llm1_clarity_eval': 'Score: {}\\nReason: {}'.format(item1['clarity_eval_prompt_scoring_parsed']['score'], \n",
    "                                                                       item1['clarity_eval_prompt_scoring_parsed']['reasons']\n",
    "                                                                ) ,\n",
    "\n",
    "            'llm2_societal_impact_eval': 'Score: {}\\nReason: {}'.format(item2['societal_eval_prompt_scoring_parsed']['score'], \n",
    "                                                                       item2['societal_eval_prompt_scoring_parsed']['reasons']\n",
    "                                                                ),\n",
    "            'llm2_scientific_context_eval': 'Score: {}\\nReason: {}'.format(item2['scientific_eval_prompt_scoring_parsed']['score'], \n",
    "                                                                       item2['scientific_eval_prompt_scoring_parsed']['reasons']\n",
    "                                                                ),\n",
    "            'llm2_clarity_eval': 'Score: {}\\nReason: {}'.format(item2['clarity_eval_prompt_scoring_parsed']['score'], \n",
    "                                                                       item2['clarity_eval_prompt_scoring_parsed']['reasons']\n",
    "                                                                ) ,\n",
    "            'gen-model': model_name\n",
    "        }\n",
    "\n",
    "        #obj['dialogue'] = [x for turn in obj['dialogue'] for x in turn]\n",
    "        \n",
    "        # for aspect in ['scientific', 'societal', 'clarity']:\n",
    "        #     obj[aspect] = item['{}_eval_prompt_scoring_parsed'.format(aspect)]['score']\n",
    "        output.append(obj)\n",
    "    \n",
    "    json.dump(output, open(output_path, 'w'))\n",
    "    return output"
   ]
  },
  {
   "cell_type": "code",
   "execution_count": 104,
   "id": "f6262e62-e523-4ee4-b461-7537fd431225",
   "metadata": {},
   "outputs": [],
   "source": [
    "ds_path = '/mnt/swordfish-pool2/milad/communicating-science-to-the-public/eval_experiment_500/'"
   ]
  },
  {
   "cell_type": "code",
   "execution_count": 126,
   "id": "7c6d4265-3eaf-40f2-bd4c-2ae3ab460fd5",
   "metadata": {
    "scrolled": true
   },
   "outputs": [],
   "source": [
    "# Load datasets\n",
    "gpt_baseline_llama3_evaluated_ds = datasets.load_from_disk(ds_path + '/baseline_llama3_gen_conv/ds_eval/gpt-4.1-2025-04-14/')\n",
    "gpt_ft_llama3_evaluated_ds = datasets.load_from_disk(ds_path + '/ft_llama3_gen_conv/ds_eval/gpt-4.1-2025-04-14/')\n",
    "gpt_baseline_qwen_evaluated_ds = datasets.load_from_disk(ds_path + '/baseline_qwen_gen_conv/ds_eval/gpt-4.1-2025-04-14/')\n",
    "gpt_ft_qwen_evaluated_ds = datasets.load_from_disk(ds_path + '/ft_qwen_gen_conv/ds_eval/gpt-4.1-2025-04-14/')\n",
    "\n",
    "baseline_llama3_evaluated_ds = datasets.load_from_disk(ds_path + '/baseline_llama3_gen_conv/ds_eval/deepseek-ai/')\n",
    "ft_llama3_evaluated_ds = datasets.load_from_disk(ds_path + '/ft_llama3_gen_conv/ds_eval/deepseek-ai/')\n",
    "baseline_qwen_evaluated_ds = datasets.load_from_disk(ds_path + '/baseline_qwen_gen_conv/ds_eval/deepseek-ai/')\n",
    "ft_qwen_evaluated_ds = datasets.load_from_disk(ds_path + '/ft_qwen_gen_conv/ds_eval/deepseek-ai/')\n"
   ]
  },
  {
   "cell_type": "code",
   "execution_count": 127,
   "id": "27b25c2c-cffd-4eaf-acd2-904a686f08b8",
   "metadata": {},
   "outputs": [],
   "source": [
    "paper_ids = baseline_llama3_evaluated_ds.shuffle().select(range(15))['paper_id']"
   ]
  },
  {
   "cell_type": "code",
   "execution_count": 128,
   "id": "89bd1620-3eee-46e0-bdc4-d45ee1aa89b3",
   "metadata": {
    "scrolled": true
   },
   "outputs": [
    {
     "data": {
      "application/vnd.jupyter.widget-view+json": {
       "model_id": "71fba8dbc69d492ea43989ee38ba1ec5",
       "version_major": 2,
       "version_minor": 0
      },
      "text/plain": [
       "Filter:   0%|          | 0/500 [00:00<?, ? examples/s]"
      ]
     },
     "metadata": {},
     "output_type": "display_data"
    },
    {
     "data": {
      "application/vnd.jupyter.widget-view+json": {
       "model_id": "22a45bc798f24580930774057e6904fe",
       "version_major": 2,
       "version_minor": 0
      },
      "text/plain": [
       "Filter:   0%|          | 0/500 [00:00<?, ? examples/s]"
      ]
     },
     "metadata": {},
     "output_type": "display_data"
    },
    {
     "data": {
      "application/vnd.jupyter.widget-view+json": {
       "model_id": "3cfc44da5b8c4827a526c7739489cffe",
       "version_major": 2,
       "version_minor": 0
      },
      "text/plain": [
       "Filter:   0%|          | 0/15 [00:00<?, ? examples/s]"
      ]
     },
     "metadata": {},
     "output_type": "display_data"
    },
    {
     "name": "stdout",
     "output_type": "stream",
     "text": [
      "10.1038/s41586-019-1290-4 10.1038/s41586-019-1290-4\n"
     ]
    },
    {
     "data": {
      "application/vnd.jupyter.widget-view+json": {
       "model_id": "c2d314e203d941068b2ad3163c83323f",
       "version_major": 2,
       "version_minor": 0
      },
      "text/plain": [
       "Filter:   0%|          | 0/15 [00:00<?, ? examples/s]"
      ]
     },
     "metadata": {},
     "output_type": "display_data"
    },
    {
     "name": "stdout",
     "output_type": "stream",
     "text": [
      "10.1038/s41529-019-0092-3 10.1038/s41529-019-0092-3\n"
     ]
    },
    {
     "data": {
      "application/vnd.jupyter.widget-view+json": {
       "model_id": "5a234c6510344e8f940411cd40007718",
       "version_major": 2,
       "version_minor": 0
      },
      "text/plain": [
       "Filter:   0%|          | 0/15 [00:00<?, ? examples/s]"
      ]
     },
     "metadata": {},
     "output_type": "display_data"
    },
    {
     "name": "stdout",
     "output_type": "stream",
     "text": [
      "10.1038/s41467-019-11902-6 10.1038/s41467-019-11902-6\n"
     ]
    },
    {
     "data": {
      "application/vnd.jupyter.widget-view+json": {
       "model_id": "17a5384ce691471c89b9630f2191f9d2",
       "version_major": 2,
       "version_minor": 0
      },
      "text/plain": [
       "Filter:   0%|          | 0/15 [00:00<?, ? examples/s]"
      ]
     },
     "metadata": {},
     "output_type": "display_data"
    },
    {
     "name": "stdout",
     "output_type": "stream",
     "text": [
      "10.1038/s41598-017-08692-6 10.1038/s41598-017-08692-6\n"
     ]
    },
    {
     "data": {
      "application/vnd.jupyter.widget-view+json": {
       "model_id": "62f008f8018248228bade40795990e58",
       "version_major": 2,
       "version_minor": 0
      },
      "text/plain": [
       "Filter:   0%|          | 0/15 [00:00<?, ? examples/s]"
      ]
     },
     "metadata": {},
     "output_type": "display_data"
    },
    {
     "name": "stdout",
     "output_type": "stream",
     "text": [
      "10.1038/s41467-023-36431-1 10.1038/s41467-023-36431-1\n"
     ]
    },
    {
     "data": {
      "application/vnd.jupyter.widget-view+json": {
       "model_id": "a294f7d73e514e7297d20476d3c70c52",
       "version_major": 2,
       "version_minor": 0
      },
      "text/plain": [
       "Filter:   0%|          | 0/15 [00:00<?, ? examples/s]"
      ]
     },
     "metadata": {},
     "output_type": "display_data"
    },
    {
     "name": "stdout",
     "output_type": "stream",
     "text": [
      "10.1038/s41563-018-0258-3 10.1038/s41563-018-0258-3\n"
     ]
    },
    {
     "data": {
      "application/vnd.jupyter.widget-view+json": {
       "model_id": "dbf8d70235bd4724aa5421482d182463",
       "version_major": 2,
       "version_minor": 0
      },
      "text/plain": [
       "Filter:   0%|          | 0/15 [00:00<?, ? examples/s]"
      ]
     },
     "metadata": {},
     "output_type": "display_data"
    },
    {
     "name": "stdout",
     "output_type": "stream",
     "text": [
      "10.1136/bmjopen-2022-066702 10.1136/bmjopen-2022-066702\n"
     ]
    },
    {
     "data": {
      "application/vnd.jupyter.widget-view+json": {
       "model_id": "dea81548ba0b494bb588601f797490f5",
       "version_major": 2,
       "version_minor": 0
      },
      "text/plain": [
       "Filter:   0%|          | 0/15 [00:00<?, ? examples/s]"
      ]
     },
     "metadata": {},
     "output_type": "display_data"
    },
    {
     "name": "stdout",
     "output_type": "stream",
     "text": [
      "10.1038/s41586-018-0276-y 10.1038/s41586-018-0276-y\n"
     ]
    },
    {
     "data": {
      "application/vnd.jupyter.widget-view+json": {
       "model_id": "27786c1f81ee4e0dbd8d65a2b4abe058",
       "version_major": 2,
       "version_minor": 0
      },
      "text/plain": [
       "Filter:   0%|          | 0/15 [00:00<?, ? examples/s]"
      ]
     },
     "metadata": {},
     "output_type": "display_data"
    },
    {
     "name": "stdout",
     "output_type": "stream",
     "text": [
      "10.1186/s12889-016-3074-1 10.1186/s12889-016-3074-1\n"
     ]
    },
    {
     "data": {
      "application/vnd.jupyter.widget-view+json": {
       "model_id": "ba3a32d269494bdb904a1e8b9c8c836e",
       "version_major": 2,
       "version_minor": 0
      },
      "text/plain": [
       "Filter:   0%|          | 0/15 [00:00<?, ? examples/s]"
      ]
     },
     "metadata": {},
     "output_type": "display_data"
    },
    {
     "name": "stdout",
     "output_type": "stream",
     "text": [
      "www.bmj.com/cgi/doi/10.1136/bmj.e8707 www.bmj.com/cgi/doi/10.1136/bmj.e8707\n"
     ]
    },
    {
     "data": {
      "application/vnd.jupyter.widget-view+json": {
       "model_id": "58d69a51a9994cbbb3ed71a4cf8ad7aa",
       "version_major": 2,
       "version_minor": 0
      },
      "text/plain": [
       "Filter:   0%|          | 0/15 [00:00<?, ? examples/s]"
      ]
     },
     "metadata": {},
     "output_type": "display_data"
    },
    {
     "name": "stdout",
     "output_type": "stream",
     "text": [
      "10.1038/s41598-021-84762-0 10.1038/s41598-021-84762-0\n"
     ]
    },
    {
     "data": {
      "application/vnd.jupyter.widget-view+json": {
       "model_id": "157644ca8d7f4fe9918ef7a52e7d040d",
       "version_major": 2,
       "version_minor": 0
      },
      "text/plain": [
       "Filter:   0%|          | 0/15 [00:00<?, ? examples/s]"
      ]
     },
     "metadata": {},
     "output_type": "display_data"
    },
    {
     "name": "stdout",
     "output_type": "stream",
     "text": [
      "10.1038/s41598-021-02901-z 10.1038/s41598-021-02901-z\n"
     ]
    },
    {
     "data": {
      "application/vnd.jupyter.widget-view+json": {
       "model_id": "5e66293ad9fd44bb87d3f2d5b0be0422",
       "version_major": 2,
       "version_minor": 0
      },
      "text/plain": [
       "Filter:   0%|          | 0/15 [00:00<?, ? examples/s]"
      ]
     },
     "metadata": {},
     "output_type": "display_data"
    },
    {
     "name": "stdout",
     "output_type": "stream",
     "text": [
      "10.1038/srep39589 10.1038/srep39589\n"
     ]
    },
    {
     "data": {
      "application/vnd.jupyter.widget-view+json": {
       "model_id": "d9603eb58c05461fac1c135198876c21",
       "version_major": 2,
       "version_minor": 0
      },
      "text/plain": [
       "Filter:   0%|          | 0/15 [00:00<?, ? examples/s]"
      ]
     },
     "metadata": {},
     "output_type": "display_data"
    },
    {
     "name": "stdout",
     "output_type": "stream",
     "text": [
      "10.1038/s41592-021-01155-x 10.1038/s41592-021-01155-x\n"
     ]
    },
    {
     "data": {
      "application/vnd.jupyter.widget-view+json": {
       "model_id": "a5a72bc10d2d4466b28d0543e03e3558",
       "version_major": 2,
       "version_minor": 0
      },
      "text/plain": [
       "Filter:   0%|          | 0/15 [00:00<?, ? examples/s]"
      ]
     },
     "metadata": {},
     "output_type": "display_data"
    },
    {
     "name": "stdout",
     "output_type": "stream",
     "text": [
      "10.1038/ncb3149 10.1038/ncb3149\n"
     ]
    },
    {
     "data": {
      "application/vnd.jupyter.widget-view+json": {
       "model_id": "224a20ac8b024fc28ffc0cf6fecf1fa5",
       "version_major": 2,
       "version_minor": 0
      },
      "text/plain": [
       "Filter:   0%|          | 0/500 [00:00<?, ? examples/s]"
      ]
     },
     "metadata": {},
     "output_type": "display_data"
    },
    {
     "data": {
      "application/vnd.jupyter.widget-view+json": {
       "model_id": "4a1fd6adeba74e0cb43cee04728e3863",
       "version_major": 2,
       "version_minor": 0
      },
      "text/plain": [
       "Filter:   0%|          | 0/500 [00:00<?, ? examples/s]"
      ]
     },
     "metadata": {},
     "output_type": "display_data"
    },
    {
     "data": {
      "application/vnd.jupyter.widget-view+json": {
       "model_id": "de2040001aac4dbaa87c12ecb94b6a41",
       "version_major": 2,
       "version_minor": 0
      },
      "text/plain": [
       "Filter:   0%|          | 0/15 [00:00<?, ? examples/s]"
      ]
     },
     "metadata": {},
     "output_type": "display_data"
    },
    {
     "name": "stdout",
     "output_type": "stream",
     "text": [
      "10.1038/s41586-019-1290-4 10.1038/s41586-019-1290-4\n"
     ]
    },
    {
     "data": {
      "application/vnd.jupyter.widget-view+json": {
       "model_id": "2d443a05916b436f8f00d637377f3a8b",
       "version_major": 2,
       "version_minor": 0
      },
      "text/plain": [
       "Filter:   0%|          | 0/15 [00:00<?, ? examples/s]"
      ]
     },
     "metadata": {},
     "output_type": "display_data"
    },
    {
     "name": "stdout",
     "output_type": "stream",
     "text": [
      "10.1038/s41529-019-0092-3 10.1038/s41529-019-0092-3\n"
     ]
    },
    {
     "data": {
      "application/vnd.jupyter.widget-view+json": {
       "model_id": "56cdfeedc59b41e9b1d6c578fd9a7fc3",
       "version_major": 2,
       "version_minor": 0
      },
      "text/plain": [
       "Filter:   0%|          | 0/15 [00:00<?, ? examples/s]"
      ]
     },
     "metadata": {},
     "output_type": "display_data"
    },
    {
     "name": "stdout",
     "output_type": "stream",
     "text": [
      "10.1038/s41467-019-11902-6 10.1038/s41467-019-11902-6\n"
     ]
    },
    {
     "data": {
      "application/vnd.jupyter.widget-view+json": {
       "model_id": "ef4717158f9c4c909724faee0a38420a",
       "version_major": 2,
       "version_minor": 0
      },
      "text/plain": [
       "Filter:   0%|          | 0/15 [00:00<?, ? examples/s]"
      ]
     },
     "metadata": {},
     "output_type": "display_data"
    },
    {
     "name": "stdout",
     "output_type": "stream",
     "text": [
      "10.1038/s41598-017-08692-6 10.1038/s41598-017-08692-6\n"
     ]
    },
    {
     "data": {
      "application/vnd.jupyter.widget-view+json": {
       "model_id": "63907e943d1e498da0d99387240c6377",
       "version_major": 2,
       "version_minor": 0
      },
      "text/plain": [
       "Filter:   0%|          | 0/15 [00:00<?, ? examples/s]"
      ]
     },
     "metadata": {},
     "output_type": "display_data"
    },
    {
     "name": "stdout",
     "output_type": "stream",
     "text": [
      "10.1038/s41467-023-36431-1 10.1038/s41467-023-36431-1\n"
     ]
    },
    {
     "data": {
      "application/vnd.jupyter.widget-view+json": {
       "model_id": "1749ed3cf3814425a7ef9b505678bda0",
       "version_major": 2,
       "version_minor": 0
      },
      "text/plain": [
       "Filter:   0%|          | 0/15 [00:00<?, ? examples/s]"
      ]
     },
     "metadata": {},
     "output_type": "display_data"
    },
    {
     "name": "stdout",
     "output_type": "stream",
     "text": [
      "10.1038/s41563-018-0258-3 10.1038/s41563-018-0258-3\n"
     ]
    },
    {
     "data": {
      "application/vnd.jupyter.widget-view+json": {
       "model_id": "80e789dc8dea47fd9817ccac326e3c49",
       "version_major": 2,
       "version_minor": 0
      },
      "text/plain": [
       "Filter:   0%|          | 0/15 [00:00<?, ? examples/s]"
      ]
     },
     "metadata": {},
     "output_type": "display_data"
    },
    {
     "name": "stdout",
     "output_type": "stream",
     "text": [
      "10.1136/bmjopen-2022-066702 10.1136/bmjopen-2022-066702\n"
     ]
    },
    {
     "data": {
      "application/vnd.jupyter.widget-view+json": {
       "model_id": "0d1d387f94314545a7dd446af06f512c",
       "version_major": 2,
       "version_minor": 0
      },
      "text/plain": [
       "Filter:   0%|          | 0/15 [00:00<?, ? examples/s]"
      ]
     },
     "metadata": {},
     "output_type": "display_data"
    },
    {
     "name": "stdout",
     "output_type": "stream",
     "text": [
      "10.1038/s41586-018-0276-y 10.1038/s41586-018-0276-y\n"
     ]
    },
    {
     "data": {
      "application/vnd.jupyter.widget-view+json": {
       "model_id": "ccbb3e74ae7d42aab6223723bdd69fdc",
       "version_major": 2,
       "version_minor": 0
      },
      "text/plain": [
       "Filter:   0%|          | 0/15 [00:00<?, ? examples/s]"
      ]
     },
     "metadata": {},
     "output_type": "display_data"
    },
    {
     "name": "stdout",
     "output_type": "stream",
     "text": [
      "10.1186/s12889-016-3074-1 10.1186/s12889-016-3074-1\n"
     ]
    },
    {
     "data": {
      "application/vnd.jupyter.widget-view+json": {
       "model_id": "9ef11d20960942c192c4900308b99aad",
       "version_major": 2,
       "version_minor": 0
      },
      "text/plain": [
       "Filter:   0%|          | 0/15 [00:00<?, ? examples/s]"
      ]
     },
     "metadata": {},
     "output_type": "display_data"
    },
    {
     "name": "stdout",
     "output_type": "stream",
     "text": [
      "www.bmj.com/cgi/doi/10.1136/bmj.e8707 www.bmj.com/cgi/doi/10.1136/bmj.e8707\n"
     ]
    },
    {
     "data": {
      "application/vnd.jupyter.widget-view+json": {
       "model_id": "e473543cb43b4934a94bbe58bc9f0ca7",
       "version_major": 2,
       "version_minor": 0
      },
      "text/plain": [
       "Filter:   0%|          | 0/15 [00:00<?, ? examples/s]"
      ]
     },
     "metadata": {},
     "output_type": "display_data"
    },
    {
     "name": "stdout",
     "output_type": "stream",
     "text": [
      "10.1038/s41598-021-84762-0 10.1038/s41598-021-84762-0\n"
     ]
    },
    {
     "data": {
      "application/vnd.jupyter.widget-view+json": {
       "model_id": "83e7002772ae4a748ec84d43c8cc2d1b",
       "version_major": 2,
       "version_minor": 0
      },
      "text/plain": [
       "Filter:   0%|          | 0/15 [00:00<?, ? examples/s]"
      ]
     },
     "metadata": {},
     "output_type": "display_data"
    },
    {
     "name": "stdout",
     "output_type": "stream",
     "text": [
      "10.1038/s41598-021-02901-z 10.1038/s41598-021-02901-z\n"
     ]
    },
    {
     "data": {
      "application/vnd.jupyter.widget-view+json": {
       "model_id": "01145c9fd4034edb8ea633de10ddf17e",
       "version_major": 2,
       "version_minor": 0
      },
      "text/plain": [
       "Filter:   0%|          | 0/15 [00:00<?, ? examples/s]"
      ]
     },
     "metadata": {},
     "output_type": "display_data"
    },
    {
     "name": "stdout",
     "output_type": "stream",
     "text": [
      "10.1038/srep39589 10.1038/srep39589\n"
     ]
    },
    {
     "data": {
      "application/vnd.jupyter.widget-view+json": {
       "model_id": "022f638faa5d4ce883b426f224b63e13",
       "version_major": 2,
       "version_minor": 0
      },
      "text/plain": [
       "Filter:   0%|          | 0/15 [00:00<?, ? examples/s]"
      ]
     },
     "metadata": {},
     "output_type": "display_data"
    },
    {
     "name": "stdout",
     "output_type": "stream",
     "text": [
      "10.1038/s41592-021-01155-x 10.1038/s41592-021-01155-x\n"
     ]
    },
    {
     "data": {
      "application/vnd.jupyter.widget-view+json": {
       "model_id": "a2239e793ff64c63b8c71bc7d2ac403c",
       "version_major": 2,
       "version_minor": 0
      },
      "text/plain": [
       "Filter:   0%|          | 0/15 [00:00<?, ? examples/s]"
      ]
     },
     "metadata": {},
     "output_type": "display_data"
    },
    {
     "name": "stdout",
     "output_type": "stream",
     "text": [
      "10.1038/ncb3149 10.1038/ncb3149\n"
     ]
    },
    {
     "data": {
      "application/vnd.jupyter.widget-view+json": {
       "model_id": "8abd4116817143f19baa5fd9c02280cc",
       "version_major": 2,
       "version_minor": 0
      },
      "text/plain": [
       "Filter:   0%|          | 0/500 [00:00<?, ? examples/s]"
      ]
     },
     "metadata": {},
     "output_type": "display_data"
    },
    {
     "data": {
      "application/vnd.jupyter.widget-view+json": {
       "model_id": "85862c23c42641028552b2643d0dec1f",
       "version_major": 2,
       "version_minor": 0
      },
      "text/plain": [
       "Filter:   0%|          | 0/500 [00:00<?, ? examples/s]"
      ]
     },
     "metadata": {},
     "output_type": "display_data"
    },
    {
     "data": {
      "application/vnd.jupyter.widget-view+json": {
       "model_id": "c57bfa5d41f5450e87f06d836f3fc317",
       "version_major": 2,
       "version_minor": 0
      },
      "text/plain": [
       "Filter:   0%|          | 0/15 [00:00<?, ? examples/s]"
      ]
     },
     "metadata": {},
     "output_type": "display_data"
    },
    {
     "name": "stdout",
     "output_type": "stream",
     "text": [
      "10.1038/s41586-019-1290-4 10.1038/s41586-019-1290-4\n"
     ]
    },
    {
     "data": {
      "application/vnd.jupyter.widget-view+json": {
       "model_id": "e679f830a66a40069b7917895af50114",
       "version_major": 2,
       "version_minor": 0
      },
      "text/plain": [
       "Filter:   0%|          | 0/15 [00:00<?, ? examples/s]"
      ]
     },
     "metadata": {},
     "output_type": "display_data"
    },
    {
     "name": "stdout",
     "output_type": "stream",
     "text": [
      "10.1038/s41529-019-0092-3 10.1038/s41529-019-0092-3\n"
     ]
    },
    {
     "data": {
      "application/vnd.jupyter.widget-view+json": {
       "model_id": "880a284953bf4e228a2f80dcaf10420b",
       "version_major": 2,
       "version_minor": 0
      },
      "text/plain": [
       "Filter:   0%|          | 0/15 [00:00<?, ? examples/s]"
      ]
     },
     "metadata": {},
     "output_type": "display_data"
    },
    {
     "name": "stdout",
     "output_type": "stream",
     "text": [
      "10.1038/s41467-019-11902-6 10.1038/s41467-019-11902-6\n"
     ]
    },
    {
     "data": {
      "application/vnd.jupyter.widget-view+json": {
       "model_id": "e020181d8c6b4c03bf9d66745aa71989",
       "version_major": 2,
       "version_minor": 0
      },
      "text/plain": [
       "Filter:   0%|          | 0/15 [00:00<?, ? examples/s]"
      ]
     },
     "metadata": {},
     "output_type": "display_data"
    },
    {
     "name": "stdout",
     "output_type": "stream",
     "text": [
      "10.1038/s41598-017-08692-6 10.1038/s41598-017-08692-6\n"
     ]
    },
    {
     "data": {
      "application/vnd.jupyter.widget-view+json": {
       "model_id": "96ca34cc9709410bb94c25b7702a5d36",
       "version_major": 2,
       "version_minor": 0
      },
      "text/plain": [
       "Filter:   0%|          | 0/15 [00:00<?, ? examples/s]"
      ]
     },
     "metadata": {},
     "output_type": "display_data"
    },
    {
     "name": "stdout",
     "output_type": "stream",
     "text": [
      "10.1038/s41467-023-36431-1 10.1038/s41467-023-36431-1\n"
     ]
    },
    {
     "data": {
      "application/vnd.jupyter.widget-view+json": {
       "model_id": "bc3b136038514859a45311cfd560afe5",
       "version_major": 2,
       "version_minor": 0
      },
      "text/plain": [
       "Filter:   0%|          | 0/15 [00:00<?, ? examples/s]"
      ]
     },
     "metadata": {},
     "output_type": "display_data"
    },
    {
     "name": "stdout",
     "output_type": "stream",
     "text": [
      "10.1038/s41563-018-0258-3 10.1038/s41563-018-0258-3\n"
     ]
    },
    {
     "data": {
      "application/vnd.jupyter.widget-view+json": {
       "model_id": "4fcb5e20832a41deb0b3fb31dbbe9851",
       "version_major": 2,
       "version_minor": 0
      },
      "text/plain": [
       "Filter:   0%|          | 0/15 [00:00<?, ? examples/s]"
      ]
     },
     "metadata": {},
     "output_type": "display_data"
    },
    {
     "name": "stdout",
     "output_type": "stream",
     "text": [
      "10.1136/bmjopen-2022-066702 10.1136/bmjopen-2022-066702\n"
     ]
    },
    {
     "data": {
      "application/vnd.jupyter.widget-view+json": {
       "model_id": "6564d9cda5c84e2ea0147721c6613b35",
       "version_major": 2,
       "version_minor": 0
      },
      "text/plain": [
       "Filter:   0%|          | 0/15 [00:00<?, ? examples/s]"
      ]
     },
     "metadata": {},
     "output_type": "display_data"
    },
    {
     "name": "stdout",
     "output_type": "stream",
     "text": [
      "10.1038/s41586-018-0276-y 10.1038/s41586-018-0276-y\n"
     ]
    },
    {
     "data": {
      "application/vnd.jupyter.widget-view+json": {
       "model_id": "f5edf1bac89f496e9afc7a6c3d6c4470",
       "version_major": 2,
       "version_minor": 0
      },
      "text/plain": [
       "Filter:   0%|          | 0/15 [00:00<?, ? examples/s]"
      ]
     },
     "metadata": {},
     "output_type": "display_data"
    },
    {
     "name": "stdout",
     "output_type": "stream",
     "text": [
      "10.1186/s12889-016-3074-1 10.1186/s12889-016-3074-1\n"
     ]
    },
    {
     "data": {
      "application/vnd.jupyter.widget-view+json": {
       "model_id": "b8229e8c9adc402a9460b09714caf745",
       "version_major": 2,
       "version_minor": 0
      },
      "text/plain": [
       "Filter:   0%|          | 0/15 [00:00<?, ? examples/s]"
      ]
     },
     "metadata": {},
     "output_type": "display_data"
    },
    {
     "name": "stdout",
     "output_type": "stream",
     "text": [
      "www.bmj.com/cgi/doi/10.1136/bmj.e8707 www.bmj.com/cgi/doi/10.1136/bmj.e8707\n"
     ]
    },
    {
     "data": {
      "application/vnd.jupyter.widget-view+json": {
       "model_id": "d8a02a51a9b04c1894842e0983a568cb",
       "version_major": 2,
       "version_minor": 0
      },
      "text/plain": [
       "Filter:   0%|          | 0/15 [00:00<?, ? examples/s]"
      ]
     },
     "metadata": {},
     "output_type": "display_data"
    },
    {
     "name": "stdout",
     "output_type": "stream",
     "text": [
      "10.1038/s41598-021-84762-0 10.1038/s41598-021-84762-0\n"
     ]
    },
    {
     "data": {
      "application/vnd.jupyter.widget-view+json": {
       "model_id": "8b3dedcb97114b5c8338c632a9659715",
       "version_major": 2,
       "version_minor": 0
      },
      "text/plain": [
       "Filter:   0%|          | 0/15 [00:00<?, ? examples/s]"
      ]
     },
     "metadata": {},
     "output_type": "display_data"
    },
    {
     "name": "stdout",
     "output_type": "stream",
     "text": [
      "10.1038/s41598-021-02901-z 10.1038/s41598-021-02901-z\n"
     ]
    },
    {
     "data": {
      "application/vnd.jupyter.widget-view+json": {
       "model_id": "68b927fdcf2c4c1d8fb1b63764d20123",
       "version_major": 2,
       "version_minor": 0
      },
      "text/plain": [
       "Filter:   0%|          | 0/15 [00:00<?, ? examples/s]"
      ]
     },
     "metadata": {},
     "output_type": "display_data"
    },
    {
     "name": "stdout",
     "output_type": "stream",
     "text": [
      "10.1038/srep39589 10.1038/srep39589\n"
     ]
    },
    {
     "data": {
      "application/vnd.jupyter.widget-view+json": {
       "model_id": "76dd4759f1c24725bf7a62359b27fb16",
       "version_major": 2,
       "version_minor": 0
      },
      "text/plain": [
       "Filter:   0%|          | 0/15 [00:00<?, ? examples/s]"
      ]
     },
     "metadata": {},
     "output_type": "display_data"
    },
    {
     "name": "stdout",
     "output_type": "stream",
     "text": [
      "10.1038/s41592-021-01155-x 10.1038/s41592-021-01155-x\n"
     ]
    },
    {
     "data": {
      "application/vnd.jupyter.widget-view+json": {
       "model_id": "8efb79fde619420d8b3916ef8b9e51b6",
       "version_major": 2,
       "version_minor": 0
      },
      "text/plain": [
       "Filter:   0%|          | 0/15 [00:00<?, ? examples/s]"
      ]
     },
     "metadata": {},
     "output_type": "display_data"
    },
    {
     "name": "stdout",
     "output_type": "stream",
     "text": [
      "10.1038/ncb3149 10.1038/ncb3149\n"
     ]
    },
    {
     "data": {
      "application/vnd.jupyter.widget-view+json": {
       "model_id": "fddc316ff7634fd5acc88215d9b0c36f",
       "version_major": 2,
       "version_minor": 0
      },
      "text/plain": [
       "Filter:   0%|          | 0/500 [00:00<?, ? examples/s]"
      ]
     },
     "metadata": {},
     "output_type": "display_data"
    },
    {
     "data": {
      "application/vnd.jupyter.widget-view+json": {
       "model_id": "6977df01ba334d45a85c65cff22c08bc",
       "version_major": 2,
       "version_minor": 0
      },
      "text/plain": [
       "Filter:   0%|          | 0/500 [00:00<?, ? examples/s]"
      ]
     },
     "metadata": {},
     "output_type": "display_data"
    },
    {
     "data": {
      "application/vnd.jupyter.widget-view+json": {
       "model_id": "5fa3af66e3ff43d39d1f44cadcc95d8a",
       "version_major": 2,
       "version_minor": 0
      },
      "text/plain": [
       "Filter:   0%|          | 0/15 [00:00<?, ? examples/s]"
      ]
     },
     "metadata": {},
     "output_type": "display_data"
    },
    {
     "name": "stdout",
     "output_type": "stream",
     "text": [
      "10.1038/s41586-019-1290-4 10.1038/s41586-019-1290-4\n"
     ]
    },
    {
     "data": {
      "application/vnd.jupyter.widget-view+json": {
       "model_id": "0a3f88beaea048a89cb1619347d38226",
       "version_major": 2,
       "version_minor": 0
      },
      "text/plain": [
       "Filter:   0%|          | 0/15 [00:00<?, ? examples/s]"
      ]
     },
     "metadata": {},
     "output_type": "display_data"
    },
    {
     "name": "stdout",
     "output_type": "stream",
     "text": [
      "10.1038/s41529-019-0092-3 10.1038/s41529-019-0092-3\n"
     ]
    },
    {
     "data": {
      "application/vnd.jupyter.widget-view+json": {
       "model_id": "0aaa8bd9521247849d38b38431377168",
       "version_major": 2,
       "version_minor": 0
      },
      "text/plain": [
       "Filter:   0%|          | 0/15 [00:00<?, ? examples/s]"
      ]
     },
     "metadata": {},
     "output_type": "display_data"
    },
    {
     "name": "stdout",
     "output_type": "stream",
     "text": [
      "10.1038/s41467-019-11902-6 10.1038/s41467-019-11902-6\n"
     ]
    },
    {
     "data": {
      "application/vnd.jupyter.widget-view+json": {
       "model_id": "f0d79da80aa5478e8a1ddf751487187d",
       "version_major": 2,
       "version_minor": 0
      },
      "text/plain": [
       "Filter:   0%|          | 0/15 [00:00<?, ? examples/s]"
      ]
     },
     "metadata": {},
     "output_type": "display_data"
    },
    {
     "name": "stdout",
     "output_type": "stream",
     "text": [
      "10.1038/s41598-017-08692-6 10.1038/s41598-017-08692-6\n"
     ]
    },
    {
     "data": {
      "application/vnd.jupyter.widget-view+json": {
       "model_id": "7e0a40f208cd4c009ef929f4389b7972",
       "version_major": 2,
       "version_minor": 0
      },
      "text/plain": [
       "Filter:   0%|          | 0/15 [00:00<?, ? examples/s]"
      ]
     },
     "metadata": {},
     "output_type": "display_data"
    },
    {
     "name": "stdout",
     "output_type": "stream",
     "text": [
      "10.1038/s41467-023-36431-1 10.1038/s41467-023-36431-1\n"
     ]
    },
    {
     "data": {
      "application/vnd.jupyter.widget-view+json": {
       "model_id": "89e3782e944d435c85ed08bfa0b98d1d",
       "version_major": 2,
       "version_minor": 0
      },
      "text/plain": [
       "Filter:   0%|          | 0/15 [00:00<?, ? examples/s]"
      ]
     },
     "metadata": {},
     "output_type": "display_data"
    },
    {
     "name": "stdout",
     "output_type": "stream",
     "text": [
      "10.1038/s41563-018-0258-3 10.1038/s41563-018-0258-3\n"
     ]
    },
    {
     "data": {
      "application/vnd.jupyter.widget-view+json": {
       "model_id": "50c6d7ed0c1944308bfbba5403a5a0c8",
       "version_major": 2,
       "version_minor": 0
      },
      "text/plain": [
       "Filter:   0%|          | 0/15 [00:00<?, ? examples/s]"
      ]
     },
     "metadata": {},
     "output_type": "display_data"
    },
    {
     "name": "stdout",
     "output_type": "stream",
     "text": [
      "10.1136/bmjopen-2022-066702 10.1136/bmjopen-2022-066702\n"
     ]
    },
    {
     "data": {
      "application/vnd.jupyter.widget-view+json": {
       "model_id": "d6a8d58df0f2424794706aee450b8553",
       "version_major": 2,
       "version_minor": 0
      },
      "text/plain": [
       "Filter:   0%|          | 0/15 [00:00<?, ? examples/s]"
      ]
     },
     "metadata": {},
     "output_type": "display_data"
    },
    {
     "name": "stdout",
     "output_type": "stream",
     "text": [
      "10.1038/s41586-018-0276-y 10.1038/s41586-018-0276-y\n"
     ]
    },
    {
     "data": {
      "application/vnd.jupyter.widget-view+json": {
       "model_id": "e623a9d57a8e4769946814481a0cd96e",
       "version_major": 2,
       "version_minor": 0
      },
      "text/plain": [
       "Filter:   0%|          | 0/15 [00:00<?, ? examples/s]"
      ]
     },
     "metadata": {},
     "output_type": "display_data"
    },
    {
     "name": "stdout",
     "output_type": "stream",
     "text": [
      "10.1186/s12889-016-3074-1 10.1186/s12889-016-3074-1\n"
     ]
    },
    {
     "data": {
      "application/vnd.jupyter.widget-view+json": {
       "model_id": "268340aca00c4d74b12d6afa4bd43c3a",
       "version_major": 2,
       "version_minor": 0
      },
      "text/plain": [
       "Filter:   0%|          | 0/15 [00:00<?, ? examples/s]"
      ]
     },
     "metadata": {},
     "output_type": "display_data"
    },
    {
     "name": "stdout",
     "output_type": "stream",
     "text": [
      "www.bmj.com/cgi/doi/10.1136/bmj.e8707 www.bmj.com/cgi/doi/10.1136/bmj.e8707\n"
     ]
    },
    {
     "data": {
      "application/vnd.jupyter.widget-view+json": {
       "model_id": "e221f990b76e44c59d9a4574b1db4528",
       "version_major": 2,
       "version_minor": 0
      },
      "text/plain": [
       "Filter:   0%|          | 0/15 [00:00<?, ? examples/s]"
      ]
     },
     "metadata": {},
     "output_type": "display_data"
    },
    {
     "name": "stdout",
     "output_type": "stream",
     "text": [
      "10.1038/s41598-021-84762-0 10.1038/s41598-021-84762-0\n"
     ]
    },
    {
     "data": {
      "application/vnd.jupyter.widget-view+json": {
       "model_id": "265a93d735cb421c8a48b9fed4a1f49e",
       "version_major": 2,
       "version_minor": 0
      },
      "text/plain": [
       "Filter:   0%|          | 0/15 [00:00<?, ? examples/s]"
      ]
     },
     "metadata": {},
     "output_type": "display_data"
    },
    {
     "name": "stdout",
     "output_type": "stream",
     "text": [
      "10.1038/s41598-021-02901-z 10.1038/s41598-021-02901-z\n"
     ]
    },
    {
     "data": {
      "application/vnd.jupyter.widget-view+json": {
       "model_id": "446c129f97714ebc953cc13f0678bc56",
       "version_major": 2,
       "version_minor": 0
      },
      "text/plain": [
       "Filter:   0%|          | 0/15 [00:00<?, ? examples/s]"
      ]
     },
     "metadata": {},
     "output_type": "display_data"
    },
    {
     "name": "stdout",
     "output_type": "stream",
     "text": [
      "10.1038/srep39589 10.1038/srep39589\n"
     ]
    },
    {
     "data": {
      "application/vnd.jupyter.widget-view+json": {
       "model_id": "694941145121418fbc835afc5d400239",
       "version_major": 2,
       "version_minor": 0
      },
      "text/plain": [
       "Filter:   0%|          | 0/15 [00:00<?, ? examples/s]"
      ]
     },
     "metadata": {},
     "output_type": "display_data"
    },
    {
     "name": "stdout",
     "output_type": "stream",
     "text": [
      "10.1038/s41592-021-01155-x 10.1038/s41592-021-01155-x\n"
     ]
    },
    {
     "data": {
      "application/vnd.jupyter.widget-view+json": {
       "model_id": "e717b122a8d9485eb5543255f196d08a",
       "version_major": 2,
       "version_minor": 0
      },
      "text/plain": [
       "Filter:   0%|          | 0/15 [00:00<?, ? examples/s]"
      ]
     },
     "metadata": {},
     "output_type": "display_data"
    },
    {
     "name": "stdout",
     "output_type": "stream",
     "text": [
      "10.1038/ncb3149 10.1038/ncb3149\n"
     ]
    }
   ],
   "source": [
    "json_output  = write_dialogues_to_label_studio_format(baseline_llama3_evaluated_ds.filter(lambda row: row['paper_id'] in paper_ids), gpt_baseline_llama3_evaluated_ds.filter(lambda row: row['paper_id'] in paper_ids), 'baseline-llama3', './data/llama3_baseline_label_studio_tasks.json')\n",
    "json_output  = write_dialogues_to_label_studio_format(ft_llama3_evaluated_ds.filter(lambda row: row['paper_id'] in paper_ids), gpt_ft_llama3_evaluated_ds.filter(lambda row: row['paper_id'] in paper_ids), 'ft-llama3', './data/llama3_ft_label_studio_tasks.json')\n",
    "json_output  = write_dialogues_to_label_studio_format(baseline_qwen_evaluated_ds.filter(lambda row: row['paper_id'] in paper_ids), gpt_baseline_qwen_evaluated_ds.filter(lambda row: row['paper_id'] in paper_ids), 'baseline-qwen', './data/qwen_baseline_label_studio_tasks.json')\n",
    "json_output  = write_dialogues_to_label_studio_format(ft_qwen_evaluated_ds.filter(lambda row: row['paper_id'] in paper_ids), gpt_ft_qwen_evaluated_ds.filter(lambda row: row['paper_id'] in paper_ids), 'ft-qwen', './data/qwen_ft_label_studio_tasks.json')"
   ]
  },
  {
   "cell_type": "markdown",
   "id": "eb8e434e-ed3b-4939-9805-9eb6df6489c6",
   "metadata": {},
   "source": [
    "### Analyzing human evaluation of LLM-judge"
   ]
  },
  {
   "cell_type": "code",
   "execution_count": 3,
   "id": "91324408-b33d-42db-b1f2-948c36e34fc1",
   "metadata": {},
   "outputs": [],
   "source": [
    "import json"
   ]
  },
  {
   "cell_type": "code",
   "execution_count": 44,
   "id": "ce3b0953-898d-4a55-8b18-efe6e54ab6dd",
   "metadata": {},
   "outputs": [],
   "source": [
    "eval_results = json.load(open('./data/export_163509_project-163509-at-2025-07-15-10-21-6754b765.json'))"
   ]
  },
  {
   "cell_type": "code",
   "execution_count": 45,
   "id": "10ecfbd3-610b-46da-b89b-65cadd683754",
   "metadata": {
    "scrolled": true
   },
   "outputs": [
    {
     "data": {
      "text/plain": [
       "60"
      ]
     },
     "execution_count": 45,
     "metadata": {},
     "output_type": "execute_result"
    }
   ],
   "source": [
    "len(eval_results)"
   ]
  },
  {
   "cell_type": "code",
   "execution_count": 46,
   "id": "2926c858-0fb7-4459-9ecf-99263580f13d",
   "metadata": {},
   "outputs": [],
   "source": [
    "side_to_model = {'right': 'gpt-4', 'left': 'deepseek'}"
   ]
  },
  {
   "cell_type": "code",
   "execution_count": 47,
   "id": "936fda8e-83ca-4020-85b3-ac2a94db9935",
   "metadata": {
    "scrolled": true
   },
   "outputs": [],
   "source": [
    "data = []\n",
    "for task in eval_results:\n",
    "    for annotations in task['annotations']:\n",
    "        item = {}\n",
    "        for x in task['data'].items():\n",
    "            item[x[0]] = x[1]\n",
    "\n",
    "        item['annotator'] = annotations['completed_by']['email']\n",
    "        for ann_res in annotations['result']:\n",
    "            if ann_res['type'] == 'pairwise':\n",
    "                item[ann_res['to_name']] = side_to_model[ann_res['value']['selected']]\n",
    "            else:\n",
    "                item[ann_res['to_name'] + '-comment'] = ann_res['value']['text']\n",
    "        data.append(item)\n",
    "\n",
    "results_df = pd.DataFrame(data)"
   ]
  },
  {
   "cell_type": "code",
   "execution_count": 48,
   "id": "c7de84e7-7f96-4e14-9bb4-2cdc23cfb333",
   "metadata": {
    "scrolled": true
   },
   "outputs": [
    {
     "data": {
      "text/html": [
       "<div>\n",
       "<style scoped>\n",
       "    .dataframe tbody tr th:only-of-type {\n",
       "        vertical-align: middle;\n",
       "    }\n",
       "\n",
       "    .dataframe tbody tr th {\n",
       "        vertical-align: top;\n",
       "    }\n",
       "\n",
       "    .dataframe thead th {\n",
       "        text-align: right;\n",
       "    }\n",
       "</style>\n",
       "<table border=\"1\" class=\"dataframe\">\n",
       "  <thead>\n",
       "    <tr style=\"text-align: right;\">\n",
       "      <th></th>\n",
       "      <th>topic</th>\n",
       "      <th>gen-model</th>\n",
       "      <th>llm1_clarity_eval</th>\n",
       "      <th>llm2_clarity_eval</th>\n",
       "      <th>llm1_societal_impact_eval</th>\n",
       "      <th>llm2_societal_impact_eval</th>\n",
       "      <th>llm1_scientific_context_eval</th>\n",
       "      <th>llm2_scientific_context_eval</th>\n",
       "      <th>annotator</th>\n",
       "      <th>pw_llm_societal_impact</th>\n",
       "      <th>pw_llm_scientific_context</th>\n",
       "      <th>pw_llm_clarity</th>\n",
       "    </tr>\n",
       "  </thead>\n",
       "  <tbody>\n",
       "    <tr>\n",
       "      <th>0</th>\n",
       "      <td>Biology</td>\n",
       "      <td>baseline-qwen</td>\n",
       "      <td>Score: 5\\nReason: The conversation successfully balances technical terms with clear explanations. The researcher uses accessible analogies, like comparing the sponges' cell behavior to human stem cells, and provides concrete examples with specific sponge species. While some technical terms are present, such as 'transdifferentiate' and 'pluripotent stem cells,' they are explained thoroughly, making the content understandable to the general public. The记者 also ensures clarity by asking for examples and clarifications, which helps in breaking down complex ideas.</td>\n",
       "      <td>Score: 5\\nReason: The conversation covers complex concepts such as 'transient metastable state,' 'transdifferentiation,' and 'pluripotent stem cells,' but each of these is clearly explained in accessible language. The researcher uses concrete examples, analogies to stem cells, and a specific species (*Amphimedon queenslandica*) to clarify the concepts. The responses build background, provide descriptive explanations, and offer 'imagine' scenarios to help the journalist (and by extension the public) understand the concepts. The journalist repeatedly asks for clarifications and examples, ensuring nothing technical is left unexplained. Overall, the conversation is engaging, informative, and appropriately accessible to a public audience.</td>\n",
       "      <td>Score: 1\\nReason: The conversation focuses on the scientific details of cellular transdifferentiation in sponges, discussing how choanocytes can change into archaeocytes and the implications for the evolution of multicellularity. However, it does not explore the broader societal implications of this research. There is no mention of how these findings might impact human understanding, technology, policy, or public perceptions, nor does it discuss positive or negative societal outcomes.</td>\n",
       "      <td>Score: 3\\nReason: The conversation does a strong job of contextualizing the research within broader societal and conceptual frameworks. The researcher thoroughly explains how the flexible cell-state transitions observed in sponges could have impacted the evolution of multicellularity—a major transition in the history of life, with lasting implications for understanding animal complexity and evolution. They provide concrete examples (e.g., scaling up feeding apparatus, tissue repair) and describe the relevance of this flexibility by linking it to environmental adaptability and tissue maintenance, which are themes connected to resilience and complexity in multicellular organisms. While the discussion is somewhat focused on evolutionary and biological aspects, it also addresses conceptual impacts (e.g., challenging traditional views of animal evolution) and highlights the importance of cellular plasticity mechanisms found in early animals and their relevance to current biological understanding. Negative aspects aren't explicitly discussed, but the detailed explanation, real-world examples, and evolutionary framing show a high level of societal contextualization.</td>\n",
       "      <td>Score: 3\\nReason: The conversation provides detailed examples of how the research on sponge cell plasticity compares to both early multicellular organisms and modern holozoans, highlighting the novelty of the findings in understanding the evolutionary pathways of cell differentiation.</td>\n",
       "      <td>Score: 3\\nReason: The conversation does a good job of situating the current research in the broader scientific context. The Researcher explicitly compares the findings to those in modern unicellular holozoans, discussing how the transient metastable states and transdifferentiation seen in sponges are more robust and internally regulated, in contrast to the more environmentally induced changes in unicellular holozoans. The researcher also explains the novelty by highlighting the transition from simple, rigid multicellular organization to more flexible, dynamic cellular behavior in early animals. This demonstrates how the work is innovative compared to previous views. Additionally, the implications for understanding the evolution of complex multicellularity are discussed, showing how this research advances scientific understanding in the field.</td>\n",
       "      <td>adedejisaheed007@gmail.com</td>\n",
       "      <td>deepseek</td>\n",
       "      <td>gpt-4</td>\n",
       "      <td>gpt-4</td>\n",
       "    </tr>\n",
       "    <tr>\n",
       "      <th>1</th>\n",
       "      <td>Biology</td>\n",
       "      <td>baseline-qwen</td>\n",
       "      <td>Score: 5\\nReason: The conversation successfully balances technical terms with clear explanations. The researcher uses accessible analogies, like comparing the sponges' cell behavior to human stem cells, and provides concrete examples with specific sponge species. While some technical terms are present, such as 'transdifferentiate' and 'pluripotent stem cells,' they are explained thoroughly, making the content understandable to the general public. The记者 also ensures clarity by asking for examples and clarifications, which helps in breaking down complex ideas.</td>\n",
       "      <td>Score: 5\\nReason: The conversation covers complex concepts such as 'transient metastable state,' 'transdifferentiation,' and 'pluripotent stem cells,' but each of these is clearly explained in accessible language. The researcher uses concrete examples, analogies to stem cells, and a specific species (*Amphimedon queenslandica*) to clarify the concepts. The responses build background, provide descriptive explanations, and offer 'imagine' scenarios to help the journalist (and by extension the public) understand the concepts. The journalist repeatedly asks for clarifications and examples, ensuring nothing technical is left unexplained. Overall, the conversation is engaging, informative, and appropriately accessible to a public audience.</td>\n",
       "      <td>Score: 1\\nReason: The conversation focuses on the scientific details of cellular transdifferentiation in sponges, discussing how choanocytes can change into archaeocytes and the implications for the evolution of multicellularity. However, it does not explore the broader societal implications of this research. There is no mention of how these findings might impact human understanding, technology, policy, or public perceptions, nor does it discuss positive or negative societal outcomes.</td>\n",
       "      <td>Score: 3\\nReason: The conversation does a strong job of contextualizing the research within broader societal and conceptual frameworks. The researcher thoroughly explains how the flexible cell-state transitions observed in sponges could have impacted the evolution of multicellularity—a major transition in the history of life, with lasting implications for understanding animal complexity and evolution. They provide concrete examples (e.g., scaling up feeding apparatus, tissue repair) and describe the relevance of this flexibility by linking it to environmental adaptability and tissue maintenance, which are themes connected to resilience and complexity in multicellular organisms. While the discussion is somewhat focused on evolutionary and biological aspects, it also addresses conceptual impacts (e.g., challenging traditional views of animal evolution) and highlights the importance of cellular plasticity mechanisms found in early animals and their relevance to current biological understanding. Negative aspects aren't explicitly discussed, but the detailed explanation, real-world examples, and evolutionary framing show a high level of societal contextualization.</td>\n",
       "      <td>Score: 3\\nReason: The conversation provides detailed examples of how the research on sponge cell plasticity compares to both early multicellular organisms and modern holozoans, highlighting the novelty of the findings in understanding the evolutionary pathways of cell differentiation.</td>\n",
       "      <td>Score: 3\\nReason: The conversation does a good job of situating the current research in the broader scientific context. The Researcher explicitly compares the findings to those in modern unicellular holozoans, discussing how the transient metastable states and transdifferentiation seen in sponges are more robust and internally regulated, in contrast to the more environmentally induced changes in unicellular holozoans. The researcher also explains the novelty by highlighting the transition from simple, rigid multicellular organization to more flexible, dynamic cellular behavior in early animals. This demonstrates how the work is innovative compared to previous views. Additionally, the implications for understanding the evolution of complex multicellularity are discussed, showing how this research advances scientific understanding in the field.</td>\n",
       "      <td>nataliedulaney11@gmail.com</td>\n",
       "      <td>gpt-4</td>\n",
       "      <td>deepseek</td>\n",
       "      <td>gpt-4</td>\n",
       "    </tr>\n",
       "    <tr>\n",
       "      <th>2</th>\n",
       "      <td>Biology</td>\n",
       "      <td>baseline-qwen</td>\n",
       "      <td>Score: 5\\nReason: The conversation successfully balances technical terms with clear explanations. The researcher uses accessible analogies, like comparing the sponges' cell behavior to human stem cells, and provides concrete examples with specific sponge species. While some technical terms are present, such as 'transdifferentiate' and 'pluripotent stem cells,' they are explained thoroughly, making the content understandable to the general public. The记者 also ensures clarity by asking for examples and clarifications, which helps in breaking down complex ideas.</td>\n",
       "      <td>Score: 5\\nReason: The conversation covers complex concepts such as 'transient metastable state,' 'transdifferentiation,' and 'pluripotent stem cells,' but each of these is clearly explained in accessible language. The researcher uses concrete examples, analogies to stem cells, and a specific species (*Amphimedon queenslandica*) to clarify the concepts. The responses build background, provide descriptive explanations, and offer 'imagine' scenarios to help the journalist (and by extension the public) understand the concepts. The journalist repeatedly asks for clarifications and examples, ensuring nothing technical is left unexplained. Overall, the conversation is engaging, informative, and appropriately accessible to a public audience.</td>\n",
       "      <td>Score: 1\\nReason: The conversation focuses on the scientific details of cellular transdifferentiation in sponges, discussing how choanocytes can change into archaeocytes and the implications for the evolution of multicellularity. However, it does not explore the broader societal implications of this research. There is no mention of how these findings might impact human understanding, technology, policy, or public perceptions, nor does it discuss positive or negative societal outcomes.</td>\n",
       "      <td>Score: 3\\nReason: The conversation does a strong job of contextualizing the research within broader societal and conceptual frameworks. The researcher thoroughly explains how the flexible cell-state transitions observed in sponges could have impacted the evolution of multicellularity—a major transition in the history of life, with lasting implications for understanding animal complexity and evolution. They provide concrete examples (e.g., scaling up feeding apparatus, tissue repair) and describe the relevance of this flexibility by linking it to environmental adaptability and tissue maintenance, which are themes connected to resilience and complexity in multicellular organisms. While the discussion is somewhat focused on evolutionary and biological aspects, it also addresses conceptual impacts (e.g., challenging traditional views of animal evolution) and highlights the importance of cellular plasticity mechanisms found in early animals and their relevance to current biological understanding. Negative aspects aren't explicitly discussed, but the detailed explanation, real-world examples, and evolutionary framing show a high level of societal contextualization.</td>\n",
       "      <td>Score: 3\\nReason: The conversation provides detailed examples of how the research on sponge cell plasticity compares to both early multicellular organisms and modern holozoans, highlighting the novelty of the findings in understanding the evolutionary pathways of cell differentiation.</td>\n",
       "      <td>Score: 3\\nReason: The conversation does a good job of situating the current research in the broader scientific context. The Researcher explicitly compares the findings to those in modern unicellular holozoans, discussing how the transient metastable states and transdifferentiation seen in sponges are more robust and internally regulated, in contrast to the more environmentally induced changes in unicellular holozoans. The researcher also explains the novelty by highlighting the transition from simple, rigid multicellular organization to more flexible, dynamic cellular behavior in early animals. This demonstrates how the work is innovative compared to previous views. Additionally, the implications for understanding the evolution of complex multicellularity are discussed, showing how this research advances scientific understanding in the field.</td>\n",
       "      <td>reggieclark2991@gmail.com</td>\n",
       "      <td>deepseek</td>\n",
       "      <td>deepseek</td>\n",
       "      <td>deepseek</td>\n",
       "    </tr>\n",
       "    <tr>\n",
       "      <th>3</th>\n",
       "      <td>Chemistry</td>\n",
       "      <td>baseline-qwen</td>\n",
       "      <td>Score: 4\\nReason: The conversation provided numerous and detailed explanations about the research. The Researcher used an analogy of a sponge to explain the Cu-rich layer, which made the concept understandable. Additionally, the Researcher addressed technical aspects like manufacturing processes and high-temperature performance, ensuring clarity for someone without a technical background. However, some advanced terms like XRD and SEM were mentioned without full explanation, though they were used in the context of quality control.</td>\n",
       "      <td>Score: 5\\nReason: The conversation uses clear analogies (like the painted sponge) to elucidate complex scientific concepts, making them accessible to a lay audience. Technical terms are introduced but explained in context, and the journalist actively asks for clarification when needed. Background information and the rationale for technical processes are provided by the researcher, and the implications for industrial application are discussed with minimal jargon. Some advanced manufacturing techniques (e.g., X-ray diffraction, additive manufacturing) are mentioned, but they are generally explained or their purpose is clarified. Overall, the technical content is conveyed in a way that an interested member of the public could understand, and all major complexities are addressed with explanatory language and analogies.</td>\n",
       "      <td>Score: 3\\nReason: The conversation extensively discusses the societal impact by addressing the practical implications, limitations, and economic aspects of the alloy in real-world industrial applications. It provides detailed examples, potential challenges, and solutions, covering both positive and negative factors.</td>\n",
       "      <td>Score: 3\\nReason: The conversation thoroughly discusses the societal impact of the research, specifically the potential real-world application of the improved corrosion-resistant alloy in industrial settings. It addresses both the positive aspects, such as enhanced durability, reduced maintenance, and potential economic benefits, and the challenges or negative aspects, including higher initial costs, the need for advanced manufacturing and quality control, uncertainty about high-temperature performance, and potential variability in performance. The back-and-forth between the journalist and researcher explores specific practical considerations, analogies to aid understanding, and multiple examples of impact and limitation, showing a detailed and nuanced understanding of the research's societal implications.</td>\n",
       "      <td>Score: 3\\nReason: The conversation provides a detailed account of how the research builds upon existing knowledge, particularly by comparing the Cu-enrichment mechanism in high-carbon Fe–Cr–W-based alloys to that in austenitic steels. It highlights the novelty by explaining the specific corrosion inhibition mechanisms and how they differ from previous studies. Additionally, the discussion of practical applications and limitations indicates how this research contributes to the broader scientific understanding and industry application.</td>\n",
       "      <td>Score: 3\\nReason: The conversation provides a detailed comparison between the mechanism observed in the newly studied high-carbon Fe–Cr–W–Cu alloys and previous studies on austenitic steels, showing an understanding of how the current research fits into existing literature. It explicitly distinguishes the novel aspect (the protective Cu-rich layer in a high-carbon matrix) versus what is established for other steels. The novelty and innovation of the current work are clearly highlighted. However, although it addresses related research in a comparative manner and describes the innovation, there is a focus on specific studies (like those on austenitic steels) rather than a broader review of literature or discussion of the wider field's progress. Still, the account is sufficiently detailed and underscores the scientific context and contribution of the paper.</td>\n",
       "      <td>reggieclark2991@gmail.com</td>\n",
       "      <td>gpt-4</td>\n",
       "      <td>deepseek</td>\n",
       "      <td>deepseek</td>\n",
       "    </tr>\n",
       "    <tr>\n",
       "      <th>4</th>\n",
       "      <td>Chemistry</td>\n",
       "      <td>baseline-qwen</td>\n",
       "      <td>Score: 4\\nReason: The conversation provided numerous and detailed explanations about the research. The Researcher used an analogy of a sponge to explain the Cu-rich layer, which made the concept understandable. Additionally, the Researcher addressed technical aspects like manufacturing processes and high-temperature performance, ensuring clarity for someone without a technical background. However, some advanced terms like XRD and SEM were mentioned without full explanation, though they were used in the context of quality control.</td>\n",
       "      <td>Score: 5\\nReason: The conversation uses clear analogies (like the painted sponge) to elucidate complex scientific concepts, making them accessible to a lay audience. Technical terms are introduced but explained in context, and the journalist actively asks for clarification when needed. Background information and the rationale for technical processes are provided by the researcher, and the implications for industrial application are discussed with minimal jargon. Some advanced manufacturing techniques (e.g., X-ray diffraction, additive manufacturing) are mentioned, but they are generally explained or their purpose is clarified. Overall, the technical content is conveyed in a way that an interested member of the public could understand, and all major complexities are addressed with explanatory language and analogies.</td>\n",
       "      <td>Score: 3\\nReason: The conversation extensively discusses the societal impact by addressing the practical implications, limitations, and economic aspects of the alloy in real-world industrial applications. It provides detailed examples, potential challenges, and solutions, covering both positive and negative factors.</td>\n",
       "      <td>Score: 3\\nReason: The conversation thoroughly discusses the societal impact of the research, specifically the potential real-world application of the improved corrosion-resistant alloy in industrial settings. It addresses both the positive aspects, such as enhanced durability, reduced maintenance, and potential economic benefits, and the challenges or negative aspects, including higher initial costs, the need for advanced manufacturing and quality control, uncertainty about high-temperature performance, and potential variability in performance. The back-and-forth between the journalist and researcher explores specific practical considerations, analogies to aid understanding, and multiple examples of impact and limitation, showing a detailed and nuanced understanding of the research's societal implications.</td>\n",
       "      <td>Score: 3\\nReason: The conversation provides a detailed account of how the research builds upon existing knowledge, particularly by comparing the Cu-enrichment mechanism in high-carbon Fe–Cr–W-based alloys to that in austenitic steels. It highlights the novelty by explaining the specific corrosion inhibition mechanisms and how they differ from previous studies. Additionally, the discussion of practical applications and limitations indicates how this research contributes to the broader scientific understanding and industry application.</td>\n",
       "      <td>Score: 3\\nReason: The conversation provides a detailed comparison between the mechanism observed in the newly studied high-carbon Fe–Cr–W–Cu alloys and previous studies on austenitic steels, showing an understanding of how the current research fits into existing literature. It explicitly distinguishes the novel aspect (the protective Cu-rich layer in a high-carbon matrix) versus what is established for other steels. The novelty and innovation of the current work are clearly highlighted. However, although it addresses related research in a comparative manner and describes the innovation, there is a focus on specific studies (like those on austenitic steels) rather than a broader review of literature or discussion of the wider field's progress. Still, the account is sufficiently detailed and underscores the scientific context and contribution of the paper.</td>\n",
       "      <td>adedejisaheed007@gmail.com</td>\n",
       "      <td>gpt-4</td>\n",
       "      <td>deepseek</td>\n",
       "      <td>gpt-4</td>\n",
       "    </tr>\n",
       "  </tbody>\n",
       "</table>\n",
       "</div>"
      ],
      "text/plain": [
       "       topic      gen-model  \\\n",
       "0    Biology  baseline-qwen   \n",
       "1    Biology  baseline-qwen   \n",
       "2    Biology  baseline-qwen   \n",
       "3  Chemistry  baseline-qwen   \n",
       "4  Chemistry  baseline-qwen   \n",
       "\n",
       "                                                                                                                                                                                                                                                                                                                                                                                                                                                                                                                                                                      llm1_clarity_eval  \\\n",
       "0  Score: 5\\nReason: The conversation successfully balances technical terms with clear explanations. The researcher uses accessible analogies, like comparing the sponges' cell behavior to human stem cells, and provides concrete examples with specific sponge species. While some technical terms are present, such as 'transdifferentiate' and 'pluripotent stem cells,' they are explained thoroughly, making the content understandable to the general public. The记者 also ensures clarity by asking for examples and clarifications, which helps in breaking down complex ideas.   \n",
       "1  Score: 5\\nReason: The conversation successfully balances technical terms with clear explanations. The researcher uses accessible analogies, like comparing the sponges' cell behavior to human stem cells, and provides concrete examples with specific sponge species. While some technical terms are present, such as 'transdifferentiate' and 'pluripotent stem cells,' they are explained thoroughly, making the content understandable to the general public. The记者 also ensures clarity by asking for examples and clarifications, which helps in breaking down complex ideas.   \n",
       "2  Score: 5\\nReason: The conversation successfully balances technical terms with clear explanations. The researcher uses accessible analogies, like comparing the sponges' cell behavior to human stem cells, and provides concrete examples with specific sponge species. While some technical terms are present, such as 'transdifferentiate' and 'pluripotent stem cells,' they are explained thoroughly, making the content understandable to the general public. The记者 also ensures clarity by asking for examples and clarifications, which helps in breaking down complex ideas.   \n",
       "3                               Score: 4\\nReason: The conversation provided numerous and detailed explanations about the research. The Researcher used an analogy of a sponge to explain the Cu-rich layer, which made the concept understandable. Additionally, the Researcher addressed technical aspects like manufacturing processes and high-temperature performance, ensuring clarity for someone without a technical background. However, some advanced terms like XRD and SEM were mentioned without full explanation, though they were used in the context of quality control.   \n",
       "4                               Score: 4\\nReason: The conversation provided numerous and detailed explanations about the research. The Researcher used an analogy of a sponge to explain the Cu-rich layer, which made the concept understandable. Additionally, the Researcher addressed technical aspects like manufacturing processes and high-temperature performance, ensuring clarity for someone without a technical background. However, some advanced terms like XRD and SEM were mentioned without full explanation, though they were used in the context of quality control.   \n",
       "\n",
       "                                                                                                                                                                                                                                                                                                                                                                                                                                                                                                                                                                                                                                                                                                                                                                                                                                            llm2_clarity_eval  \\\n",
       "0                                                                                     Score: 5\\nReason: The conversation covers complex concepts such as 'transient metastable state,' 'transdifferentiation,' and 'pluripotent stem cells,' but each of these is clearly explained in accessible language. The researcher uses concrete examples, analogies to stem cells, and a specific species (*Amphimedon queenslandica*) to clarify the concepts. The responses build background, provide descriptive explanations, and offer 'imagine' scenarios to help the journalist (and by extension the public) understand the concepts. The journalist repeatedly asks for clarifications and examples, ensuring nothing technical is left unexplained. Overall, the conversation is engaging, informative, and appropriately accessible to a public audience.   \n",
       "1                                                                                     Score: 5\\nReason: The conversation covers complex concepts such as 'transient metastable state,' 'transdifferentiation,' and 'pluripotent stem cells,' but each of these is clearly explained in accessible language. The researcher uses concrete examples, analogies to stem cells, and a specific species (*Amphimedon queenslandica*) to clarify the concepts. The responses build background, provide descriptive explanations, and offer 'imagine' scenarios to help the journalist (and by extension the public) understand the concepts. The journalist repeatedly asks for clarifications and examples, ensuring nothing technical is left unexplained. Overall, the conversation is engaging, informative, and appropriately accessible to a public audience.   \n",
       "2                                                                                     Score: 5\\nReason: The conversation covers complex concepts such as 'transient metastable state,' 'transdifferentiation,' and 'pluripotent stem cells,' but each of these is clearly explained in accessible language. The researcher uses concrete examples, analogies to stem cells, and a specific species (*Amphimedon queenslandica*) to clarify the concepts. The responses build background, provide descriptive explanations, and offer 'imagine' scenarios to help the journalist (and by extension the public) understand the concepts. The journalist repeatedly asks for clarifications and examples, ensuring nothing technical is left unexplained. Overall, the conversation is engaging, informative, and appropriately accessible to a public audience.   \n",
       "3  Score: 5\\nReason: The conversation uses clear analogies (like the painted sponge) to elucidate complex scientific concepts, making them accessible to a lay audience. Technical terms are introduced but explained in context, and the journalist actively asks for clarification when needed. Background information and the rationale for technical processes are provided by the researcher, and the implications for industrial application are discussed with minimal jargon. Some advanced manufacturing techniques (e.g., X-ray diffraction, additive manufacturing) are mentioned, but they are generally explained or their purpose is clarified. Overall, the technical content is conveyed in a way that an interested member of the public could understand, and all major complexities are addressed with explanatory language and analogies.   \n",
       "4  Score: 5\\nReason: The conversation uses clear analogies (like the painted sponge) to elucidate complex scientific concepts, making them accessible to a lay audience. Technical terms are introduced but explained in context, and the journalist actively asks for clarification when needed. Background information and the rationale for technical processes are provided by the researcher, and the implications for industrial application are discussed with minimal jargon. Some advanced manufacturing techniques (e.g., X-ray diffraction, additive manufacturing) are mentioned, but they are generally explained or their purpose is clarified. Overall, the technical content is conveyed in a way that an interested member of the public could understand, and all major complexities are addressed with explanatory language and analogies.   \n",
       "\n",
       "                                                                                                                                                                                                                                                                                                                                                                                                                                                                                   llm1_societal_impact_eval  \\\n",
       "0  Score: 1\\nReason: The conversation focuses on the scientific details of cellular transdifferentiation in sponges, discussing how choanocytes can change into archaeocytes and the implications for the evolution of multicellularity. However, it does not explore the broader societal implications of this research. There is no mention of how these findings might impact human understanding, technology, policy, or public perceptions, nor does it discuss positive or negative societal outcomes.   \n",
       "1  Score: 1\\nReason: The conversation focuses on the scientific details of cellular transdifferentiation in sponges, discussing how choanocytes can change into archaeocytes and the implications for the evolution of multicellularity. However, it does not explore the broader societal implications of this research. There is no mention of how these findings might impact human understanding, technology, policy, or public perceptions, nor does it discuss positive or negative societal outcomes.   \n",
       "2  Score: 1\\nReason: The conversation focuses on the scientific details of cellular transdifferentiation in sponges, discussing how choanocytes can change into archaeocytes and the implications for the evolution of multicellularity. However, it does not explore the broader societal implications of this research. There is no mention of how these findings might impact human understanding, technology, policy, or public perceptions, nor does it discuss positive or negative societal outcomes.   \n",
       "3                                                                                                                                                                              Score: 3\\nReason: The conversation extensively discusses the societal impact by addressing the practical implications, limitations, and economic aspects of the alloy in real-world industrial applications. It provides detailed examples, potential challenges, and solutions, covering both positive and negative factors.   \n",
       "4                                                                                                                                                                              Score: 3\\nReason: The conversation extensively discusses the societal impact by addressing the practical implications, limitations, and economic aspects of the alloy in real-world industrial applications. It provides detailed examples, potential challenges, and solutions, covering both positive and negative factors.   \n",
       "\n",
       "                                                                                                                                                                                                                                                                                                                                                                                                                                                                                                                                                                                                                                                                                                                                                                                                                                                                                                                                                                                                                                                                                                                                                                                                   llm2_societal_impact_eval  \\\n",
       "0  Score: 3\\nReason: The conversation does a strong job of contextualizing the research within broader societal and conceptual frameworks. The researcher thoroughly explains how the flexible cell-state transitions observed in sponges could have impacted the evolution of multicellularity—a major transition in the history of life, with lasting implications for understanding animal complexity and evolution. They provide concrete examples (e.g., scaling up feeding apparatus, tissue repair) and describe the relevance of this flexibility by linking it to environmental adaptability and tissue maintenance, which are themes connected to resilience and complexity in multicellular organisms. While the discussion is somewhat focused on evolutionary and biological aspects, it also addresses conceptual impacts (e.g., challenging traditional views of animal evolution) and highlights the importance of cellular plasticity mechanisms found in early animals and their relevance to current biological understanding. Negative aspects aren't explicitly discussed, but the detailed explanation, real-world examples, and evolutionary framing show a high level of societal contextualization.   \n",
       "1  Score: 3\\nReason: The conversation does a strong job of contextualizing the research within broader societal and conceptual frameworks. The researcher thoroughly explains how the flexible cell-state transitions observed in sponges could have impacted the evolution of multicellularity—a major transition in the history of life, with lasting implications for understanding animal complexity and evolution. They provide concrete examples (e.g., scaling up feeding apparatus, tissue repair) and describe the relevance of this flexibility by linking it to environmental adaptability and tissue maintenance, which are themes connected to resilience and complexity in multicellular organisms. While the discussion is somewhat focused on evolutionary and biological aspects, it also addresses conceptual impacts (e.g., challenging traditional views of animal evolution) and highlights the importance of cellular plasticity mechanisms found in early animals and their relevance to current biological understanding. Negative aspects aren't explicitly discussed, but the detailed explanation, real-world examples, and evolutionary framing show a high level of societal contextualization.   \n",
       "2  Score: 3\\nReason: The conversation does a strong job of contextualizing the research within broader societal and conceptual frameworks. The researcher thoroughly explains how the flexible cell-state transitions observed in sponges could have impacted the evolution of multicellularity—a major transition in the history of life, with lasting implications for understanding animal complexity and evolution. They provide concrete examples (e.g., scaling up feeding apparatus, tissue repair) and describe the relevance of this flexibility by linking it to environmental adaptability and tissue maintenance, which are themes connected to resilience and complexity in multicellular organisms. While the discussion is somewhat focused on evolutionary and biological aspects, it also addresses conceptual impacts (e.g., challenging traditional views of animal evolution) and highlights the importance of cellular plasticity mechanisms found in early animals and their relevance to current biological understanding. Negative aspects aren't explicitly discussed, but the detailed explanation, real-world examples, and evolutionary framing show a high level of societal contextualization.   \n",
       "3                                                                                                                                                                                                                                                                                                                                                                          Score: 3\\nReason: The conversation thoroughly discusses the societal impact of the research, specifically the potential real-world application of the improved corrosion-resistant alloy in industrial settings. It addresses both the positive aspects, such as enhanced durability, reduced maintenance, and potential economic benefits, and the challenges or negative aspects, including higher initial costs, the need for advanced manufacturing and quality control, uncertainty about high-temperature performance, and potential variability in performance. The back-and-forth between the journalist and researcher explores specific practical considerations, analogies to aid understanding, and multiple examples of impact and limitation, showing a detailed and nuanced understanding of the research's societal implications.   \n",
       "4                                                                                                                                                                                                                                                                                                                                                                          Score: 3\\nReason: The conversation thoroughly discusses the societal impact of the research, specifically the potential real-world application of the improved corrosion-resistant alloy in industrial settings. It addresses both the positive aspects, such as enhanced durability, reduced maintenance, and potential economic benefits, and the challenges or negative aspects, including higher initial costs, the need for advanced manufacturing and quality control, uncertainty about high-temperature performance, and potential variability in performance. The back-and-forth between the journalist and researcher explores specific practical considerations, analogies to aid understanding, and multiple examples of impact and limitation, showing a detailed and nuanced understanding of the research's societal implications.   \n",
       "\n",
       "                                                                                                                                                                                                                                                                                                                                                                                                                                                                                                                                  llm1_scientific_context_eval  \\\n",
       "0                                                                                                                                                                                                                                                                Score: 3\\nReason: The conversation provides detailed examples of how the research on sponge cell plasticity compares to both early multicellular organisms and modern holozoans, highlighting the novelty of the findings in understanding the evolutionary pathways of cell differentiation.   \n",
       "1                                                                                                                                                                                                                                                                Score: 3\\nReason: The conversation provides detailed examples of how the research on sponge cell plasticity compares to both early multicellular organisms and modern holozoans, highlighting the novelty of the findings in understanding the evolutionary pathways of cell differentiation.   \n",
       "2                                                                                                                                                                                                                                                                Score: 3\\nReason: The conversation provides detailed examples of how the research on sponge cell plasticity compares to both early multicellular organisms and modern holozoans, highlighting the novelty of the findings in understanding the evolutionary pathways of cell differentiation.   \n",
       "3  Score: 3\\nReason: The conversation provides a detailed account of how the research builds upon existing knowledge, particularly by comparing the Cu-enrichment mechanism in high-carbon Fe–Cr–W-based alloys to that in austenitic steels. It highlights the novelty by explaining the specific corrosion inhibition mechanisms and how they differ from previous studies. Additionally, the discussion of practical applications and limitations indicates how this research contributes to the broader scientific understanding and industry application.   \n",
       "4  Score: 3\\nReason: The conversation provides a detailed account of how the research builds upon existing knowledge, particularly by comparing the Cu-enrichment mechanism in high-carbon Fe–Cr–W-based alloys to that in austenitic steels. It highlights the novelty by explaining the specific corrosion inhibition mechanisms and how they differ from previous studies. Additionally, the discussion of practical applications and limitations indicates how this research contributes to the broader scientific understanding and industry application.   \n",
       "\n",
       "                                                                                                                                                                                                                                                                                                                                                                                                                                                                                                                                                                                                                                                                                                                                                                                                                                                                         llm2_scientific_context_eval  \\\n",
       "0              Score: 3\\nReason: The conversation does a good job of situating the current research in the broader scientific context. The Researcher explicitly compares the findings to those in modern unicellular holozoans, discussing how the transient metastable states and transdifferentiation seen in sponges are more robust and internally regulated, in contrast to the more environmentally induced changes in unicellular holozoans. The researcher also explains the novelty by highlighting the transition from simple, rigid multicellular organization to more flexible, dynamic cellular behavior in early animals. This demonstrates how the work is innovative compared to previous views. Additionally, the implications for understanding the evolution of complex multicellularity are discussed, showing how this research advances scientific understanding in the field.   \n",
       "1              Score: 3\\nReason: The conversation does a good job of situating the current research in the broader scientific context. The Researcher explicitly compares the findings to those in modern unicellular holozoans, discussing how the transient metastable states and transdifferentiation seen in sponges are more robust and internally regulated, in contrast to the more environmentally induced changes in unicellular holozoans. The researcher also explains the novelty by highlighting the transition from simple, rigid multicellular organization to more flexible, dynamic cellular behavior in early animals. This demonstrates how the work is innovative compared to previous views. Additionally, the implications for understanding the evolution of complex multicellularity are discussed, showing how this research advances scientific understanding in the field.   \n",
       "2              Score: 3\\nReason: The conversation does a good job of situating the current research in the broader scientific context. The Researcher explicitly compares the findings to those in modern unicellular holozoans, discussing how the transient metastable states and transdifferentiation seen in sponges are more robust and internally regulated, in contrast to the more environmentally induced changes in unicellular holozoans. The researcher also explains the novelty by highlighting the transition from simple, rigid multicellular organization to more flexible, dynamic cellular behavior in early animals. This demonstrates how the work is innovative compared to previous views. Additionally, the implications for understanding the evolution of complex multicellularity are discussed, showing how this research advances scientific understanding in the field.   \n",
       "3  Score: 3\\nReason: The conversation provides a detailed comparison between the mechanism observed in the newly studied high-carbon Fe–Cr–W–Cu alloys and previous studies on austenitic steels, showing an understanding of how the current research fits into existing literature. It explicitly distinguishes the novel aspect (the protective Cu-rich layer in a high-carbon matrix) versus what is established for other steels. The novelty and innovation of the current work are clearly highlighted. However, although it addresses related research in a comparative manner and describes the innovation, there is a focus on specific studies (like those on austenitic steels) rather than a broader review of literature or discussion of the wider field's progress. Still, the account is sufficiently detailed and underscores the scientific context and contribution of the paper.   \n",
       "4  Score: 3\\nReason: The conversation provides a detailed comparison between the mechanism observed in the newly studied high-carbon Fe–Cr–W–Cu alloys and previous studies on austenitic steels, showing an understanding of how the current research fits into existing literature. It explicitly distinguishes the novel aspect (the protective Cu-rich layer in a high-carbon matrix) versus what is established for other steels. The novelty and innovation of the current work are clearly highlighted. However, although it addresses related research in a comparative manner and describes the innovation, there is a focus on specific studies (like those on austenitic steels) rather than a broader review of literature or discussion of the wider field's progress. Still, the account is sufficiently detailed and underscores the scientific context and contribution of the paper.   \n",
       "\n",
       "                    annotator pw_llm_societal_impact  \\\n",
       "0  adedejisaheed007@gmail.com               deepseek   \n",
       "1  nataliedulaney11@gmail.com                  gpt-4   \n",
       "2   reggieclark2991@gmail.com               deepseek   \n",
       "3   reggieclark2991@gmail.com                  gpt-4   \n",
       "4  adedejisaheed007@gmail.com                  gpt-4   \n",
       "\n",
       "  pw_llm_scientific_context pw_llm_clarity  \n",
       "0                     gpt-4          gpt-4  \n",
       "1                  deepseek          gpt-4  \n",
       "2                  deepseek       deepseek  \n",
       "3                  deepseek       deepseek  \n",
       "4                  deepseek          gpt-4  "
      ]
     },
     "execution_count": 48,
     "metadata": {},
     "output_type": "execute_result"
    }
   ],
   "source": [
    "results_df[['topic', 'gen-model', 'llm1_clarity_eval','llm2_clarity_eval','llm1_societal_impact_eval','llm2_societal_impact_eval','llm1_scientific_context_eval','llm2_scientific_context_eval','annotator','pw_llm_societal_impact','pw_llm_scientific_context','pw_llm_clarity']].head()"
   ]
  },
  {
   "cell_type": "code",
   "execution_count": 49,
   "id": "54fe3d9d-7b3d-464b-86b7-9e61a5674a6a",
   "metadata": {},
   "outputs": [],
   "source": [
    "def diff_scores(e1, e2, diff=0):\n",
    "    s1 = int(e1[7])\n",
    "    s2 = int(e2[7])\n",
    "    return abs(s1 - s2) >= diff"
   ]
  },
  {
   "cell_type": "code",
   "execution_count": 50,
   "id": "57c5d05b-07ec-42e2-a0d4-39a1406b7208",
   "metadata": {},
   "outputs": [],
   "source": [
    "results_df['diff_llm_clarity'] = results_df.apply(lambda row: diff_scores(row['llm1_clarity_eval'], row['llm2_clarity_eval'], diff=1), axis=1)\n",
    "results_df['diff_llm_scientific_context'] = results_df.apply(lambda row: diff_scores(row['llm1_scientific_context_eval'], row['llm2_scientific_context_eval'], diff=1), axis=1)\n",
    "results_df['diff_llm_societal_impact'] = results_df.apply(lambda row: diff_scores(row['llm1_societal_impact_eval'], row['llm2_societal_impact_eval'], diff=1), axis=1)"
   ]
  },
  {
   "cell_type": "code",
   "execution_count": 51,
   "id": "3d0fe24b-7146-424e-b0c3-f466830dd6f9",
   "metadata": {},
   "outputs": [
    {
     "name": "stdout",
     "output_type": "stream",
     "text": [
      "deepseek    125\n",
      "gpt-4        54\n",
      "Name: pw_llm_societal_impact, dtype: int64\n",
      "deepseek    88\n",
      "gpt-4       28\n",
      "Name: pw_llm_societal_impact, dtype: int64\n"
     ]
    }
   ],
   "source": [
    "print(results_df['pw_llm_societal_impact'].value_counts())\n",
    "print(results_df[results_df.diff_llm_societal_impact]['pw_llm_societal_impact'].value_counts())"
   ]
  },
  {
   "cell_type": "code",
   "execution_count": 52,
   "id": "5ab66903-11b0-4fc7-8d5b-834ce08c917a",
   "metadata": {},
   "outputs": [
    {
     "name": "stdout",
     "output_type": "stream",
     "text": [
      "deepseek    99\n",
      "gpt-4       80\n",
      "Name: pw_llm_scientific_context, dtype: int64\n",
      "gpt-4       44\n",
      "deepseek    31\n",
      "Name: pw_llm_scientific_context, dtype: int64\n"
     ]
    }
   ],
   "source": [
    "print(results_df['pw_llm_scientific_context'].value_counts())\n",
    "print(results_df[results_df.diff_llm_scientific_context]['pw_llm_scientific_context'].value_counts())"
   ]
  },
  {
   "cell_type": "code",
   "execution_count": 53,
   "id": "ef1b6c5e-876e-4f33-810d-14728128916d",
   "metadata": {},
   "outputs": [
    {
     "name": "stdout",
     "output_type": "stream",
     "text": [
      "deepseek    123\n",
      "gpt-4        56\n",
      "Name: pw_llm_clarity, dtype: int64\n",
      "deepseek    70\n",
      "gpt-4       25\n",
      "Name: pw_llm_clarity, dtype: int64\n"
     ]
    }
   ],
   "source": [
    "print(results_df['pw_llm_clarity'].value_counts())\n",
    "print(results_df[results_df.diff_llm_clarity]['pw_llm_clarity'].value_counts())"
   ]
  },
  {
   "cell_type": "code",
   "execution_count": 54,
   "id": "2536b1b8-afbe-4aa0-92a4-038253ed8859",
   "metadata": {},
   "outputs": [
    {
     "data": {
      "text/plain": [
       "adedejisaheed007@gmail.com    60\n",
       "reggieclark2991@gmail.com     60\n",
       "nataliedulaney11@gmail.com    59\n",
       "Name: annotator, dtype: int64"
      ]
     },
     "execution_count": 54,
     "metadata": {},
     "output_type": "execute_result"
    }
   ],
   "source": [
    "results_df['annotator'].value_counts()"
   ]
  },
  {
   "cell_type": "code",
   "execution_count": 55,
   "id": "04351446-d268-4f63-93d6-08fdf633184b",
   "metadata": {
    "scrolled": true
   },
   "outputs": [
    {
     "data": {
      "text/html": [
       "<div>\n",
       "<style scoped>\n",
       "    .dataframe tbody tr th:only-of-type {\n",
       "        vertical-align: middle;\n",
       "    }\n",
       "\n",
       "    .dataframe tbody tr th {\n",
       "        vertical-align: top;\n",
       "    }\n",
       "\n",
       "    .dataframe thead th {\n",
       "        text-align: right;\n",
       "    }\n",
       "</style>\n",
       "<table border=\"1\" class=\"dataframe\">\n",
       "  <thead>\n",
       "    <tr style=\"text-align: right;\">\n",
       "      <th></th>\n",
       "      <th>topic</th>\n",
       "      <th>sc_title</th>\n",
       "      <th>gen-model</th>\n",
       "      <th>annotator</th>\n",
       "      <th>pw_llm_societal_impact</th>\n",
       "      <th>pw_llm_scientific_context</th>\n",
       "      <th>pw_llm_clarity</th>\n",
       "    </tr>\n",
       "  </thead>\n",
       "  <tbody>\n",
       "  </tbody>\n",
       "</table>\n",
       "</div>"
      ],
      "text/plain": [
       "Empty DataFrame\n",
       "Columns: [topic, sc_title, gen-model, annotator, pw_llm_societal_impact, pw_llm_scientific_context, pw_llm_clarity]\n",
       "Index: []"
      ]
     },
     "execution_count": 55,
     "metadata": {},
     "output_type": "execute_result"
    }
   ],
   "source": [
    "results_df[results_df.pw_llm_scientific_context.isna()][['topic', 'sc_title', 'gen-model', 'annotator','pw_llm_societal_impact','pw_llm_scientific_context','pw_llm_clarity']]"
   ]
  },
  {
   "cell_type": "code",
   "execution_count": 56,
   "id": "fe4d2fba-8764-4a87-91f0-116c263ea86e",
   "metadata": {},
   "outputs": [],
   "source": [
    "grouped_annotations = results_df.groupby(['sc_title', 'gen-model']).agg({\n",
    "    'pw_llm_societal_impact': lambda x: list(x),\n",
    "    'pw_llm_scientific_context': lambda x: list(x),\n",
    "    'pw_llm_clarity': lambda x: list(x),\n",
    "}).reset_index()"
   ]
  },
  {
   "cell_type": "code",
   "execution_count": 57,
   "id": "e05462fc-b70d-47b3-8cf1-e99594a86726",
   "metadata": {
    "scrolled": true
   },
   "outputs": [
    {
     "data": {
      "text/html": [
       "<div>\n",
       "<style scoped>\n",
       "    .dataframe tbody tr th:only-of-type {\n",
       "        vertical-align: middle;\n",
       "    }\n",
       "\n",
       "    .dataframe tbody tr th {\n",
       "        vertical-align: top;\n",
       "    }\n",
       "\n",
       "    .dataframe thead th {\n",
       "        text-align: right;\n",
       "    }\n",
       "</style>\n",
       "<table border=\"1\" class=\"dataframe\">\n",
       "  <thead>\n",
       "    <tr style=\"text-align: right;\">\n",
       "      <th></th>\n",
       "      <th>sc_title</th>\n",
       "      <th>gen-model</th>\n",
       "      <th>pw_llm_societal_impact</th>\n",
       "      <th>pw_llm_scientific_context</th>\n",
       "      <th>pw_llm_clarity</th>\n",
       "    </tr>\n",
       "  </thead>\n",
       "  <tbody>\n",
       "    <tr>\n",
       "      <th>0</th>\n",
       "      <td>10.1038/ncb3149</td>\n",
       "      <td>baseline-llama3</td>\n",
       "      <td>[deepseek, gpt-4, deepseek]</td>\n",
       "      <td>[deepseek, deepseek, deepseek]</td>\n",
       "      <td>[deepseek, deepseek, deepseek]</td>\n",
       "    </tr>\n",
       "    <tr>\n",
       "      <th>1</th>\n",
       "      <td>10.1038/ncb3149</td>\n",
       "      <td>baseline-qwen</td>\n",
       "      <td>[deepseek, deepseek, gpt-4]</td>\n",
       "      <td>[deepseek, deepseek, deepseek]</td>\n",
       "      <td>[deepseek, deepseek, deepseek]</td>\n",
       "    </tr>\n",
       "    <tr>\n",
       "      <th>2</th>\n",
       "      <td>10.1038/ncb3149</td>\n",
       "      <td>ft-llama3</td>\n",
       "      <td>[deepseek, deepseek, deepseek]</td>\n",
       "      <td>[gpt-4, gpt-4, gpt-4]</td>\n",
       "      <td>[deepseek, gpt-4, deepseek]</td>\n",
       "    </tr>\n",
       "    <tr>\n",
       "      <th>3</th>\n",
       "      <td>10.1038/ncb3149</td>\n",
       "      <td>ft-qwen</td>\n",
       "      <td>[gpt-4, deepseek, gpt-4]</td>\n",
       "      <td>[deepseek, gpt-4, gpt-4]</td>\n",
       "      <td>[deepseek, deepseek, deepseek]</td>\n",
       "    </tr>\n",
       "    <tr>\n",
       "      <th>4</th>\n",
       "      <td>10.1038/s41467-019-11902-6</td>\n",
       "      <td>baseline-llama3</td>\n",
       "      <td>[deepseek, deepseek, deepseek]</td>\n",
       "      <td>[gpt-4, gpt-4, gpt-4]</td>\n",
       "      <td>[gpt-4, deepseek, deepseek]</td>\n",
       "    </tr>\n",
       "    <tr>\n",
       "      <th>5</th>\n",
       "      <td>10.1038/s41467-019-11902-6</td>\n",
       "      <td>baseline-qwen</td>\n",
       "      <td>[deepseek, deepseek, deepseek]</td>\n",
       "      <td>[gpt-4, gpt-4, gpt-4]</td>\n",
       "      <td>[deepseek, deepseek, deepseek]</td>\n",
       "    </tr>\n",
       "    <tr>\n",
       "      <th>6</th>\n",
       "      <td>10.1038/s41467-019-11902-6</td>\n",
       "      <td>ft-llama3</td>\n",
       "      <td>[deepseek, deepseek, gpt-4]</td>\n",
       "      <td>[gpt-4, deepseek, deepseek]</td>\n",
       "      <td>[deepseek, gpt-4, gpt-4]</td>\n",
       "    </tr>\n",
       "    <tr>\n",
       "      <th>7</th>\n",
       "      <td>10.1038/s41467-019-11902-6</td>\n",
       "      <td>ft-qwen</td>\n",
       "      <td>[gpt-4, gpt-4, gpt-4]</td>\n",
       "      <td>[deepseek, gpt-4, gpt-4]</td>\n",
       "      <td>[gpt-4, deepseek, deepseek]</td>\n",
       "    </tr>\n",
       "    <tr>\n",
       "      <th>8</th>\n",
       "      <td>10.1038/s41467-023-36431-1</td>\n",
       "      <td>baseline-llama3</td>\n",
       "      <td>[deepseek, gpt-4, gpt-4]</td>\n",
       "      <td>[gpt-4, deepseek, gpt-4]</td>\n",
       "      <td>[deepseek, deepseek, deepseek]</td>\n",
       "    </tr>\n",
       "    <tr>\n",
       "      <th>9</th>\n",
       "      <td>10.1038/s41467-023-36431-1</td>\n",
       "      <td>baseline-qwen</td>\n",
       "      <td>[deepseek, deepseek, gpt-4]</td>\n",
       "      <td>[deepseek, deepseek, deepseek]</td>\n",
       "      <td>[deepseek, deepseek, deepseek]</td>\n",
       "    </tr>\n",
       "    <tr>\n",
       "      <th>10</th>\n",
       "      <td>10.1038/s41467-023-36431-1</td>\n",
       "      <td>ft-llama3</td>\n",
       "      <td>[deepseek, deepseek, deepseek]</td>\n",
       "      <td>[gpt-4, deepseek, deepseek]</td>\n",
       "      <td>[deepseek, deepseek, deepseek]</td>\n",
       "    </tr>\n",
       "    <tr>\n",
       "      <th>11</th>\n",
       "      <td>10.1038/s41467-023-36431-1</td>\n",
       "      <td>ft-qwen</td>\n",
       "      <td>[deepseek, deepseek, gpt-4]</td>\n",
       "      <td>[deepseek, gpt-4, deepseek]</td>\n",
       "      <td>[deepseek, deepseek, deepseek]</td>\n",
       "    </tr>\n",
       "    <tr>\n",
       "      <th>12</th>\n",
       "      <td>10.1038/s41529-019-0092-3</td>\n",
       "      <td>baseline-llama3</td>\n",
       "      <td>[deepseek, deepseek, deepseek]</td>\n",
       "      <td>[deepseek, gpt-4, gpt-4]</td>\n",
       "      <td>[deepseek, deepseek, deepseek]</td>\n",
       "    </tr>\n",
       "    <tr>\n",
       "      <th>13</th>\n",
       "      <td>10.1038/s41529-019-0092-3</td>\n",
       "      <td>baseline-qwen</td>\n",
       "      <td>[gpt-4, gpt-4, gpt-4]</td>\n",
       "      <td>[deepseek, deepseek, gpt-4]</td>\n",
       "      <td>[deepseek, gpt-4, deepseek]</td>\n",
       "    </tr>\n",
       "    <tr>\n",
       "      <th>14</th>\n",
       "      <td>10.1038/s41529-019-0092-3</td>\n",
       "      <td>ft-llama3</td>\n",
       "      <td>[deepseek, deepseek, gpt-4]</td>\n",
       "      <td>[deepseek, deepseek, deepseek]</td>\n",
       "      <td>[deepseek, deepseek, deepseek]</td>\n",
       "    </tr>\n",
       "    <tr>\n",
       "      <th>15</th>\n",
       "      <td>10.1038/s41529-019-0092-3</td>\n",
       "      <td>ft-qwen</td>\n",
       "      <td>[gpt-4, deepseek, deepseek]</td>\n",
       "      <td>[gpt-4, gpt-4, gpt-4]</td>\n",
       "      <td>[deepseek, gpt-4, deepseek]</td>\n",
       "    </tr>\n",
       "    <tr>\n",
       "      <th>16</th>\n",
       "      <td>10.1038/s41563-018-0258-3</td>\n",
       "      <td>baseline-llama3</td>\n",
       "      <td>[deepseek, deepseek, deepseek]</td>\n",
       "      <td>[gpt-4, deepseek, gpt-4]</td>\n",
       "      <td>[deepseek, deepseek, deepseek]</td>\n",
       "    </tr>\n",
       "    <tr>\n",
       "      <th>17</th>\n",
       "      <td>10.1038/s41563-018-0258-3</td>\n",
       "      <td>baseline-qwen</td>\n",
       "      <td>[deepseek, deepseek, deepseek]</td>\n",
       "      <td>[deepseek, gpt-4, deepseek]</td>\n",
       "      <td>[deepseek, gpt-4, deepseek]</td>\n",
       "    </tr>\n",
       "    <tr>\n",
       "      <th>18</th>\n",
       "      <td>10.1038/s41563-018-0258-3</td>\n",
       "      <td>ft-llama3</td>\n",
       "      <td>[gpt-4, deepseek, gpt-4]</td>\n",
       "      <td>[gpt-4, gpt-4, gpt-4]</td>\n",
       "      <td>[gpt-4, gpt-4, gpt-4]</td>\n",
       "    </tr>\n",
       "    <tr>\n",
       "      <th>19</th>\n",
       "      <td>10.1038/s41563-018-0258-3</td>\n",
       "      <td>ft-qwen</td>\n",
       "      <td>[gpt-4, deepseek, deepseek]</td>\n",
       "      <td>[deepseek, deepseek, deepseek]</td>\n",
       "      <td>[deepseek, deepseek, deepseek]</td>\n",
       "    </tr>\n",
       "    <tr>\n",
       "      <th>20</th>\n",
       "      <td>10.1038/s41586-018-0276-y</td>\n",
       "      <td>baseline-llama3</td>\n",
       "      <td>[deepseek, deepseek, deepseek]</td>\n",
       "      <td>[deepseek, deepseek, deepseek]</td>\n",
       "      <td>[deepseek, deepseek, gpt-4]</td>\n",
       "    </tr>\n",
       "    <tr>\n",
       "      <th>21</th>\n",
       "      <td>10.1038/s41586-018-0276-y</td>\n",
       "      <td>baseline-qwen</td>\n",
       "      <td>[gpt-4, gpt-4, deepseek]</td>\n",
       "      <td>[deepseek, deepseek, deepseek]</td>\n",
       "      <td>[deepseek, deepseek, deepseek]</td>\n",
       "    </tr>\n",
       "    <tr>\n",
       "      <th>22</th>\n",
       "      <td>10.1038/s41586-018-0276-y</td>\n",
       "      <td>ft-llama3</td>\n",
       "      <td>[deepseek, gpt-4, deepseek]</td>\n",
       "      <td>[gpt-4, gpt-4, gpt-4]</td>\n",
       "      <td>[deepseek, deepseek, deepseek]</td>\n",
       "    </tr>\n",
       "    <tr>\n",
       "      <th>23</th>\n",
       "      <td>10.1038/s41586-018-0276-y</td>\n",
       "      <td>ft-qwen</td>\n",
       "      <td>[deepseek, deepseek, deepseek]</td>\n",
       "      <td>[gpt-4, deepseek, gpt-4]</td>\n",
       "      <td>[deepseek, deepseek, gpt-4]</td>\n",
       "    </tr>\n",
       "    <tr>\n",
       "      <th>24</th>\n",
       "      <td>10.1038/s41586-019-1290-4</td>\n",
       "      <td>baseline-llama3</td>\n",
       "      <td>[deepseek, deepseek, deepseek]</td>\n",
       "      <td>[deepseek, deepseek, deepseek]</td>\n",
       "      <td>[deepseek, deepseek, deepseek]</td>\n",
       "    </tr>\n",
       "    <tr>\n",
       "      <th>25</th>\n",
       "      <td>10.1038/s41586-019-1290-4</td>\n",
       "      <td>baseline-qwen</td>\n",
       "      <td>[deepseek, gpt-4, deepseek]</td>\n",
       "      <td>[gpt-4, deepseek, deepseek]</td>\n",
       "      <td>[gpt-4, gpt-4, deepseek]</td>\n",
       "    </tr>\n",
       "    <tr>\n",
       "      <th>26</th>\n",
       "      <td>10.1038/s41586-019-1290-4</td>\n",
       "      <td>ft-llama3</td>\n",
       "      <td>[deepseek, deepseek, deepseek]</td>\n",
       "      <td>[gpt-4, deepseek, deepseek]</td>\n",
       "      <td>[deepseek, gpt-4, deepseek]</td>\n",
       "    </tr>\n",
       "    <tr>\n",
       "      <th>27</th>\n",
       "      <td>10.1038/s41586-019-1290-4</td>\n",
       "      <td>ft-qwen</td>\n",
       "      <td>[deepseek, deepseek, gpt-4]</td>\n",
       "      <td>[deepseek, deepseek, gpt-4]</td>\n",
       "      <td>[deepseek, deepseek, deepseek]</td>\n",
       "    </tr>\n",
       "    <tr>\n",
       "      <th>28</th>\n",
       "      <td>10.1038/s41592-021-01155-x</td>\n",
       "      <td>baseline-llama3</td>\n",
       "      <td>[gpt-4, gpt-4, gpt-4]</td>\n",
       "      <td>[gpt-4, deepseek, gpt-4]</td>\n",
       "      <td>[gpt-4, deepseek, gpt-4]</td>\n",
       "    </tr>\n",
       "    <tr>\n",
       "      <th>29</th>\n",
       "      <td>10.1038/s41592-021-01155-x</td>\n",
       "      <td>baseline-qwen</td>\n",
       "      <td>[deepseek, deepseek, deepseek]</td>\n",
       "      <td>[deepseek, deepseek, deepseek]</td>\n",
       "      <td>[gpt-4, deepseek, gpt-4]</td>\n",
       "    </tr>\n",
       "    <tr>\n",
       "      <th>30</th>\n",
       "      <td>10.1038/s41592-021-01155-x</td>\n",
       "      <td>ft-llama3</td>\n",
       "      <td>[deepseek, gpt-4, deepseek]</td>\n",
       "      <td>[deepseek, gpt-4, deepseek]</td>\n",
       "      <td>[deepseek, gpt-4, gpt-4]</td>\n",
       "    </tr>\n",
       "    <tr>\n",
       "      <th>31</th>\n",
       "      <td>10.1038/s41592-021-01155-x</td>\n",
       "      <td>ft-qwen</td>\n",
       "      <td>[deepseek, deepseek, gpt-4]</td>\n",
       "      <td>[deepseek, gpt-4, gpt-4]</td>\n",
       "      <td>[gpt-4, deepseek, deepseek]</td>\n",
       "    </tr>\n",
       "    <tr>\n",
       "      <th>32</th>\n",
       "      <td>10.1038/s41598-017-08692-6</td>\n",
       "      <td>baseline-llama3</td>\n",
       "      <td>[deepseek, deepseek, gpt-4]</td>\n",
       "      <td>[deepseek, gpt-4, deepseek]</td>\n",
       "      <td>[deepseek, deepseek, gpt-4]</td>\n",
       "    </tr>\n",
       "    <tr>\n",
       "      <th>33</th>\n",
       "      <td>10.1038/s41598-017-08692-6</td>\n",
       "      <td>baseline-qwen</td>\n",
       "      <td>[deepseek, deepseek, deepseek]</td>\n",
       "      <td>[gpt-4, deepseek, deepseek]</td>\n",
       "      <td>[deepseek, deepseek, gpt-4]</td>\n",
       "    </tr>\n",
       "    <tr>\n",
       "      <th>34</th>\n",
       "      <td>10.1038/s41598-017-08692-6</td>\n",
       "      <td>ft-llama3</td>\n",
       "      <td>[deepseek, gpt-4, deepseek]</td>\n",
       "      <td>[gpt-4, gpt-4, gpt-4]</td>\n",
       "      <td>[deepseek, deepseek, gpt-4]</td>\n",
       "    </tr>\n",
       "    <tr>\n",
       "      <th>35</th>\n",
       "      <td>10.1038/s41598-017-08692-6</td>\n",
       "      <td>ft-qwen</td>\n",
       "      <td>[deepseek, deepseek, deepseek]</td>\n",
       "      <td>[gpt-4, deepseek, gpt-4]</td>\n",
       "      <td>[deepseek, deepseek, gpt-4]</td>\n",
       "    </tr>\n",
       "    <tr>\n",
       "      <th>36</th>\n",
       "      <td>10.1038/s41598-021-02901-z</td>\n",
       "      <td>baseline-llama3</td>\n",
       "      <td>[deepseek, deepseek, deepseek]</td>\n",
       "      <td>[gpt-4, deepseek, gpt-4]</td>\n",
       "      <td>[deepseek, deepseek, gpt-4]</td>\n",
       "    </tr>\n",
       "    <tr>\n",
       "      <th>37</th>\n",
       "      <td>10.1038/s41598-021-02901-z</td>\n",
       "      <td>baseline-qwen</td>\n",
       "      <td>[deepseek, deepseek, deepseek]</td>\n",
       "      <td>[deepseek, deepseek, deepseek]</td>\n",
       "      <td>[deepseek, deepseek, deepseek]</td>\n",
       "    </tr>\n",
       "    <tr>\n",
       "      <th>38</th>\n",
       "      <td>10.1038/s41598-021-02901-z</td>\n",
       "      <td>ft-llama3</td>\n",
       "      <td>[deepseek, deepseek, deepseek]</td>\n",
       "      <td>[gpt-4, gpt-4, deepseek]</td>\n",
       "      <td>[deepseek, deepseek, deepseek]</td>\n",
       "    </tr>\n",
       "    <tr>\n",
       "      <th>39</th>\n",
       "      <td>10.1038/s41598-021-02901-z</td>\n",
       "      <td>ft-qwen</td>\n",
       "      <td>[deepseek, deepseek, gpt-4]</td>\n",
       "      <td>[gpt-4, deepseek, gpt-4]</td>\n",
       "      <td>[deepseek, gpt-4, deepseek]</td>\n",
       "    </tr>\n",
       "    <tr>\n",
       "      <th>40</th>\n",
       "      <td>10.1038/s41598-021-84762-0</td>\n",
       "      <td>baseline-llama3</td>\n",
       "      <td>[deepseek, deepseek]</td>\n",
       "      <td>[deepseek, deepseek]</td>\n",
       "      <td>[deepseek, deepseek]</td>\n",
       "    </tr>\n",
       "    <tr>\n",
       "      <th>41</th>\n",
       "      <td>10.1038/s41598-021-84762-0</td>\n",
       "      <td>baseline-qwen</td>\n",
       "      <td>[deepseek, deepseek, gpt-4]</td>\n",
       "      <td>[gpt-4, deepseek, deepseek]</td>\n",
       "      <td>[gpt-4, gpt-4, gpt-4]</td>\n",
       "    </tr>\n",
       "    <tr>\n",
       "      <th>42</th>\n",
       "      <td>10.1038/s41598-021-84762-0</td>\n",
       "      <td>ft-llama3</td>\n",
       "      <td>[deepseek, deepseek, deepseek]</td>\n",
       "      <td>[gpt-4, deepseek, deepseek]</td>\n",
       "      <td>[deepseek, gpt-4, deepseek]</td>\n",
       "    </tr>\n",
       "    <tr>\n",
       "      <th>43</th>\n",
       "      <td>10.1038/s41598-021-84762-0</td>\n",
       "      <td>ft-qwen</td>\n",
       "      <td>[deepseek, deepseek, deepseek]</td>\n",
       "      <td>[deepseek, gpt-4, deepseek]</td>\n",
       "      <td>[deepseek, deepseek, deepseek]</td>\n",
       "    </tr>\n",
       "    <tr>\n",
       "      <th>44</th>\n",
       "      <td>10.1038/srep39589</td>\n",
       "      <td>baseline-llama3</td>\n",
       "      <td>[deepseek, deepseek, deepseek]</td>\n",
       "      <td>[gpt-4, gpt-4, deepseek]</td>\n",
       "      <td>[deepseek, gpt-4, deepseek]</td>\n",
       "    </tr>\n",
       "    <tr>\n",
       "      <th>45</th>\n",
       "      <td>10.1038/srep39589</td>\n",
       "      <td>baseline-qwen</td>\n",
       "      <td>[deepseek, deepseek, gpt-4]</td>\n",
       "      <td>[deepseek, deepseek, gpt-4]</td>\n",
       "      <td>[gpt-4, gpt-4, gpt-4]</td>\n",
       "    </tr>\n",
       "    <tr>\n",
       "      <th>46</th>\n",
       "      <td>10.1038/srep39589</td>\n",
       "      <td>ft-llama3</td>\n",
       "      <td>[deepseek, deepseek, deepseek]</td>\n",
       "      <td>[deepseek, gpt-4, gpt-4]</td>\n",
       "      <td>[gpt-4, deepseek, deepseek]</td>\n",
       "    </tr>\n",
       "    <tr>\n",
       "      <th>47</th>\n",
       "      <td>10.1038/srep39589</td>\n",
       "      <td>ft-qwen</td>\n",
       "      <td>[gpt-4, deepseek, gpt-4]</td>\n",
       "      <td>[gpt-4, deepseek, gpt-4]</td>\n",
       "      <td>[gpt-4, gpt-4, gpt-4]</td>\n",
       "    </tr>\n",
       "    <tr>\n",
       "      <th>48</th>\n",
       "      <td>10.1136/bmjopen-2022-066702</td>\n",
       "      <td>baseline-llama3</td>\n",
       "      <td>[deepseek, deepseek, gpt-4]</td>\n",
       "      <td>[gpt-4, deepseek, deepseek]</td>\n",
       "      <td>[deepseek, deepseek, gpt-4]</td>\n",
       "    </tr>\n",
       "    <tr>\n",
       "      <th>49</th>\n",
       "      <td>10.1136/bmjopen-2022-066702</td>\n",
       "      <td>baseline-qwen</td>\n",
       "      <td>[deepseek, gpt-4, gpt-4]</td>\n",
       "      <td>[deepseek, deepseek, gpt-4]</td>\n",
       "      <td>[deepseek, deepseek, deepseek]</td>\n",
       "    </tr>\n",
       "    <tr>\n",
       "      <th>50</th>\n",
       "      <td>10.1136/bmjopen-2022-066702</td>\n",
       "      <td>ft-llama3</td>\n",
       "      <td>[deepseek, gpt-4, deepseek]</td>\n",
       "      <td>[deepseek, deepseek, gpt-4]</td>\n",
       "      <td>[deepseek, gpt-4, gpt-4]</td>\n",
       "    </tr>\n",
       "    <tr>\n",
       "      <th>51</th>\n",
       "      <td>10.1136/bmjopen-2022-066702</td>\n",
       "      <td>ft-qwen</td>\n",
       "      <td>[deepseek, deepseek, gpt-4]</td>\n",
       "      <td>[deepseek, gpt-4, gpt-4]</td>\n",
       "      <td>[gpt-4, deepseek, gpt-4]</td>\n",
       "    </tr>\n",
       "    <tr>\n",
       "      <th>52</th>\n",
       "      <td>10.1186/s12889-016-3074-1</td>\n",
       "      <td>baseline-llama3</td>\n",
       "      <td>[deepseek, deepseek, gpt-4]</td>\n",
       "      <td>[deepseek, deepseek, gpt-4]</td>\n",
       "      <td>[deepseek, deepseek, deepseek]</td>\n",
       "    </tr>\n",
       "    <tr>\n",
       "      <th>53</th>\n",
       "      <td>10.1186/s12889-016-3074-1</td>\n",
       "      <td>baseline-qwen</td>\n",
       "      <td>[gpt-4, deepseek, gpt-4]</td>\n",
       "      <td>[deepseek, deepseek, deepseek]</td>\n",
       "      <td>[deepseek, deepseek, gpt-4]</td>\n",
       "    </tr>\n",
       "    <tr>\n",
       "      <th>54</th>\n",
       "      <td>10.1186/s12889-016-3074-1</td>\n",
       "      <td>ft-llama3</td>\n",
       "      <td>[gpt-4, gpt-4, gpt-4]</td>\n",
       "      <td>[deepseek, gpt-4, gpt-4]</td>\n",
       "      <td>[deepseek, deepseek, gpt-4]</td>\n",
       "    </tr>\n",
       "    <tr>\n",
       "      <th>55</th>\n",
       "      <td>10.1186/s12889-016-3074-1</td>\n",
       "      <td>ft-qwen</td>\n",
       "      <td>[deepseek, deepseek, deepseek]</td>\n",
       "      <td>[deepseek, deepseek, deepseek]</td>\n",
       "      <td>[deepseek, gpt-4, deepseek]</td>\n",
       "    </tr>\n",
       "    <tr>\n",
       "      <th>56</th>\n",
       "      <td>www.bmj.com/cgi/doi/10.1136/bmj.e8707</td>\n",
       "      <td>baseline-llama3</td>\n",
       "      <td>[deepseek, gpt-4, deepseek]</td>\n",
       "      <td>[gpt-4, deepseek, deepseek]</td>\n",
       "      <td>[gpt-4, gpt-4, deepseek]</td>\n",
       "    </tr>\n",
       "    <tr>\n",
       "      <th>57</th>\n",
       "      <td>www.bmj.com/cgi/doi/10.1136/bmj.e8707</td>\n",
       "      <td>baseline-qwen</td>\n",
       "      <td>[deepseek, deepseek, gpt-4]</td>\n",
       "      <td>[deepseek, gpt-4, gpt-4]</td>\n",
       "      <td>[gpt-4, gpt-4, deepseek]</td>\n",
       "    </tr>\n",
       "    <tr>\n",
       "      <th>58</th>\n",
       "      <td>www.bmj.com/cgi/doi/10.1136/bmj.e8707</td>\n",
       "      <td>ft-llama3</td>\n",
       "      <td>[deepseek, deepseek, gpt-4]</td>\n",
       "      <td>[deepseek, deepseek, deepseek]</td>\n",
       "      <td>[deepseek, gpt-4, deepseek]</td>\n",
       "    </tr>\n",
       "    <tr>\n",
       "      <th>59</th>\n",
       "      <td>www.bmj.com/cgi/doi/10.1136/bmj.e8707</td>\n",
       "      <td>ft-qwen</td>\n",
       "      <td>[gpt-4, gpt-4, gpt-4]</td>\n",
       "      <td>[gpt-4, gpt-4, gpt-4]</td>\n",
       "      <td>[gpt-4, gpt-4, deepseek]</td>\n",
       "    </tr>\n",
       "  </tbody>\n",
       "</table>\n",
       "</div>"
      ],
      "text/plain": [
       "                                 sc_title        gen-model  \\\n",
       "0                         10.1038/ncb3149  baseline-llama3   \n",
       "1                         10.1038/ncb3149    baseline-qwen   \n",
       "2                         10.1038/ncb3149        ft-llama3   \n",
       "3                         10.1038/ncb3149          ft-qwen   \n",
       "4              10.1038/s41467-019-11902-6  baseline-llama3   \n",
       "5              10.1038/s41467-019-11902-6    baseline-qwen   \n",
       "6              10.1038/s41467-019-11902-6        ft-llama3   \n",
       "7              10.1038/s41467-019-11902-6          ft-qwen   \n",
       "8              10.1038/s41467-023-36431-1  baseline-llama3   \n",
       "9              10.1038/s41467-023-36431-1    baseline-qwen   \n",
       "10             10.1038/s41467-023-36431-1        ft-llama3   \n",
       "11             10.1038/s41467-023-36431-1          ft-qwen   \n",
       "12              10.1038/s41529-019-0092-3  baseline-llama3   \n",
       "13              10.1038/s41529-019-0092-3    baseline-qwen   \n",
       "14              10.1038/s41529-019-0092-3        ft-llama3   \n",
       "15              10.1038/s41529-019-0092-3          ft-qwen   \n",
       "16              10.1038/s41563-018-0258-3  baseline-llama3   \n",
       "17              10.1038/s41563-018-0258-3    baseline-qwen   \n",
       "18              10.1038/s41563-018-0258-3        ft-llama3   \n",
       "19              10.1038/s41563-018-0258-3          ft-qwen   \n",
       "20              10.1038/s41586-018-0276-y  baseline-llama3   \n",
       "21              10.1038/s41586-018-0276-y    baseline-qwen   \n",
       "22              10.1038/s41586-018-0276-y        ft-llama3   \n",
       "23              10.1038/s41586-018-0276-y          ft-qwen   \n",
       "24              10.1038/s41586-019-1290-4  baseline-llama3   \n",
       "25              10.1038/s41586-019-1290-4    baseline-qwen   \n",
       "26              10.1038/s41586-019-1290-4        ft-llama3   \n",
       "27              10.1038/s41586-019-1290-4          ft-qwen   \n",
       "28             10.1038/s41592-021-01155-x  baseline-llama3   \n",
       "29             10.1038/s41592-021-01155-x    baseline-qwen   \n",
       "30             10.1038/s41592-021-01155-x        ft-llama3   \n",
       "31             10.1038/s41592-021-01155-x          ft-qwen   \n",
       "32             10.1038/s41598-017-08692-6  baseline-llama3   \n",
       "33             10.1038/s41598-017-08692-6    baseline-qwen   \n",
       "34             10.1038/s41598-017-08692-6        ft-llama3   \n",
       "35             10.1038/s41598-017-08692-6          ft-qwen   \n",
       "36             10.1038/s41598-021-02901-z  baseline-llama3   \n",
       "37             10.1038/s41598-021-02901-z    baseline-qwen   \n",
       "38             10.1038/s41598-021-02901-z        ft-llama3   \n",
       "39             10.1038/s41598-021-02901-z          ft-qwen   \n",
       "40             10.1038/s41598-021-84762-0  baseline-llama3   \n",
       "41             10.1038/s41598-021-84762-0    baseline-qwen   \n",
       "42             10.1038/s41598-021-84762-0        ft-llama3   \n",
       "43             10.1038/s41598-021-84762-0          ft-qwen   \n",
       "44                      10.1038/srep39589  baseline-llama3   \n",
       "45                      10.1038/srep39589    baseline-qwen   \n",
       "46                      10.1038/srep39589        ft-llama3   \n",
       "47                      10.1038/srep39589          ft-qwen   \n",
       "48            10.1136/bmjopen-2022-066702  baseline-llama3   \n",
       "49            10.1136/bmjopen-2022-066702    baseline-qwen   \n",
       "50            10.1136/bmjopen-2022-066702        ft-llama3   \n",
       "51            10.1136/bmjopen-2022-066702          ft-qwen   \n",
       "52              10.1186/s12889-016-3074-1  baseline-llama3   \n",
       "53              10.1186/s12889-016-3074-1    baseline-qwen   \n",
       "54              10.1186/s12889-016-3074-1        ft-llama3   \n",
       "55              10.1186/s12889-016-3074-1          ft-qwen   \n",
       "56  www.bmj.com/cgi/doi/10.1136/bmj.e8707  baseline-llama3   \n",
       "57  www.bmj.com/cgi/doi/10.1136/bmj.e8707    baseline-qwen   \n",
       "58  www.bmj.com/cgi/doi/10.1136/bmj.e8707        ft-llama3   \n",
       "59  www.bmj.com/cgi/doi/10.1136/bmj.e8707          ft-qwen   \n",
       "\n",
       "            pw_llm_societal_impact       pw_llm_scientific_context  \\\n",
       "0      [deepseek, gpt-4, deepseek]  [deepseek, deepseek, deepseek]   \n",
       "1      [deepseek, deepseek, gpt-4]  [deepseek, deepseek, deepseek]   \n",
       "2   [deepseek, deepseek, deepseek]           [gpt-4, gpt-4, gpt-4]   \n",
       "3         [gpt-4, deepseek, gpt-4]        [deepseek, gpt-4, gpt-4]   \n",
       "4   [deepseek, deepseek, deepseek]           [gpt-4, gpt-4, gpt-4]   \n",
       "5   [deepseek, deepseek, deepseek]           [gpt-4, gpt-4, gpt-4]   \n",
       "6      [deepseek, deepseek, gpt-4]     [gpt-4, deepseek, deepseek]   \n",
       "7            [gpt-4, gpt-4, gpt-4]        [deepseek, gpt-4, gpt-4]   \n",
       "8         [deepseek, gpt-4, gpt-4]        [gpt-4, deepseek, gpt-4]   \n",
       "9      [deepseek, deepseek, gpt-4]  [deepseek, deepseek, deepseek]   \n",
       "10  [deepseek, deepseek, deepseek]     [gpt-4, deepseek, deepseek]   \n",
       "11     [deepseek, deepseek, gpt-4]     [deepseek, gpt-4, deepseek]   \n",
       "12  [deepseek, deepseek, deepseek]        [deepseek, gpt-4, gpt-4]   \n",
       "13           [gpt-4, gpt-4, gpt-4]     [deepseek, deepseek, gpt-4]   \n",
       "14     [deepseek, deepseek, gpt-4]  [deepseek, deepseek, deepseek]   \n",
       "15     [gpt-4, deepseek, deepseek]           [gpt-4, gpt-4, gpt-4]   \n",
       "16  [deepseek, deepseek, deepseek]        [gpt-4, deepseek, gpt-4]   \n",
       "17  [deepseek, deepseek, deepseek]     [deepseek, gpt-4, deepseek]   \n",
       "18        [gpt-4, deepseek, gpt-4]           [gpt-4, gpt-4, gpt-4]   \n",
       "19     [gpt-4, deepseek, deepseek]  [deepseek, deepseek, deepseek]   \n",
       "20  [deepseek, deepseek, deepseek]  [deepseek, deepseek, deepseek]   \n",
       "21        [gpt-4, gpt-4, deepseek]  [deepseek, deepseek, deepseek]   \n",
       "22     [deepseek, gpt-4, deepseek]           [gpt-4, gpt-4, gpt-4]   \n",
       "23  [deepseek, deepseek, deepseek]        [gpt-4, deepseek, gpt-4]   \n",
       "24  [deepseek, deepseek, deepseek]  [deepseek, deepseek, deepseek]   \n",
       "25     [deepseek, gpt-4, deepseek]     [gpt-4, deepseek, deepseek]   \n",
       "26  [deepseek, deepseek, deepseek]     [gpt-4, deepseek, deepseek]   \n",
       "27     [deepseek, deepseek, gpt-4]     [deepseek, deepseek, gpt-4]   \n",
       "28           [gpt-4, gpt-4, gpt-4]        [gpt-4, deepseek, gpt-4]   \n",
       "29  [deepseek, deepseek, deepseek]  [deepseek, deepseek, deepseek]   \n",
       "30     [deepseek, gpt-4, deepseek]     [deepseek, gpt-4, deepseek]   \n",
       "31     [deepseek, deepseek, gpt-4]        [deepseek, gpt-4, gpt-4]   \n",
       "32     [deepseek, deepseek, gpt-4]     [deepseek, gpt-4, deepseek]   \n",
       "33  [deepseek, deepseek, deepseek]     [gpt-4, deepseek, deepseek]   \n",
       "34     [deepseek, gpt-4, deepseek]           [gpt-4, gpt-4, gpt-4]   \n",
       "35  [deepseek, deepseek, deepseek]        [gpt-4, deepseek, gpt-4]   \n",
       "36  [deepseek, deepseek, deepseek]        [gpt-4, deepseek, gpt-4]   \n",
       "37  [deepseek, deepseek, deepseek]  [deepseek, deepseek, deepseek]   \n",
       "38  [deepseek, deepseek, deepseek]        [gpt-4, gpt-4, deepseek]   \n",
       "39     [deepseek, deepseek, gpt-4]        [gpt-4, deepseek, gpt-4]   \n",
       "40            [deepseek, deepseek]            [deepseek, deepseek]   \n",
       "41     [deepseek, deepseek, gpt-4]     [gpt-4, deepseek, deepseek]   \n",
       "42  [deepseek, deepseek, deepseek]     [gpt-4, deepseek, deepseek]   \n",
       "43  [deepseek, deepseek, deepseek]     [deepseek, gpt-4, deepseek]   \n",
       "44  [deepseek, deepseek, deepseek]        [gpt-4, gpt-4, deepseek]   \n",
       "45     [deepseek, deepseek, gpt-4]     [deepseek, deepseek, gpt-4]   \n",
       "46  [deepseek, deepseek, deepseek]        [deepseek, gpt-4, gpt-4]   \n",
       "47        [gpt-4, deepseek, gpt-4]        [gpt-4, deepseek, gpt-4]   \n",
       "48     [deepseek, deepseek, gpt-4]     [gpt-4, deepseek, deepseek]   \n",
       "49        [deepseek, gpt-4, gpt-4]     [deepseek, deepseek, gpt-4]   \n",
       "50     [deepseek, gpt-4, deepseek]     [deepseek, deepseek, gpt-4]   \n",
       "51     [deepseek, deepseek, gpt-4]        [deepseek, gpt-4, gpt-4]   \n",
       "52     [deepseek, deepseek, gpt-4]     [deepseek, deepseek, gpt-4]   \n",
       "53        [gpt-4, deepseek, gpt-4]  [deepseek, deepseek, deepseek]   \n",
       "54           [gpt-4, gpt-4, gpt-4]        [deepseek, gpt-4, gpt-4]   \n",
       "55  [deepseek, deepseek, deepseek]  [deepseek, deepseek, deepseek]   \n",
       "56     [deepseek, gpt-4, deepseek]     [gpt-4, deepseek, deepseek]   \n",
       "57     [deepseek, deepseek, gpt-4]        [deepseek, gpt-4, gpt-4]   \n",
       "58     [deepseek, deepseek, gpt-4]  [deepseek, deepseek, deepseek]   \n",
       "59           [gpt-4, gpt-4, gpt-4]           [gpt-4, gpt-4, gpt-4]   \n",
       "\n",
       "                    pw_llm_clarity  \n",
       "0   [deepseek, deepseek, deepseek]  \n",
       "1   [deepseek, deepseek, deepseek]  \n",
       "2      [deepseek, gpt-4, deepseek]  \n",
       "3   [deepseek, deepseek, deepseek]  \n",
       "4      [gpt-4, deepseek, deepseek]  \n",
       "5   [deepseek, deepseek, deepseek]  \n",
       "6         [deepseek, gpt-4, gpt-4]  \n",
       "7      [gpt-4, deepseek, deepseek]  \n",
       "8   [deepseek, deepseek, deepseek]  \n",
       "9   [deepseek, deepseek, deepseek]  \n",
       "10  [deepseek, deepseek, deepseek]  \n",
       "11  [deepseek, deepseek, deepseek]  \n",
       "12  [deepseek, deepseek, deepseek]  \n",
       "13     [deepseek, gpt-4, deepseek]  \n",
       "14  [deepseek, deepseek, deepseek]  \n",
       "15     [deepseek, gpt-4, deepseek]  \n",
       "16  [deepseek, deepseek, deepseek]  \n",
       "17     [deepseek, gpt-4, deepseek]  \n",
       "18           [gpt-4, gpt-4, gpt-4]  \n",
       "19  [deepseek, deepseek, deepseek]  \n",
       "20     [deepseek, deepseek, gpt-4]  \n",
       "21  [deepseek, deepseek, deepseek]  \n",
       "22  [deepseek, deepseek, deepseek]  \n",
       "23     [deepseek, deepseek, gpt-4]  \n",
       "24  [deepseek, deepseek, deepseek]  \n",
       "25        [gpt-4, gpt-4, deepseek]  \n",
       "26     [deepseek, gpt-4, deepseek]  \n",
       "27  [deepseek, deepseek, deepseek]  \n",
       "28        [gpt-4, deepseek, gpt-4]  \n",
       "29        [gpt-4, deepseek, gpt-4]  \n",
       "30        [deepseek, gpt-4, gpt-4]  \n",
       "31     [gpt-4, deepseek, deepseek]  \n",
       "32     [deepseek, deepseek, gpt-4]  \n",
       "33     [deepseek, deepseek, gpt-4]  \n",
       "34     [deepseek, deepseek, gpt-4]  \n",
       "35     [deepseek, deepseek, gpt-4]  \n",
       "36     [deepseek, deepseek, gpt-4]  \n",
       "37  [deepseek, deepseek, deepseek]  \n",
       "38  [deepseek, deepseek, deepseek]  \n",
       "39     [deepseek, gpt-4, deepseek]  \n",
       "40            [deepseek, deepseek]  \n",
       "41           [gpt-4, gpt-4, gpt-4]  \n",
       "42     [deepseek, gpt-4, deepseek]  \n",
       "43  [deepseek, deepseek, deepseek]  \n",
       "44     [deepseek, gpt-4, deepseek]  \n",
       "45           [gpt-4, gpt-4, gpt-4]  \n",
       "46     [gpt-4, deepseek, deepseek]  \n",
       "47           [gpt-4, gpt-4, gpt-4]  \n",
       "48     [deepseek, deepseek, gpt-4]  \n",
       "49  [deepseek, deepseek, deepseek]  \n",
       "50        [deepseek, gpt-4, gpt-4]  \n",
       "51        [gpt-4, deepseek, gpt-4]  \n",
       "52  [deepseek, deepseek, deepseek]  \n",
       "53     [deepseek, deepseek, gpt-4]  \n",
       "54     [deepseek, deepseek, gpt-4]  \n",
       "55     [deepseek, gpt-4, deepseek]  \n",
       "56        [gpt-4, gpt-4, deepseek]  \n",
       "57        [gpt-4, gpt-4, deepseek]  \n",
       "58     [deepseek, gpt-4, deepseek]  \n",
       "59        [gpt-4, gpt-4, deepseek]  "
      ]
     },
     "execution_count": 57,
     "metadata": {},
     "output_type": "execute_result"
    }
   ],
   "source": [
    "grouped_annotations.head(n=100)"
   ]
  },
  {
   "cell_type": "code",
   "execution_count": 58,
   "id": "88989b82-c5bf-4f2d-9f2c-04aab59c87b1",
   "metadata": {},
   "outputs": [],
   "source": [
    "from statsmodels.stats.inter_rater import fleiss_kappa\n",
    "from statsmodels.stats.inter_rater import aggregate_raters\n",
    "from sklearn.metrics import cohen_kappa_score\n",
    "import krippendorff\n"
   ]
  },
  {
   "cell_type": "code",
   "execution_count": 59,
   "id": "85235670-4aa8-4ea6-9cc8-b50528a8a7de",
   "metadata": {},
   "outputs": [],
   "source": [
    "def compute_cohens_agreement(results_df, clm, ann1, ann2, filter_clm=None):\n",
    "    if filter_clm != None:\n",
    "        results_df = results_df[results_df[filter_clm]]\n",
    "    grouped_annotations = results_df.groupby(['sc_title', 'gen-model']).agg({\n",
    "         clm: lambda x: list(x),\n",
    "    }).reset_index()\n",
    "    scores = np.array(grouped_annotations[grouped_annotations[clm].str.len()>2][clm].tolist())\n",
    "    print('# {}'.format(len(grouped_annotations)),round(cohen_kappa_score(scores[:, ann1], scores[:, ann2]), 3))\n",
    "\n",
    "def compute_krippendorf_agreement(results_df, clm, filter_clm=None, gen_models=[]):\n",
    "    if filter_clm != None:\n",
    "        results_df = results_df[results_df[filter_clm]]\n",
    "    if len(gen_models) > 0:\n",
    "        results_df = results_df[results_df['gen-model'].isin(gen_models)]\n",
    "        \n",
    "    grouped_annotations = results_df.groupby(['sc_title', 'gen-model']).agg({\n",
    "         clm: lambda x: [1 if c == 'deepseek' else 0 for c in x],\n",
    "    }).reset_index()\n",
    "    scores = np.array(grouped_annotations[grouped_annotations[clm].str.len()>2][clm].tolist())\n",
    "    print(round(krippendorff.alpha(scores.T), 2))"
   ]
  },
  {
   "cell_type": "code",
   "execution_count": 60,
   "id": "da231764-473d-43a0-b1b9-5c858c5a3428",
   "metadata": {},
   "outputs": [
    {
     "name": "stdout",
     "output_type": "stream",
     "text": [
      "0.2\n",
      "0.13\n",
      "0.35\n"
     ]
    }
   ],
   "source": [
    "compute_krippendorf_agreement(results_df, 'pw_llm_societal_impact', 'diff_llm_societal_impact')\n",
    "compute_krippendorf_agreement(results_df, 'pw_llm_scientific_context', 'diff_llm_scientific_context')\n",
    "compute_krippendorf_agreement(results_df, 'pw_llm_clarity',  'diff_llm_clarity')"
   ]
  },
  {
   "cell_type": "code",
   "execution_count": 61,
   "id": "13cea35c-faff-4a46-bb32-7072ef4eeb3c",
   "metadata": {},
   "outputs": [
    {
     "name": "stdout",
     "output_type": "stream",
     "text": [
      "# 39 0.475\n",
      "# 39 0.179\n",
      "# 39 0.053\n"
     ]
    }
   ],
   "source": [
    "compute_cohens_agreement(results_df, 'pw_llm_societal_impact', 0, 1, 'diff_llm_societal_impact')\n",
    "compute_cohens_agreement(results_df, 'pw_llm_societal_impact', 0, 2, 'diff_llm_societal_impact')\n",
    "compute_cohens_agreement(results_df, 'pw_llm_societal_impact', 1, 2, 'diff_llm_societal_impact')"
   ]
  },
  {
   "cell_type": "code",
   "execution_count": 62,
   "id": "f621f7d8-9dc1-4d61-9af8-77255f82d95d",
   "metadata": {},
   "outputs": [
    {
     "name": "stdout",
     "output_type": "stream",
     "text": [
      "# 25 -0.115\n",
      "# 25 0.324\n",
      "# 25 0.214\n"
     ]
    }
   ],
   "source": [
    "compute_cohens_agreement(results_df, 'pw_llm_scientific_context', 0, 1, 'diff_llm_scientific_context')\n",
    "compute_cohens_agreement(results_df, 'pw_llm_scientific_context', 0, 2, 'diff_llm_scientific_context')\n",
    "compute_cohens_agreement(results_df, 'pw_llm_scientific_context', 1, 2, 'diff_llm_scientific_context')"
   ]
  },
  {
   "cell_type": "code",
   "execution_count": 63,
   "id": "dadad057-c652-441f-b741-4ca6e5663c5f",
   "metadata": {},
   "outputs": [
    {
     "name": "stdout",
     "output_type": "stream",
     "text": [
      "# 32 0.439\n",
      "# 32 0.377\n",
      "# 32 0.21\n"
     ]
    }
   ],
   "source": [
    "compute_cohens_agreement(results_df, 'pw_llm_clarity', 0, 1, 'diff_llm_clarity')\n",
    "compute_cohens_agreement(results_df, 'pw_llm_clarity', 0, 2, 'diff_llm_clarity')\n",
    "compute_cohens_agreement(results_df, 'pw_llm_clarity', 1, 2, 'diff_llm_clarity')"
   ]
  },
  {
   "cell_type": "code",
   "execution_count": null,
   "id": "b9a87c5e-a68c-4fa4-b1b1-bd5a87a94e36",
   "metadata": {},
   "outputs": [],
   "source": []
  }
 ],
 "metadata": {
  "kernelspec": {
   "display_name": "Python 3 (ipykernel)",
   "language": "python",
   "name": "python3"
  },
  "language_info": {
   "codemirror_mode": {
    "name": "ipython",
    "version": 3
   },
   "file_extension": ".py",
   "mimetype": "text/x-python",
   "name": "python",
   "nbconvert_exporter": "python",
   "pygments_lexer": "ipython3",
   "version": "3.12.8"
  }
 },
 "nbformat": 4,
 "nbformat_minor": 5
}
