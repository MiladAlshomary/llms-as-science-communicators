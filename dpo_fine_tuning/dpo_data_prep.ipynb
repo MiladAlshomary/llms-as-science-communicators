{
 "cells": [
  {
   "cell_type": "code",
   "execution_count": 11,
   "id": "7d78efec-68b0-47f6-8d88-af0cd01c16fa",
   "metadata": {},
   "outputs": [
    {
     "name": "stdout",
     "output_type": "stream",
     "text": [
      "The autoreload extension is already loaded. To reload it, use:\n",
      "  %reload_ext autoreload\n"
     ]
    }
   ],
   "source": [
    "%load_ext autoreload\n",
    "import os\n",
    "import sys\n",
    "\n",
    "os.environ['TRANSFORMERS_CACHE'] = '/mnt/swordfish-pool2/milad/hf-cache-new'\n",
    "os.environ['HF_DATASETS_CACHE'] = '/mnt/swordfish-pool2/milad/hf-cache-new'\n",
    "os.environ[\"OPENAI_API_KEY\"]= 'xxx'\n",
    "os.environ['CUDA_VISIBLE_DEVICES'] = '0'\n",
    "sys.path.append('../src-py')"
   ]
  },
  {
   "cell_type": "code",
   "execution_count": 12,
   "id": "53dd6624",
   "metadata": {},
   "outputs": [],
   "source": [
    "import json\n",
    "#keys = json.load(open('/mnt/swordfish-pool2/milad/code/llms-as-science-communicators/keys.json'))\n",
    "keys = json.load(open('../keys.json'))\n",
    "for key, val in keys.items():\n",
    "    os.environ[key] = val"
   ]
  },
  {
   "cell_type": "code",
   "execution_count": 13,
   "id": "d24b5e38-93dc-4098-97de-bb786a750a92",
   "metadata": {
    "scrolled": true
   },
   "outputs": [],
   "source": [
    "import datasets\n",
    "import json\n",
    "import os\n",
    "import numpy as np\n",
    "import pandas as pd\n",
    "import copy\n",
    "import matplotlib.pyplot as plt\n",
    "import re\n",
    "from collections import Counter\n",
    "\n",
    "pd.set_option('display.width', None)\n",
    "pd.set_option('display.max_colwidth', None)\n"
   ]
  },
  {
   "cell_type": "code",
   "execution_count": 14,
   "id": "8de285da-4e35-4041-8aa8-956e164feb64",
   "metadata": {
    "scrolled": true
   },
   "outputs": [],
   "source": [
    "from huggingface_hub import login\n",
    "\n",
    "login(os.environ['hf_token'])"
   ]
  },
  {
   "cell_type": "code",
   "execution_count": 15,
   "id": "846f3f93-4394-4627-be70-6bd557823095",
   "metadata": {},
   "outputs": [],
   "source": [
    "output_dir = '/mnt/swordfish-pool2/milad/communicating-science-to-the-public/'"
   ]
  },
  {
   "cell_type": "code",
   "execution_count": 16,
   "id": "0ae05d7d-fbe6-4d67-b5c8-3f01a87e646d",
   "metadata": {},
   "outputs": [],
   "source": [
    "dpo_ds = datasets.load_from_disk('../new-deepseek-final-conv-ds-with-preference-data/')"
   ]
  },
  {
   "cell_type": "code",
   "execution_count": 17,
   "id": "37cee132",
   "metadata": {},
   "outputs": [
    {
     "data": {
      "text/plain": [
       "Dataset({\n",
       "    features: ['paper_id', 'paper_title', 'paper_text', 'prompt', 'completion', 'chosen', 'rejected', 'answer_quality'],\n",
       "    num_rows: 539\n",
       "})"
      ]
     },
     "execution_count": 17,
     "metadata": {},
     "output_type": "execute_result"
    }
   ],
   "source": [
    "dpo_ds"
   ]
  },
  {
   "cell_type": "code",
   "execution_count": 18,
   "id": "1321d6ba",
   "metadata": {},
   "outputs": [
    {
     "name": "stdout",
     "output_type": "stream",
     "text": [
      "Journalist:   \n",
      "Dr. [Researcher's Name], thank you for joining us. Your paper introduces a new method called the stairway plot to infer historical human population size fluctuations. Can you explain what the stairway plot method is and how it differs from previous methods?\n",
      "\n",
      "Researcher:   \n",
      "Certainly. The stairway plot is a model-flexible method that uses SNP frequency spectra to estimate changes in population size over time. Unlike previous methods that rely on predefined demographic models, the stairway plot allows for a more flexible exploration of population history. It calculates the expected composite likelihood of the SNP frequency spectrum, treating each SNP as an independent locus, which makes it computationally efficient and suitable for large datasets like whole-genome sequences of hundreds of individuals.\n",
      "------\n",
      "Researcher:   \n",
      "Certainly. The stairway plot is a model-flexible method that uses SNP frequency spectra to estimate changes in population size over time. Unlike previous methods that rely on predefined demographic models, the stairway plot allows for a more flexible exploration of population history. It calculates the expected composite likelihood of the SNP frequency spectrum, treating each SNP as an independent locus, which makes it computationally efficient and suitable for large datasets like whole-genome sequences of hundreds of individuals.\n",
      "Answer: {'complex_aspects': ['stairway plot', 'model-flexible method', 'SNP frequency spectra', 'composite likelihood', 'whole-genome sequences'], 'is_vague': 0}\n",
      "Chosen: Here's a follow-up question to clarify the complex aspects mentioned:\n",
      "Rejected: Here's a generic follow-up question:\n",
      "\n",
      "How does the stairway plot method handle the challenge of limited genetic data in certain populations, and what steps does it take to ensure accurate inference in these cases?\n"
     ]
    }
   ],
   "source": [
    "k = 0\n",
    "print('\\n\\n'.join(x['content'] for x in dpo_ds['prompt'][k][2:]))\n",
    "print('------')\n",
    "print(dpo_ds['prompt'][k][-1]['content'])\n",
    "print(\"Answer:\", dpo_ds['answer_quality'][k])\n",
    "print(\"Chosen:\", dpo_ds['chosen'][k])\n",
    "print(\"Rejected:\", dpo_ds['rejected'][k])"
   ]
  },
  {
   "cell_type": "code",
   "execution_count": 20,
   "id": "81a750bb",
   "metadata": {},
   "outputs": [
    {
     "data": {
      "application/vnd.jupyter.widget-view+json": {
       "model_id": "48a86bc0ae304c18840758346bafc291",
       "version_major": 2,
       "version_minor": 0
      },
      "text/plain": [
       "Uploading the dataset shards:   0%|          | 0/1 [00:00<?, ?it/s]"
      ]
     },
     "metadata": {},
     "output_type": "display_data"
    },
    {
     "data": {
      "application/vnd.jupyter.widget-view+json": {
       "model_id": "d6690327bcf549228df15308b5e28fd3",
       "version_major": 2,
       "version_minor": 0
      },
      "text/plain": [
       "Creating parquet from Arrow format:   0%|          | 0/1 [00:00<?, ?ba/s]"
      ]
     },
     "metadata": {},
     "output_type": "display_data"
    },
    {
     "name": "stderr",
     "output_type": "stream",
     "text": [
      "Uploading files as a binary IO buffer is not supported by Xet Storage. Falling back to HTTP upload.\n"
     ]
    },
    {
     "data": {
      "text/plain": [
       "CommitInfo(commit_url='https://huggingface.co/datasets/miladalsh/new-deepseek-final-conv-ds-with-preference-data/commit/2e27cd52feee134dbbbec3c28e29abd827468b44', commit_message='Upload dataset', commit_description='', oid='2e27cd52feee134dbbbec3c28e29abd827468b44', pr_url=None, repo_url=RepoUrl('https://huggingface.co/datasets/miladalsh/new-deepseek-final-conv-ds-with-preference-data', endpoint='https://huggingface.co', repo_type='dataset', repo_id='miladalsh/new-deepseek-final-conv-ds-with-preference-data'), pr_revision=None, pr_num=None)"
      ]
     },
     "execution_count": 20,
     "metadata": {},
     "output_type": "execute_result"
    }
   ],
   "source": [
    "dpo_ds.push_to_hub('miladalsh/new-deepseek-final-conv-ds-with-preference-data')"
   ]
  },
  {
   "cell_type": "code",
   "execution_count": null,
   "id": "93d3c4ab",
   "metadata": {},
   "outputs": [],
   "source": []
  }
 ],
 "metadata": {
  "kernelspec": {
   "display_name": "Python 3",
   "language": "python",
   "name": "python3"
  },
  "language_info": {
   "codemirror_mode": {
    "name": "ipython",
    "version": 3
   },
   "file_extension": ".py",
   "mimetype": "text/x-python",
   "name": "python",
   "nbconvert_exporter": "python",
   "pygments_lexer": "ipython3",
   "version": "3.12.7"
  }
 },
 "nbformat": 4,
 "nbformat_minor": 5
}
