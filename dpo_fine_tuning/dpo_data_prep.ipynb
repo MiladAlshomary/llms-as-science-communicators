{
 "cells": [
  {
   "cell_type": "code",
   "execution_count": 1,
   "id": "7d78efec-68b0-47f6-8d88-af0cd01c16fa",
   "metadata": {},
   "outputs": [],
   "source": [
    "%load_ext autoreload\n",
    "import os\n",
    "import sys\n",
    "\n",
    "os.environ['TRANSFORMERS_CACHE'] = '/mnt/swordfish-pool2/milad/hf-cache-new'\n",
    "os.environ['HF_DATASETS_CACHE'] = '/mnt/swordfish-pool2/milad/hf-cache-new'\n",
    "os.environ[\"OPENAI_API_KEY\"]= 'xxx'\n",
    "os.environ['CUDA_VISIBLE_DEVICES'] = '0'\n",
    "sys.path.append('../src-py')"
   ]
  },
  {
   "cell_type": "code",
   "execution_count": 2,
   "id": "53dd6624",
   "metadata": {},
   "outputs": [],
   "source": [
    "import json\n",
    "keys = json.load(open('/mnt/swordfish-pool2/milad/code/llms-as-science-communicators/keys.json'))\n",
    "for key, val in keys.items():\n",
    "    os.environ[key] = val"
   ]
  },
  {
   "cell_type": "code",
   "execution_count": 3,
   "id": "d24b5e38-93dc-4098-97de-bb786a750a92",
   "metadata": {
    "scrolled": true
   },
   "outputs": [
    {
     "name": "stderr",
     "output_type": "stream",
     "text": [
      "/mnt/swordfish-pool2/milad/conda-envs/datadreamer/lib/python3.12/site-packages/transformers/utils/hub.py:128: FutureWarning: Using `TRANSFORMERS_CACHE` is deprecated and will be removed in v5 of Transformers. Use `HF_HOME` instead.\n",
      "  warnings.warn(\n"
     ]
    }
   ],
   "source": [
    "import datasets\n",
    "import json\n",
    "import os\n",
    "import numpy as np\n",
    "import pandas as pd\n",
    "import copy\n",
    "import matplotlib.pyplot as plt\n",
    "import re\n",
    "from collections import Counter\n",
    "\n",
    "pd.set_option('display.width', None)\n",
    "pd.set_option('display.max_colwidth', None)\n",
    "\n",
    "\n",
    "%autoreload\n",
    "import utils\n",
    "import datadreamer_generation\n",
    "\n",
    "import tiktoken\n",
    "from transformers import AutoTokenizer"
   ]
  },
  {
   "cell_type": "code",
   "execution_count": 4,
   "id": "8de285da-4e35-4041-8aa8-956e164feb64",
   "metadata": {
    "scrolled": true
   },
   "outputs": [],
   "source": [
    "from huggingface_hub import login\n",
    "\n",
    "login(keys['hf_token'])"
   ]
  },
  {
   "cell_type": "code",
   "execution_count": 5,
   "id": "846f3f93-4394-4627-be70-6bd557823095",
   "metadata": {},
   "outputs": [],
   "source": [
    "output_dir = '/mnt/swordfish-pool2/milad/communicating-science-to-the-public/'"
   ]
  },
  {
   "cell_type": "code",
   "execution_count": 38,
   "id": "4ed8f0ee-8635-483b-ace9-7da83c77851f",
   "metadata": {},
   "outputs": [],
   "source": [
    "from openai import OpenAI\n",
    "from openai import OpenAIError  # Base class for OpenAI exceptions\n",
    "import openai\n",
    "from pydantic import BaseModel\n",
    "from openai.lib._pydantic import to_strict_json_schema\n",
    "from tqdm import tqdm\n",
    "from enum import Enum"
   ]
  },
  {
   "cell_type": "code",
   "execution_count": 15,
   "id": "12343a84-2eb7-4503-86d3-e9de15c9556c",
   "metadata": {},
   "outputs": [],
   "source": [
    "eval_client = OpenAI(base_url=\"http://localhost:9988/v1\", api_key=\"-\")\n",
    "evaluator_name = \"deepseek-ai/DeepSeek-R1-Distill-Qwen-32B\""
   ]
  },
  {
   "cell_type": "code",
   "execution_count": 54,
   "id": "c2d98072-3a22-4674-9196-ad67aac8e89b",
   "metadata": {},
   "outputs": [],
   "source": [
    "class BinaryDecision(int, Enum):\n",
    "    Yes  = 1\n",
    "    No   = 0    \n",
    "\n",
    "class EvalSchema(BaseModel):\n",
    "    Vaguness: BinaryDecision\n",
    "    ComplexAspects : list[str]   \n",
    "\n",
    "def rate_vagueness(dataset, evaluator_name, eval_prompt, input_name):\n",
    "    eval_scores = []\n",
    "    for row in tqdm(dataset):\n",
    "        instruction = '{}\\n\\n{}'.format(eval_prompt, \"[TEXT]: {}\".format(row[input_name]))\n",
    "        print(instruction)\n",
    "        completion = eval_client.chat.completions.create(\n",
    "            model= evaluator_name,\n",
    "            messages=[\n",
    "                {\n",
    "                    \"role\": \"user\",\n",
    "                    \"content\": instruction,\n",
    "                },\n",
    "            ],\n",
    "            response_format={\"type\": \"json_schema\", \"json_schema\": {\"name\":\"eval_scheme\", \"schema\": to_strict_json_schema(EvalSchema)}},\n",
    "        )\n",
    "        print(completion.choices[0].message)\n",
    "        score = json.loads(completion.choices[0].message.reasoning_content)\n",
    "        eval_scores.append(score)\n",
    "        \n",
    "    dataset = dataset.add_column('scoring_parsed', eval_scores)\n",
    "    return dataset"
   ]
  },
  {
   "cell_type": "code",
   "execution_count": 58,
   "id": "71048d0f-175a-482a-b3a3-1722d51328e1",
   "metadata": {
    "scrolled": true
   },
   "outputs": [
    {
     "name": "stderr",
     "output_type": "stream",
     "text": [
      "  0%|                                                                                           | 0/2 [00:00<?, ?it/s]"
     ]
    },
    {
     "name": "stdout",
     "output_type": "stream",
     "text": [
      "\n",
      "    Evaluate the following quality aspects in the text:\n",
      "    1. Vaguness: it is defined as the lack of clear, specific, or precise meaning, often resulting in a response that is not directly useful or helpful to the question asked, potentially leading to confusion or multiple interpretations\n",
      "    Your answer should be either Yes if the text is vague or no if the clear is clear.\n",
      "    2. Complex aspects: Extract list of concepts that are highly technical that only an expert in the filed would understand\n",
      "\n",
      "\n",
      "[TEXT]: IL-6 is involved in various inflammatory processes. Conditions like obesity or cardiovascular disease, which are associated with elevated IL-6 levels, could make the liver more receptive to cancer metastasis, even in the absence of a primary tumor.\n"
     ]
    },
    {
     "name": "stderr",
     "output_type": "stream",
     "text": [
      " 50%|█████████████████████████████████████████▌                                         | 1/2 [00:04<00:04,  4.50s/it]"
     ]
    },
    {
     "name": "stdout",
     "output_type": "stream",
     "text": [
      "ChatCompletionMessage(content=None, refusal=None, role='assistant', annotations=None, audio=None, function_call=None, tool_calls=[], reasoning_content='{ \"Vaguness\": 0, \"ComplexAspects\": [\"IL-6\", \"inflammatory processes\", \"obesity\", \"cardiovascular disease\", \"elevated IL-6 levels\", \"liver\", \"cancer metastasis\", \"primary tumor\"] }')\n",
      "\n",
      "    Evaluate the following quality aspects in the text:\n",
      "    1. Vaguness: it is defined as the lack of clear, specific, or precise meaning, often resulting in a response that is not directly useful or helpful to the question asked, potentially leading to confusion or multiple interpretations\n",
      "    Your answer should be either Yes if the text is vague or no if the clear is clear.\n",
      "    2. Complex aspects: Extract list of concepts that are highly technical that only an expert in the filed would understand\n",
      "\n",
      "\n",
      "[TEXT]: something is involved in various inflammatory processes. Conditions like obesity or cardiovascular disease\n"
     ]
    },
    {
     "name": "stderr",
     "output_type": "stream",
     "text": [
      "100%|███████████████████████████████████████████████████████████████████████████████████| 2/2 [00:05<00:00,  2.69s/it]"
     ]
    },
    {
     "name": "stdout",
     "output_type": "stream",
     "text": [
      "ChatCompletionMessage(content=None, refusal=None, role='assistant', annotations=None, audio=None, function_call=None, tool_calls=[], reasoning_content='{\"Vaguness\": 0, \"ComplexAspects\": []}')\n"
     ]
    },
    {
     "name": "stderr",
     "output_type": "stream",
     "text": [
      "\n"
     ]
    }
   ],
   "source": [
    "texts_ds  = datasets.Dataset.from_list([\n",
    "    {\"text\": 'IL-6 is involved in various inflammatory processes. Conditions like obesity or cardiovascular disease, which are associated with elevated IL-6 levels, could make the liver more receptive to cancer metastasis, even in the absence of a primary tumor.'},\n",
    "    {\"text\": 'something is involved in various inflammatory processes. Conditions like obesity or cardiovascular disease'}\n",
    "])\n",
    "prompt = \"\"\"\n",
    "    Evaluate the following quality aspects in the text:\n",
    "    1. Vaguness: it is defined as the lack of clear, specific, or precise meaning, often resulting in a response that is not directly useful or helpful to the question asked, potentially leading to confusion or multiple interpretations\n",
    "    Your answer should be either Yes if the text is vague or no if the clear is clear.\n",
    "    2. Complex aspects: Extract list of concepts that are highly technical that only an expert in the filed would understand\n",
    "\"\"\"\n",
    "\n",
    "result = rate_vagueness(texts_ds, evaluator_name, prompt, \"text\")"
   ]
  },
  {
   "cell_type": "code",
   "execution_count": 60,
   "id": "be805cbe-78c7-4cf4-8250-dca1eb49ca8e",
   "metadata": {},
   "outputs": [
    {
     "data": {
      "text/plain": [
       "[{'ComplexAspects': ['IL-6',\n",
       "   'inflammatory processes',\n",
       "   'obesity',\n",
       "   'cardiovascular disease',\n",
       "   'elevated IL-6 levels',\n",
       "   'liver',\n",
       "   'cancer metastasis',\n",
       "   'primary tumor'],\n",
       "  'Vaguness': 0},\n",
       " {'ComplexAspects': [], 'Vaguness': 0}]"
      ]
     },
     "execution_count": 60,
     "metadata": {},
     "output_type": "execute_result"
    }
   ],
   "source": [
    "result['scoring_parsed']"
   ]
  },
  {
   "cell_type": "code",
   "execution_count": null,
   "id": "0ae05d7d-fbe6-4d67-b5c8-3f01a87e646d",
   "metadata": {},
   "outputs": [],
   "source": []
  }
 ],
 "metadata": {
  "kernelspec": {
   "display_name": "Python 3 (ipykernel)",
   "language": "python",
   "name": "python3"
  },
  "language_info": {
   "codemirror_mode": {
    "name": "ipython",
    "version": 3
   },
   "file_extension": ".py",
   "mimetype": "text/x-python",
   "name": "python",
   "nbconvert_exporter": "python",
   "pygments_lexer": "ipython3",
   "version": "3.12.8"
  }
 },
 "nbformat": 4,
 "nbformat_minor": 5
}
