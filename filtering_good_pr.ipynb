{
 "cells": [
  {
   "cell_type": "code",
   "execution_count": 18,
   "id": "ec7daa5b-2367-4874-aa12-5107ded4989f",
   "metadata": {},
   "outputs": [
    {
     "name": "stdout",
     "output_type": "stream",
     "text": [
      "The autoreload extension is already loaded. To reload it, use:\n",
      "  %reload_ext autoreload\n"
     ]
    }
   ],
   "source": [
    "%load_ext autoreload\n",
    "import os\n",
    "import sys\n",
    "\n",
    "os.environ['TRANSFORMERS_CACHE'] = '/mnt/swordfish-pool2/milad/hf-cache-new'\n",
    "os.environ['HF_DATASETS_CACHE'] = '/mnt/swordfish-pool2/milad/hf-cache-new'\n",
    "os.environ[\"WANDB_PROJECT\"] = \"ft-llama-on-conversations\"  # name your W&B project\n",
    "os.environ['CUDA_VISIBLE_DEVICES'] = '3'\n",
    "os.environ[\"WANDB_PROJECT\"] = \"ft-llama-on-pr-summary-gen\"  # name your W&B project\n",
    "sys.path.append('./src')"
   ]
  },
  {
   "cell_type": "code",
   "execution_count": 19,
   "id": "6674e8a8-7dba-4b68-85f9-15fc269f4a22",
   "metadata": {
    "scrolled": true
   },
   "outputs": [],
   "source": [
    "%autoreload\n",
    "import baselines\n",
    "import utils\n",
    "import datadreamer_generation\n",
    "import prompts\n",
    "import random\n",
    "from llm_based_evaluation import *\n",
    "import datasets\n",
    "from transformers import AutoTokenizer"
   ]
  },
  {
   "cell_type": "code",
   "execution_count": 20,
   "id": "1a1998f0-8392-40c5-aca3-b947e5708a3b",
   "metadata": {},
   "outputs": [],
   "source": [
    "output_dir = '/mnt/swordfish-pool2/milad/communicating-science-to-the-public/'"
   ]
  },
  {
   "cell_type": "code",
   "execution_count": 4,
   "id": "988cd13f-d8b1-4e44-82bb-3812b8d978db",
   "metadata": {
    "scrolled": true
   },
   "outputs": [
    {
     "data": {
      "application/vnd.jupyter.widget-view+json": {
       "model_id": "2449167588444e25978ba37191927f5c",
       "version_major": 2,
       "version_minor": 0
      },
      "text/plain": [
       "README.md:   0%|          | 0.00/1.10k [00:00<?, ?B/s]"
      ]
     },
     "metadata": {},
     "output_type": "display_data"
    }
   ],
   "source": [
    "dataset = datasets.load_dataset(\"miladalsh/sci-news\")\n",
    "training_ds = dataset['train'].filter(lambda row: row['source'] == 'SciNews')"
   ]
  },
  {
   "cell_type": "code",
   "execution_count": 5,
   "id": "7cb69c15-b3ee-45ee-9d58-80e317ed5bee",
   "metadata": {
    "scrolled": true
   },
   "outputs": [],
   "source": [
    "training_ds  = training_ds.map(lambda row: {'parsed-pr-article': row['pr-summary-and-article']})"
   ]
  },
  {
   "cell_type": "code",
   "execution_count": 50,
   "id": "3f86707e-e2ae-4c51-9d1d-074e27986dc7",
   "metadata": {},
   "outputs": [
    {
     "data": {
      "text/plain": [
       "33497"
      ]
     },
     "execution_count": 50,
     "metadata": {},
     "output_type": "execute_result"
    }
   ],
   "source": [
    "len(training_ds)"
   ]
  },
  {
   "cell_type": "code",
   "execution_count": null,
   "id": "f784f6c9-d2ef-4a29-9c44-787bb741a630",
   "metadata": {},
   "outputs": [],
   "source": [
    "resulted_ds = evaluate_communicative_quality(training_ds, prompts.pr_scientific_context_eval_prompt)\n",
    "resulted_df.save_to_disk(output_dir + '/training_ds_with_scientific_scores')"
   ]
  },
  {
   "cell_type": "code",
   "execution_count": 38,
   "id": "73fb3d22-a548-47b6-978e-9ddb1be17f03",
   "metadata": {
    "scrolled": true
   },
   "outputs": [
    {
     "data": {
      "application/vnd.jupyter.widget-view+json": {
       "model_id": "fd164265db5845d69917a2e982f69ce4",
       "version_major": 2,
       "version_minor": 0
      },
      "text/plain": [
       "Saving the dataset (0/5 shards):   0%|          | 0/33497 [00:00<?, ? examples/s]"
      ]
     },
     "metadata": {},
     "output_type": "display_data"
    }
   ],
   "source": [
    "resulted_ds = evaluate_communicative_quality(training_ds, prompts.pr_societal_context_eval_prompt)\n",
    "resulted_ds.save_to_disk(output_dir + '/training_ds_with_scoietal_scores')"
   ]
  },
  {
   "cell_type": "code",
   "execution_count": null,
   "id": "803f8752-602f-4b02-9358-6f79fbb79c43",
   "metadata": {
    "scrolled": true
   },
   "outputs": [
    {
     "name": "stderr",
     "output_type": "stream",
     "text": [
      "  0%|                                                                           | 1/33497 [00:02<25:32:19,  2.74s/it]"
     ]
    }
   ],
   "source": [
    "resulted_ds = evaluate_communicative_quality(training_ds, prompts.pr_clarity_eval_prompt)\n",
    "resulted_ds.save_to_disk(output_dir + '/training_ds_with_clarity_scores')"
   ]
  },
  {
   "cell_type": "code",
   "execution_count": 53,
   "id": "5468462b-ad5b-467b-9848-128d47ea6ffd",
   "metadata": {},
   "outputs": [
    {
     "data": {
      "text/plain": [
       "Dataset({\n",
       "    features: ['id', 'pr-title', 'pr-article', 'pr-summary', 'sc-title', 'sc-article', 'sc-abstract', 'sc-section_names', 'sc-sections', 'sc-authors', 'source', 'Topic', 'Citation', 'Paper_URL', 'News_URL', 'pr-summary-and-article', 'parsed-pr-article', 'clarity_eval_prompt_scoring_parsed'],\n",
       "    num_rows: 33497\n",
       "})"
      ]
     },
     "execution_count": 53,
     "metadata": {},
     "output_type": "execute_result"
    }
   ],
   "source": [
    "resulted_ds"
   ]
  },
  {
   "cell_type": "code",
   "execution_count": 4,
   "id": "9e1cb6f9-f38a-4d9a-aa6f-6bef2ae9f976",
   "metadata": {},
   "outputs": [],
   "source": [
    "training_ds_w_scientific_scores = datasets.load_from_disk(output_dir + 'training_ds_with_scientific_scores')\n",
    "training_ds_w_societal_scores = datasets.load_from_disk(output_dir + 'training_ds_with_scoietal_scores')\n",
    "training_ds_w_clarity_scores = datasets.load_from_disk(output_dir + 'training_ds_with_clarity_scores')"
   ]
  },
  {
   "cell_type": "code",
   "execution_count": 5,
   "id": "81944f70-c890-41c2-9b21-a1d7a252778c",
   "metadata": {
    "scrolled": true
   },
   "outputs": [],
   "source": [
    "training_ds_w_quality_scores = training_ds_w_societal_scores.add_column('scientific_eval_prompt_scoring_parsed', training_ds_w_scientific_scores['scientific_eval_prompt_scoring_parsed'])\n",
    "training_ds_w_quality_scores = training_ds_w_quality_scores.add_column('clarity_eval_prompt_scoring_parsed', training_ds_w_clarity_scores['clarity_eval_prompt_scoring_parsed'])"
   ]
  },
  {
   "cell_type": "code",
   "execution_count": 6,
   "id": "5c4c321b-e477-44c1-a0dd-e4f22fe6c759",
   "metadata": {
    "scrolled": true
   },
   "outputs": [
    {
     "name": "stdout",
     "output_type": "stream",
     "text": [
      "Scientific Scores:  Score 1: 3789 Score 2: 9265 Score 3: 20443\n",
      "Scientific Scores:  Score 1: 3154 Score 2: 19779 Score 3: 10564\n",
      "Clarity Scores:  Score 1: 180 Score 2: 819 Score 3: 1923 Score 4: 14353 Score 5: 16222\n"
     ]
    }
   ],
   "source": [
    "sci_scores = [x['score'] for x in training_ds_w_quality_scores['scientific_eval_prompt_scoring_parsed']]\n",
    "print('Scientific Scores: ', 'Score 1:', sci_scores.count('1'), 'Score 2:', sci_scores.count('2'), 'Score 3:', sci_scores.count('3'))\n",
    "\n",
    "soc_scores = [x['score'] for x in training_ds_w_quality_scores['societal_eval_prompt_scoring_parsed']]\n",
    "print('Scientific Scores: ', 'Score 1:', soc_scores.count(1), 'Score 2:', soc_scores.count(2), 'Score 3:', soc_scores.count(3))\n",
    "\n",
    "soc_scores = [x['score'] for x in training_ds_w_quality_scores['clarity_eval_prompt_scoring_parsed']]\n",
    "print('Clarity Scores: ', 'Score 1:', soc_scores.count(1), 'Score 2:', soc_scores.count(2), 'Score 3:', soc_scores.count(3), 'Score 4:', soc_scores.count(4), 'Score 5:', soc_scores.count(5))"
   ]
  },
  {
   "cell_type": "code",
   "execution_count": 7,
   "id": "66acfed0-fb9e-4d73-933a-2e38dad54b3b",
   "metadata": {
    "scrolled": true
   },
   "outputs": [],
   "source": [
    "training_ds_w_quality_scores = training_ds_w_quality_scores.map(lambda row: {'avg_quality_score': (int(row['scientific_eval_prompt_scoring_parsed']['score']) + int(row['societal_eval_prompt_scoring_parsed']['score']))/2})"
   ]
  },
  {
   "cell_type": "code",
   "execution_count": 8,
   "id": "d595bfe2-e46e-4cb1-a31f-95dfcbc90c1b",
   "metadata": {},
   "outputs": [
    {
     "data": {
      "image/png": "[encoded data removed]",
      "text/plain": [
       "<Figure size 640x480 with 1 Axes>"
      ]
     },
     "metadata": {},
     "output_type": "display_data"
    }
   ],
   "source": [
    "import matplotlib.pyplot as plt\n",
    "\n",
    "plt.hist([x['avg_quality_score'] for x in training_ds_w_quality_scores])\n",
    "plt.show()"
   ]
  },
  {
   "cell_type": "code",
   "execution_count": 9,
   "id": "a687bb27-74b5-4b56-a3ce-183476433da3",
   "metadata": {},
   "outputs": [
    {
     "data": {
      "image/png": "[encoded data removed]",
      "text/plain": [
       "<Figure size 640x480 with 1 Axes>"
      ]
     },
     "metadata": {},
     "output_type": "display_data"
    }
   ],
   "source": [
    "import matplotlib.pyplot as plt\n",
    "\n",
    "plt.hist([x['clarity_eval_prompt_scoring_parsed']['score'] for x in training_ds_w_quality_scores])\n",
    "plt.show()"
   ]
  },
  {
   "cell_type": "code",
   "execution_count": 10,
   "id": "5ac8397f-5e3e-4a10-b680-8c5e3cd968a1",
   "metadata": {
    "scrolled": true
   },
   "outputs": [],
   "source": [
    "# We create training dataset from high quality PRs (a clarity score of equal or more than 4 and an average score of societal and scientific bigger than 2\n",
    "training_ds_filtered_by_quality = training_ds_w_quality_scores.filter(lambda row: row['clarity_eval_prompt_scoring_parsed']['score'] >= 4 and row['avg_quality_score'] > 2)"
   ]
  },
  {
   "cell_type": "code",
   "execution_count": null,
   "id": "2b481106-4656-42d7-807c-47d196f5caa1",
   "metadata": {},
   "outputs": [],
   "source": [
    "llama_tokenizer = AutoTokenizer.from_pretrained(\"meta-llama/Meta-Llama-3-8B\")\n",
    "\n",
    "sc_intro = [utils.build_model_context(row, llama_tokenizer, max_token_number=3000) for i, row in training_ds_filtered_by_quality.to_pandas().iterrows()]\n",
    "training_ds_filtered_by_quality = training_ds_filtered_by_quality.add_column('sc-intro', sc_intro)\n",
    "training_ds_filtered_by_quality = training_ds_filtered_by_quality.filter(lambda row: row['sc-intro'] != '')"
   ]
  },
  {
   "cell_type": "code",
   "execution_count": 17,
   "id": "c5389eb4-8d0c-4cbc-b50d-79aafabfda18",
   "metadata": {},
   "outputs": [
    {
     "data": {
      "text/plain": [
       "Dataset({\n",
       "    features: ['id', 'pr-title', 'pr-article', 'pr-summary', 'sc-title', 'sc-article', 'sc-abstract', 'sc-section_names', 'sc-sections', 'sc-authors', 'source', 'Topic', 'Citation', 'Paper_URL', 'News_URL', 'pr-summary-and-article', 'parsed-pr-article', 'societal_eval_prompt_scoring_parsed', 'scientific_eval_prompt_scoring_parsed', 'clarity_eval_prompt_scoring_parsed', 'avg_quality_score', 'sc-intro'],\n",
       "    num_rows: 19812\n",
       "})"
      ]
     },
     "execution_count": 17,
     "metadata": {},
     "output_type": "execute_result"
    }
   ],
   "source": [
    "training_ds_filtered_by_quality"
   ]
  },
  {
   "cell_type": "code",
   "execution_count": 16,
   "id": "eb438a6a-3a6f-4ab0-bb39-7ac5941c2794",
   "metadata": {},
   "outputs": [
    {
     "data": {
      "application/vnd.jupyter.widget-view+json": {
       "model_id": "e68dd023ce584a168e8a2d7f6ff36406",
       "version_major": 2,
       "version_minor": 0
      },
      "text/plain": [
       "Saving the dataset (0/4 shards):   0%|          | 0/19812 [00:00<?, ? examples/s]"
      ]
     },
     "metadata": {},
     "output_type": "display_data"
    }
   ],
   "source": [
    "training_ds_filtered_by_quality.save_to_disk(output_dir + \"/high_quality_news_dataset\")"
   ]
  },
  {
   "cell_type": "code",
   "execution_count": null,
   "id": "8cc7ae8d-5c3b-4883-942d-210c3e6abb8a",
   "metadata": {},
   "outputs": [],
   "source": []
  }
 ],
 "metadata": {
  "kernelspec": {
   "display_name": "Python 3 (ipykernel)",
   "language": "python",
   "name": "python3"
  },
  "language_info": {
   "codemirror_mode": {
    "name": "ipython",
    "version": 3
   },
   "file_extension": ".py",
   "mimetype": "text/x-python",
   "name": "python",
   "nbconvert_exporter": "python",
   "pygments_lexer": "ipython3",
   "version": "3.9.21"
  }
 },
 "nbformat": 4,
 "nbformat_minor": 5
}
